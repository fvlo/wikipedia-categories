{
 "cells": [
  {
   "cell_type": "markdown",
   "metadata": {},
   "source": [
    "## Directed graph of english wikipedia categories, articles and redirect terms"
   ]
  },
  {
   "cell_type": "code",
   "execution_count": 1,
   "metadata": {},
   "outputs": [],
   "source": [
    "import pandas as pd\n",
    "import numpy as np\n",
    "import networkx as nx\n",
    "import csv\n",
    "import re"
   ]
  },
  {
   "cell_type": "code",
   "execution_count": 2,
   "metadata": {},
   "outputs": [],
   "source": [
    "pd.set_option('display.max_rows', 500)\n",
    "pd.set_option('display.max_columns', 500)\n",
    "pd.set_option('display.max_colwidth', 1000)"
   ]
  },
  {
   "cell_type": "code",
   "execution_count": 3,
   "metadata": {},
   "outputs": [],
   "source": [
    "# TODO\n",
    "\n",
    "# Prepare category file for graph import as new csv --DONE\n",
    "# Prepare article file for graph import as new csv\n",
    "# Prepare redirect file to graph import as new csv\n",
    "# Read categories to graph\n",
    "#     Add type attribute (node)\n",
    "# Read articles to graph\n",
    "#     Add type attribute (node)\n",
    "# Read redirect to graph\n",
    "#     Add type attribute (node)\n",
    "\n",
    "# Reverse graph direction\n",
    "\n",
    "# Drop subgraphs without connection to 'Main topic classifications'\n",
    "\n",
    "# Add edge attributes\n",
    "#     Category depth\n",
    "#     Category similarity\n",
    "#     Article classification strength\n",
    "\n",
    "# Add node attributes\n",
    "#     Category: Main parent\n",
    "#     Category: Is main parent\n",
    "#     Category: Is leaf category\n",
    "#     Category: In main tree\n",
    "\n",
    "# Save graph as pickle\n",
    "# Export alias list (article + redirect names) with category paths to csv - LINK TO NEXT WORKFLOW TBD"
   ]
  },
  {
   "cell_type": "code",
   "execution_count": 4,
   "metadata": {},
   "outputs": [
    {
     "name": "stdout",
     "output_type": "stream",
     "text": [
      "Wall time: 2min 49s\n"
     ]
    }
   ],
   "source": [
    "%%time\n",
    "G = nx.read_adjlist('../workproduct-files/combined_adjList.csv', delimiter = '%¤%', create_using=nx.DiGraph())"
   ]
  },
  {
   "cell_type": "code",
   "execution_count": 5,
   "metadata": {},
   "outputs": [
    {
     "name": "stdout",
     "output_type": "stream",
     "text": [
      "Wall time: 48min 21s\n"
     ]
    }
   ],
   "source": [
    "%%time\n",
    "G.remove_node('')\n",
    "G = G.reverse()"
   ]
  },
  {
   "cell_type": "code",
   "execution_count": 7,
   "metadata": {},
   "outputs": [
    {
     "name": "stdout",
     "output_type": "stream",
     "text": [
      "Wall time: 9min 30s\n"
     ]
    }
   ],
   "source": [
    "%%time\n",
    "# nx.write_gpickle(G,\"../workproduct-files/category-graph.gpickle\")"
   ]
  },
  {
   "cell_type": "code",
   "execution_count": 14,
   "metadata": {},
   "outputs": [
    {
     "name": "stdout",
     "output_type": "stream",
     "text": [
      "1967 births\n",
      "21st-century American essayists\n",
      "21st-century American non-fiction writers\n",
      "21st-century American philosophers\n",
      "21st-century atheists\n",
      "Action theorists\n",
      "Activists from California\n",
      "American atheism activists\n",
      "American atheist writers\n",
      "American ethicists\n",
      "American male essayists\n",
      "American male non-fiction writers\n",
      "American men podcasters\n",
      "American neuroscientists\n",
      "American people of Jewish descent\n",
      "American practitioners of Brazilian jiu-jitsu\n",
      "American podcasters\n",
      "American science writers\n",
      "American secularists\n",
      "American social commentators\n",
      "American social sciences writers\n",
      "American spiritual writers\n",
      "Analytic philosophers\n",
      "Atheism in the United States\n",
      "Atheism activists\n",
      "Atheist philosophers\n",
      "Cognitive neuroscientists\n",
      "Consciousness researchers and theorists\n",
      "Contemporary philosophers\n",
      "Criticism of political correctness\n",
      "Criticism of religion\n",
      "Critics of Christianity\n",
      "Critics of conspiracy theories\n",
      "Critics of creationism\n",
      "Critics of Islam\n",
      "Critics of Islamism\n",
      "Critics of Judaism\n",
      "Critics of multiculturalism\n",
      "Critics of neoconservatism\n",
      "Critics of postmodernism\n",
      "Critics of religions\n",
      "California Democrats\n",
      "Cultural critics\n",
      "Epistemologists\n",
      "Freethought writers\n",
      "Hyperreality theorists\n",
      "Jewish atheists\n",
      "Jewish philosophers\n",
      "Living people\n",
      "Metaphysicians\n",
      "Moral philosophers\n",
      "Moral realists\n",
      "Philosophers of culture\n",
      "Philosophers of education\n",
      "Philosophers of ethics and morality\n",
      "Philosophers of history\n",
      "Philosophers of logic\n",
      "Philosophers of love\n",
      "Philosophers of mind\n",
      "Philosophers of psychology\n",
      "Philosophers of religion\n",
      "Philosophers of science\n",
      "Philosophers of sexuality\n",
      "Philosophers of social science\n",
      "Philosophers of technology\n",
      "Philosophers of war\n",
      "Philosophy writers\n",
      "Political philosophers\n",
      "Psychedelic drug advocates\n",
      "Rationalists\n",
      "Rationality theorists\n",
      "Science activists\n",
      "Social commentators\n",
      "Social critics\n",
      "Social philosophers\n",
      "Stanford University alumni\n",
      "Students of U Pandita\n",
      "Theorists on Western civilization\n",
      "University of California\n",
      " Los Angeles alumni\n",
      "Writers about activism and social change\n",
      "Writers about religion and science\n",
      "Writers from Los Angeles\n"
     ]
    }
   ],
   "source": [
    "for x in G.predecessors('ARTICLE_Sam Harris'):\n",
    "    print(x)"
   ]
  },
  {
   "cell_type": "code",
   "execution_count": 17,
   "metadata": {},
   "outputs": [
    {
     "data": {
      "text/plain": [
       "7"
      ]
     },
     "execution_count": 17,
     "metadata": {},
     "output_type": "execute_result"
    }
   ],
   "source": [
    "path = nx.shortest_path_length(G, source = 'Wikipedia categories', target = 'ARTICLE_Sanna Marin')\n",
    "path"
   ]
  }
 ],
 "metadata": {
  "kernelspec": {
   "display_name": "Python 3",
   "language": "python",
   "name": "python3"
  },
  "language_info": {
   "codemirror_mode": {
    "name": "ipython",
    "version": 3
   },
   "file_extension": ".py",
   "mimetype": "text/x-python",
   "name": "python",
   "nbconvert_exporter": "python",
   "pygments_lexer": "ipython3",
   "version": "3.8.2"
  }
 },
 "nbformat": 4,
 "nbformat_minor": 4
}
