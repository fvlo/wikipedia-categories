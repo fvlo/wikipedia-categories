{
 "cells": [
  {
   "cell_type": "code",
   "execution_count": 1,
   "metadata": {},
   "outputs": [],
   "source": [
    "import pandas as pd\n",
    "import numpy as np\n",
    "import csv\n",
    "import re\n",
    "from ast import literal_eval\n",
    "import time"
   ]
  },
  {
   "cell_type": "code",
   "execution_count": 2,
   "metadata": {},
   "outputs": [],
   "source": [
    "pd.set_option('display.max_rows', 500)\n",
    "pd.set_option('display.max_columns', 500)\n",
    "pd.set_option('display.max_colwidth', 1000)"
   ]
  },
  {
   "cell_type": "markdown",
   "metadata": {},
   "source": [
    "### Import data from csv:s"
   ]
  },
  {
   "cell_type": "code",
   "execution_count": 3,
   "metadata": {},
   "outputs": [],
   "source": [
    "FILE_PATH_CAT = 'F:/wikipedia-data/outputs/categories.csv'\n",
    "FILE_PATH_ART = 'F:/wikipedia-data/outputs/articles_without_links.csv'"
   ]
  },
  {
   "cell_type": "code",
   "execution_count": 4,
   "metadata": {},
   "outputs": [
    {
     "name": "stdout",
     "output_type": "stream",
     "text": [
      "Wall time: 3.91 s\n"
     ]
    }
   ],
   "source": [
    "%%time\n",
    "cat_origData = pd.read_csv(FILE_PATH_CAT)"
   ]
  },
  {
   "cell_type": "code",
   "execution_count": 5,
   "metadata": {},
   "outputs": [
    {
     "name": "stdout",
     "output_type": "stream",
     "text": [
      "Wall time: 23.5 s\n"
     ]
    }
   ],
   "source": [
    "%%time\n",
    "# Make transformations to cat_origData\n",
    "\n",
    "cat_origData['title'] = cat_origData['title'].apply(lambda x: str(x))\n",
    "cat_origData['parentCategories'] = cat_origData['parentCategories'].apply(lambda x: literal_eval(x))"
   ]
  },
  {
   "cell_type": "code",
   "execution_count": 6,
   "metadata": {},
   "outputs": [
    {
     "name": "stdout",
     "output_type": "stream",
     "text": [
      "Wall time: 16.1 s\n"
     ]
    }
   ],
   "source": [
    "%%time\n",
    "art_origData = pd.read_csv(FILE_PATH_ART)"
   ]
  },
  {
   "cell_type": "code",
   "execution_count": 7,
   "metadata": {},
   "outputs": [
    {
     "name": "stdout",
     "output_type": "stream",
     "text": [
      "Wall time: 1min 53s\n"
     ]
    }
   ],
   "source": [
    "%%time\n",
    "# Make transformations on art_origData\n",
    "\n",
    "art_origData['title'] = art_origData['title'].apply(lambda x: str(x))\n",
    "art_origData['parentCategories'] = art_origData['parentCategories'].apply(lambda x: literal_eval(x))"
   ]
  },
  {
   "cell_type": "markdown",
   "metadata": {},
   "source": [
    "### Create wikiID to title mapping Series"
   ]
  },
  {
   "cell_type": "code",
   "execution_count": 8,
   "metadata": {},
   "outputs": [
    {
     "name": "stdout",
     "output_type": "stream",
     "text": [
      "Wall time: 2.5 s\n"
     ]
    }
   ],
   "source": [
    "%%time\n",
    "# set category name to wikipediaID mapping series\n",
    "\n",
    "wikiId_mapping = cat_origData.drop(columns=['parentCategories'])\n",
    "wikiId_mapping = wikiId_mapping.append(art_origData.drop(columns=['parentCategories']))\n",
    "wikiId_mapping[\"title\"] = wikiId_mapping[\"title\"].apply(lambda x: str(x))\n",
    "wikiId_mapping.reset_index(drop = True, inplace = True)\n"
   ]
  },
  {
   "cell_type": "code",
   "execution_count": 9,
   "metadata": {},
   "outputs": [
    {
     "name": "stdout",
     "output_type": "stream",
     "text": [
      "Wall time: 977 ms\n"
     ]
    }
   ],
   "source": [
    "%%time\n",
    "# Drop title = nan (~16 000 rows)\n",
    "\n",
    "toDrop = wikiId_mapping.loc[wikiId_mapping[\"title\"] == \"nan\", :].index\n",
    "wikiId_mapping.drop(toDrop, inplace = True)"
   ]
  },
  {
   "cell_type": "code",
   "execution_count": 10,
   "metadata": {},
   "outputs": [
    {
     "name": "stdout",
     "output_type": "stream",
     "text": [
      "Wall time: 5.45 s\n"
     ]
    }
   ],
   "source": [
    "%%time\n",
    "# Dropping duplicate values in title (4 rows droppes, last instance kept)\n",
    "\n",
    "wikiId_mapping.drop_duplicates(subset = \"title\", keep = \"last\", inplace = True)"
   ]
  },
  {
   "cell_type": "code",
   "execution_count": 11,
   "metadata": {},
   "outputs": [],
   "source": [
    "wikiId_mapping.set_index(\"title\", inplace = True)\n",
    "wikiId_mapping = wikiId_mapping.squeeze()"
   ]
  },
  {
   "cell_type": "code",
   "execution_count": 12,
   "metadata": {},
   "outputs": [
    {
     "data": {
      "text/plain": [
       "title\n",
       "Category:Futurama                       690070\n",
       "Category:World War II                   690451\n",
       "Category:Programming languages          690571\n",
       "Category:Professional wrestling         690578\n",
       "Category:Algebra                        690637\n",
       "                                        ...   \n",
       "Cardiff Australian Football Club      64149108\n",
       "Haapsalu-Noarootsi Wetland Complex    64149136\n",
       "El Caballero Country Club             64149147\n",
       "Maro Markarian                        64149155\n",
       "Louis Édouard Paul Lieutard           64149158\n",
       "Name: id, Length: 8027896, dtype: int64"
      ]
     },
     "execution_count": 12,
     "metadata": {},
     "output_type": "execute_result"
    }
   ],
   "source": [
    "wikiId_mapping"
   ]
  },
  {
   "cell_type": "markdown",
   "metadata": {},
   "source": [
    "### Function definition"
   ]
  },
  {
   "cell_type": "code",
   "execution_count": 13,
   "metadata": {},
   "outputs": [],
   "source": [
    "# Define function for mapping wikipediaID\n",
    "\n",
    "def tryIDmap(x):\n",
    "    try:\n",
    "        return wikiId_mapping[x]\n",
    "    except:\n",
    "        return \"NO_WIKIPEDIA_ID\""
   ]
  },
  {
   "cell_type": "markdown",
   "metadata": {},
   "source": [
    "### Category data to vertex dataframe input"
   ]
  },
  {
   "cell_type": "code",
   "execution_count": 14,
   "metadata": {},
   "outputs": [],
   "source": [
    "# id = page name\n",
    "# type = Category\n",
    "# depth = null"
   ]
  },
  {
   "cell_type": "code",
   "execution_count": 15,
   "metadata": {},
   "outputs": [
    {
     "name": "stdout",
     "output_type": "stream",
     "text": [
      "Wall time: 1.46 s\n"
     ]
    }
   ],
   "source": [
    "%%time\n",
    "# Replace based on transformed data\n",
    "\n",
    "cat_vertex = pd.DataFrame(columns=[\"id\", \"wikipedia-id\", \"type\", \"depth\"])\n",
    "\n",
    "cat_vertex[\"id\"] = cat_origData['title'].apply(lambda x: str(x))\n",
    "cat_vertex[\"wikipedia-id\"] = cat_origData['id'].apply(lambda x: str(x))\n",
    "cat_vertex[\"type\"] = \"Category\""
   ]
  },
  {
   "cell_type": "code",
   "execution_count": 16,
   "metadata": {},
   "outputs": [],
   "source": [
    "cat_vertex.to_csv('F:/wikipedia-data/outputs/for-graphframes/cat_vertex.csv', index = False)"
   ]
  },
  {
   "cell_type": "code",
   "execution_count": 17,
   "metadata": {},
   "outputs": [
    {
     "data": {
      "text/html": [
       "<div>\n",
       "<style scoped>\n",
       "    .dataframe tbody tr th:only-of-type {\n",
       "        vertical-align: middle;\n",
       "    }\n",
       "\n",
       "    .dataframe tbody tr th {\n",
       "        vertical-align: top;\n",
       "    }\n",
       "\n",
       "    .dataframe thead th {\n",
       "        text-align: right;\n",
       "    }\n",
       "</style>\n",
       "<table border=\"1\" class=\"dataframe\">\n",
       "  <thead>\n",
       "    <tr style=\"text-align: right;\">\n",
       "      <th></th>\n",
       "      <th>id</th>\n",
       "      <th>wikipedia-id</th>\n",
       "      <th>type</th>\n",
       "      <th>depth</th>\n",
       "    </tr>\n",
       "  </thead>\n",
       "  <tbody>\n",
       "    <tr>\n",
       "      <th>0</th>\n",
       "      <td>Category:Futurama</td>\n",
       "      <td>690070</td>\n",
       "      <td>Category</td>\n",
       "      <td>NaN</td>\n",
       "    </tr>\n",
       "    <tr>\n",
       "      <th>1</th>\n",
       "      <td>Category:World War II</td>\n",
       "      <td>690451</td>\n",
       "      <td>Category</td>\n",
       "      <td>NaN</td>\n",
       "    </tr>\n",
       "    <tr>\n",
       "      <th>2</th>\n",
       "      <td>Category:Programming languages</td>\n",
       "      <td>690571</td>\n",
       "      <td>Category</td>\n",
       "      <td>NaN</td>\n",
       "    </tr>\n",
       "    <tr>\n",
       "      <th>3</th>\n",
       "      <td>Category:Professional wrestling</td>\n",
       "      <td>690578</td>\n",
       "      <td>Category</td>\n",
       "      <td>NaN</td>\n",
       "    </tr>\n",
       "    <tr>\n",
       "      <th>4</th>\n",
       "      <td>Category:Algebra</td>\n",
       "      <td>690637</td>\n",
       "      <td>Category</td>\n",
       "      <td>NaN</td>\n",
       "    </tr>\n",
       "    <tr>\n",
       "      <th>...</th>\n",
       "      <td>...</td>\n",
       "      <td>...</td>\n",
       "      <td>...</td>\n",
       "      <td>...</td>\n",
       "    </tr>\n",
       "    <tr>\n",
       "      <th>1951052</th>\n",
       "      <td>Category:Australian expatriates in Estonia</td>\n",
       "      <td>64148944</td>\n",
       "      <td>Category</td>\n",
       "      <td>NaN</td>\n",
       "    </tr>\n",
       "    <tr>\n",
       "      <th>1951053</th>\n",
       "      <td>Category:Buildings and structures in Bhola District</td>\n",
       "      <td>64148963</td>\n",
       "      <td>Category</td>\n",
       "      <td>NaN</td>\n",
       "    </tr>\n",
       "    <tr>\n",
       "      <th>1951054</th>\n",
       "      <td>Category:Education in Bhola District</td>\n",
       "      <td>64148965</td>\n",
       "      <td>Category</td>\n",
       "      <td>NaN</td>\n",
       "    </tr>\n",
       "    <tr>\n",
       "      <th>1951055</th>\n",
       "      <td>Category:Colleges in the territories of Canada</td>\n",
       "      <td>64149140</td>\n",
       "      <td>Category</td>\n",
       "      <td>NaN</td>\n",
       "    </tr>\n",
       "    <tr>\n",
       "      <th>1951056</th>\n",
       "      <td>Category:Stuff</td>\n",
       "      <td>64149156</td>\n",
       "      <td>Category</td>\n",
       "      <td>NaN</td>\n",
       "    </tr>\n",
       "  </tbody>\n",
       "</table>\n",
       "<p>1951057 rows × 4 columns</p>\n",
       "</div>"
      ],
      "text/plain": [
       "                                                          id wikipedia-id  \\\n",
       "0                                          Category:Futurama       690070   \n",
       "1                                      Category:World War II       690451   \n",
       "2                             Category:Programming languages       690571   \n",
       "3                            Category:Professional wrestling       690578   \n",
       "4                                           Category:Algebra       690637   \n",
       "...                                                      ...          ...   \n",
       "1951052           Category:Australian expatriates in Estonia     64148944   \n",
       "1951053  Category:Buildings and structures in Bhola District     64148963   \n",
       "1951054                 Category:Education in Bhola District     64148965   \n",
       "1951055       Category:Colleges in the territories of Canada     64149140   \n",
       "1951056                                       Category:Stuff     64149156   \n",
       "\n",
       "             type depth  \n",
       "0        Category   NaN  \n",
       "1        Category   NaN  \n",
       "2        Category   NaN  \n",
       "3        Category   NaN  \n",
       "4        Category   NaN  \n",
       "...           ...   ...  \n",
       "1951052  Category   NaN  \n",
       "1951053  Category   NaN  \n",
       "1951054  Category   NaN  \n",
       "1951055  Category   NaN  \n",
       "1951056  Category   NaN  \n",
       "\n",
       "[1951057 rows x 4 columns]"
      ]
     },
     "execution_count": 17,
     "metadata": {},
     "output_type": "execute_result"
    }
   ],
   "source": [
    "cat_vertex"
   ]
  },
  {
   "cell_type": "markdown",
   "metadata": {},
   "source": [
    "### Article data to vertex dataframe input"
   ]
  },
  {
   "cell_type": "code",
   "execution_count": 18,
   "metadata": {},
   "outputs": [],
   "source": [
    "# id = page name\n",
    "# type = Article\n",
    "# depth = null"
   ]
  },
  {
   "cell_type": "code",
   "execution_count": 19,
   "metadata": {},
   "outputs": [
    {
     "name": "stdout",
     "output_type": "stream",
     "text": [
      "Wall time: 4.69 s\n"
     ]
    }
   ],
   "source": [
    "%%time\n",
    "# Update based on above\n",
    "\n",
    "art_vertex = pd.DataFrame(columns=[\"id\", \"wikipedia-id\", \"type\", \"depth\"])\n",
    "\n",
    "art_vertex[\"id\"] = art_origData['title'].apply(lambda x: str(x))\n",
    "art_vertex[\"wikipedia-id\"] = art_origData['id'].apply(lambda x: str(x))\n",
    "art_vertex[\"type\"] = \"Article\""
   ]
  },
  {
   "cell_type": "code",
   "execution_count": 20,
   "metadata": {},
   "outputs": [],
   "source": [
    "art_vertex.to_csv('F:/wikipedia-data/outputs/for-graphframes/art_vertex.csv', index = False)"
   ]
  },
  {
   "cell_type": "code",
   "execution_count": 21,
   "metadata": {},
   "outputs": [
    {
     "data": {
      "text/html": [
       "<div>\n",
       "<style scoped>\n",
       "    .dataframe tbody tr th:only-of-type {\n",
       "        vertical-align: middle;\n",
       "    }\n",
       "\n",
       "    .dataframe tbody tr th {\n",
       "        vertical-align: top;\n",
       "    }\n",
       "\n",
       "    .dataframe thead th {\n",
       "        text-align: right;\n",
       "    }\n",
       "</style>\n",
       "<table border=\"1\" class=\"dataframe\">\n",
       "  <thead>\n",
       "    <tr style=\"text-align: right;\">\n",
       "      <th></th>\n",
       "      <th>id</th>\n",
       "      <th>wikipedia-id</th>\n",
       "      <th>type</th>\n",
       "      <th>depth</th>\n",
       "    </tr>\n",
       "  </thead>\n",
       "  <tbody>\n",
       "    <tr>\n",
       "      <th>0</th>\n",
       "      <td>Anarchism</td>\n",
       "      <td>12</td>\n",
       "      <td>Article</td>\n",
       "      <td>NaN</td>\n",
       "    </tr>\n",
       "    <tr>\n",
       "      <th>1</th>\n",
       "      <td>Autism</td>\n",
       "      <td>25</td>\n",
       "      <td>Article</td>\n",
       "      <td>NaN</td>\n",
       "    </tr>\n",
       "    <tr>\n",
       "      <th>2</th>\n",
       "      <td>Albedo</td>\n",
       "      <td>39</td>\n",
       "      <td>Article</td>\n",
       "      <td>NaN</td>\n",
       "    </tr>\n",
       "    <tr>\n",
       "      <th>3</th>\n",
       "      <td>A</td>\n",
       "      <td>290</td>\n",
       "      <td>Article</td>\n",
       "      <td>NaN</td>\n",
       "    </tr>\n",
       "    <tr>\n",
       "      <th>4</th>\n",
       "      <td>Alabama</td>\n",
       "      <td>303</td>\n",
       "      <td>Article</td>\n",
       "      <td>NaN</td>\n",
       "    </tr>\n",
       "    <tr>\n",
       "      <th>...</th>\n",
       "      <td>...</td>\n",
       "      <td>...</td>\n",
       "      <td>...</td>\n",
       "      <td>...</td>\n",
       "    </tr>\n",
       "    <tr>\n",
       "      <th>6092876</th>\n",
       "      <td>Cardiff Australian Football Club</td>\n",
       "      <td>64149108</td>\n",
       "      <td>Article</td>\n",
       "      <td>NaN</td>\n",
       "    </tr>\n",
       "    <tr>\n",
       "      <th>6092877</th>\n",
       "      <td>Haapsalu-Noarootsi Wetland Complex</td>\n",
       "      <td>64149136</td>\n",
       "      <td>Article</td>\n",
       "      <td>NaN</td>\n",
       "    </tr>\n",
       "    <tr>\n",
       "      <th>6092878</th>\n",
       "      <td>El Caballero Country Club</td>\n",
       "      <td>64149147</td>\n",
       "      <td>Article</td>\n",
       "      <td>NaN</td>\n",
       "    </tr>\n",
       "    <tr>\n",
       "      <th>6092879</th>\n",
       "      <td>Maro Markarian</td>\n",
       "      <td>64149155</td>\n",
       "      <td>Article</td>\n",
       "      <td>NaN</td>\n",
       "    </tr>\n",
       "    <tr>\n",
       "      <th>6092880</th>\n",
       "      <td>Louis Édouard Paul Lieutard</td>\n",
       "      <td>64149158</td>\n",
       "      <td>Article</td>\n",
       "      <td>NaN</td>\n",
       "    </tr>\n",
       "  </tbody>\n",
       "</table>\n",
       "<p>6092881 rows × 4 columns</p>\n",
       "</div>"
      ],
      "text/plain": [
       "                                         id wikipedia-id     type depth\n",
       "0                                 Anarchism           12  Article   NaN\n",
       "1                                    Autism           25  Article   NaN\n",
       "2                                    Albedo           39  Article   NaN\n",
       "3                                         A          290  Article   NaN\n",
       "4                                   Alabama          303  Article   NaN\n",
       "...                                     ...          ...      ...   ...\n",
       "6092876    Cardiff Australian Football Club     64149108  Article   NaN\n",
       "6092877  Haapsalu-Noarootsi Wetland Complex     64149136  Article   NaN\n",
       "6092878           El Caballero Country Club     64149147  Article   NaN\n",
       "6092879                      Maro Markarian     64149155  Article   NaN\n",
       "6092880         Louis Édouard Paul Lieutard     64149158  Article   NaN\n",
       "\n",
       "[6092881 rows x 4 columns]"
      ]
     },
     "execution_count": 21,
     "metadata": {},
     "output_type": "execute_result"
    }
   ],
   "source": [
    "art_vertex"
   ]
  },
  {
   "cell_type": "markdown",
   "metadata": {},
   "source": [
    "### Category data to edge dataframe input"
   ]
  },
  {
   "cell_type": "code",
   "execution_count": 22,
   "metadata": {},
   "outputs": [],
   "source": [
    "# src = from partentCategory column\n",
    "# dst = from title columns\n",
    "# intersection = null\n",
    "# union = null\n",
    "# similarity = null"
   ]
  },
  {
   "cell_type": "code",
   "execution_count": 23,
   "metadata": {},
   "outputs": [],
   "source": [
    "# Explode dataframe\n",
    "# Make string adjustments\n",
    "# Add wikipedia ids"
   ]
  },
  {
   "cell_type": "code",
   "execution_count": 24,
   "metadata": {},
   "outputs": [
    {
     "name": "stdout",
     "output_type": "stream",
     "text": [
      "Wall time: 3.4 s\n"
     ]
    }
   ],
   "source": [
    "%%time\n",
    "# Explode dataframe\n",
    "catcat_edge = cat_origData.explode(\"parentCategories\")"
   ]
  },
  {
   "cell_type": "code",
   "execution_count": 25,
   "metadata": {},
   "outputs": [],
   "source": [
    "# rename columns: title -> dst ; parentCategories -> src ; id -> dst-wikipediaID\n",
    "catcat_edge.rename(columns={'title':'dst', 'parentCategories':'src', 'id':'dst-wikipediaID'}, inplace=True)"
   ]
  },
  {
   "cell_type": "code",
   "execution_count": 26,
   "metadata": {},
   "outputs": [
    {
     "name": "stdout",
     "output_type": "stream",
     "text": [
      "Wall time: 13.5 s\n"
     ]
    }
   ],
   "source": [
    "%%time\n",
    "# String adjustments\n",
    "\n",
    "catcat_edge['src'] = catcat_edge['src'].apply(lambda x: re.sub(\"(\\|)(.+)\", '', str(x)))\n",
    "catcat_edge['src'] = catcat_edge['src'].apply(lambda x: re.sub(\"(\\|)\", '', str(x)))\n",
    "catcat_edge['src'] = catcat_edge['src'].apply(lambda x: \"Category:\" + str(x))\n"
   ]
  },
  {
   "cell_type": "code",
   "execution_count": 27,
   "metadata": {},
   "outputs": [
    {
     "name": "stdout",
     "output_type": "stream",
     "text": [
      "Wall time: 1.94 s\n"
     ]
    }
   ],
   "source": [
    "%%time\n",
    "# Drop rows with 'src' = 'Category:nan' i.e. those that have no parent categories\n",
    "\n",
    "toDrop = catcat_edge.loc[catcat_edge[\"src\"] == \"Category:nan\", :].index\n",
    "catcat_edge.drop(toDrop, inplace = True)"
   ]
  },
  {
   "cell_type": "code",
   "execution_count": 28,
   "metadata": {},
   "outputs": [
    {
     "name": "stdout",
     "output_type": "stream",
     "text": [
      "Wall time: 59.9 s\n"
     ]
    }
   ],
   "source": [
    "%%time\n",
    "# add src-wikipediaID\n",
    "\n",
    "catcat_edge[\"src-wikipediaID\"] = catcat_edge[\"src\"].apply(lambda x: tryIDmap(str(x)))"
   ]
  },
  {
   "cell_type": "code",
   "execution_count": 29,
   "metadata": {},
   "outputs": [
    {
     "name": "stdout",
     "output_type": "stream",
     "text": [
      "Wall time: 70.8 ms\n"
     ]
    }
   ],
   "source": [
    "%%time\n",
    "catcat_edge[\"type\"] = \"cat2cat\"\n",
    "catcat_edge[\"intersection\"] = np.nan\n",
    "catcat_edge[\"union\"] = np.nan\n",
    "catcat_edge[\"similarity\"] = np.nan"
   ]
  },
  {
   "cell_type": "code",
   "execution_count": 30,
   "metadata": {},
   "outputs": [
    {
     "name": "stdout",
     "output_type": "stream",
     "text": [
      "Wall time: 836 ms\n"
     ]
    }
   ],
   "source": [
    "%%time\n",
    "# Rearrange column order\n",
    "\n",
    "catcat_edge = catcat_edge[[\"src\", \"dst\", \"src-wikipediaID\", \"dst-wikipediaID\", \"type\", \"intersection\", \"union\", \"similarity\"]]\n",
    "catcat_edge.reset_index(drop = True, inplace = True)"
   ]
  },
  {
   "cell_type": "code",
   "execution_count": 31,
   "metadata": {},
   "outputs": [
    {
     "data": {
      "text/html": [
       "<div>\n",
       "<style scoped>\n",
       "    .dataframe tbody tr th:only-of-type {\n",
       "        vertical-align: middle;\n",
       "    }\n",
       "\n",
       "    .dataframe tbody tr th {\n",
       "        vertical-align: top;\n",
       "    }\n",
       "\n",
       "    .dataframe thead th {\n",
       "        text-align: right;\n",
       "    }\n",
       "</style>\n",
       "<table border=\"1\" class=\"dataframe\">\n",
       "  <thead>\n",
       "    <tr style=\"text-align: right;\">\n",
       "      <th></th>\n",
       "      <th>src</th>\n",
       "      <th>dst</th>\n",
       "      <th>src-wikipediaID</th>\n",
       "      <th>dst-wikipediaID</th>\n",
       "      <th>type</th>\n",
       "      <th>intersection</th>\n",
       "      <th>union</th>\n",
       "      <th>similarity</th>\n",
       "    </tr>\n",
       "  </thead>\n",
       "  <tbody>\n",
       "    <tr>\n",
       "      <th>0</th>\n",
       "      <td>Category:Television series by 20th Century Fox Television</td>\n",
       "      <td>Category:Futurama</td>\n",
       "      <td>6015549</td>\n",
       "      <td>690070</td>\n",
       "      <td>cat2cat</td>\n",
       "      <td>NaN</td>\n",
       "      <td>NaN</td>\n",
       "      <td>NaN</td>\n",
       "    </tr>\n",
       "    <tr>\n",
       "      <th>1</th>\n",
       "      <td>Category:Television series created by Matt Groening</td>\n",
       "      <td>Category:Futurama</td>\n",
       "      <td>37480813</td>\n",
       "      <td>690070</td>\n",
       "      <td>cat2cat</td>\n",
       "      <td>NaN</td>\n",
       "      <td>NaN</td>\n",
       "      <td>NaN</td>\n",
       "    </tr>\n",
       "    <tr>\n",
       "      <th>2</th>\n",
       "      <td>Category:Wikipedia categories named after American animated television series</td>\n",
       "      <td>Category:Futurama</td>\n",
       "      <td>35315704</td>\n",
       "      <td>690070</td>\n",
       "      <td>cat2cat</td>\n",
       "      <td>NaN</td>\n",
       "      <td>NaN</td>\n",
       "      <td>NaN</td>\n",
       "    </tr>\n",
       "    <tr>\n",
       "      <th>3</th>\n",
       "      <td>Category:Wikipedia categories named after mass media franchises</td>\n",
       "      <td>Category:Futurama</td>\n",
       "      <td>55466012</td>\n",
       "      <td>690070</td>\n",
       "      <td>cat2cat</td>\n",
       "      <td>NaN</td>\n",
       "      <td>NaN</td>\n",
       "      <td>NaN</td>\n",
       "    </tr>\n",
       "    <tr>\n",
       "      <th>4</th>\n",
       "      <td>Category:20th Century Fox Television franchises</td>\n",
       "      <td>Category:Futurama</td>\n",
       "      <td>60330380</td>\n",
       "      <td>690070</td>\n",
       "      <td>cat2cat</td>\n",
       "      <td>NaN</td>\n",
       "      <td>NaN</td>\n",
       "      <td>NaN</td>\n",
       "    </tr>\n",
       "    <tr>\n",
       "      <th>...</th>\n",
       "      <td>...</td>\n",
       "      <td>...</td>\n",
       "      <td>...</td>\n",
       "      <td>...</td>\n",
       "      <td>...</td>\n",
       "      <td>...</td>\n",
       "      <td>...</td>\n",
       "      <td>...</td>\n",
       "    </tr>\n",
       "    <tr>\n",
       "      <th>4027786</th>\n",
       "      <td>Category:New Zealand news websites</td>\n",
       "      <td>Category:Stuff</td>\n",
       "      <td>57822700</td>\n",
       "      <td>64149156</td>\n",
       "      <td>cat2cat</td>\n",
       "      <td>NaN</td>\n",
       "      <td>NaN</td>\n",
       "      <td>NaN</td>\n",
       "    </tr>\n",
       "    <tr>\n",
       "      <th>4027787</th>\n",
       "      <td>Category:Real estate in New Zealand</td>\n",
       "      <td>Category:Stuff</td>\n",
       "      <td>61657816</td>\n",
       "      <td>64149156</td>\n",
       "      <td>cat2cat</td>\n",
       "      <td>NaN</td>\n",
       "      <td>NaN</td>\n",
       "      <td>NaN</td>\n",
       "    </tr>\n",
       "    <tr>\n",
       "      <th>4027788</th>\n",
       "      <td>Category:Companies based in Wellington</td>\n",
       "      <td>Category:Stuff</td>\n",
       "      <td>34064790</td>\n",
       "      <td>64149156</td>\n",
       "      <td>cat2cat</td>\n",
       "      <td>NaN</td>\n",
       "      <td>NaN</td>\n",
       "      <td>NaN</td>\n",
       "    </tr>\n",
       "    <tr>\n",
       "      <th>4027789</th>\n",
       "      <td>Category:Newspaper companies of New Zealand</td>\n",
       "      <td>Category:Stuff</td>\n",
       "      <td>24103909</td>\n",
       "      <td>64149156</td>\n",
       "      <td>cat2cat</td>\n",
       "      <td>NaN</td>\n",
       "      <td>NaN</td>\n",
       "      <td>NaN</td>\n",
       "    </tr>\n",
       "    <tr>\n",
       "      <th>4027790</th>\n",
       "      <td>Category:Nine Entertainment Co.</td>\n",
       "      <td>Category:Stuff</td>\n",
       "      <td>62013484</td>\n",
       "      <td>64149156</td>\n",
       "      <td>cat2cat</td>\n",
       "      <td>NaN</td>\n",
       "      <td>NaN</td>\n",
       "      <td>NaN</td>\n",
       "    </tr>\n",
       "  </tbody>\n",
       "</table>\n",
       "<p>4027791 rows × 8 columns</p>\n",
       "</div>"
      ],
      "text/plain": [
       "                                                                                   src  \\\n",
       "0                            Category:Television series by 20th Century Fox Television   \n",
       "1                                  Category:Television series created by Matt Groening   \n",
       "2        Category:Wikipedia categories named after American animated television series   \n",
       "3                      Category:Wikipedia categories named after mass media franchises   \n",
       "4                                      Category:20th Century Fox Television franchises   \n",
       "...                                                                                ...   \n",
       "4027786                                             Category:New Zealand news websites   \n",
       "4027787                                            Category:Real estate in New Zealand   \n",
       "4027788                                         Category:Companies based in Wellington   \n",
       "4027789                                    Category:Newspaper companies of New Zealand   \n",
       "4027790                                                Category:Nine Entertainment Co.   \n",
       "\n",
       "                       dst src-wikipediaID  dst-wikipediaID     type  \\\n",
       "0        Category:Futurama         6015549           690070  cat2cat   \n",
       "1        Category:Futurama        37480813           690070  cat2cat   \n",
       "2        Category:Futurama        35315704           690070  cat2cat   \n",
       "3        Category:Futurama        55466012           690070  cat2cat   \n",
       "4        Category:Futurama        60330380           690070  cat2cat   \n",
       "...                    ...             ...              ...      ...   \n",
       "4027786     Category:Stuff        57822700         64149156  cat2cat   \n",
       "4027787     Category:Stuff        61657816         64149156  cat2cat   \n",
       "4027788     Category:Stuff        34064790         64149156  cat2cat   \n",
       "4027789     Category:Stuff        24103909         64149156  cat2cat   \n",
       "4027790     Category:Stuff        62013484         64149156  cat2cat   \n",
       "\n",
       "         intersection  union  similarity  \n",
       "0                 NaN    NaN         NaN  \n",
       "1                 NaN    NaN         NaN  \n",
       "2                 NaN    NaN         NaN  \n",
       "3                 NaN    NaN         NaN  \n",
       "4                 NaN    NaN         NaN  \n",
       "...               ...    ...         ...  \n",
       "4027786           NaN    NaN         NaN  \n",
       "4027787           NaN    NaN         NaN  \n",
       "4027788           NaN    NaN         NaN  \n",
       "4027789           NaN    NaN         NaN  \n",
       "4027790           NaN    NaN         NaN  \n",
       "\n",
       "[4027791 rows x 8 columns]"
      ]
     },
     "execution_count": 31,
     "metadata": {},
     "output_type": "execute_result"
    }
   ],
   "source": [
    "catcat_edge"
   ]
  },
  {
   "cell_type": "code",
   "execution_count": 32,
   "metadata": {},
   "outputs": [],
   "source": [
    "# wikiId_mapping[\"Category:Main topic classifications\"]"
   ]
  },
  {
   "cell_type": "code",
   "execution_count": 33,
   "metadata": {},
   "outputs": [
    {
     "name": "stdout",
     "output_type": "stream",
     "text": [
      "Wall time: 26.4 s\n"
     ]
    }
   ],
   "source": [
    "%%time\n",
    "catcat_edge.to_csv('F:/wikipedia-data/outputs/for-graphframes/catcat_edge.csv', index = False)"
   ]
  },
  {
   "cell_type": "markdown",
   "metadata": {},
   "source": [
    "### Article to category data to edge dataframe input"
   ]
  },
  {
   "cell_type": "code",
   "execution_count": 34,
   "metadata": {},
   "outputs": [],
   "source": [
    "# analogous to above\n",
    "\n",
    "# Explode dataframe\n",
    "# Make string adjustments - also #\n",
    "# Add wikipedia ids"
   ]
  },
  {
   "cell_type": "code",
   "execution_count": 35,
   "metadata": {},
   "outputs": [
    {
     "name": "stdout",
     "output_type": "stream",
     "text": [
      "Wall time: 15.2 s\n"
     ]
    }
   ],
   "source": [
    "%%time\n",
    "# Explode dataframe\n",
    "catart_edge = art_origData.explode(\"parentCategories\")"
   ]
  },
  {
   "cell_type": "code",
   "execution_count": 36,
   "metadata": {},
   "outputs": [],
   "source": [
    "# rename columns: title -> dst ; parentCategories -> src ; id -> dst-wikipediaID\n",
    "catart_edge.rename(columns={'title':'dst', 'parentCategories':'src', 'id':'dst-wikipediaID'}, inplace=True)"
   ]
  },
  {
   "cell_type": "code",
   "execution_count": 37,
   "metadata": {},
   "outputs": [
    {
     "name": "stdout",
     "output_type": "stream",
     "text": [
      "Wall time: 2min 43s\n"
     ]
    }
   ],
   "source": [
    "%%time\n",
    "# String adjustments\n",
    "\n",
    "catart_edge['src'] = catart_edge['src'].apply(lambda x: \"Category:\" + str(x))\n",
    "\n",
    "catart_edge['src'] = catart_edge['src'].apply(lambda x: re.sub(\"(\\|)(.+)\", '', str(x)))\n",
    "catart_edge['src'] = catart_edge['src'].apply(lambda x: re.sub(\"(\\|)\", '', str(x)))\n",
    "\n",
    "catart_edge['src'] = catart_edge['src'].apply(lambda x: re.sub(\"(\\#)(.+)\", '', str(x)))\n",
    "catart_edge['src'] = catart_edge['src'].apply(lambda x: re.sub(\"(\\#)\", '', str(x)))"
   ]
  },
  {
   "cell_type": "code",
   "execution_count": 38,
   "metadata": {},
   "outputs": [
    {
     "name": "stdout",
     "output_type": "stream",
     "text": [
      "Wall time: 10.6 s\n"
     ]
    }
   ],
   "source": [
    "%%time\n",
    "# Drop rows with 'src' = 'Category:nan' i.e. those that have no parent categories\n",
    "\n",
    "toDrop = catart_edge.loc[catart_edge[\"src\"] == \"Category:nan\", :].index\n",
    "catart_edge.drop(toDrop, inplace = True)"
   ]
  },
  {
   "cell_type": "code",
   "execution_count": 39,
   "metadata": {},
   "outputs": [
    {
     "name": "stdout",
     "output_type": "stream",
     "text": [
      "Wall time: 7min 28s\n"
     ]
    }
   ],
   "source": [
    "%%time\n",
    "# add src-wikipediaID\n",
    "\n",
    "catart_edge[\"src-wikipediaID\"] = catart_edge[\"src\"].apply(lambda x: tryIDmap(str(x)))"
   ]
  },
  {
   "cell_type": "code",
   "execution_count": 40,
   "metadata": {},
   "outputs": [
    {
     "name": "stdout",
     "output_type": "stream",
     "text": [
      "Wall time: 501 ms\n"
     ]
    }
   ],
   "source": [
    "%%time\n",
    "catart_edge[\"type\"] = \"cat2art\"\n",
    "catart_edge[\"intersection\"] = np.nan\n",
    "catart_edge[\"union\"] = np.nan\n",
    "catart_edge[\"similarity\"] = np.nan"
   ]
  },
  {
   "cell_type": "code",
   "execution_count": 41,
   "metadata": {},
   "outputs": [
    {
     "name": "stdout",
     "output_type": "stream",
     "text": [
      "Wall time: 10.4 s\n"
     ]
    }
   ],
   "source": [
    "%%time\n",
    "# Rearrange column order\n",
    "\n",
    "catart_edge = catart_edge[[\"src\", \"dst\", \"src-wikipediaID\", \"dst-wikipediaID\", \"type\", \"intersection\", \"union\", \"similarity\"]]\n",
    "catart_edge.reset_index(drop = True, inplace = True)"
   ]
  },
  {
   "cell_type": "code",
   "execution_count": 42,
   "metadata": {},
   "outputs": [
    {
     "name": "stdout",
     "output_type": "stream",
     "text": [
      "Wall time: 0 ns\n"
     ]
    },
    {
     "data": {
      "text/html": [
       "<div>\n",
       "<style scoped>\n",
       "    .dataframe tbody tr th:only-of-type {\n",
       "        vertical-align: middle;\n",
       "    }\n",
       "\n",
       "    .dataframe tbody tr th {\n",
       "        vertical-align: top;\n",
       "    }\n",
       "\n",
       "    .dataframe thead th {\n",
       "        text-align: right;\n",
       "    }\n",
       "</style>\n",
       "<table border=\"1\" class=\"dataframe\">\n",
       "  <thead>\n",
       "    <tr style=\"text-align: right;\">\n",
       "      <th></th>\n",
       "      <th>src</th>\n",
       "      <th>dst</th>\n",
       "      <th>src-wikipediaID</th>\n",
       "      <th>dst-wikipediaID</th>\n",
       "      <th>type</th>\n",
       "      <th>intersection</th>\n",
       "      <th>union</th>\n",
       "      <th>similarity</th>\n",
       "    </tr>\n",
       "  </thead>\n",
       "  <tbody>\n",
       "    <tr>\n",
       "      <th>0</th>\n",
       "      <td>Category:Anarchism</td>\n",
       "      <td>Anarchism</td>\n",
       "      <td>780754</td>\n",
       "      <td>12</td>\n",
       "      <td>cat2art</td>\n",
       "      <td>NaN</td>\n",
       "      <td>NaN</td>\n",
       "      <td>NaN</td>\n",
       "    </tr>\n",
       "    <tr>\n",
       "      <th>1</th>\n",
       "      <td>Category:Anti-capitalism</td>\n",
       "      <td>Anarchism</td>\n",
       "      <td>22737025</td>\n",
       "      <td>12</td>\n",
       "      <td>cat2art</td>\n",
       "      <td>NaN</td>\n",
       "      <td>NaN</td>\n",
       "      <td>NaN</td>\n",
       "    </tr>\n",
       "    <tr>\n",
       "      <th>2</th>\n",
       "      <td>Category:Anti-fascism</td>\n",
       "      <td>Anarchism</td>\n",
       "      <td>7252754</td>\n",
       "      <td>12</td>\n",
       "      <td>cat2art</td>\n",
       "      <td>NaN</td>\n",
       "      <td>NaN</td>\n",
       "      <td>NaN</td>\n",
       "    </tr>\n",
       "    <tr>\n",
       "      <th>3</th>\n",
       "      <td>Category:Economic ideologies</td>\n",
       "      <td>Anarchism</td>\n",
       "      <td>3050197</td>\n",
       "      <td>12</td>\n",
       "      <td>cat2art</td>\n",
       "      <td>NaN</td>\n",
       "      <td>NaN</td>\n",
       "      <td>NaN</td>\n",
       "    </tr>\n",
       "    <tr>\n",
       "      <th>4</th>\n",
       "      <td>Category:Far-left politics</td>\n",
       "      <td>Anarchism</td>\n",
       "      <td>15899799</td>\n",
       "      <td>12</td>\n",
       "      <td>cat2art</td>\n",
       "      <td>NaN</td>\n",
       "      <td>NaN</td>\n",
       "      <td>NaN</td>\n",
       "    </tr>\n",
       "    <tr>\n",
       "      <th>...</th>\n",
       "      <td>...</td>\n",
       "      <td>...</td>\n",
       "      <td>...</td>\n",
       "      <td>...</td>\n",
       "      <td>...</td>\n",
       "      <td>...</td>\n",
       "      <td>...</td>\n",
       "      <td>...</td>\n",
       "    </tr>\n",
       "    <tr>\n",
       "      <th>30275292</th>\n",
       "      <td>Category:Armenian poets</td>\n",
       "      <td>Maro Markarian</td>\n",
       "      <td>2611240</td>\n",
       "      <td>64149155</td>\n",
       "      <td>cat2art</td>\n",
       "      <td>NaN</td>\n",
       "      <td>NaN</td>\n",
       "      <td>NaN</td>\n",
       "    </tr>\n",
       "    <tr>\n",
       "      <th>30275293</th>\n",
       "      <td>Category:1915 births</td>\n",
       "      <td>Maro Markarian</td>\n",
       "      <td>915457</td>\n",
       "      <td>64149155</td>\n",
       "      <td>cat2art</td>\n",
       "      <td>NaN</td>\n",
       "      <td>NaN</td>\n",
       "      <td>NaN</td>\n",
       "    </tr>\n",
       "    <tr>\n",
       "      <th>30275294</th>\n",
       "      <td>Category:1999 deaths</td>\n",
       "      <td>Maro Markarian</td>\n",
       "      <td>979445</td>\n",
       "      <td>64149155</td>\n",
       "      <td>cat2art</td>\n",
       "      <td>NaN</td>\n",
       "      <td>NaN</td>\n",
       "      <td>NaN</td>\n",
       "    </tr>\n",
       "    <tr>\n",
       "      <th>30275295</th>\n",
       "      <td>Category:People from Marneuli</td>\n",
       "      <td>Maro Markarian</td>\n",
       "      <td>31643514</td>\n",
       "      <td>64149155</td>\n",
       "      <td>cat2art</td>\n",
       "      <td>NaN</td>\n",
       "      <td>NaN</td>\n",
       "      <td>NaN</td>\n",
       "    </tr>\n",
       "    <tr>\n",
       "      <th>30275296</th>\n",
       "      <td>Category:French Navy officers</td>\n",
       "      <td>Louis Édouard Paul Lieutard</td>\n",
       "      <td>1014449</td>\n",
       "      <td>64149158</td>\n",
       "      <td>cat2art</td>\n",
       "      <td>NaN</td>\n",
       "      <td>NaN</td>\n",
       "      <td>NaN</td>\n",
       "    </tr>\n",
       "  </tbody>\n",
       "</table>\n",
       "<p>30275297 rows × 8 columns</p>\n",
       "</div>"
      ],
      "text/plain": [
       "                                    src                          dst  \\\n",
       "0                    Category:Anarchism                    Anarchism   \n",
       "1              Category:Anti-capitalism                    Anarchism   \n",
       "2                 Category:Anti-fascism                    Anarchism   \n",
       "3          Category:Economic ideologies                    Anarchism   \n",
       "4            Category:Far-left politics                    Anarchism   \n",
       "...                                 ...                          ...   \n",
       "30275292        Category:Armenian poets               Maro Markarian   \n",
       "30275293           Category:1915 births               Maro Markarian   \n",
       "30275294           Category:1999 deaths               Maro Markarian   \n",
       "30275295  Category:People from Marneuli               Maro Markarian   \n",
       "30275296  Category:French Navy officers  Louis Édouard Paul Lieutard   \n",
       "\n",
       "         src-wikipediaID  dst-wikipediaID     type  intersection  union  \\\n",
       "0                 780754               12  cat2art           NaN    NaN   \n",
       "1               22737025               12  cat2art           NaN    NaN   \n",
       "2                7252754               12  cat2art           NaN    NaN   \n",
       "3                3050197               12  cat2art           NaN    NaN   \n",
       "4               15899799               12  cat2art           NaN    NaN   \n",
       "...                  ...              ...      ...           ...    ...   \n",
       "30275292         2611240         64149155  cat2art           NaN    NaN   \n",
       "30275293          915457         64149155  cat2art           NaN    NaN   \n",
       "30275294          979445         64149155  cat2art           NaN    NaN   \n",
       "30275295        31643514         64149155  cat2art           NaN    NaN   \n",
       "30275296         1014449         64149158  cat2art           NaN    NaN   \n",
       "\n",
       "          similarity  \n",
       "0                NaN  \n",
       "1                NaN  \n",
       "2                NaN  \n",
       "3                NaN  \n",
       "4                NaN  \n",
       "...              ...  \n",
       "30275292         NaN  \n",
       "30275293         NaN  \n",
       "30275294         NaN  \n",
       "30275295         NaN  \n",
       "30275296         NaN  \n",
       "\n",
       "[30275297 rows x 8 columns]"
      ]
     },
     "execution_count": 42,
     "metadata": {},
     "output_type": "execute_result"
    }
   ],
   "source": [
    "%%time\n",
    "catart_edge"
   ]
  },
  {
   "cell_type": "code",
   "execution_count": 43,
   "metadata": {},
   "outputs": [
    {
     "name": "stdout",
     "output_type": "stream",
     "text": [
      "Wall time: 3min 4s\n"
     ]
    }
   ],
   "source": [
    "%%time\n",
    "catart_edge.to_csv('F:/wikipedia-data/outputs/for-graphframes/catart_edge.csv', index = False)"
   ]
  },
  {
   "cell_type": "markdown",
   "metadata": {},
   "source": [
    "### TBD - Article to article links data to edge dataframe input"
   ]
  },
  {
   "cell_type": "code",
   "execution_count": 44,
   "metadata": {},
   "outputs": [],
   "source": [
    "# analogous to above\n",
    "\n",
    "# Necessary string edits\n",
    "## Remove all entries containing :\n",
    "## Some links are to redirects --> need to be connected to article\n",
    "## Remove all after pipe and #\n"
   ]
  },
  {
   "cell_type": "markdown",
   "metadata": {},
   "source": [
    "### Append vertex and edge dataframes to csvs"
   ]
  },
  {
   "cell_type": "code",
   "execution_count": 45,
   "metadata": {},
   "outputs": [
    {
     "name": "stdout",
     "output_type": "stream",
     "text": [
      "Wall time: 1.34 s\n"
     ]
    }
   ],
   "source": [
    "%%time\n",
    "all_vertex = cat_vertex.append(art_vertex, ignore_index = True)"
   ]
  },
  {
   "cell_type": "code",
   "execution_count": 46,
   "metadata": {},
   "outputs": [
    {
     "data": {
      "text/html": [
       "<div>\n",
       "<style scoped>\n",
       "    .dataframe tbody tr th:only-of-type {\n",
       "        vertical-align: middle;\n",
       "    }\n",
       "\n",
       "    .dataframe tbody tr th {\n",
       "        vertical-align: top;\n",
       "    }\n",
       "\n",
       "    .dataframe thead th {\n",
       "        text-align: right;\n",
       "    }\n",
       "</style>\n",
       "<table border=\"1\" class=\"dataframe\">\n",
       "  <thead>\n",
       "    <tr style=\"text-align: right;\">\n",
       "      <th></th>\n",
       "      <th>id</th>\n",
       "      <th>wikipedia-id</th>\n",
       "      <th>type</th>\n",
       "      <th>depth</th>\n",
       "    </tr>\n",
       "  </thead>\n",
       "  <tbody>\n",
       "    <tr>\n",
       "      <th>0</th>\n",
       "      <td>Category:Futurama</td>\n",
       "      <td>690070</td>\n",
       "      <td>Category</td>\n",
       "      <td>NaN</td>\n",
       "    </tr>\n",
       "    <tr>\n",
       "      <th>1</th>\n",
       "      <td>Category:World War II</td>\n",
       "      <td>690451</td>\n",
       "      <td>Category</td>\n",
       "      <td>NaN</td>\n",
       "    </tr>\n",
       "    <tr>\n",
       "      <th>2</th>\n",
       "      <td>Category:Programming languages</td>\n",
       "      <td>690571</td>\n",
       "      <td>Category</td>\n",
       "      <td>NaN</td>\n",
       "    </tr>\n",
       "    <tr>\n",
       "      <th>3</th>\n",
       "      <td>Category:Professional wrestling</td>\n",
       "      <td>690578</td>\n",
       "      <td>Category</td>\n",
       "      <td>NaN</td>\n",
       "    </tr>\n",
       "    <tr>\n",
       "      <th>4</th>\n",
       "      <td>Category:Algebra</td>\n",
       "      <td>690637</td>\n",
       "      <td>Category</td>\n",
       "      <td>NaN</td>\n",
       "    </tr>\n",
       "    <tr>\n",
       "      <th>...</th>\n",
       "      <td>...</td>\n",
       "      <td>...</td>\n",
       "      <td>...</td>\n",
       "      <td>...</td>\n",
       "    </tr>\n",
       "    <tr>\n",
       "      <th>8043933</th>\n",
       "      <td>Cardiff Australian Football Club</td>\n",
       "      <td>64149108</td>\n",
       "      <td>Article</td>\n",
       "      <td>NaN</td>\n",
       "    </tr>\n",
       "    <tr>\n",
       "      <th>8043934</th>\n",
       "      <td>Haapsalu-Noarootsi Wetland Complex</td>\n",
       "      <td>64149136</td>\n",
       "      <td>Article</td>\n",
       "      <td>NaN</td>\n",
       "    </tr>\n",
       "    <tr>\n",
       "      <th>8043935</th>\n",
       "      <td>El Caballero Country Club</td>\n",
       "      <td>64149147</td>\n",
       "      <td>Article</td>\n",
       "      <td>NaN</td>\n",
       "    </tr>\n",
       "    <tr>\n",
       "      <th>8043936</th>\n",
       "      <td>Maro Markarian</td>\n",
       "      <td>64149155</td>\n",
       "      <td>Article</td>\n",
       "      <td>NaN</td>\n",
       "    </tr>\n",
       "    <tr>\n",
       "      <th>8043937</th>\n",
       "      <td>Louis Édouard Paul Lieutard</td>\n",
       "      <td>64149158</td>\n",
       "      <td>Article</td>\n",
       "      <td>NaN</td>\n",
       "    </tr>\n",
       "  </tbody>\n",
       "</table>\n",
       "<p>8043938 rows × 4 columns</p>\n",
       "</div>"
      ],
      "text/plain": [
       "                                         id wikipedia-id      type depth\n",
       "0                         Category:Futurama       690070  Category   NaN\n",
       "1                     Category:World War II       690451  Category   NaN\n",
       "2            Category:Programming languages       690571  Category   NaN\n",
       "3           Category:Professional wrestling       690578  Category   NaN\n",
       "4                          Category:Algebra       690637  Category   NaN\n",
       "...                                     ...          ...       ...   ...\n",
       "8043933    Cardiff Australian Football Club     64149108   Article   NaN\n",
       "8043934  Haapsalu-Noarootsi Wetland Complex     64149136   Article   NaN\n",
       "8043935           El Caballero Country Club     64149147   Article   NaN\n",
       "8043936                      Maro Markarian     64149155   Article   NaN\n",
       "8043937         Louis Édouard Paul Lieutard     64149158   Article   NaN\n",
       "\n",
       "[8043938 rows x 4 columns]"
      ]
     },
     "execution_count": 46,
     "metadata": {},
     "output_type": "execute_result"
    }
   ],
   "source": [
    "all_vertex"
   ]
  },
  {
   "cell_type": "code",
   "execution_count": 47,
   "metadata": {},
   "outputs": [
    {
     "name": "stdout",
     "output_type": "stream",
     "text": [
      "Wall time: 7.4 s\n"
     ]
    }
   ],
   "source": [
    "%%time\n",
    "all_edge = catcat_edge.append(catart_edge, ignore_index = True)"
   ]
  },
  {
   "cell_type": "code",
   "execution_count": 48,
   "metadata": {},
   "outputs": [
    {
     "data": {
      "text/html": [
       "<div>\n",
       "<style scoped>\n",
       "    .dataframe tbody tr th:only-of-type {\n",
       "        vertical-align: middle;\n",
       "    }\n",
       "\n",
       "    .dataframe tbody tr th {\n",
       "        vertical-align: top;\n",
       "    }\n",
       "\n",
       "    .dataframe thead th {\n",
       "        text-align: right;\n",
       "    }\n",
       "</style>\n",
       "<table border=\"1\" class=\"dataframe\">\n",
       "  <thead>\n",
       "    <tr style=\"text-align: right;\">\n",
       "      <th></th>\n",
       "      <th>src</th>\n",
       "      <th>dst</th>\n",
       "      <th>src-wikipediaID</th>\n",
       "      <th>dst-wikipediaID</th>\n",
       "      <th>type</th>\n",
       "      <th>intersection</th>\n",
       "      <th>union</th>\n",
       "      <th>similarity</th>\n",
       "    </tr>\n",
       "  </thead>\n",
       "  <tbody>\n",
       "    <tr>\n",
       "      <th>0</th>\n",
       "      <td>Category:Television series by 20th Century Fox Television</td>\n",
       "      <td>Category:Futurama</td>\n",
       "      <td>6015549</td>\n",
       "      <td>690070</td>\n",
       "      <td>cat2cat</td>\n",
       "      <td>NaN</td>\n",
       "      <td>NaN</td>\n",
       "      <td>NaN</td>\n",
       "    </tr>\n",
       "    <tr>\n",
       "      <th>1</th>\n",
       "      <td>Category:Television series created by Matt Groening</td>\n",
       "      <td>Category:Futurama</td>\n",
       "      <td>37480813</td>\n",
       "      <td>690070</td>\n",
       "      <td>cat2cat</td>\n",
       "      <td>NaN</td>\n",
       "      <td>NaN</td>\n",
       "      <td>NaN</td>\n",
       "    </tr>\n",
       "    <tr>\n",
       "      <th>2</th>\n",
       "      <td>Category:Wikipedia categories named after American animated television series</td>\n",
       "      <td>Category:Futurama</td>\n",
       "      <td>35315704</td>\n",
       "      <td>690070</td>\n",
       "      <td>cat2cat</td>\n",
       "      <td>NaN</td>\n",
       "      <td>NaN</td>\n",
       "      <td>NaN</td>\n",
       "    </tr>\n",
       "    <tr>\n",
       "      <th>3</th>\n",
       "      <td>Category:Wikipedia categories named after mass media franchises</td>\n",
       "      <td>Category:Futurama</td>\n",
       "      <td>55466012</td>\n",
       "      <td>690070</td>\n",
       "      <td>cat2cat</td>\n",
       "      <td>NaN</td>\n",
       "      <td>NaN</td>\n",
       "      <td>NaN</td>\n",
       "    </tr>\n",
       "    <tr>\n",
       "      <th>4</th>\n",
       "      <td>Category:20th Century Fox Television franchises</td>\n",
       "      <td>Category:Futurama</td>\n",
       "      <td>60330380</td>\n",
       "      <td>690070</td>\n",
       "      <td>cat2cat</td>\n",
       "      <td>NaN</td>\n",
       "      <td>NaN</td>\n",
       "      <td>NaN</td>\n",
       "    </tr>\n",
       "    <tr>\n",
       "      <th>...</th>\n",
       "      <td>...</td>\n",
       "      <td>...</td>\n",
       "      <td>...</td>\n",
       "      <td>...</td>\n",
       "      <td>...</td>\n",
       "      <td>...</td>\n",
       "      <td>...</td>\n",
       "      <td>...</td>\n",
       "    </tr>\n",
       "    <tr>\n",
       "      <th>34303083</th>\n",
       "      <td>Category:Armenian poets</td>\n",
       "      <td>Maro Markarian</td>\n",
       "      <td>2611240</td>\n",
       "      <td>64149155</td>\n",
       "      <td>cat2art</td>\n",
       "      <td>NaN</td>\n",
       "      <td>NaN</td>\n",
       "      <td>NaN</td>\n",
       "    </tr>\n",
       "    <tr>\n",
       "      <th>34303084</th>\n",
       "      <td>Category:1915 births</td>\n",
       "      <td>Maro Markarian</td>\n",
       "      <td>915457</td>\n",
       "      <td>64149155</td>\n",
       "      <td>cat2art</td>\n",
       "      <td>NaN</td>\n",
       "      <td>NaN</td>\n",
       "      <td>NaN</td>\n",
       "    </tr>\n",
       "    <tr>\n",
       "      <th>34303085</th>\n",
       "      <td>Category:1999 deaths</td>\n",
       "      <td>Maro Markarian</td>\n",
       "      <td>979445</td>\n",
       "      <td>64149155</td>\n",
       "      <td>cat2art</td>\n",
       "      <td>NaN</td>\n",
       "      <td>NaN</td>\n",
       "      <td>NaN</td>\n",
       "    </tr>\n",
       "    <tr>\n",
       "      <th>34303086</th>\n",
       "      <td>Category:People from Marneuli</td>\n",
       "      <td>Maro Markarian</td>\n",
       "      <td>31643514</td>\n",
       "      <td>64149155</td>\n",
       "      <td>cat2art</td>\n",
       "      <td>NaN</td>\n",
       "      <td>NaN</td>\n",
       "      <td>NaN</td>\n",
       "    </tr>\n",
       "    <tr>\n",
       "      <th>34303087</th>\n",
       "      <td>Category:French Navy officers</td>\n",
       "      <td>Louis Édouard Paul Lieutard</td>\n",
       "      <td>1014449</td>\n",
       "      <td>64149158</td>\n",
       "      <td>cat2art</td>\n",
       "      <td>NaN</td>\n",
       "      <td>NaN</td>\n",
       "      <td>NaN</td>\n",
       "    </tr>\n",
       "  </tbody>\n",
       "</table>\n",
       "<p>34303088 rows × 8 columns</p>\n",
       "</div>"
      ],
      "text/plain": [
       "                                                                                    src  \\\n",
       "0                             Category:Television series by 20th Century Fox Television   \n",
       "1                                   Category:Television series created by Matt Groening   \n",
       "2         Category:Wikipedia categories named after American animated television series   \n",
       "3                       Category:Wikipedia categories named after mass media franchises   \n",
       "4                                       Category:20th Century Fox Television franchises   \n",
       "...                                                                                 ...   \n",
       "34303083                                                        Category:Armenian poets   \n",
       "34303084                                                           Category:1915 births   \n",
       "34303085                                                           Category:1999 deaths   \n",
       "34303086                                                  Category:People from Marneuli   \n",
       "34303087                                                  Category:French Navy officers   \n",
       "\n",
       "                                  dst src-wikipediaID  dst-wikipediaID  \\\n",
       "0                   Category:Futurama         6015549           690070   \n",
       "1                   Category:Futurama        37480813           690070   \n",
       "2                   Category:Futurama        35315704           690070   \n",
       "3                   Category:Futurama        55466012           690070   \n",
       "4                   Category:Futurama        60330380           690070   \n",
       "...                               ...             ...              ...   \n",
       "34303083               Maro Markarian         2611240         64149155   \n",
       "34303084               Maro Markarian          915457         64149155   \n",
       "34303085               Maro Markarian          979445         64149155   \n",
       "34303086               Maro Markarian        31643514         64149155   \n",
       "34303087  Louis Édouard Paul Lieutard         1014449         64149158   \n",
       "\n",
       "             type  intersection  union  similarity  \n",
       "0         cat2cat           NaN    NaN         NaN  \n",
       "1         cat2cat           NaN    NaN         NaN  \n",
       "2         cat2cat           NaN    NaN         NaN  \n",
       "3         cat2cat           NaN    NaN         NaN  \n",
       "4         cat2cat           NaN    NaN         NaN  \n",
       "...           ...           ...    ...         ...  \n",
       "34303083  cat2art           NaN    NaN         NaN  \n",
       "34303084  cat2art           NaN    NaN         NaN  \n",
       "34303085  cat2art           NaN    NaN         NaN  \n",
       "34303086  cat2art           NaN    NaN         NaN  \n",
       "34303087  cat2art           NaN    NaN         NaN  \n",
       "\n",
       "[34303088 rows x 8 columns]"
      ]
     },
     "execution_count": 48,
     "metadata": {},
     "output_type": "execute_result"
    }
   ],
   "source": [
    "all_edge"
   ]
  },
  {
   "cell_type": "code",
   "execution_count": 49,
   "metadata": {},
   "outputs": [
    {
     "name": "stdout",
     "output_type": "stream",
     "text": [
      "Wall time: 3min 49s\n"
     ]
    }
   ],
   "source": [
    "%%time\n",
    "all_vertex.to_csv('F:/wikipedia-data/outputs/for-graphframes/all_vertex.csv', index = False)\n",
    "all_edge.to_csv('F:/wikipedia-data/outputs/for-graphframes/all_edge.csv', index = False)"
   ]
  }
 ],
 "metadata": {
  "kernelspec": {
   "display_name": "Python 3",
   "language": "python",
   "name": "python3"
  },
  "language_info": {
   "codemirror_mode": {
    "name": "ipython",
    "version": 3
   },
   "file_extension": ".py",
   "mimetype": "text/x-python",
   "name": "python",
   "nbconvert_exporter": "python",
   "pygments_lexer": "ipython3",
   "version": "3.8.2"
  }
 },
 "nbformat": 4,
 "nbformat_minor": 4
}
