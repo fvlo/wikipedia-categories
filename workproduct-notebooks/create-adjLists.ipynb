{
 "cells": [
  {
   "cell_type": "markdown",
   "metadata": {},
   "source": [
    "## Directed graph of english wikipedia categories, articles and redirect terms"
   ]
  },
  {
   "cell_type": "code",
   "execution_count": null,
   "metadata": {},
   "outputs": [],
   "source": [
    "import pandas as pd\n",
    "import numpy as np\n",
    "import csv\n",
    "import re"
   ]
  },
  {
   "cell_type": "code",
   "execution_count": null,
   "metadata": {},
   "outputs": [],
   "source": [
    "pd.set_option('display.max_rows', 500)\n",
    "pd.set_option('display.max_columns', 500)\n",
    "pd.set_option('display.max_colwidth', 1000)"
   ]
  },
  {
   "cell_type": "code",
   "execution_count": null,
   "metadata": {},
   "outputs": [],
   "source": [
    "FILE_PATH_CAT = 'F:/wikipedia-data/outputs/categories.csv'\n",
    "FILE_PATH_ART = 'F:/wikipedia-data/outputs/articles_without_links.csv'"
   ]
  },
  {
   "cell_type": "code",
   "execution_count": null,
   "metadata": {},
   "outputs": [],
   "source": [
    "%%time\n",
    "cat_origData = pd.read_csv(FILE_PATH_CAT)"
   ]
  },
  {
   "cell_type": "code",
   "execution_count": null,
   "metadata": {},
   "outputs": [],
   "source": [
    "%%time\n",
    "# Create series with category data in form that is readable by networkx (adjacency list)\n",
    "\n",
    "cat_adjList = pd.Series\n",
    "\n",
    "# Add categories to series, remove 'CATEGORY: ', quotes and replace comma delimeter with '%¤%'\n",
    "cat_adjList = cat_origData['title'].apply(lambda x: str(x)[9:] + \",\") + cat_origData['parentCategories'].apply(lambda x: str(x)[1:-1].replace(\" '\", \"\").replace(\"'\", \"\"))\n",
    "cat_adjList = cat_adjList.apply(lambda x: x.replace(' \"', \"\").replace('\"', \"\") )\n",
    "cat_adjList = cat_adjList.apply(lambda x: x.replace(\",\", \"%¤%\"))\n",
    "\n",
    "# Remove category specification used in wikipedia child categories (pipe char and following text)\n",
    "cat_adjList = cat_adjList.apply(lambda x: re.sub(\"(\\|)(.+)(?=\\%¤%)\", '', x))\n",
    "cat_adjList = cat_adjList.apply(lambda x: re.sub(\"(\\|)(.+)\", '', x))\n",
    "cat_adjList = cat_adjList.apply(lambda x: re.sub(\"(\\|)\", '', x))"
   ]
  },
  {
   "cell_type": "code",
   "execution_count": null,
   "metadata": {},
   "outputs": [],
   "source": [
    "%%time\n",
    "# Save series to csv\n",
    "\n",
    "cat_adjList.to_csv('../workproduct-files/cat_adjList.csv', index = False, header = False, quoting=csv.QUOTE_NONE)"
   ]
  },
  {
   "cell_type": "code",
   "execution_count": null,
   "metadata": {},
   "outputs": [],
   "source": [
    "%%time\n",
    "art_origData = pd.read_csv(FILE_PATH_ART, usecols = [\"title\", \"parentCategories\"])"
   ]
  },
  {
   "cell_type": "code",
   "execution_count": null,
   "metadata": {},
   "outputs": [],
   "source": [
    "# TEMP\n",
    "\n",
    "art_origData.tail(5)"
   ]
  },
  {
   "cell_type": "code",
   "execution_count": null,
   "metadata": {},
   "outputs": [],
   "source": [
    "%%time\n",
    "# Create series with article data in form that is readable by networkx (adjacency list)\n",
    "\n",
    "art_adjList = pd.Series\n",
    "\n",
    "# Add articles to series, add 'ARTICLE_', remove quotes and replace comma delimeter with '%¤%'\n",
    "art_adjList = art_origData['title'].apply(lambda x: \"ARTICLE_\" + str(x) + \",\") + art_origData['parentCategories'].apply(lambda x: str(x)[1:-1].replace(\" '\", \"\").replace(\"'\", \"\"))\n",
    "art_adjList = art_adjList.apply(lambda x: str(x).replace(' \"', \"\").replace('\"', \"\") )\n",
    "art_adjList = art_adjList.apply(lambda x: str(x).replace(\",\", \"%¤%\"))\n",
    "\n",
    "# Remove category specification used in wikipedia child categories (pipe char and following text)\n",
    "art_adjList = art_adjList.apply(lambda x: re.sub(\"(\\|)(.+)(?=\\%¤%)\", '', x))\n",
    "art_adjList = art_adjList.apply(lambda x: re.sub(\"(\\|)(.+)\", '', x))\n",
    "art_adjList = art_adjList.apply(lambda x: re.sub(\"(\\|)\", '', x))\n",
    "\n",
    "# Remove # char and all following (specification to location within linked to article)\n",
    "art_adjList = art_adjList.apply(lambda x: re.sub(\"(\\#)(.+)(?=\\%¤%)\", '', x))\n",
    "art_adjList = art_adjList.apply(lambda x: re.sub(\"(\\#)(.+)\", '', x))\n",
    "art_adjList = art_adjList.apply(lambda x: re.sub(\"(\\#)\", '', x))"
   ]
  },
  {
   "cell_type": "code",
   "execution_count": null,
   "metadata": {},
   "outputs": [],
   "source": [
    "%%time\n",
    "# Save series to csv\n",
    "\n",
    "art_adjList.to_csv('../workproduct-files/art_adjList.csv', index = False, header = False, quoting=csv.QUOTE_NONE)"
   ]
  },
  {
   "cell_type": "code",
   "execution_count": null,
   "metadata": {},
   "outputs": [],
   "source": [
    "# TODO\n",
    "\n",
    "# Prepare category file for graph import as new csv --DONE\n",
    "# Prepare article file for graph import as new csv\n",
    "# Prepare redirect file to graph import as new csv\n",
    "# Read categories to graph\n",
    "#     Add type attribute (node)\n",
    "# Read articles to graph\n",
    "#     Add type attribute (node)\n",
    "# Read redirect to graph\n",
    "#     Add type attribute (node)\n",
    "\n",
    "# Reverse graph direction\n",
    "\n",
    "# Drop subgraphs without connection to 'Main topic classifications'\n",
    "\n",
    "# Add edge attributes\n",
    "#     Category depth\n",
    "#     Category similarity\n",
    "#     Article classification strength\n",
    "\n",
    "# Add node attributes\n",
    "#     Category: Main parent\n",
    "#     Category: Is main parent\n",
    "#     Category: Is leaf category\n",
    "#     Category: In main tree\n",
    "\n",
    "# Save graph as pickle\n",
    "# Export alias list (article + redirect names) with category paths to csv - LINK TO NEXT WORKFLOW TBD"
   ]
  }
 ],
 "metadata": {
  "kernelspec": {
   "display_name": "Python 3",
   "language": "python",
   "name": "python3"
  },
  "language_info": {
   "codemirror_mode": {
    "name": "ipython",
    "version": 3
   },
   "file_extension": ".py",
   "mimetype": "text/x-python",
   "name": "python",
   "nbconvert_exporter": "python",
   "pygments_lexer": "ipython3",
   "version": "3.8.2"
  }
 },
 "nbformat": 4,
 "nbformat_minor": 4
}
