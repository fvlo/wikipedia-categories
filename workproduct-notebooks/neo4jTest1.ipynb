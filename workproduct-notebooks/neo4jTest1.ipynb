{
 "cells": [
  {
   "cell_type": "code",
   "execution_count": 5,
   "metadata": {},
   "outputs": [],
   "source": [
    "from py2neo import *"
   ]
  },
  {
   "cell_type": "code",
   "execution_count": 2,
   "metadata": {},
   "outputs": [],
   "source": [
    "graph = Graph()"
   ]
  },
  {
   "cell_type": "code",
   "execution_count": 3,
   "metadata": {},
   "outputs": [
    {
     "data": {
      "text/plain": [
       "<Graph database=<Database uri='bolt://localhost:7687' secure=False user_agent='py2neo/4.2.0 neobolt/1.7.17 Python/3.8.2-final-0 (win32)'> name='data'>"
      ]
     },
     "execution_count": 3,
     "metadata": {},
     "output_type": "execute_result"
    }
   ],
   "source": [
    "graph"
   ]
  },
  {
   "cell_type": "code",
   "execution_count": 4,
   "metadata": {},
   "outputs": [
    {
     "data": {
      "text/html": [
       "<table><tr><th>n</th><th>n_sq</th></tr><tr><td style=\"text-align:right\">1</td><td style=\"text-align:right\">1</td></tr><tr><td style=\"text-align:right\">2</td><td style=\"text-align:right\">4</td></tr><tr><td style=\"text-align:right\">3</td><td style=\"text-align:right\">9</td></tr></table>"
      ],
      "text/plain": [
       " n | n_sq \n",
       "---|------\n",
       " 1 |    1 \n",
       " 2 |    4 \n",
       " 3 |    9 "
      ]
     },
     "execution_count": 4,
     "metadata": {},
     "output_type": "execute_result"
    }
   ],
   "source": [
    "graph.run(\"UNWIND range(1, 3) AS n RETURN n, n * n as n_sq\").to_table()"
   ]
  },
  {
   "cell_type": "code",
   "execution_count": 14,
   "metadata": {},
   "outputs": [
    {
     "name": "stdout",
     "output_type": "stream",
     "text": [
      "(_119062:Page {id: 44474, isNew: false, isRedirect: false, title: 'Saturn'})\n",
      "(_5627275:Category:Page {id: 7473503, isNew: false, isRedirect: false, title: 'Planets_of_the_Solar_System'})\n"
     ]
    }
   ],
   "source": [
    "matcher = NodeMatcher(graph)\n",
    "print(matcher.match(\"Page\", title=\"Saturn\").first())\n",
    "print(matcher.match(\"Page\", title=\"Planets_of_the_Solar_System\").first())\n"
   ]
  },
  {
   "cell_type": "code",
   "execution_count": 17,
   "metadata": {},
   "outputs": [
    {
     "name": "stdout",
     "output_type": "stream",
     "text": [
      "Wall time: 6.47 s\n"
     ]
    },
    {
     "data": {
      "text/plain": [
       "257"
      ]
     },
     "execution_count": 17,
     "metadata": {},
     "output_type": "execute_result"
    }
   ],
   "source": [
    "%%time\n",
    "len(matcher.match(\"Page\").where(\"_.title =~ 'Saturn.*'\"))"
   ]
  },
  {
   "cell_type": "code",
   "execution_count": 18,
   "metadata": {},
   "outputs": [
    {
     "name": "stdout",
     "output_type": "stream",
     "text": [
      "[(_119062:Page {id: 44474, isNew: false, isRedirect: false, title: 'Saturn'}), (_5478183:Category:Page {id: 702846, isNew: false, isRedirect: false, title: 'Saturn'}), (_4864496:Page {id: 48254642, isNew: false, isRedirect: false, title: 'Saturn,_Conjunct_the_Grand_Canyon_in_a_Sweet_Embrace'}), (_4962493:Page {id: 50846097, isNew: false, isRedirect: false, title: 'Saturn,_Indiana'}), (_398909:Page {id: 1251210, isNew: false, isRedirect: false, title: 'Saturn,_Romania'}), (_1050177:Page {id: 7702855, isNew: false, isRedirect: false, title: 'Saturn-Shuttle'}), (_3709270:Page {id: 33113585, isNew: false, isRedirect: false, title: \"Saturn\\\\'s_Children\"}), (_2255313:Page {id: 18814127, isNew: false, isRedirect: false, title: \"Saturn\\\\'s_Children_(novel)\"}), (_1599966:Page {id: 12219980, isNew: false, isRedirect: false, title: \"Saturn\\\\'s_Children_(political_science_book)\"}), (_467286:Page {id: 1851171, isNew: false, isRedirect: false, title: \"Saturn\\\\'s_Gallic_group_of_satellites\"})]\n",
      "Wall time: 13.7 s\n"
     ]
    }
   ],
   "source": [
    "%%time\n",
    "print(list(matcher.match(\"Page\").where(\"_.title =~ 'Saturn.*'\"))[:10])"
   ]
  },
  {
   "cell_type": "code",
   "execution_count": 19,
   "metadata": {},
   "outputs": [
    {
     "name": "stdout",
     "output_type": "stream",
     "text": [
      "Wall time: 52.5 ms\n"
     ]
    },
    {
     "data": {
      "text/plain": [
       "[{'pages.title': 'History'},\n",
       " {'pages.title': 'World'},\n",
       " {'pages.title': 'Reference'},\n",
       " {'pages.title': 'People'},\n",
       " {'pages.title': 'Law'},\n",
       " {'pages.title': 'Religion'},\n",
       " {'pages.title': 'Education'},\n",
       " {'pages.title': 'Philosophy'},\n",
       " {'pages.title': 'Politics'},\n",
       " {'pages.title': 'Science_and_technology'},\n",
       " {'pages.title': 'Sports'},\n",
       " {'pages.title': 'Language'},\n",
       " {'pages.title': 'Nature'},\n",
       " {'pages.title': 'Geography'},\n",
       " {'pages.title': 'Arts'},\n",
       " {'pages.title': 'Society'},\n",
       " {'pages.title': 'Culture'},\n",
       " {'pages.title': 'Health'},\n",
       " {'pages.title': 'Mathematics'},\n",
       " {'pages.title': 'Universe'},\n",
       " {'pages.title': 'Events'},\n",
       " {'pages.title': 'Humanities'},\n",
       " {'pages.title': 'Life'},\n",
       " {'pages.title': 'Container_categories'},\n",
       " {'pages.title': 'Articles'},\n",
       " {'pages.title': 'Uncategorized_pages'},\n",
       " {'pages.title': 'Information'},\n",
       " {'pages.title': 'Contents'},\n",
       " {'pages.title': 'Articles'}]"
      ]
     },
     "execution_count": 19,
     "metadata": {},
     "output_type": "execute_result"
    }
   ],
   "source": [
    "%%time\n",
    "# results = graph.run('MATCH (people:Person)-[relatedTo]-(:Movie {title: \"Cloud Atlas\"}) RETURN people.name, Type(relatedTo), relatedTo')\n",
    "results = graph.run('MATCH (pages:Page)-[BELONGS_TO]-(:Page {title: \"Main_topic_classifications\"}) RETURN pages.title')\n",
    "results.data()"
   ]
  },
  {
   "cell_type": "code",
   "execution_count": 69,
   "metadata": {},
   "outputs": [
    {
     "name": "stdout",
     "output_type": "stream",
     "text": [
      "Wall time: 1.57 s\n"
     ]
    },
    {
     "data": {
      "text/plain": [
       "[{'categories': (_6585109:Category:Page {id: 37155629, isNew: false, isRedirect: false, title: 'Buildings_and_structures_in_Denmark_by_region'})},\n",
       " {'categories': (_7041727:Category:Page {id: 48680193, isNew: false, isRedirect: false, title: 'Wikipedia_categories_named_after_organisations_based_in_Slovakia'})},\n",
       " {'categories': (_7041717:Category:Page {id: 48680051, isNew: false, isRedirect: false, title: 'Wikipedia_categories_named_after_political_parties_in_Italy'})},\n",
       " {'categories': (_7017056:Category:Page {id: 48531232, isNew: false, isRedirect: false, title: 'Historic_district_contributing_properties_by_state'})},\n",
       " {'categories': (_6343868:Category:Page {id: 29069079, isNew: false, isRedirect: false, title: 'Universities_and_colleges_in_Connecticut_by_county'})},\n",
       " {'categories': (_6504935:Category:Page {id: 36893914, isNew: false, isRedirect: false, title: 'Health_disasters_by_century'})},\n",
       " {'categories': (_6303583:Category:Page {id: 28850109, isNew: false, isRedirect: false, title: 'Maldivian_politicians_by_party'})},\n",
       " {'categories': (_6399492:Category:Page {id: 36439544, isNew: false, isRedirect: false, title: 'Islamic_universities_and_colleges_by_country'})},\n",
       " {'categories': (_6844759:Category:Page {id: 47493182, isNew: false, isRedirect: false, title: 'Bridges_in_Australia_by_material'})},\n",
       " {'categories': (_5737615:Category:Page {id: 9736778, isNew: false, isRedirect: false, title: 'Education_in_Australia_by_city_or_town'})},\n",
       " {'categories': (_5792747:Category:Page {id: 15512045, isNew: false, isRedirect: false, title: 'Figure_skating_by_country'})},\n",
       " {'categories': (_7400807:Category:Page {id: 57490584, isNew: false, isRedirect: false, title: 'Secondary_schools_in_Malaysia_by_state'})},\n",
       " {'categories': (_6635392:Category:Page {id: 40436032, isNew: false, isRedirect: false, title: 'British_actors_by_century'})},\n",
       " {'categories': (_6113090:Category:Page {id: 27999598, isNew: false, isRedirect: false, title: 'Sports_in_New_York_(state)_by_sport'})},\n",
       " {'categories': (_6576297:Category:Page {id: 40111101, isNew: false, isRedirect: false, title: 'Geography_of_Israel_by_district'})},\n",
       " {'categories': (_7361776:Category:Page {id: 56991234, isNew: false, isRedirect: false, title: 'Women_from_Georgia_(country)_by_century'})},\n",
       " {'categories': (_5569282:Category:Page {id: 1093120, isNew: false, isRedirect: false, title: 'Cyclists_by_nationality'})},\n",
       " {'categories': (_6043185:Category:Page {id: 27647079, isNew: false, isRedirect: false, title: 'Populated_places_in_Hawaii_by_county'})},\n",
       " {'categories': (_6465181:Category:Page {id: 39707851, isNew: false, isRedirect: false, title: 'Establishments_in_Asia_by_year'})},\n",
       " {'categories': (_6642957:Category:Page {id: 35322364, isNew: false, isRedirect: false, title: 'Wikipedia_categories_named_after_vehicle_manufacturing_companies_of_the_United_States'})}]"
      ]
     },
     "execution_count": 69,
     "metadata": {},
     "output_type": "execute_result"
    }
   ],
   "source": [
    "%%time\n",
    "\n",
    "results2 = graph.run('MATCH (mtc:Page {title:\"Main_topic_classifications\"})-[*1..2]-(categories) RETURN DISTINCT categories')\n",
    "#len(results2.data())\n",
    "results2.data()[20000:20020]\n",
    "\n",
    "# content in results2 does not seem to be saved..."
   ]
  },
  {
   "cell_type": "code",
   "execution_count": 84,
   "metadata": {},
   "outputs": [
    {
     "name": "stdout",
     "output_type": "stream",
     "text": [
      "Wall time: 35.4 ms\n"
     ]
    },
    {
     "data": {
      "text/plain": [
       "[{'nodes(p)': [(_5614592:Category:Page {id: 7345184, isNew: false, isRedirect: false, title: 'Main_topic_classifications'}),\n",
       "   (_6523822:Category:Page {id: 30176254, isNew: false, isRedirect: false, title: 'Container_categories'}),\n",
       "   (_5836736:Category:Page {id: 15961454, isNew: false, isRedirect: false, title: 'Hidden_categories'}),\n",
       "   (_6464852:Category:Page {id: 39701999, isNew: false, isRedirect: false, title: 'Articles_with_Swedish-language_external_links'}),\n",
       "   (_955845:Page {id: 5058739, isNew: false, isRedirect: false, title: 'Sweden'})]},\n",
       " {'nodes(p)': [(_5614592:Category:Page {id: 7345184, isNew: false, isRedirect: false, title: 'Main_topic_classifications'}),\n",
       "   (_6523822:Category:Page {id: 30176254, isNew: false, isRedirect: false, title: 'Container_categories'}),\n",
       "   (_6620195:Category:Page {id: 35317198, isNew: false, isRedirect: false, title: 'Wikipedia_categories_named_after_countries'}),\n",
       "   (_5214945:Category:Page {id: 691728, isNew: false, isRedirect: false, title: 'Sweden'})]}]"
      ]
     },
     "execution_count": 84,
     "metadata": {},
     "output_type": "execute_result"
    }
   ],
   "source": [
    "%%time\n",
    "results3 = graph.run('MATCH p=shortestPath((a:Page {title:\"Main_topic_classifications\"})-[:BELONGS_TO*]-(b:Page {title:\"Sweden\"})) RETURN nodes(p)')\n",
    "results3.data()"
   ]
  },
  {
   "cell_type": "code",
   "execution_count": 74,
   "metadata": {},
   "outputs": [
    {
     "name": "stdout",
     "output_type": "stream",
     "text": [
      "Wall time: 1.99 ms\n"
     ]
    },
    {
     "data": {
      "text/plain": [
       "[{'pages.title': 'Biology'},\n",
       " {'pages.title': 'Nature'},\n",
       " {'pages.title': 'Categories_requiring_diffusion'},\n",
       " {'pages.title': 'Main_topic_classifications'},\n",
       " {'pages.title': 'Life_sciences'},\n",
       " {'pages.title': 'Birth'},\n",
       " {'pages.title': 'Non-cellular_life'},\n",
       " {'pages.title': 'Death'},\n",
       " {'pages.title': 'Hypothetical_life_forms'},\n",
       " {'pages.title': 'Homochirality'},\n",
       " {'pages.title': 'Living_systems'},\n",
       " {'pages.title': 'Biological_organisation'},\n",
       " {'pages.title': 'Life'},\n",
       " {'pages.title': 'Life_extension'},\n",
       " {'pages.title': 'Immortality'},\n",
       " {'pages.title': 'Carbon-based_life'},\n",
       " {'pages.title': 'The_Seven_Pillars_of_Life'},\n",
       " {'pages.title': 'Fictional_life_forms'},\n",
       " {'pages.title': 'Tree_of_life_(biology)'},\n",
       " {'pages.title': 'Reproduction'},\n",
       " {'pages.title': 'Life_extension'},\n",
       " {'pages.title': 'Life_in_space'},\n",
       " {'pages.title': 'Philosophy_of_life'},\n",
       " {'pages.title': 'Prehistoric_life'},\n",
       " {'pages.title': 'Organisms'},\n",
       " {'pages.title': 'Artificial_life'},\n",
       " {'pages.title': 'Chirality_(chemistry)'},\n",
       " {'pages.title': 'Biomedical_cybernetics'},\n",
       " {'pages.title': \"Coleridge\\\\'s_theory_of_life\"},\n",
       " {'pages.title': 'Chirality'},\n",
       " {'pages.title': 'Chirality'},\n",
       " {'pages.title': 'Biomedical_cybernetics'},\n",
       " {'pages.title': 'Life'}]"
      ]
     },
     "execution_count": 74,
     "metadata": {},
     "output_type": "execute_result"
    }
   ],
   "source": [
    "%%time\n",
    "results4 = graph.run('MATCH (pages:Page)-[BELONGS_TO]-(:Category:Page {title: \"Life\"}) RETURN pages.title')\n",
    "results4.data()"
   ]
  }
 ],
 "metadata": {
  "kernelspec": {
   "display_name": "Python 3",
   "language": "python",
   "name": "python3"
  },
  "language_info": {
   "codemirror_mode": {
    "name": "ipython",
    "version": 3
   },
   "file_extension": ".py",
   "mimetype": "text/x-python",
   "name": "python",
   "nbconvert_exporter": "python",
   "pygments_lexer": "ipython3",
   "version": "3.8.2"
  }
 },
 "nbformat": 4,
 "nbformat_minor": 4
}
