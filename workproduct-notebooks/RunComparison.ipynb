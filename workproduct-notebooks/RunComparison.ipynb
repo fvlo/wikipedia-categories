{
 "cells": [
  {
   "cell_type": "code",
   "execution_count": 1,
   "metadata": {},
   "outputs": [],
   "source": [
    "import pandas as pd\n",
    "import time\n",
    "import glob"
   ]
  },
  {
   "cell_type": "code",
   "execution_count": null,
   "metadata": {},
   "outputs": [],
   "source": []
  },
  {
   "cell_type": "code",
   "execution_count": 7,
   "metadata": {},
   "outputs": [],
   "source": [
    "df = pd.read_pickle(\"../workproduct-files/batchRuns/batch142_1375-1379.pkl\")"
   ]
  },
  {
   "cell_type": "code",
   "execution_count": 8,
   "metadata": {},
   "outputs": [
    {
     "data": {
      "text/html": [
       "<div>\n",
       "<style scoped>\n",
       "    .dataframe tbody tr th:only-of-type {\n",
       "        vertical-align: middle;\n",
       "    }\n",
       "\n",
       "    .dataframe tbody tr th {\n",
       "        vertical-align: top;\n",
       "    }\n",
       "\n",
       "    .dataframe thead th {\n",
       "        text-align: right;\n",
       "    }\n",
       "</style>\n",
       "<table border=\"1\" class=\"dataframe\">\n",
       "  <thead>\n",
       "    <tr style=\"text-align: right;\">\n",
       "      <th></th>\n",
       "      <th>searchTerms</th>\n",
       "      <th>wikipediaSearchSuccessful</th>\n",
       "      <th>findQuestionCategories_meta</th>\n",
       "      <th>wikipediaArticleTitle</th>\n",
       "      <th>wikipediaArticleID</th>\n",
       "      <th>categoryPath</th>\n",
       "      <th>parentCategories</th>\n",
       "    </tr>\n",
       "  </thead>\n",
       "  <tbody>\n",
       "    <tr>\n",
       "      <th>1375</th>\n",
       "      <td>[goose, france]</td>\n",
       "      <td>False</td>\n",
       "      <td>[Database call timed out (90 seconds), Databas...</td>\n",
       "      <td>None</td>\n",
       "      <td>NaN</td>\n",
       "      <td>None</td>\n",
       "      <td>None</td>\n",
       "    </tr>\n",
       "    <tr>\n",
       "      <th>1376</th>\n",
       "      <td>[steak]</td>\n",
       "      <td>True</td>\n",
       "      <td>[SUCCESS]</td>\n",
       "      <td>Steak</td>\n",
       "      <td>34931824.0</td>\n",
       "      <td>pages.title pages.id  inters...</td>\n",
       "      <td>pages.title  pa...</td>\n",
       "    </tr>\n",
       "    <tr>\n",
       "      <th>1377</th>\n",
       "      <td>[tartare, steak]</td>\n",
       "      <td>True</td>\n",
       "      <td>[Database call timed out (90 seconds), SUCCESS]</td>\n",
       "      <td>Steak</td>\n",
       "      <td>34931824.0</td>\n",
       "      <td>pages.title pages.id  inters...</td>\n",
       "      <td>pages.title  pa...</td>\n",
       "    </tr>\n",
       "    <tr>\n",
       "      <th>1378</th>\n",
       "      <td>[jeroboam, champagne, bottle]</td>\n",
       "      <td>True</td>\n",
       "      <td>[Database call timed out (90 seconds), SUCCESS]</td>\n",
       "      <td>Champagne</td>\n",
       "      <td>53754.0</td>\n",
       "      <td>pages.title  pages.id  inter...</td>\n",
       "      <td>pages...</td>\n",
       "    </tr>\n",
       "    <tr>\n",
       "      <th>1379</th>\n",
       "      <td>[Nebuchadnezzar, nebuchadnezzar, champagne, bo...</td>\n",
       "      <td>True</td>\n",
       "      <td>[Database call timed out (90 seconds), SUCCESS]</td>\n",
       "      <td>Nebuchadnezzar_II</td>\n",
       "      <td>52346.0</td>\n",
       "      <td>pages.title  pages.id  inter...</td>\n",
       "      <td>pages...</td>\n",
       "    </tr>\n",
       "  </tbody>\n",
       "</table>\n",
       "</div>"
      ],
      "text/plain": [
       "                                            searchTerms  \\\n",
       "1375                                    [goose, france]   \n",
       "1376                                            [steak]   \n",
       "1377                                   [tartare, steak]   \n",
       "1378                      [jeroboam, champagne, bottle]   \n",
       "1379  [Nebuchadnezzar, nebuchadnezzar, champagne, bo...   \n",
       "\n",
       "      wikipediaSearchSuccessful  \\\n",
       "1375                      False   \n",
       "1376                       True   \n",
       "1377                       True   \n",
       "1378                       True   \n",
       "1379                       True   \n",
       "\n",
       "                            findQuestionCategories_meta wikipediaArticleTitle  \\\n",
       "1375  [Database call timed out (90 seconds), Databas...                  None   \n",
       "1376                                          [SUCCESS]                 Steak   \n",
       "1377    [Database call timed out (90 seconds), SUCCESS]                 Steak   \n",
       "1378    [Database call timed out (90 seconds), SUCCESS]             Champagne   \n",
       "1379    [Database call timed out (90 seconds), SUCCESS]     Nebuchadnezzar_II   \n",
       "\n",
       "      wikipediaArticleID                                       categoryPath  \\\n",
       "1375                 NaN                                               None   \n",
       "1376          34931824.0                    pages.title pages.id  inters...   \n",
       "1377          34931824.0                    pages.title pages.id  inters...   \n",
       "1378             53754.0                    pages.title  pages.id  inter...   \n",
       "1379             52346.0                    pages.title  pages.id  inter...   \n",
       "\n",
       "                                       parentCategories  \n",
       "1375                                               None  \n",
       "1376                                 pages.title  pa...  \n",
       "1377                                 pages.title  pa...  \n",
       "1378                                           pages...  \n",
       "1379                                           pages...  "
      ]
     },
     "execution_count": 8,
     "metadata": {},
     "output_type": "execute_result"
    }
   ],
   "source": [
    "df"
   ]
  },
  {
   "cell_type": "code",
   "execution_count": 9,
   "metadata": {},
   "outputs": [],
   "source": [
    "RunMeta = pd.read_csv(\"../workproduct-files\" + \"/batchRuns.csv\", delimiter=\";\")"
   ]
  },
  {
   "cell_type": "code",
   "execution_count": 10,
   "metadata": {},
   "outputs": [
    {
     "data": {
      "text/html": [
       "<div>\n",
       "<style scoped>\n",
       "    .dataframe tbody tr th:only-of-type {\n",
       "        vertical-align: middle;\n",
       "    }\n",
       "\n",
       "    .dataframe tbody tr th {\n",
       "        vertical-align: top;\n",
       "    }\n",
       "\n",
       "    .dataframe thead th {\n",
       "        text-align: right;\n",
       "    }\n",
       "</style>\n",
       "<table border=\"1\" class=\"dataframe\">\n",
       "  <thead>\n",
       "    <tr style=\"text-align: right;\">\n",
       "      <th></th>\n",
       "      <th>startIndex</th>\n",
       "      <th>stopIndex</th>\n",
       "      <th>startTime</th>\n",
       "      <th>endTime</th>\n",
       "      <th>runTime</th>\n",
       "    </tr>\n",
       "  </thead>\n",
       "  <tbody>\n",
       "    <tr>\n",
       "      <th>0</th>\n",
       "      <td>-1</td>\n",
       "      <td>-1</td>\n",
       "      <td>NaN</td>\n",
       "      <td>NaN</td>\n",
       "      <td>NaN</td>\n",
       "    </tr>\n",
       "    <tr>\n",
       "      <th>1</th>\n",
       "      <td>0</td>\n",
       "      <td>9</td>\n",
       "      <td>2020-10-03 15:57:52</td>\n",
       "      <td>2020-10-03 16:02:54</td>\n",
       "      <td>302.0</td>\n",
       "    </tr>\n",
       "    <tr>\n",
       "      <th>2</th>\n",
       "      <td>10</td>\n",
       "      <td>19</td>\n",
       "      <td>2020-10-03 16:02:54</td>\n",
       "      <td>2020-10-03 16:04:33</td>\n",
       "      <td>99.0</td>\n",
       "    </tr>\n",
       "    <tr>\n",
       "      <th>3</th>\n",
       "      <td>20</td>\n",
       "      <td>29</td>\n",
       "      <td>2020-10-03 16:04:33</td>\n",
       "      <td>2020-10-03 16:10:09</td>\n",
       "      <td>336.0</td>\n",
       "    </tr>\n",
       "    <tr>\n",
       "      <th>4</th>\n",
       "      <td>30</td>\n",
       "      <td>39</td>\n",
       "      <td>2020-10-03 16:10:09</td>\n",
       "      <td>2020-10-03 16:12:35</td>\n",
       "      <td>146.0</td>\n",
       "    </tr>\n",
       "    <tr>\n",
       "      <th>...</th>\n",
       "      <td>...</td>\n",
       "      <td>...</td>\n",
       "      <td>...</td>\n",
       "      <td>...</td>\n",
       "      <td>...</td>\n",
       "    </tr>\n",
       "    <tr>\n",
       "      <th>279</th>\n",
       "      <td>2060</td>\n",
       "      <td>2064</td>\n",
       "      <td>2020-10-04 16:00:10</td>\n",
       "      <td>2020-10-04 16:04:59</td>\n",
       "      <td>289.0</td>\n",
       "    </tr>\n",
       "    <tr>\n",
       "      <th>280</th>\n",
       "      <td>2065</td>\n",
       "      <td>2069</td>\n",
       "      <td>2020-10-04 16:04:59</td>\n",
       "      <td>2020-10-04 16:08:12</td>\n",
       "      <td>193.0</td>\n",
       "    </tr>\n",
       "    <tr>\n",
       "      <th>281</th>\n",
       "      <td>2070</td>\n",
       "      <td>2074</td>\n",
       "      <td>2020-10-04 16:08:12</td>\n",
       "      <td>2020-10-04 16:10:06</td>\n",
       "      <td>114.0</td>\n",
       "    </tr>\n",
       "    <tr>\n",
       "      <th>282</th>\n",
       "      <td>2075</td>\n",
       "      <td>2079</td>\n",
       "      <td>2020-10-04 16:10:06</td>\n",
       "      <td>2020-10-04 16:10:30</td>\n",
       "      <td>24.0</td>\n",
       "    </tr>\n",
       "    <tr>\n",
       "      <th>283</th>\n",
       "      <td>2080</td>\n",
       "      <td>2084</td>\n",
       "      <td>2020-10-04 16:10:30</td>\n",
       "      <td>2020-10-04 16:11:03</td>\n",
       "      <td>33.0</td>\n",
       "    </tr>\n",
       "  </tbody>\n",
       "</table>\n",
       "<p>284 rows × 5 columns</p>\n",
       "</div>"
      ],
      "text/plain": [
       "     startIndex  stopIndex            startTime              endTime  runTime\n",
       "0            -1         -1                  NaN                  NaN      NaN\n",
       "1             0          9  2020-10-03 15:57:52  2020-10-03 16:02:54    302.0\n",
       "2            10         19  2020-10-03 16:02:54  2020-10-03 16:04:33     99.0\n",
       "3            20         29  2020-10-03 16:04:33  2020-10-03 16:10:09    336.0\n",
       "4            30         39  2020-10-03 16:10:09  2020-10-03 16:12:35    146.0\n",
       "..          ...        ...                  ...                  ...      ...\n",
       "279        2060       2064  2020-10-04 16:00:10  2020-10-04 16:04:59    289.0\n",
       "280        2065       2069  2020-10-04 16:04:59  2020-10-04 16:08:12    193.0\n",
       "281        2070       2074  2020-10-04 16:08:12  2020-10-04 16:10:06    114.0\n",
       "282        2075       2079  2020-10-04 16:10:06  2020-10-04 16:10:30     24.0\n",
       "283        2080       2084  2020-10-04 16:10:30  2020-10-04 16:11:03     33.0\n",
       "\n",
       "[284 rows x 5 columns]"
      ]
     },
     "execution_count": 10,
     "metadata": {},
     "output_type": "execute_result"
    }
   ],
   "source": [
    "RunMeta"
   ]
  },
  {
   "cell_type": "code",
   "execution_count": 11,
   "metadata": {},
   "outputs": [],
   "source": [
    "Run_time = RunMeta.iloc[:,-1].sum(skipna = True)"
   ]
  },
  {
   "cell_type": "code",
   "execution_count": 16,
   "metadata": {},
   "outputs": [
    {
     "data": {
      "text/plain": [
       "11.917547495912418"
      ]
     },
     "execution_count": 16,
     "metadata": {},
     "output_type": "execute_result"
    }
   ],
   "source": [
    "Run_time/2084*65000/3600/24"
   ]
  },
  {
   "cell_type": "code",
   "execution_count": 18,
   "metadata": {},
   "outputs": [
    {
     "data": {
      "text/plain": [
       "9.170277777777779"
      ]
     },
     "execution_count": 18,
     "metadata": {},
     "output_type": "execute_result"
    }
   ],
   "source": [
    "Run_time/3600"
   ]
  },
  {
   "cell_type": "code",
   "execution_count": null,
   "metadata": {},
   "outputs": [],
   "source": []
  },
  {
   "cell_type": "code",
   "execution_count": null,
   "metadata": {},
   "outputs": [],
   "source": [
    "Run5 = \"../workproduct-files/batchRuns/Run5\"\n",
    "Run6 = \"../workproduct-files/batchRuns/Run6\""
   ]
  },
  {
   "cell_type": "code",
   "execution_count": null,
   "metadata": {},
   "outputs": [],
   "source": [
    "Run5Meta = pd.read_csv(Run5 + \"/batchRuns.csv\", delimiter=\";\")\n",
    "Run6Meta = pd.read_csv(Run6 + \"/batchRuns.csv\", delimiter=\";\")"
   ]
  },
  {
   "cell_type": "code",
   "execution_count": null,
   "metadata": {},
   "outputs": [],
   "source": [
    "Run5_time = Run5Meta.iloc[:,-1].sum(skipna = True)"
   ]
  },
  {
   "cell_type": "code",
   "execution_count": null,
   "metadata": {},
   "outputs": [],
   "source": [
    "Run6_time = Run6Meta.iloc[:,-1].sum(skipna = True)"
   ]
  },
  {
   "cell_type": "code",
   "execution_count": null,
   "metadata": {},
   "outputs": [],
   "source": [
    "# Run5 and Run6 now comparable.\n",
    "# Run6 still jammed for some reason\n",
    "# --> compare run times (above) and failure counts\n",
    "# Read all pickle files into separate dfs for both runs"
   ]
  },
  {
   "cell_type": "code",
   "execution_count": null,
   "metadata": {},
   "outputs": [],
   "source": [
    "Run5_files = glob.glob(Run5 + \"/pickles/*.pkl\")\n",
    "Run6_files = glob.glob(Run6 + \"/pickles/*.pkl\")"
   ]
  },
  {
   "cell_type": "code",
   "execution_count": null,
   "metadata": {},
   "outputs": [],
   "source": [
    "Run5DF = pd.DataFrame()\n",
    "for filename in Run5_files:\n",
    "    Run5DF = Run5DF.append(pd.read_pickle(filename))\n",
    "Run5DF = Run5DF.sort_index()"
   ]
  },
  {
   "cell_type": "code",
   "execution_count": null,
   "metadata": {},
   "outputs": [],
   "source": [
    "Run6DF = pd.DataFrame()\n",
    "for filename in Run6_files:\n",
    "    Run6DF = Run6DF.append(pd.read_pickle(filename))\n",
    "Run6DF = Run6DF.sort_index()"
   ]
  },
  {
   "cell_type": "code",
   "execution_count": null,
   "metadata": {},
   "outputs": [],
   "source": [
    "Run5_wikisearchFailed = len(Run5DF[Run5DF.wikipediaSearchSuccessful == False])"
   ]
  },
  {
   "cell_type": "code",
   "execution_count": null,
   "metadata": {},
   "outputs": [],
   "source": [
    "Run6_wikisearchFailed = len(Run6DF[Run6DF.wikipediaSearchSuccessful == False])"
   ]
  },
  {
   "cell_type": "code",
   "execution_count": null,
   "metadata": {},
   "outputs": [],
   "source": [
    "def successIndex(a):\n",
    "    try:\n",
    "        result = a.index(\"SUCCESS\")\n",
    "    except ValueError:\n",
    "        result = -1\n",
    "    \n",
    "    return result"
   ]
  },
  {
   "cell_type": "code",
   "execution_count": null,
   "metadata": {},
   "outputs": [],
   "source": [
    "Run5DF[\"searchTermUsed\"] = Run5DF[\"findQuestionCategories_meta\"].apply(lambda x: successIndex(x))"
   ]
  },
  {
   "cell_type": "code",
   "execution_count": null,
   "metadata": {},
   "outputs": [],
   "source": [
    "Run6DF[\"searchTermUsed\"] = Run6DF[\"findQuestionCategories_meta\"].apply(lambda x: successIndex(x))"
   ]
  },
  {
   "cell_type": "code",
   "execution_count": null,
   "metadata": {},
   "outputs": [],
   "source": [
    "termComparison = pd.DataFrame\n",
    "termComparison = pd.concat([Run5DF[\"searchTermUsed\"], Run6DF[\"searchTermUsed\"]], axis=1)\n",
    "termComparison.columns = ['a', 'b']\n",
    "differentTermsCount = len(termComparison.loc[termComparison['a'] != termComparison['b']])"
   ]
  },
  {
   "cell_type": "code",
   "execution_count": null,
   "metadata": {},
   "outputs": [],
   "source": [
    "print(\"Run 5:\")\n",
    "print(\"Run time: \" + str(Run5_time))\n",
    "print(\"Search failed: \" + str(Run5_wikisearchFailed))\n",
    "print(\"\")\n",
    "print(\"Run 6:\")\n",
    "print(\"Run time: \" + str(Run6_time))\n",
    "print(\"Search failed: \" + str(Run6_wikisearchFailed))\n",
    "print(\"\")\n",
    "print(\"Run 6 / Run 5\")\n",
    "print(\"Run time: \" + str(Run6_time/Run5_time))\n",
    "print(\"Search failed: \" + str(Run6_wikisearchFailed/Run5_wikisearchFailed))\n",
    "print(\"Term changed (abs): \" + str(differentTermsCount))\n",
    "print(\"Term changed (rel): \" + str(differentTermsCount / len(termComparison)))"
   ]
  },
  {
   "cell_type": "code",
   "execution_count": null,
   "metadata": {},
   "outputs": [],
   "source": [
    "# Estimated runtime in days for full dataset of 65k rows\n",
    "Run6_time/len(termComparison)*65000/3600/24"
   ]
  }
 ],
 "metadata": {
  "kernelspec": {
   "display_name": "Python 3",
   "language": "python",
   "name": "python3"
  },
  "language_info": {
   "codemirror_mode": {
    "name": "ipython",
    "version": 3
   },
   "file_extension": ".py",
   "mimetype": "text/x-python",
   "name": "python",
   "nbconvert_exporter": "python",
   "pygments_lexer": "ipython3",
   "version": "3.8.2"
  }
 },
 "nbformat": 4,
 "nbformat_minor": 4
}
