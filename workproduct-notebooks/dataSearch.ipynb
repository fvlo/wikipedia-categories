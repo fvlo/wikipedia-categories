{
 "cells": [
  {
   "cell_type": "code",
   "execution_count": 1,
   "metadata": {},
   "outputs": [],
   "source": [
    "# http://annamarbut.blogspot.com/2018/08/whoosh-pandas-and-redshift-implementing.html"
   ]
  },
  {
   "cell_type": "code",
   "execution_count": 2,
   "metadata": {},
   "outputs": [],
   "source": [
    "import pandas as pd\n",
    "import glob\n",
    "import os, os.path\n",
    "\n",
    "from whoosh.fields import Schema, TEXT\n",
    "from whoosh import index\n",
    "from whoosh import index\n",
    "from whoosh import qparser"
   ]
  },
  {
   "cell_type": "code",
   "execution_count": 3,
   "metadata": {},
   "outputs": [],
   "source": [
    "pd.set_option('display.max_rows', 500)\n",
    "pd.set_option('display.max_columns', 500)\n",
    "pd.set_option('display.max_colwidth', 1000)"
   ]
  },
  {
   "cell_type": "markdown",
   "metadata": {},
   "source": [
    "### Data import"
   ]
  },
  {
   "cell_type": "code",
   "execution_count": 4,
   "metadata": {},
   "outputs": [
    {
     "name": "stdout",
     "output_type": "stream",
     "text": [
      "Wall time: 4min 6s\n"
     ]
    }
   ],
   "source": [
    "%%time\n",
    "Run = \"../workproduct-files/batchRuns/\"\n",
    "Run_files = glob.glob(Run + \"*.pkl\")\n",
    "RunDF = pd.DataFrame()\n",
    "for filename in Run_files:\n",
    "    RunDF = RunDF.append(pd.read_pickle(filename))\n",
    "RunDF = RunDF.sort_index()"
   ]
  },
  {
   "cell_type": "code",
   "execution_count": 5,
   "metadata": {},
   "outputs": [
    {
     "name": "stdout",
     "output_type": "stream",
     "text": [
      "Wall time: 829 ms\n"
     ]
    }
   ],
   "source": [
    "%%time\n",
    "t_data = pd.read_pickle(\"../workproduct-files/t_dataMaster-keywordsIdentified.pkl\")"
   ]
  },
  {
   "cell_type": "code",
   "execution_count": 6,
   "metadata": {},
   "outputs": [],
   "source": [
    "#Combine dataframes leaving out searchTerms from RunDF (duplicate in result)\n",
    "t_dataRun = pd.concat([t_data, RunDF.iloc[:,1:]], axis = 1, join = \"inner\")"
   ]
  },
  {
   "cell_type": "code",
   "execution_count": 7,
   "metadata": {},
   "outputs": [],
   "source": [
    "DF_for_index = t_dataRun"
   ]
  },
  {
   "cell_type": "code",
   "execution_count": 8,
   "metadata": {},
   "outputs": [
    {
     "name": "stdout",
     "output_type": "stream",
     "text": [
      "Wall time: 5.71 s\n"
     ]
    }
   ],
   "source": [
    "%%time\n",
    "DF_for_index[\"wikiMetaPath_str\"] = DF_for_index[\"categoryPath\"].apply(lambda x: str(list(x.iloc[:,0])) if type(x) != type(None) else \"\")\n",
    "DF_for_index[\"wikiMetaParents_str\"] = DF_for_index[\"parentCategories\"].apply(lambda x: str(list(x.iloc[:,0])) if type(x) != type(None) else \"\")"
   ]
  },
  {
   "cell_type": "markdown",
   "metadata": {},
   "source": [
    "### Creating search index"
   ]
  },
  {
   "cell_type": "code",
   "execution_count": 9,
   "metadata": {},
   "outputs": [],
   "source": [
    "schema = Schema(question = TEXT (stored = True,  field_boost = 2.0), wikiMetaPath = TEXT, wikiMetaParents = TEXT)"
   ]
  },
  {
   "cell_type": "code",
   "execution_count": 10,
   "metadata": {},
   "outputs": [],
   "source": [
    "# create and populate index\n",
    "def populate_index(dirname, dataframe, schema):\n",
    "    \n",
    "    # Checks for existing index path and creates one if not present\n",
    "    if not os.path.exists(dirname):\n",
    "        os.mkdir(dirname)\n",
    "    print(\"Creating the Index\")\n",
    "    ix = index.create_in(dirname, schema)\n",
    "    \n",
    "    # Imports data from pandas df\n",
    "    with ix.writer() as writer:\n",
    "        print(\"Populating the Index\")\n",
    "        for i in dataframe.index:\n",
    "            add_data(i, dataframe, writer)"
   ]
  },
  {
   "cell_type": "code",
   "execution_count": 11,
   "metadata": {},
   "outputs": [],
   "source": [
    "def add_data(i, dataframe, writer):\n",
    "    \n",
    "    # writer.update_document(question = str(dataframe.loc[i, \"CONS_question\"]), wikiMetaPath = str(list(t_dataRun.loc[i, \"categoryPath\"].iloc[:,0])), wikiMetaParents = str(list(t_dataRun.loc[i, \"parentCategories\"].iloc[:,0])))\n",
    "    writer.update_document(question = str(dataframe.loc[i, \"CONS_question\"]), wikiMetaPath = str(dataframe.loc[i, \"wikiMetaPath_str\"]), wikiMetaParents = str(dataframe.loc[i, \"wikiMetaParents_str\"]))"
   ]
  },
  {
   "cell_type": "code",
   "execution_count": 12,
   "metadata": {},
   "outputs": [
    {
     "name": "stdout",
     "output_type": "stream",
     "text": [
      "Creating the Index\n",
      "Populating the Index\n",
      "Wall time: 46.4 s\n"
     ]
    }
   ],
   "source": [
    "%%time\n",
    "# Create the index\n",
    "populate_index(\"tData_Index1\", DF_for_index, schema)"
   ]
  },
  {
   "cell_type": "markdown",
   "metadata": {},
   "source": [
    "### Creating index searcher"
   ]
  },
  {
   "cell_type": "code",
   "execution_count": 13,
   "metadata": {},
   "outputs": [],
   "source": [
    "def index_search(dirname, search_fields, search_query):\n",
    "    ix = index.open_dir(dirname)\n",
    "    schema = ix.schema\n",
    "    out = []\n",
    "    \n",
    "    # Create query parser that looks through designated fields in index\n",
    "    og = qparser.OrGroup.factory(0.9)\n",
    "    mp = qparser.MultifieldParser(search_fields, schema, group = og)\n",
    "    \n",
    "    # This is the user query\n",
    "    q = mp.parse(search_query)\n",
    "    \n",
    "    # Actual searcher, prints top 10 hits\n",
    "    with ix.searcher() as s:\n",
    "        results = s.search(q, limit = 100)\n",
    "        #print(\"Search Results: \")\n",
    "        for row in results:\n",
    "            #print(row)\n",
    "            out.append(row[\"question\"])\n",
    "    return out"
   ]
  },
  {
   "cell_type": "markdown",
   "metadata": {},
   "source": [
    "### Index search"
   ]
  },
  {
   "cell_type": "code",
   "execution_count": 51,
   "metadata": {},
   "outputs": [
    {
     "name": "stdout",
     "output_type": "stream",
     "text": [
      "Wall time: 46.9 ms\n"
     ]
    }
   ],
   "source": [
    "%%time\n",
    "a = index_search(\"tData_Index1\", ['question', 'wikiMetaPath', 'wikiMetaParents'], \"read book\")"
   ]
  },
  {
   "cell_type": "code",
   "execution_count": 53,
   "metadata": {},
   "outputs": [
    {
     "name": "stdout",
     "output_type": "stream",
     "text": [
      "100\n",
      "Author of 'Coming of Age in Samoa', the mostly widely read book in the field of anthropology\n",
      "Which Very Famous Book Which I'm Sure Many Of You Have Read Was Written & Illustrated By “ Eric Carle ” In 1969?\n",
      "What does a phrenologist read?\n",
      "What newspaper do the Flintstones read?\n",
      "Who read the original writing on the wall?\n",
      "66% of Americans reading on the toilet read what?\n",
      "What books does me jane read?\n",
      "Who said 'there, i guess king george can read that'?\n",
      "On what LP Cover can we read the words 'Welcome Rolling Stones'?\n",
      "A Maryland t-shirt slogan that parodied 'virginia is for lovers' read what?\n",
      "Mary Read and Anne Boney had what job in common?\n",
      "Which of these does Charlie NOT read in The Perks of Being a Wallflower?\n",
      "Mary Read and Anne Bonny had what job in common?\n",
      "Team a maryland t-shirt slogan that parodied 'virginia is for lovers' read what?\n",
      "In the Lego Island trilogy, who taught Pepper Roni how to read?\n",
      "Credit card on which magnetically encoded information is stored to be read by an electronic device?\n",
      "What does the Fleetwood Mac inspired plaque on Bill Clinton's desk read?\n",
      "Who read casey at the bat for her tv debut on the ed sullivan show?\n",
      "In the bible the book of Psalms is attributed to King David, to who is the book of Ecclesiastes attributed?\n",
      "Mao had the red book who did the green book on African unity?\n",
      "Which book holds the record of being the most stolen book from public libraries?\n",
      "What is the holy book of Islam?\n",
      "Book of information on many subjects\n",
      "In the book '1984', who is watching?\n",
      "In what book is jean valjean?\n",
      "In which book is 'big brother'?\n",
      "What is in the Red Data Book?\n",
      "What is the 3rd book of the Bible?\n",
      "What is the first book of the Bible?\n",
      "What is the last book of the Bible?\n",
      "Who wrote the book \"Jaws\"?\n",
      "Who wrote the book 'Couples''?\n",
      "Who wrote the book Coma?\n",
      "Who wrote the book of proverbs?\n",
      "A graphical representation of the guitar fingerboard, used to teach someone to play a guitar without actually learning how to read musical notes.?\n",
      "What city's homeowner hoped to discourage tourists with a sign that read: 'Mork doesn't live here, so go away''?\n",
      "In what book would you find a Hefalump?\n",
      "In which book is Scheherazade a story teller?\n",
      "Which book featured mister Scrooge?\n",
      "Who wrote the book \"The Origin of Species\"?\n",
      "Who Wrote The Book Alice In Wonderland?\n",
      "Who wrote the book 'The Guns Of Navarone''?\n",
      "What is the 1st book of the Hindu scripture?\n",
      "Boaz appears in which book of the Bible?\n",
      "Details of what can be found in The Blue Book?\n",
      "Hitihita is a character in what book and film?\n",
      "Humbert Humbert' is a character in which book?\n",
      "In the bible to whom is the book of Lamentations attributed?\n",
      "In the Bible which book follows John?\n",
      "In the Bible, who is the Book of Proverbs attributed to?\n",
      "In the Bible, who is the Book of Psalms attributed to?\n",
      "In what book does 'Schahriah' appear?\n",
      "The most shoplifted book in the world is ________\n",
      "What book translates as My Struggle?\n",
      "What is the first book in the vampire chronicles?\n",
      "What is the last book of the Old Testament?\n",
      "What is the second book of the old testament?\n",
      "What is the smallest book in the Library of Congress?\n",
      "What is the subject of the reference book Janes?\n",
      "What is the third book of the Old Testament?\n",
      "What's the fourth book of the new testament?\n",
      "What's the name of the holy book of Islan?\n",
      "What's the name of the second book in the Bible?\n",
      "Which book is subtitled 'the Mistakes of a Night''?\n",
      "Which is the last book of the Old Testament?\n",
      "Who wrote the book - Call of the Wild?\n",
      "Who wrote the book 'Portrait of a Lady'?\n",
      "Who wrote the book 'Something Happened'?\n",
      "Who wrote the book 'A Clockwork Orange''?\n",
      "Who wrote the book 'Outwitting The Gestapo''?\n",
      "Who wrote the book 'Prisoner of Desire''?\n",
      "Who wrote the book Coral Island?\n",
      "Who wrote the book Forest Gump?\n",
      "Who wrote the book Interview with a Vampire?\n",
      "Who's the 'me' in the book elvis and me'?\n",
      "What is the fourth book of the Old Testament?\n",
      "Which is NOT a book in the Harry Potter Series?\n",
      "The book \"The Little Prince\" was written by...\n",
      "The book 1984 was published in 1949.\n",
      "What is the first book of the old testament?\n",
      "Who wrote the book \"The Prisoner of Zenda\"?\n",
      "Which book caused a minor controversy in 1997 when a survey of Waterstone's customers voted it the best book of the twentieth century?\n",
      "Dr. Seuss wrote this book: The Cat in the ______.\n",
      "What book is the film Blade Runner based on?\n",
      "What is the fourth book in the Harry Potter series?\n",
      "Which author wrote the book \"Black Beauty\"?\n",
      "Which is the only book written by Margaret Mitchell?\n",
      "Who wrote the book \"Brave New World\"?\n",
      "Who wrote the book Charlie and the Chocolate Factory?\n",
      "John's first published book was called:\n",
      "Which Zoologist Wrote The Book Man Watching?\n",
      "David kills Goliath in which book of the Bible?\n",
      "For what genre of book is isaac asimov famous?\n",
      "In Disney's Jungle book name four vultures\n",
      "In Strongville Ohio what book is banned by law?\n",
      "In the book Little Women what is the sisters surname?\n",
      "In the Old Testament what is the first book of Moses?\n",
      "In what book did the grinch steal christmas?\n",
      "In what book did we meet the Eoli and the Morlocks?\n",
      "In which book of the Bible did Moses die?\n"
     ]
    }
   ],
   "source": [
    "print(len(a))\n",
    "for row in a:\n",
    "    print(row)"
   ]
  },
  {
   "cell_type": "code",
   "execution_count": 48,
   "metadata": {},
   "outputs": [
    {
     "name": "stdout",
     "output_type": "stream",
     "text": [
      "11\n",
      "Who was the only player to win mvp in both leagues?\n",
      "Vientiane is the capital of ______\n",
      "Who commanded Bill Jukes Cecco Noodler Skylights Starkey?\n",
      "What's the oed?\n",
      "In What Year Were Stock, Aitken & Waterman Taking A Ferry Crosss The Mersey?\n",
      "How many tunnels under the mersey link liverpool to the wirral?\n",
      "Hoy and Rousay are part of which British island group?\n",
      "In which county does the River Mersey rise?\n",
      "The mersey river runs through _____\n",
      "Jerry Lee Lewis had Great _____ Of Fire.\n",
      "In the 1980s, a service called Gameline allowed users to download games to what console?\n",
      "Wall time: 586 ms\n"
     ]
    }
   ],
   "source": [
    "%%time\n",
    "b = index_search(\"tData_Index1\", ['wikiMetaPath', 'wikiMetaParents'], \"*second most*\")\n",
    "print(len(b))\n",
    "for row in b:\n",
    "    print(row)"
   ]
  },
  {
   "cell_type": "code",
   "execution_count": null,
   "metadata": {},
   "outputs": [],
   "source": []
  },
  {
   "cell_type": "code",
   "execution_count": null,
   "metadata": {},
   "outputs": [],
   "source": []
  },
  {
   "cell_type": "code",
   "execution_count": null,
   "metadata": {},
   "outputs": [],
   "source": []
  },
  {
   "cell_type": "code",
   "execution_count": null,
   "metadata": {},
   "outputs": [],
   "source": []
  },
  {
   "cell_type": "markdown",
   "metadata": {},
   "source": [
    "### Testing"
   ]
  },
  {
   "cell_type": "code",
   "execution_count": null,
   "metadata": {},
   "outputs": [],
   "source": []
  },
  {
   "cell_type": "code",
   "execution_count": 17,
   "metadata": {},
   "outputs": [
    {
     "data": {
      "text/plain": [
       "NoneType"
      ]
     },
     "execution_count": 17,
     "metadata": {},
     "output_type": "execute_result"
    }
   ],
   "source": [
    "type(None)"
   ]
  },
  {
   "cell_type": "code",
   "execution_count": null,
   "metadata": {},
   "outputs": [],
   "source": []
  },
  {
   "cell_type": "code",
   "execution_count": 18,
   "metadata": {},
   "outputs": [
    {
     "data": {
      "text/plain": [
       "(50055, 32)"
      ]
     },
     "execution_count": 18,
     "metadata": {},
     "output_type": "execute_result"
    }
   ],
   "source": [
    "DF_for_index.shape"
   ]
  },
  {
   "cell_type": "code",
   "execution_count": 19,
   "metadata": {},
   "outputs": [
    {
     "data": {
      "text/plain": [
       "Index(['CONS_id', 'CONS_question', 'CONS_answer', 'CONS_alt answers',\n",
       "       'CONS_category', 'CONS_alt categories - NOT USED',\n",
       "       'CONS_type-formulation', 'CONS_type-multipleChoice', 'ORIG_id',\n",
       "       'ORIG_question', 'ORIG_answer', 'ORIG_alt answers', 'ORIG_category',\n",
       "       'ORIG_alt categories', 'ORIG_difficulty', 'ORIG_type', 'Source',\n",
       "       'Duplicate_removed', 'namedEntities', 'nouns', 'objects', 'subjects',\n",
       "       'nounsObjectsSubjects', 'searchTerms', 'wikipediaSearchSuccessful',\n",
       "       'findQuestionCategories_meta', 'wikipediaArticleTitle',\n",
       "       'wikipediaArticleID', 'categoryPath', 'parentCategories',\n",
       "       'wikiMetaPath_str', 'wikiMetaParents_str'],\n",
       "      dtype='object')"
      ]
     },
     "execution_count": 19,
     "metadata": {},
     "output_type": "execute_result"
    }
   ],
   "source": [
    "t_dataRun.columns"
   ]
  },
  {
   "cell_type": "code",
   "execution_count": 20,
   "metadata": {},
   "outputs": [
    {
     "data": {
      "text/plain": [
       "0                   Dutch-language_books\n",
       "1     Personal_accounts_of_the_Holocaust\n",
       "2        CS1_Dutch-language_sources_(nl)\n",
       "3                  Forgery_controversies\n",
       "4     CS1_Japanese-language_sources_(ja)\n",
       "5                   World_War_II_memoirs\n",
       "6                    Public_domain_books\n",
       "7           Memory_of_the_World_Register\n",
       "8           Books_published_posthumously\n",
       "9                             Anne_Frank\n",
       "10                     Jewish_literature\n",
       "11          Books_relating_to_Anne_Frank\n",
       "12                      Dutch_literature\n",
       "13              Books_adapted_into_films\n",
       "14                               Diaries\n",
       "15           Doubleday_(publisher)_books\n",
       "Name: pages.title, dtype: object"
      ]
     },
     "execution_count": 20,
     "metadata": {},
     "output_type": "execute_result"
    }
   ],
   "source": [
    "t_dataRun.loc[2, \"parentCategories\"].iloc[:,0]"
   ]
  },
  {
   "cell_type": "code",
   "execution_count": 21,
   "metadata": {},
   "outputs": [
    {
     "data": {
      "text/plain": [
       "\"['Peace', 'Nonviolence', 'Violence', 'Society', 'Main_topic_classifications']\""
      ]
     },
     "execution_count": 21,
     "metadata": {},
     "output_type": "execute_result"
    }
   ],
   "source": [
    "str(list(t_dataRun.loc[4, \"categoryPath\"].iloc[:,0]))"
   ]
  }
 ],
 "metadata": {
  "kernelspec": {
   "display_name": "Python 3",
   "language": "python",
   "name": "python3"
  },
  "language_info": {
   "codemirror_mode": {
    "name": "ipython",
    "version": 3
   },
   "file_extension": ".py",
   "mimetype": "text/x-python",
   "name": "python",
   "nbconvert_exporter": "python",
   "pygments_lexer": "ipython3",
   "version": "3.8.2"
  }
 },
 "nbformat": 4,
 "nbformat_minor": 4
}
