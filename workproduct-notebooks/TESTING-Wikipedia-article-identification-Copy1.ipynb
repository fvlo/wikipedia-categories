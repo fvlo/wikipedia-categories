{
 "cells": [
  {
   "cell_type": "code",
   "execution_count": 1,
   "metadata": {},
   "outputs": [],
   "source": [
    "# 1) Load csv:s\n",
    "# 2) Check if term in \"articles\"\n",
    "# 3) Check if term in \"redirects\"\n",
    "# 4) Check if disambiguation page [from Neo4j] --> select first link instead"
   ]
  },
  {
   "cell_type": "code",
   "execution_count": 77,
   "metadata": {},
   "outputs": [],
   "source": [
    "import pandas as pd\n",
    "from string import punctuation, digits\n",
    "import re\n",
    "import ast"
   ]
  },
  {
   "cell_type": "code",
   "execution_count": 3,
   "metadata": {},
   "outputs": [],
   "source": [
    "pd.set_option('display.max_rows', 500)\n",
    "pd.set_option('display.max_columns', 500)\n",
    "pd.set_option('display.max_colwidth', 1000)"
   ]
  },
  {
   "cell_type": "code",
   "execution_count": 4,
   "metadata": {},
   "outputs": [
    {
     "name": "stdout",
     "output_type": "stream",
     "text": [
      "Wall time: 9.8 s\n"
     ]
    }
   ],
   "source": [
    "%%time\n",
    "redirects = pd.read_csv(\"F:/wikipedia-data/outputs/redirect.csv\")"
   ]
  },
  {
   "cell_type": "code",
   "execution_count": 5,
   "metadata": {},
   "outputs": [
    {
     "name": "stdout",
     "output_type": "stream",
     "text": [
      "Wall time: 1min 54s\n"
     ]
    }
   ],
   "source": [
    "%%time\n",
    "articles = pd.read_csv(\"F:/wikipedia-data/outputs/articles.csv\")"
   ]
  },
  {
   "cell_type": "code",
   "execution_count": null,
   "metadata": {},
   "outputs": [],
   "source": [
    "articles.dropna(subset = [\"title\"], inplace = True)\n",
    "redirects.dropna(subset = [\"title\"], inplace = True)"
   ]
  },
  {
   "cell_type": "code",
   "execution_count": 25,
   "metadata": {},
   "outputs": [],
   "source": [
    "articles[\"titleLower\"] = articles[\"title\"].apply(lambda x: x.lower())\n",
    "redirects[\"titleLower\"] = redirects[\"title\"].apply(lambda x: x.lower())"
   ]
  },
  {
   "cell_type": "markdown",
   "metadata": {},
   "source": [
    "#### Functions"
   ]
  },
  {
   "cell_type": "code",
   "execution_count": 32,
   "metadata": {},
   "outputs": [],
   "source": [
    "#Returns wikipedia article formatted for database search, if not found, returns FALSE\n",
    "def inArticles(a):\n",
    "    match = articles.loc[articles[\"titleLower\"] == a, :]\n",
    "    if len(match) > 0:\n",
    "        return match.iloc[0, 1].replace(\" \", \"_\")\n",
    "    else:\n",
    "        return False"
   ]
  },
  {
   "cell_type": "code",
   "execution_count": 38,
   "metadata": {},
   "outputs": [],
   "source": [
    "#Returns wikipedia article formatted for database search, if not found, returns FALSE\n",
    "def inRedirects(a):\n",
    "    match = redirects.loc[redirects[\"titleLower\"] == a, :]\n",
    "    if len(match) > 0:\n",
    "        return match.iloc[0, 2].replace(\" \", \"_\")\n",
    "    else:\n",
    "        return False"
   ]
  },
  {
   "cell_type": "code",
   "execution_count": 95,
   "metadata": {},
   "outputs": [],
   "source": [
    "#Get first link from article based on title (DB formatting). Return False if no links exist\n",
    "def getFirstLink(a):\n",
    "    #match will be a pandas series of len=1\n",
    "    match = articles.loc[articles[\"title\"] == a.replace(\"_\", \" \"), \"links\"]\n",
    "    \n",
    "    if len(match) > 0:\n",
    "        #Change first series value into list\n",
    "        asList = ast.literal_eval(match.iloc[0]) \n",
    "        return asList[0].replace(\" \", \"_\")\n",
    "    else:\n",
    "        return False"
   ]
  },
  {
   "cell_type": "code",
   "execution_count": null,
   "metadata": {},
   "outputs": [],
   "source": [
    "# Call database for category tree and parents of given wikipedia title\n",
    "def getCategoryInfo(a):\n",
    "    # kill function if runs to long (>2min ?)\n",
    "        # https://stackoverflow.com/questions/14920384/stop-code-after-time-period\n",
    "    \n",
    "    #result [path to MTC, parents]\n",
    "    result = []\n",
    "    \n",
    "    try:\n",
    "        # Parent categories\n",
    "        if #is disambiguous:\n",
    "            firstLink = getFirstLink(a)\n",
    "            return getCategoryInfo(firstLink)\n",
    "        else:\n",
    "            path = path to MTC\n",
    "        \n",
    "        return [path, parents]\n",
    "    \n",
    "    except:\n",
    "        \"Database calls responded with error\" # This is probably not good\n",
    "        \n",
    "        "
   ]
  },
  {
   "cell_type": "code",
   "execution_count": null,
   "metadata": {},
   "outputs": [],
   "source": [
    "# Performs search functions from given search term --> Output from wikipedia database\n",
    "def getWikipediaInfo(a):\n",
    "    # if search term is in articles\n",
    "        # Perform database search\n",
    "        # Return (WikipediaID, Category tree, Parent categories)\n",
    "    # else if search term is in redirects\n",
    "        # Perform database search\n",
    "        # Return (WikipediaID, Category tree, Parent categories)\n",
    "    # else return FALSE"
   ]
  },
  {
   "cell_type": "code",
   "execution_count": null,
   "metadata": {},
   "outputs": [],
   "source": []
  },
  {
   "cell_type": "code",
   "execution_count": null,
   "metadata": {},
   "outputs": [],
   "source": []
  },
  {
   "cell_type": "code",
   "execution_count": 96,
   "metadata": {},
   "outputs": [
    {
     "data": {
      "text/plain": [
       "'Once_Upon_a_Time_in_Hollywood'"
      ]
     },
     "execution_count": 96,
     "metadata": {},
     "output_type": "execute_result"
    }
   ],
   "source": [
    "getFirstLink(\"Brad_Pitt\")\n"
   ]
  },
  {
   "cell_type": "code",
   "execution_count": 92,
   "metadata": {},
   "outputs": [
    {
     "data": {
      "text/plain": [
       "str"
      ]
     },
     "execution_count": 92,
     "metadata": {},
     "output_type": "execute_result"
    }
   ],
   "source": [
    "type(test)"
   ]
  },
  {
   "cell_type": "code",
   "execution_count": 81,
   "metadata": {},
   "outputs": [],
   "source": [
    "res = ast.literal_eval(test.iloc[0]) "
   ]
  },
  {
   "cell_type": "code",
   "execution_count": 85,
   "metadata": {},
   "outputs": [
    {
     "data": {
      "text/plain": [
       "str"
      ]
     },
     "execution_count": 85,
     "metadata": {},
     "output_type": "execute_result"
    }
   ],
   "source": [
    "type(res[0])"
   ]
  },
  {
   "cell_type": "code",
   "execution_count": 79,
   "metadata": {},
   "outputs": [
    {
     "name": "stdout",
     "output_type": "stream",
     "text": [
      "<class 'str'>\n"
     ]
    }
   ],
   "source": [
    "for item in test:\n",
    "    print(type(item))"
   ]
  },
  {
   "cell_type": "code",
   "execution_count": null,
   "metadata": {},
   "outputs": [],
   "source": []
  },
  {
   "cell_type": "code",
   "execution_count": 37,
   "metadata": {},
   "outputs": [
    {
     "data": {
      "text/plain": [
       "'False'"
      ]
     },
     "execution_count": 37,
     "metadata": {},
     "output_type": "execute_result"
    }
   ],
   "source": [
    "inArticles(\"false\")"
   ]
  },
  {
   "cell_type": "code",
   "execution_count": 94,
   "metadata": {},
   "outputs": [
    {
     "data": {
      "text/plain": [
       "'United_States'"
      ]
     },
     "execution_count": 94,
     "metadata": {},
     "output_type": "execute_result"
    }
   ],
   "source": [
    "inRedirects(\"usa\")"
   ]
  },
  {
   "cell_type": "code",
   "execution_count": null,
   "metadata": {},
   "outputs": [],
   "source": []
  },
  {
   "cell_type": "code",
   "execution_count": null,
   "metadata": {},
   "outputs": [],
   "source": [
    "redirects"
   ]
  },
  {
   "cell_type": "code",
   "execution_count": null,
   "metadata": {},
   "outputs": [],
   "source": [
    "articles.loc[articles[\"title\"] == \"Na Klang\", :]"
   ]
  },
  {
   "cell_type": "code",
   "execution_count": null,
   "metadata": {},
   "outputs": [],
   "source": [
    "redirects.loc[redirects[\"title\"] == \"Brad Pitt\", :]"
   ]
  },
  {
   "cell_type": "code",
   "execution_count": null,
   "metadata": {},
   "outputs": [],
   "source": []
  },
  {
   "cell_type": "code",
   "execution_count": 18,
   "metadata": {},
   "outputs": [
    {
     "data": {
      "text/plain": [
       "Int64Index([    274,     792,    1538,    2167,    3439,    3731,    4261,\n",
       "               4440,    5413,    6030,\n",
       "            ...\n",
       "            6087202, 6088287, 6089220, 6089525, 6089617, 6090483, 6090933,\n",
       "            6090968, 6091481, 6092603],\n",
       "           dtype='int64', length=10496)"
      ]
     },
     "execution_count": 18,
     "metadata": {},
     "output_type": "execute_result"
    }
   ],
   "source": []
  },
  {
   "cell_type": "code",
   "execution_count": 15,
   "metadata": {},
   "outputs": [],
   "source": [
    "dups = articles.loc[ articles[\"title\"].duplicated() == True , :]"
   ]
  },
  {
   "cell_type": "code",
   "execution_count": 16,
   "metadata": {},
   "outputs": [],
   "source": [
    "articles[\"isDup\"] = False"
   ]
  },
  {
   "cell_type": "code",
   "execution_count": 8,
   "metadata": {},
   "outputs": [
    {
     "data": {
      "text/plain": [
       "title\n",
       "Hatne          1\n",
       "Newark F.C.    1\n",
       "Selle          1\n",
       "Name: title, dtype: int64"
      ]
     },
     "execution_count": 8,
     "metadata": {},
     "output_type": "execute_result"
    }
   ],
   "source": [
    "#dups.groupby(\"title\")[\"title\"].nunique()"
   ]
  },
  {
   "cell_type": "code",
   "execution_count": 19,
   "metadata": {},
   "outputs": [],
   "source": [
    "articles.loc[dups.index, \"isDup\"] = True"
   ]
  },
  {
   "cell_type": "code",
   "execution_count": 22,
   "metadata": {},
   "outputs": [],
   "source": [
    "articles.dropna(subset = [\"title\"], inplace = True)"
   ]
  },
  {
   "cell_type": "code",
   "execution_count": 23,
   "metadata": {},
   "outputs": [
    {
     "data": {
      "text/html": [
       "<div>\n",
       "<style scoped>\n",
       "    .dataframe tbody tr th:only-of-type {\n",
       "        vertical-align: middle;\n",
       "    }\n",
       "\n",
       "    .dataframe tbody tr th {\n",
       "        vertical-align: top;\n",
       "    }\n",
       "\n",
       "    .dataframe thead th {\n",
       "        text-align: right;\n",
       "    }\n",
       "</style>\n",
       "<table border=\"1\" class=\"dataframe\">\n",
       "  <thead>\n",
       "    <tr style=\"text-align: right;\">\n",
       "      <th></th>\n",
       "      <th>id</th>\n",
       "      <th>title</th>\n",
       "      <th>parentCategories</th>\n",
       "      <th>links</th>\n",
       "      <th>isDup</th>\n",
       "    </tr>\n",
       "  </thead>\n",
       "  <tbody>\n",
       "    <tr>\n",
       "      <th>3986807</th>\n",
       "      <td>37502203</td>\n",
       "      <td>Selle</td>\n",
       "      <td>[]</td>\n",
       "      <td>['Selle (Somme tributary)', 'Pic la Selle', 'La Selle-Guerchaise', 'La Selle-Craonnaise', 'La Selle-en-Luitré', 'La Selle-en-Coglès', 'Željne', 'Erich von Selle', 'Julius Selle-Larsson', 'Lorraine De Selle', 'Thomas Selle', 'Ursula Selle', 'William Christian Sellé', 'Selle Français', 'Selle Royal', 'Selle v. Gibb', 'La Selle thrush', 'Farnese Vini-Selle Italia', 'Selles (disambiguation)']</td>\n",
       "      <td>True</td>\n",
       "    </tr>\n",
       "    <tr>\n",
       "      <th>5609567</th>\n",
       "      <td>57510002</td>\n",
       "      <td>Newark F.C.</td>\n",
       "      <td>['Football clubs in Nottinghamshire', 'Football clubs in England', 'Central Midlands Football League', 'East Midlands Counties Football League', 'Nottinghamshire Senior League', 'Works association football teams in England']</td>\n",
       "      <td>['Newark F.C. (1880s)', 'Newark-on-Trent|Newark', 'Nottinghamshire', 'Central Midlands League', 'East Midlands Counties League', 'Football Association', 'Nottinghamshire Senior League', 'Category:Football clubs in Nottinghamshire', 'Category:Football clubs in England', 'Category:Central Midlands Football League', 'Category:East Midlands Counties Football League', 'Category:Nottinghamshire Senior League', 'Category:Works association football teams in England']</td>\n",
       "      <td>True</td>\n",
       "    </tr>\n",
       "    <tr>\n",
       "      <th>5776050</th>\n",
       "      <td>59940591</td>\n",
       "      <td>Hatne</td>\n",
       "      <td>[]</td>\n",
       "      <td>['Hatné', 'Hatne, Ukraine', 'Hatane']</td>\n",
       "      <td>True</td>\n",
       "    </tr>\n",
       "  </tbody>\n",
       "</table>\n",
       "</div>"
      ],
      "text/plain": [
       "               id        title  \\\n",
       "3986807  37502203        Selle   \n",
       "5609567  57510002  Newark F.C.   \n",
       "5776050  59940591        Hatne   \n",
       "\n",
       "                                                                                                                                                                                                                         parentCategories  \\\n",
       "3986807                                                                                                                                                                                                                                []   \n",
       "5609567  ['Football clubs in Nottinghamshire', 'Football clubs in England', 'Central Midlands Football League', 'East Midlands Counties Football League', 'Nottinghamshire Senior League', 'Works association football teams in England']   \n",
       "5776050                                                                                                                                                                                                                                []   \n",
       "\n",
       "                                                                                                                                                                                                                                                                                                                                                                                                                                                                                   links  \\\n",
       "3986807                                                                          ['Selle (Somme tributary)', 'Pic la Selle', 'La Selle-Guerchaise', 'La Selle-Craonnaise', 'La Selle-en-Luitré', 'La Selle-en-Coglès', 'Željne', 'Erich von Selle', 'Julius Selle-Larsson', 'Lorraine De Selle', 'Thomas Selle', 'Ursula Selle', 'William Christian Sellé', 'Selle Français', 'Selle Royal', 'Selle v. Gibb', 'La Selle thrush', 'Farnese Vini-Selle Italia', 'Selles (disambiguation)']   \n",
       "5609567  ['Newark F.C. (1880s)', 'Newark-on-Trent|Newark', 'Nottinghamshire', 'Central Midlands League', 'East Midlands Counties League', 'Football Association', 'Nottinghamshire Senior League', 'Category:Football clubs in Nottinghamshire', 'Category:Football clubs in England', 'Category:Central Midlands Football League', 'Category:East Midlands Counties Football League', 'Category:Nottinghamshire Senior League', 'Category:Works association football teams in England']   \n",
       "5776050                                                                                                                                                                                                                                                                                                                                                                                                                                            ['Hatné', 'Hatne, Ukraine', 'Hatane']   \n",
       "\n",
       "         isDup  \n",
       "3986807   True  \n",
       "5609567   True  \n",
       "5776050   True  "
      ]
     },
     "execution_count": 23,
     "metadata": {},
     "output_type": "execute_result"
    }
   ],
   "source": [
    "articles.loc[articles[\"isDup\"] == True, :]"
   ]
  },
  {
   "cell_type": "code",
   "execution_count": 26,
   "metadata": {},
   "outputs": [],
   "source": [
    "dupsLower = articles.loc[ articles[\"titleLower\"].duplicated() == True , :]"
   ]
  },
  {
   "cell_type": "code",
   "execution_count": 30,
   "metadata": {},
   "outputs": [
    {
     "data": {
      "text/html": [
       "<div>\n",
       "<style scoped>\n",
       "    .dataframe tbody tr th:only-of-type {\n",
       "        vertical-align: middle;\n",
       "    }\n",
       "\n",
       "    .dataframe tbody tr th {\n",
       "        vertical-align: top;\n",
       "    }\n",
       "\n",
       "    .dataframe thead th {\n",
       "        text-align: right;\n",
       "    }\n",
       "</style>\n",
       "<table border=\"1\" class=\"dataframe\">\n",
       "  <thead>\n",
       "    <tr style=\"text-align: right;\">\n",
       "      <th></th>\n",
       "      <th>id</th>\n",
       "      <th>title</th>\n",
       "      <th>parentCategories</th>\n",
       "      <th>links</th>\n",
       "      <th>isDup</th>\n",
       "      <th>titleLower</th>\n",
       "    </tr>\n",
       "  </thead>\n",
       "  <tbody>\n",
       "    <tr>\n",
       "      <th>23117</th>\n",
       "      <td>44849</td>\n",
       "      <td>Brad Pitt</td>\n",
       "      <td>['1963 births', 'Living people', '20th-century American male actors', '21st-century American male actors', 'Male actors from Missouri', 'Male actors from Oklahoma', 'American male film actors', 'Film producers from Missouri', 'American male television actors', 'American male voice actors', 'Best Supporting Actor Golden Globe (film) winners', 'Outstanding Performance by a Cast in a Motion Picture Screen Actors Guild Award winners', 'Outstanding Performance by a Male Actor in a Supporting Role Screen Actors Guild Award winners', 'Volpi Cup for Best Actor winners', 'Volpi Cup winners', 'Golden Globe Award-winning producers', 'Primetime Emmy Award winners', 'Producers who won the Best Picture Academy Award', 'Former Baptists', 'People from Shawnee, Oklahoma', 'People from Springfield, Missouri', 'LGBT rights activists from the United States', 'Missouri School of Journalism alumni', 'Film producers from Oklahoma', 'Former atheists and agnostics', 'Best Supporting Actor Academy Award win...</td>\n",
       "      <td>['Once Upon a Time in Hollywood', 'Shawnee, Oklahoma', 'University of Missouri', 'Brad Pitt filmography|Filmography', 'Springfield, Missouri', 'Jennifer Aniston', 'Angelina Jolie', 'Douglas Pitt', 'List of awards and nominations received by Brad Pitt|Full list', 'List of awards and nominations received by Brad Pitt|multiple awards', 'Golden Globe Awards', 'Academy Award', 'Primetime Emmy Award', 'Plan B Entertainment', 'Brad Pitt filmography|gained recognition', 'Thelma &amp; Louise', 'A River Runs Through It (film)|A River Runs Through It', 'Legends of the Fall', 'Interview with the Vampire (film)|Interview with the Vampire', 'Seven (1995 film)|Seven', '12 Monkeys', 'Golden Globe Award for Best Supporting Actor – Motion Picture|Golden Globe Award for Best Supporting Actor', 'Fight Club', \"Ocean's Eleven\", \"Ocean's Twelve\", \"Ocean's Thirteen\", 'Troy (film)|Troy', 'Mr. &amp; Mrs. Smith (2005 film)|Mr. &amp; Mrs. Smith', 'World War Z (film)|World War Z', 'Once Upon a Time in Hollywood', 'Academy...</td>\n",
       "      <td>False</td>\n",
       "      <td>brad pitt</td>\n",
       "    </tr>\n",
       "  </tbody>\n",
       "</table>\n",
       "</div>"
      ],
      "text/plain": [
       "          id      title  \\\n",
       "23117  44849  Brad Pitt   \n",
       "\n",
       "                                                                                                                                                                                                                                                                                                                                                                                                                                                                                                                                                                                                                                                                                                                                                                                                                                                                                                                                                                                                                              parentCategories  \\\n",
       "23117  ['1963 births', 'Living people', '20th-century American male actors', '21st-century American male actors', 'Male actors from Missouri', 'Male actors from Oklahoma', 'American male film actors', 'Film producers from Missouri', 'American male television actors', 'American male voice actors', 'Best Supporting Actor Golden Globe (film) winners', 'Outstanding Performance by a Cast in a Motion Picture Screen Actors Guild Award winners', 'Outstanding Performance by a Male Actor in a Supporting Role Screen Actors Guild Award winners', 'Volpi Cup for Best Actor winners', 'Volpi Cup winners', 'Golden Globe Award-winning producers', 'Primetime Emmy Award winners', 'Producers who won the Best Picture Academy Award', 'Former Baptists', 'People from Shawnee, Oklahoma', 'People from Springfield, Missouri', 'LGBT rights activists from the United States', 'Missouri School of Journalism alumni', 'Film producers from Oklahoma', 'Former atheists and agnostics', 'Best Supporting Actor Academy Award win...   \n",
       "\n",
       "                                                                                                                                                                                                                                                                                                                                                                                                                                                                                                                                                                                                                                                                                                                                                                                                                                                                                                                                                                                                                                         links  \\\n",
       "23117  ['Once Upon a Time in Hollywood', 'Shawnee, Oklahoma', 'University of Missouri', 'Brad Pitt filmography|Filmography', 'Springfield, Missouri', 'Jennifer Aniston', 'Angelina Jolie', 'Douglas Pitt', 'List of awards and nominations received by Brad Pitt|Full list', 'List of awards and nominations received by Brad Pitt|multiple awards', 'Golden Globe Awards', 'Academy Award', 'Primetime Emmy Award', 'Plan B Entertainment', 'Brad Pitt filmography|gained recognition', 'Thelma & Louise', 'A River Runs Through It (film)|A River Runs Through It', 'Legends of the Fall', 'Interview with the Vampire (film)|Interview with the Vampire', 'Seven (1995 film)|Seven', '12 Monkeys', 'Golden Globe Award for Best Supporting Actor – Motion Picture|Golden Globe Award for Best Supporting Actor', 'Fight Club', \"Ocean's Eleven\", \"Ocean's Twelve\", \"Ocean's Thirteen\", 'Troy (film)|Troy', 'Mr. & Mrs. Smith (2005 film)|Mr. & Mrs. Smith', 'World War Z (film)|World War Z', 'Once Upon a Time in Hollywood', 'Academy...   \n",
       "\n",
       "       isDup titleLower  \n",
       "23117  False  brad pitt  "
      ]
     },
     "execution_count": 30,
     "metadata": {},
     "output_type": "execute_result"
    }
   ],
   "source": [
    "articles.loc[articles[\"titleLower\"] == \"brad pitt\", :]"
   ]
  },
  {
   "cell_type": "code",
   "execution_count": 48,
   "metadata": {},
   "outputs": [
    {
     "data": {
      "text/html": [
       "<div>\n",
       "<style scoped>\n",
       "    .dataframe tbody tr th:only-of-type {\n",
       "        vertical-align: middle;\n",
       "    }\n",
       "\n",
       "    .dataframe tbody tr th {\n",
       "        vertical-align: top;\n",
       "    }\n",
       "\n",
       "    .dataframe thead th {\n",
       "        text-align: right;\n",
       "    }\n",
       "</style>\n",
       "<table border=\"1\" class=\"dataframe\">\n",
       "  <thead>\n",
       "    <tr style=\"text-align: right;\">\n",
       "      <th></th>\n",
       "      <th>id</th>\n",
       "      <th>title</th>\n",
       "      <th>parentCategories</th>\n",
       "      <th>links</th>\n",
       "      <th>isDup</th>\n",
       "      <th>titleLower</th>\n",
       "    </tr>\n",
       "  </thead>\n",
       "  <tbody>\n",
       "    <tr>\n",
       "      <th>6092458</th>\n",
       "      <td>64142331</td>\n",
       "      <td>Figma</td>\n",
       "      <td>[]</td>\n",
       "      <td>['Figma (software)', 'Figma (toy)', 'FIGMA']</td>\n",
       "      <td>False</td>\n",
       "      <td>figma</td>\n",
       "    </tr>\n",
       "  </tbody>\n",
       "</table>\n",
       "</div>"
      ],
      "text/plain": [
       "               id  title parentCategories  \\\n",
       "6092458  64142331  Figma               []   \n",
       "\n",
       "                                                links  isDup titleLower  \n",
       "6092458  ['Figma (software)', 'Figma (toy)', 'FIGMA']  False      figma  "
      ]
     },
     "execution_count": 48,
     "metadata": {},
     "output_type": "execute_result"
    }
   ],
   "source": [
    "articles.loc[articles[\"title\"] == \"Figma\", :]"
   ]
  },
  {
   "cell_type": "code",
   "execution_count": 43,
   "metadata": {},
   "outputs": [],
   "source": [
    "redirects.dropna(subset = [\"title\"], inplace = True)"
   ]
  },
  {
   "cell_type": "code",
   "execution_count": 44,
   "metadata": {},
   "outputs": [],
   "source": [
    "redirects[\"titleLower\"] = redirects[\"title\"].apply(lambda x: x.lower())"
   ]
  },
  {
   "cell_type": "code",
   "execution_count": 45,
   "metadata": {},
   "outputs": [
    {
     "data": {
      "text/html": [
       "<div>\n",
       "<style scoped>\n",
       "    .dataframe tbody tr th:only-of-type {\n",
       "        vertical-align: middle;\n",
       "    }\n",
       "\n",
       "    .dataframe tbody tr th {\n",
       "        vertical-align: top;\n",
       "    }\n",
       "\n",
       "    .dataframe thead th {\n",
       "        text-align: right;\n",
       "    }\n",
       "</style>\n",
       "<table border=\"1\" class=\"dataframe\">\n",
       "  <thead>\n",
       "    <tr style=\"text-align: right;\">\n",
       "      <th></th>\n",
       "      <th>id</th>\n",
       "      <th>title</th>\n",
       "      <th>redirect</th>\n",
       "      <th>titleLower</th>\n",
       "    </tr>\n",
       "  </thead>\n",
       "  <tbody>\n",
       "    <tr>\n",
       "      <th>0</th>\n",
       "      <td>10</td>\n",
       "      <td>AccessibleComputing</td>\n",
       "      <td>Computer accessibility</td>\n",
       "      <td>accessiblecomputing</td>\n",
       "    </tr>\n",
       "    <tr>\n",
       "      <th>1</th>\n",
       "      <td>13</td>\n",
       "      <td>AfghanistanHistory</td>\n",
       "      <td>History of Afghanistan</td>\n",
       "      <td>afghanistanhistory</td>\n",
       "    </tr>\n",
       "    <tr>\n",
       "      <th>2</th>\n",
       "      <td>14</td>\n",
       "      <td>AfghanistanGeography</td>\n",
       "      <td>Geography of Afghanistan</td>\n",
       "      <td>afghanistangeography</td>\n",
       "    </tr>\n",
       "    <tr>\n",
       "      <th>3</th>\n",
       "      <td>15</td>\n",
       "      <td>AfghanistanPeople</td>\n",
       "      <td>Demographics of Afghanistan</td>\n",
       "      <td>afghanistanpeople</td>\n",
       "    </tr>\n",
       "    <tr>\n",
       "      <th>4</th>\n",
       "      <td>18</td>\n",
       "      <td>AfghanistanCommunications</td>\n",
       "      <td>Communications in Afghanistan</td>\n",
       "      <td>afghanistancommunications</td>\n",
       "    </tr>\n",
       "    <tr>\n",
       "      <th>...</th>\n",
       "      <td>...</td>\n",
       "      <td>...</td>\n",
       "      <td>...</td>\n",
       "      <td>...</td>\n",
       "    </tr>\n",
       "    <tr>\n",
       "      <th>9552795</th>\n",
       "      <td>64149099</td>\n",
       "      <td>Dr Najib</td>\n",
       "      <td>Mohammad Najibullah</td>\n",
       "      <td>dr najib</td>\n",
       "    </tr>\n",
       "    <tr>\n",
       "      <th>9552796</th>\n",
       "      <td>64149109</td>\n",
       "      <td>Chainpur, Bihar</td>\n",
       "      <td>Chainpur, Saharsa, Bihar</td>\n",
       "      <td>chainpur, bihar</td>\n",
       "    </tr>\n",
       "    <tr>\n",
       "      <th>9552797</th>\n",
       "      <td>64149117</td>\n",
       "      <td>Draft:UNICEF Meena Media Award</td>\n",
       "      <td>UNICEF Meena Media Award</td>\n",
       "      <td>draft:unicef meena media award</td>\n",
       "    </tr>\n",
       "    <tr>\n",
       "      <th>9552798</th>\n",
       "      <td>64149128</td>\n",
       "      <td>East Coast swing</td>\n",
       "      <td>East Coast Swing</td>\n",
       "      <td>east coast swing</td>\n",
       "    </tr>\n",
       "    <tr>\n",
       "      <th>9552799</th>\n",
       "      <td>64149142</td>\n",
       "      <td>Draft:Diego Gregori</td>\n",
       "      <td>Diego Gregori</td>\n",
       "      <td>draft:diego gregori</td>\n",
       "    </tr>\n",
       "  </tbody>\n",
       "</table>\n",
       "<p>9535532 rows × 4 columns</p>\n",
       "</div>"
      ],
      "text/plain": [
       "               id                           title  \\\n",
       "0              10             AccessibleComputing   \n",
       "1              13              AfghanistanHistory   \n",
       "2              14            AfghanistanGeography   \n",
       "3              15               AfghanistanPeople   \n",
       "4              18       AfghanistanCommunications   \n",
       "...           ...                             ...   \n",
       "9552795  64149099                        Dr Najib   \n",
       "9552796  64149109                 Chainpur, Bihar   \n",
       "9552797  64149117  Draft:UNICEF Meena Media Award   \n",
       "9552798  64149128                East Coast swing   \n",
       "9552799  64149142             Draft:Diego Gregori   \n",
       "\n",
       "                              redirect                      titleLower  \n",
       "0               Computer accessibility             accessiblecomputing  \n",
       "1               History of Afghanistan              afghanistanhistory  \n",
       "2             Geography of Afghanistan            afghanistangeography  \n",
       "3          Demographics of Afghanistan               afghanistanpeople  \n",
       "4        Communications in Afghanistan       afghanistancommunications  \n",
       "...                                ...                             ...  \n",
       "9552795            Mohammad Najibullah                        dr najib  \n",
       "9552796       Chainpur, Saharsa, Bihar                 chainpur, bihar  \n",
       "9552797       UNICEF Meena Media Award  draft:unicef meena media award  \n",
       "9552798               East Coast Swing                east coast swing  \n",
       "9552799                  Diego Gregori             draft:diego gregori  \n",
       "\n",
       "[9535532 rows x 4 columns]"
      ]
     },
     "execution_count": 45,
     "metadata": {},
     "output_type": "execute_result"
    }
   ],
   "source": [
    "redirects"
   ]
  }
 ],
 "metadata": {
  "kernelspec": {
   "display_name": "Python 3",
   "language": "python",
   "name": "python3"
  },
  "language_info": {
   "codemirror_mode": {
    "name": "ipython",
    "version": 3
   },
   "file_extension": ".py",
   "mimetype": "text/x-python",
   "name": "python",
   "nbconvert_exporter": "python",
   "pygments_lexer": "ipython3",
   "version": "3.8.2"
  }
 },
 "nbformat": 4,
 "nbformat_minor": 4
}
