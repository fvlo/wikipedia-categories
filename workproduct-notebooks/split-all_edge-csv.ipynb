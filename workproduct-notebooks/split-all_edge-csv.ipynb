{
 "cells": [
  {
   "cell_type": "code",
   "execution_count": 1,
   "metadata": {},
   "outputs": [],
   "source": [
    "import pandas as pd\n",
    "import numpy as np"
   ]
  },
  {
   "cell_type": "code",
   "execution_count": 2,
   "metadata": {},
   "outputs": [],
   "source": [
    "FILE_PATH_EDGE = 'F:/wikipedia-data/outputs/for-graphframes/all_edge.csv'"
   ]
  },
  {
   "cell_type": "code",
   "execution_count": 3,
   "metadata": {},
   "outputs": [],
   "source": [
    "all_edge = pd.read_csv(FILE_PATH_EDGE)"
   ]
  },
  {
   "cell_type": "code",
   "execution_count": 4,
   "metadata": {},
   "outputs": [
    {
     "data": {
      "text/html": [
       "<div>\n",
       "<style scoped>\n",
       "    .dataframe tbody tr th:only-of-type {\n",
       "        vertical-align: middle;\n",
       "    }\n",
       "\n",
       "    .dataframe tbody tr th {\n",
       "        vertical-align: top;\n",
       "    }\n",
       "\n",
       "    .dataframe thead th {\n",
       "        text-align: right;\n",
       "    }\n",
       "</style>\n",
       "<table border=\"1\" class=\"dataframe\">\n",
       "  <thead>\n",
       "    <tr style=\"text-align: right;\">\n",
       "      <th></th>\n",
       "      <th>src</th>\n",
       "      <th>dst</th>\n",
       "      <th>src-wikipediaID</th>\n",
       "      <th>dst-wikipediaID</th>\n",
       "      <th>type</th>\n",
       "      <th>intersection</th>\n",
       "      <th>union</th>\n",
       "      <th>similarity</th>\n",
       "    </tr>\n",
       "  </thead>\n",
       "  <tbody>\n",
       "    <tr>\n",
       "      <th>0</th>\n",
       "      <td>Category:Television series by 20th Century Fox...</td>\n",
       "      <td>Category:Futurama</td>\n",
       "      <td>6015549</td>\n",
       "      <td>690070</td>\n",
       "      <td>cat2cat</td>\n",
       "      <td>NaN</td>\n",
       "      <td>NaN</td>\n",
       "      <td>NaN</td>\n",
       "    </tr>\n",
       "    <tr>\n",
       "      <th>1</th>\n",
       "      <td>Category:Television series created by Matt Gro...</td>\n",
       "      <td>Category:Futurama</td>\n",
       "      <td>37480813</td>\n",
       "      <td>690070</td>\n",
       "      <td>cat2cat</td>\n",
       "      <td>NaN</td>\n",
       "      <td>NaN</td>\n",
       "      <td>NaN</td>\n",
       "    </tr>\n",
       "    <tr>\n",
       "      <th>2</th>\n",
       "      <td>Category:Wikipedia categories named after Amer...</td>\n",
       "      <td>Category:Futurama</td>\n",
       "      <td>35315704</td>\n",
       "      <td>690070</td>\n",
       "      <td>cat2cat</td>\n",
       "      <td>NaN</td>\n",
       "      <td>NaN</td>\n",
       "      <td>NaN</td>\n",
       "    </tr>\n",
       "    <tr>\n",
       "      <th>3</th>\n",
       "      <td>Category:Wikipedia categories named after mass...</td>\n",
       "      <td>Category:Futurama</td>\n",
       "      <td>55466012</td>\n",
       "      <td>690070</td>\n",
       "      <td>cat2cat</td>\n",
       "      <td>NaN</td>\n",
       "      <td>NaN</td>\n",
       "      <td>NaN</td>\n",
       "    </tr>\n",
       "    <tr>\n",
       "      <th>4</th>\n",
       "      <td>Category:20th Century Fox Television franchises</td>\n",
       "      <td>Category:Futurama</td>\n",
       "      <td>60330380</td>\n",
       "      <td>690070</td>\n",
       "      <td>cat2cat</td>\n",
       "      <td>NaN</td>\n",
       "      <td>NaN</td>\n",
       "      <td>NaN</td>\n",
       "    </tr>\n",
       "    <tr>\n",
       "      <th>...</th>\n",
       "      <td>...</td>\n",
       "      <td>...</td>\n",
       "      <td>...</td>\n",
       "      <td>...</td>\n",
       "      <td>...</td>\n",
       "      <td>...</td>\n",
       "      <td>...</td>\n",
       "      <td>...</td>\n",
       "    </tr>\n",
       "    <tr>\n",
       "      <th>34303083</th>\n",
       "      <td>Category:Armenian poets</td>\n",
       "      <td>Maro Markarian</td>\n",
       "      <td>2611240</td>\n",
       "      <td>64149155</td>\n",
       "      <td>cat2art</td>\n",
       "      <td>NaN</td>\n",
       "      <td>NaN</td>\n",
       "      <td>NaN</td>\n",
       "    </tr>\n",
       "    <tr>\n",
       "      <th>34303084</th>\n",
       "      <td>Category:1915 births</td>\n",
       "      <td>Maro Markarian</td>\n",
       "      <td>915457</td>\n",
       "      <td>64149155</td>\n",
       "      <td>cat2art</td>\n",
       "      <td>NaN</td>\n",
       "      <td>NaN</td>\n",
       "      <td>NaN</td>\n",
       "    </tr>\n",
       "    <tr>\n",
       "      <th>34303085</th>\n",
       "      <td>Category:1999 deaths</td>\n",
       "      <td>Maro Markarian</td>\n",
       "      <td>979445</td>\n",
       "      <td>64149155</td>\n",
       "      <td>cat2art</td>\n",
       "      <td>NaN</td>\n",
       "      <td>NaN</td>\n",
       "      <td>NaN</td>\n",
       "    </tr>\n",
       "    <tr>\n",
       "      <th>34303086</th>\n",
       "      <td>Category:People from Marneuli</td>\n",
       "      <td>Maro Markarian</td>\n",
       "      <td>31643514</td>\n",
       "      <td>64149155</td>\n",
       "      <td>cat2art</td>\n",
       "      <td>NaN</td>\n",
       "      <td>NaN</td>\n",
       "      <td>NaN</td>\n",
       "    </tr>\n",
       "    <tr>\n",
       "      <th>34303087</th>\n",
       "      <td>Category:French Navy officers</td>\n",
       "      <td>Louis Édouard Paul Lieutard</td>\n",
       "      <td>1014449</td>\n",
       "      <td>64149158</td>\n",
       "      <td>cat2art</td>\n",
       "      <td>NaN</td>\n",
       "      <td>NaN</td>\n",
       "      <td>NaN</td>\n",
       "    </tr>\n",
       "  </tbody>\n",
       "</table>\n",
       "<p>34303088 rows × 8 columns</p>\n",
       "</div>"
      ],
      "text/plain": [
       "                                                        src  \\\n",
       "0         Category:Television series by 20th Century Fox...   \n",
       "1         Category:Television series created by Matt Gro...   \n",
       "2         Category:Wikipedia categories named after Amer...   \n",
       "3         Category:Wikipedia categories named after mass...   \n",
       "4           Category:20th Century Fox Television franchises   \n",
       "...                                                     ...   \n",
       "34303083                            Category:Armenian poets   \n",
       "34303084                               Category:1915 births   \n",
       "34303085                               Category:1999 deaths   \n",
       "34303086                      Category:People from Marneuli   \n",
       "34303087                      Category:French Navy officers   \n",
       "\n",
       "                                  dst src-wikipediaID  dst-wikipediaID  \\\n",
       "0                   Category:Futurama         6015549           690070   \n",
       "1                   Category:Futurama        37480813           690070   \n",
       "2                   Category:Futurama        35315704           690070   \n",
       "3                   Category:Futurama        55466012           690070   \n",
       "4                   Category:Futurama        60330380           690070   \n",
       "...                               ...             ...              ...   \n",
       "34303083               Maro Markarian         2611240         64149155   \n",
       "34303084               Maro Markarian          915457         64149155   \n",
       "34303085               Maro Markarian          979445         64149155   \n",
       "34303086               Maro Markarian        31643514         64149155   \n",
       "34303087  Louis Édouard Paul Lieutard         1014449         64149158   \n",
       "\n",
       "             type  intersection  union  similarity  \n",
       "0         cat2cat           NaN    NaN         NaN  \n",
       "1         cat2cat           NaN    NaN         NaN  \n",
       "2         cat2cat           NaN    NaN         NaN  \n",
       "3         cat2cat           NaN    NaN         NaN  \n",
       "4         cat2cat           NaN    NaN         NaN  \n",
       "...           ...           ...    ...         ...  \n",
       "34303083  cat2art           NaN    NaN         NaN  \n",
       "34303084  cat2art           NaN    NaN         NaN  \n",
       "34303085  cat2art           NaN    NaN         NaN  \n",
       "34303086  cat2art           NaN    NaN         NaN  \n",
       "34303087  cat2art           NaN    NaN         NaN  \n",
       "\n",
       "[34303088 rows x 8 columns]"
      ]
     },
     "execution_count": 4,
     "metadata": {},
     "output_type": "execute_result"
    }
   ],
   "source": [
    "all_edge"
   ]
  },
  {
   "cell_type": "code",
   "execution_count": 5,
   "metadata": {},
   "outputs": [
    {
     "name": "stdout",
     "output_type": "stream",
     "text": [
      "Wall time: 4.27 s\n"
     ]
    }
   ],
   "source": [
    "%%time\n",
    "splitDFs = np.split(all_edge, 4)"
   ]
  },
  {
   "cell_type": "code",
   "execution_count": 6,
   "metadata": {},
   "outputs": [
    {
     "name": "stdout",
     "output_type": "stream",
     "text": [
      "Wall time: 0 ns\n"
     ]
    }
   ],
   "source": [
    "%%time\n",
    "target_path = 'F:/wikipedia-data/outputs/for-graphframes/all_edge-split/'\n",
    "split_file_prefix = 'all_edge'\n",
    "file_idx = 1"
   ]
  },
  {
   "cell_type": "code",
   "execution_count": 7,
   "metadata": {},
   "outputs": [
    {
     "name": "stdout",
     "output_type": "stream",
     "text": [
      "Wall time: 2min 38s\n"
     ]
    }
   ],
   "source": [
    "%%time\n",
    "for df in splitDFs:\n",
    "    target_filename = f'{split_file_prefix}_{str(file_idx)}.csv'\n",
    "    df.to_csv(target_path + target_filename, index = False)\n",
    "    file_idx += 1"
   ]
  },
  {
   "cell_type": "code",
   "execution_count": 8,
   "metadata": {},
   "outputs": [
    {
     "data": {
      "text/plain": [
       "4"
      ]
     },
     "execution_count": 8,
     "metadata": {},
     "output_type": "execute_result"
    }
   ],
   "source": [
    "len(splitDFs)"
   ]
  },
  {
   "cell_type": "code",
   "execution_count": 9,
   "metadata": {},
   "outputs": [
    {
     "data": {
      "text/plain": [
       "5"
      ]
     },
     "execution_count": 9,
     "metadata": {},
     "output_type": "execute_result"
    }
   ],
   "source": [
    "file_idx"
   ]
  }
 ],
 "metadata": {
  "kernelspec": {
   "display_name": "Python 3",
   "language": "python",
   "name": "python3"
  },
  "language_info": {
   "codemirror_mode": {
    "name": "ipython",
    "version": 3
   },
   "file_extension": ".py",
   "mimetype": "text/x-python",
   "name": "python",
   "nbconvert_exporter": "python",
   "pygments_lexer": "ipython3",
   "version": "3.8.2"
  }
 },
 "nbformat": 4,
 "nbformat_minor": 4
}
