{
 "cells": [
  {
   "cell_type": "code",
   "execution_count": null,
   "metadata": {},
   "outputs": [],
   "source": [
    "## Sequence\n",
    "# Build database from file\n",
    "# Add isCategory property\n",
    "# Add Exclude label based on matching lists\n",
    "# Drop nodes marked for exclusion\n",
    "# Add Exclude-Belongs_to label unwanted rels (that should'nt be deleted totally) (e.g to node \"People\")\n",
    "# Remove Belongs_to from above mentioned rels"
   ]
  },
  {
   "cell_type": "code",
   "execution_count": 1,
   "metadata": {},
   "outputs": [],
   "source": [
    "# Next:\n",
    "# Clean non-wanted nodes from graph (container categories etc.)\n",
    "#    Try: https://neo4j.com/docs/graph-algorithms/current/projected-graph-model/cypher-projection/\n",
    "# Write custom similarity calculation function\n",
    "# Write iterator function"
   ]
  },
  {
   "cell_type": "code",
   "execution_count": 2,
   "metadata": {},
   "outputs": [],
   "source": [
    "# NOTE\n",
    "# cypher.forbid_exhaustive_shortestpath=true set in neo4j conf file\n",
    "# https://neo4j.com/docs/operations-manual/current/configuration/neo4j-conf/"
   ]
  },
  {
   "cell_type": "code",
   "execution_count": 3,
   "metadata": {},
   "outputs": [],
   "source": [
    "from py2neo import *\n",
    "import pandas as pd"
   ]
  },
  {
   "cell_type": "code",
   "execution_count": 4,
   "metadata": {},
   "outputs": [],
   "source": [
    "pd.set_option('display.max_rows', 500)\n",
    "pd.set_option('display.max_columns', 500)\n",
    "pd.set_option('display.max_colwidth', 1000)"
   ]
  },
  {
   "cell_type": "code",
   "execution_count": 5,
   "metadata": {},
   "outputs": [],
   "source": [
    "graph = Graph()"
   ]
  },
  {
   "cell_type": "markdown",
   "metadata": {},
   "source": [
    "## FUNCTIONS"
   ]
  },
  {
   "cell_type": "markdown",
   "metadata": {},
   "source": [
    "##### Return similarity statistics for two sets (intersection, union, Jaccard coefficient)"
   ]
  },
  {
   "cell_type": "code",
   "execution_count": 6,
   "metadata": {},
   "outputs": [],
   "source": [
    "# compute similarity statistics\n",
    "def similarityStats(a,b):\n",
    "    intSize = len(a.intersection(b))\n",
    "    unionSize = len(a.union(b))\n",
    "    return (intSize, unionSize, intSize / unionSize)"
   ]
  },
  {
   "cell_type": "markdown",
   "metadata": {},
   "source": [
    "##### Return identifying information of parent categories of chosen article or category as pandas dataframe"
   ]
  },
  {
   "cell_type": "code",
   "execution_count": 7,
   "metadata": {},
   "outputs": [],
   "source": [
    "# Give wikipedia id as integer as function argument (e.g. cateogry \"Finland\" = 693995)\n",
    "def parentCategories(a):\n",
    "    wikiID = a\n",
    "    commandToRun = 'MATCH (pages:Category:Page) \\\n",
    "                <-[:BELONGS_TO]- \\\n",
    "                (:Page {id: %s}) \\\n",
    "                RETURN pages.title, pages.id' % (wikiID)\n",
    "\n",
    "    return graph.run(commandToRun).to_data_frame()\n"
   ]
  },
  {
   "cell_type": "markdown",
   "metadata": {},
   "source": [
    "##### Return identifying information of children (both category and article) of chosen category as pandas dataframe"
   ]
  },
  {
   "cell_type": "code",
   "execution_count": 8,
   "metadata": {},
   "outputs": [],
   "source": [
    "# Give wikipedia id as integer as function argument (e.g. cateogry \"Finland\" = 693995)\n",
    "def childPages(a):\n",
    "    wikiID = a\n",
    "    commandToRun = 'MATCH (pages:Page) \\\n",
    "                -[:BELONGS_TO]-> \\\n",
    "                (:Page {id: %s}) \\\n",
    "                RETURN pages.title, pages.id' % (wikiID)\n",
    "\n",
    "    return graph.run(commandToRun).to_data_frame()"
   ]
  },
  {
   "cell_type": "markdown",
   "metadata": {},
   "source": [
    "##### Return dataframe with all articles (but not categories) with given title [only one result is expected]"
   ]
  },
  {
   "cell_type": "code",
   "execution_count": 9,
   "metadata": {},
   "outputs": [],
   "source": [
    "# Give wikipedia title as string as function argument\n",
    "def articleByTitle(a):\n",
    "    ArticleToFind = a\n",
    "    commandToRun = 'MATCH (articles:Page {title: \"%s\"}) \\\n",
    "                    WHERE NONE(art IN [articles] WHERE art:Category) \\\n",
    "                    RETURN articles.title, articles.id, ID(articles)' % (ArticleToFind)\n",
    "    return graph.run(commandToRun).to_data_frame()"
   ]
  },
  {
   "cell_type": "markdown",
   "metadata": {},
   "source": [
    "##### Return dataframe with all categories (but not articles) with given title [only one result is expected]"
   ]
  },
  {
   "cell_type": "code",
   "execution_count": 10,
   "metadata": {},
   "outputs": [],
   "source": [
    "# Give wikipedia title as string as function argument\n",
    "def categoryByTitle(a):\n",
    "    CategoryToFind = a\n",
    "    commandToRun = 'MATCH (categories:Category:Page {title: \"%s\"}) \\\n",
    "                    RETURN categories.title, categories.id, ID(categories)' % (CategoryToFind)\n",
    "    return graph.run(commandToRun).to_data_frame()"
   ]
  },
  {
   "cell_type": "markdown",
   "metadata": {},
   "source": [
    "##### Return dataframe containing all parent categories of category a and similarity statistics to each"
   ]
  },
  {
   "cell_type": "code",
   "execution_count": 11,
   "metadata": {},
   "outputs": [],
   "source": [
    "# Give wikipedia id as integer as function argument (e.g. cateogry \"Finland\" = 693995)\n",
    "def parentSimilarities(a):\n",
    "    parents = parentCategories(a)\n",
    "    children = childPages(a)\n",
    "    parents[\"similarities\"] = parents[\"pages.id\"].apply(lambda x: similarityStats(set(children[\"pages.id\"]), set(childPages(x)[\"pages.id\"])))\n",
    "    parents[[\"intersection\", \"union\", \"jaccard\"]] = pd.DataFrame(parents['similarities'].tolist(), index = parents.index)\n",
    "    parents.drop([\"similarities\"], axis = 1, inplace = True)\n",
    "    parents.sort_values(by = \"jaccard\", ascending = False, inplace = True)\n",
    "    \n",
    "    return parents"
   ]
  },
  {
   "cell_type": "markdown",
   "metadata": {},
   "source": [
    "##### Return dataframe containing shortest path between input node (article or category) and Main_topics_classification category"
   ]
  },
  {
   "cell_type": "code",
   "execution_count": 12,
   "metadata": {},
   "outputs": [],
   "source": [
    "def shortestPathToMTC(a):\n",
    "    # (:Page {id: 7345184}) is Main_topics_classifications category node\n",
    "    inputNode = a\n",
    "\n",
    "    commandToRun = 'MATCH path=shortestPath( \\\n",
    "                    (:Page {id: %s})-[:BELONGS_TO*0..10]-(:Page {id: 7345184})) \\\n",
    "                    UNWIND nodes(path) AS pages \\\n",
    "                    RETURN pages.title, pages.id, ID(pages)' % (inputNode)\n",
    "\n",
    "    return pd.DataFrame(graph.run(commandToRun).data())"
   ]
  },
  {
   "cell_type": "markdown",
   "metadata": {},
   "source": [
    "##### Return node based on neo4j database ID [NOTE: not same as wikipedia ID used elsewhere]"
   ]
  },
  {
   "cell_type": "code",
   "execution_count": 13,
   "metadata": {},
   "outputs": [],
   "source": [
    "def getWithNeoID(a):\n",
    "    return NodeMatcher(graph).get(a)"
   ]
  },
  {
   "cell_type": "markdown",
   "metadata": {},
   "source": [
    "## Adding node labels and properties"
   ]
  },
  {
   "cell_type": "markdown",
   "metadata": {},
   "source": [
    "#### Database edits (run commands commented out to prevent accidental runs)"
   ]
  },
  {
   "cell_type": "code",
   "execution_count": null,
   "metadata": {},
   "outputs": [],
   "source": [
    "# 1. Add pageType property to each node (Category / Article)\n",
    "# 2. Add Include label to each node not on notWanted list\n",
    "# 3. Create native projection based on Include label\n",
    "#¨4. Test shorestPath and similarity algorithms on native projection"
   ]
  },
  {
   "cell_type": "code",
   "execution_count": null,
   "metadata": {},
   "outputs": [],
   "source": [
    "%%time\n",
    "# Add pageType property with value \"Category\" to all category pages\n",
    "\n",
    "commandToRun = 'MATCH (pages:Category:Page) \\\n",
    "                SET pages.pageType = \"Category\"'\n",
    "\n",
    "#graph.run(commandToRun)"
   ]
  },
  {
   "cell_type": "code",
   "execution_count": null,
   "metadata": {},
   "outputs": [],
   "source": [
    "%%time\n",
    "# Add pageType property with value \"Article\" to all article pages\n",
    "\n",
    "commandToRun = 'MATCH (pages:Page) \\\n",
    "                WHERE NONE(art IN [pages] WHERE art:Category) \\\n",
    "                SET pages.pageType = \"Article\"'\n",
    "\n",
    "#graph.run(commandToRun)"
   ]
  },
  {
   "cell_type": "code",
   "execution_count": null,
   "metadata": {},
   "outputs": [],
   "source": [
    "%%time\n",
    "# Remove pageType property from category pages\n",
    "# NOTE!! Run out of allocated memory when run on all nodes (cat + art)\n",
    "\n",
    "commandToRun = \"MATCH (pages:Category:Page) \\\n",
    "                REMOVE pages.pageType\"\n",
    "\n",
    "#graph.run(commandToRun)"
   ]
  },
  {
   "cell_type": "code",
   "execution_count": null,
   "metadata": {},
   "outputs": [],
   "source": [
    "%%time\n",
    "# Remove pageType property from article pages\n",
    "\n",
    "commandToRun = \"MATCH (pages:Page) \\\n",
    "                WHERE NONE(art IN [pages] WHERE art:Category) \\\n",
    "                REMOVE pages.pageType\"\n",
    "\n",
    "#graph.run(commandToRun)"
   ]
  },
  {
   "cell_type": "code",
   "execution_count": null,
   "metadata": {},
   "outputs": [],
   "source": [
    "%%time\n",
    "# Add isCategory property with value 1 to all category pages\n",
    "\n",
    "commandToRun = 'MATCH (pages:Category:Page) \\\n",
    "                SET pages.isCategory = 1'\n",
    "\n",
    "#graph.run(commandToRun)"
   ]
  },
  {
   "cell_type": "code",
   "execution_count": null,
   "metadata": {},
   "outputs": [],
   "source": [
    "%%time\n",
    "# Add isCategory property with value 0 to all article pages\n",
    "\n",
    "commandToRun = 'MATCH (pages:Page) \\\n",
    "                WHERE NONE(art IN [pages] WHERE art:Category) \\\n",
    "                SET pages.isCategory = 0'\n",
    "\n",
    "#graph.run(commandToRun)"
   ]
  },
  {
   "cell_type": "code",
   "execution_count": null,
   "metadata": {},
   "outputs": [],
   "source": [
    "%%time\n",
    "# Add label \"Include\" to all pages (Wall time: 24min 41s)\n",
    "\n",
    "commandToRun = \"MATCH (pages:Page) \\\n",
    "                SET pages:Include\"\n",
    "\n",
    "#graph.run(commandToRun)"
   ]
  },
  {
   "cell_type": "code",
   "execution_count": null,
   "metadata": {},
   "outputs": [],
   "source": [
    "%%time\n",
    "# Remove label \"Include\" from pages included in list of categories to exclude (Wall time: 1min 33s)\n",
    "\n",
    "commandToRun = \"MATCH (pages:Category:Page) \\\n",
    "                WHERE \\\n",
    "                pages.title STARTS WITH 'Wikipedia_' \\\n",
    "                OR pages.title STARTS WITH '1' \\\n",
    "                OR pages.title STARTS WITH '2' \\\n",
    "                OR pages.title STARTS WITH '3' \\\n",
    "                OR pages.title STARTS WITH '4' \\\n",
    "                OR pages.title STARTS WITH '5' \\\n",
    "                OR pages.title STARTS WITH '6' \\\n",
    "                OR pages.title STARTS WITH '7' \\\n",
    "                OR pages.title STARTS WITH '8' \\\n",
    "                OR pages.title STARTS WITH '9' \\\n",
    "                OR pages.title STARTS WITH '0' \\\n",
    "                OR pages.title STARTS WITH 'List_of' \\\n",
    "                OR pages.title STARTS WITH 'All_articles' \\\n",
    "                OR pages.title STARTS WITH 'Articles_' \\\n",
    "                OR pages.title CONTAINS 'by_year' \\\n",
    "                OR pages.title CONTAINS 'of_the_year' \\\n",
    "                OR pages.title CONTAINS '_in_' \\\n",
    "                REMOVE pages:Include\"\n",
    "\n",
    "#graph.run(commandToRun)"
   ]
  },
  {
   "cell_type": "code",
   "execution_count": null,
   "metadata": {},
   "outputs": [],
   "source": [
    "%%time\n",
    "# Add label \"Exclude\" to all pages to exclude (Wall time: 1min 31s)\n",
    "\n",
    "commandToRun = \"MATCH (pages:Category:Page) \\\n",
    "                WHERE \\\n",
    "                pages.title STARTS WITH 'Wikipedia_' \\\n",
    "                OR pages.title STARTS WITH '1' \\\n",
    "                OR pages.title STARTS WITH '2' \\\n",
    "                OR pages.title STARTS WITH '3' \\\n",
    "                OR pages.title STARTS WITH '4' \\\n",
    "                OR pages.title STARTS WITH '5' \\\n",
    "                OR pages.title STARTS WITH '6' \\\n",
    "                OR pages.title STARTS WITH '7' \\\n",
    "                OR pages.title STARTS WITH '8' \\\n",
    "                OR pages.title STARTS WITH '9' \\\n",
    "                OR pages.title STARTS WITH '0' \\\n",
    "                OR pages.title STARTS WITH 'List_of' \\\n",
    "                OR pages.title STARTS WITH 'All_articles' \\\n",
    "                OR pages.title STARTS WITH 'Articles_' \\\n",
    "                OR pages.title CONTAINS 'by_year' \\\n",
    "                OR pages.title CONTAINS 'of_the_year' \\\n",
    "                OR pages.title CONTAINS '_in_' \\\n",
    "                SET pages:Exclude\"\n",
    "\n",
    "#graph.run(commandToRun)"
   ]
  },
  {
   "cell_type": "code",
   "execution_count": 31,
   "metadata": {},
   "outputs": [
    {
     "name": "stdout",
     "output_type": "stream",
     "text": [
      "Wall time: 6.69 s\n"
     ]
    },
    {
     "data": {
      "text/plain": [
       "<py2neo.database.Cursor at 0x1db4100e850>"
      ]
     },
     "execution_count": 31,
     "metadata": {},
     "output_type": "execute_result"
    }
   ],
   "source": [
    "%%time\n",
    "# Add label \"Exclude\" to all pages to exclude (Wall time: 6.69 s)\n",
    "\n",
    "commandToRun = \"MATCH (pages:Category:Page) \\\n",
    "                WHERE \\\n",
    "                pages.title CONTAINS '_categories' \\\n",
    "                OR pages.title = 'Webarchive_template_wayback_links' \\\n",
    "                SET pages:Exclude\"\n",
    "\n",
    "#graph.run(commandToRun)"
   ]
  },
  {
   "cell_type": "code",
   "execution_count": 32,
   "metadata": {},
   "outputs": [
    {
     "name": "stdout",
     "output_type": "stream",
     "text": [
      "Wall time: 15.3 s\n"
     ]
    },
    {
     "data": {
      "text/plain": [
       "<py2neo.database.Cursor at 0x1db41925100>"
      ]
     },
     "execution_count": 32,
     "metadata": {},
     "output_type": "execute_result"
    }
   ],
   "source": [
    "%%time\n",
    "# DETACH and DELETE all nodes with label Exclude, iterate using APOC (Wall time: 39min 21s)\n",
    "# https://neo4j.com/developer/kb/large-delete-transaction-best-practices-in-neo4j/\n",
    "\n",
    "commandToRun = \"CALL apoc.periodic.iterate('MATCH (pages:Exclude) \\\n",
    "                RETURN pages', \\\n",
    "                'DETACH DELETE pages', \\\n",
    "                {batchSize:1000}) \\\n",
    "                YIELD batches, total \\\n",
    "                RETURN batches, total\"\n",
    "\n",
    "#graph.run(commandToRun)\n"
   ]
  },
  {
   "cell_type": "code",
   "execution_count": null,
   "metadata": {},
   "outputs": [],
   "source": [
    "# Above started 13:45"
   ]
  },
  {
   "cell_type": "code",
   "execution_count": null,
   "metadata": {},
   "outputs": [],
   "source": [
    "'''\n",
    "call apoc.periodic.iterate(\"MATCH (n:Foo) where n.foo='bar' return n\", \"DETACH DELETE n\", {batchSize:1000})\n",
    "yield batches, total return batches, total\n",
    "'''"
   ]
  },
  {
   "cell_type": "markdown",
   "metadata": {},
   "source": [
    "#### Testing for database edits"
   ]
  },
  {
   "cell_type": "code",
   "execution_count": null,
   "metadata": {},
   "outputs": [],
   "source": [
    "articleByTitle(\"Umeå\")"
   ]
  },
  {
   "cell_type": "code",
   "execution_count": null,
   "metadata": {},
   "outputs": [],
   "source": [
    "ArticleToFind = \"1980_births\"\n",
    "commandToRun = 'MATCH (articles:Page {title: \"%s\"}) \\\n",
    "                    RETURN articles, labels(articles)' % (ArticleToFind)\n",
    "graph.run(commandToRun).to_data_frame()"
   ]
  },
  {
   "cell_type": "code",
   "execution_count": null,
   "metadata": {},
   "outputs": [],
   "source": [
    "ArticleToFind = \"1930–31_in_Mandatory_Palestine_football\"\n",
    "commandToRun = 'MATCH (articles:Page {title: \"%s\"}) \\\n",
    "                    RETURN articles, labels(articles)' % (ArticleToFind)\n",
    "graph.run(commandToRun).to_data_frame()"
   ]
  },
  {
   "cell_type": "code",
   "execution_count": null,
   "metadata": {},
   "outputs": [],
   "source": [
    "ArticleToFind = \"Umeå\"\n",
    "commandToRun = 'MATCH (articles:Page {title: \"%s\"}) \\\n",
    "                    WHERE NONE(art IN [articles] WHERE art:Category) \\\n",
    "                    RETURN labels(articles)' % (ArticleToFind)\n",
    "graph.run(commandToRun).to_data_frame()"
   ]
  },
  {
   "cell_type": "code",
   "execution_count": null,
   "metadata": {},
   "outputs": [],
   "source": [
    "%%time\n",
    "# Add label \"Test1\" to article \"Umeå\" {'isRedirect': False, 'id': 1017521, 'isNew': False, 'title': 'Umeå'}\n",
    "\n",
    "ArticleId = 1017521\n",
    "commandToRun = 'MATCH (articles {id: %s}) \\\n",
    "                    SET articles:Test1 \\\n",
    "                    RETURN articles.title, labels(articles) AS labels' % (ArticleId)\n",
    "graph.run(commandToRun).to_data_frame()"
   ]
  },
  {
   "cell_type": "code",
   "execution_count": null,
   "metadata": {},
   "outputs": [],
   "source": [
    "%%time\n",
    "# Remove label \"Test1\" from article \"Umeå\" {'isRedirect': False, 'id': 1017521, 'isNew': False, 'title': 'Umeå'}\n",
    "\n",
    "ArticleId = 1017521\n",
    "commandToRun = 'MATCH (articles {id: %s}) \\\n",
    "                    REMOVE articles:Test1 \\\n",
    "                    RETURN articles.title, labels(articles) AS labels' % (ArticleId)\n",
    "graph.run(commandToRun).to_data_frame()"
   ]
  },
  {
   "cell_type": "code",
   "execution_count": null,
   "metadata": {},
   "outputs": [],
   "source": [
    "%%time\n",
    "# Add property \"type\" with value \"Article\" to article \"Umeå\" {'isRedirect': False, 'id': 1017521, 'isNew': False, 'title': 'Umeå'}\n",
    "\n",
    "ArticleId = 1017521\n",
    "commandToRun = 'MATCH (articles {id: %s}) \\\n",
    "                    SET articles.type = \"Article\" \\\n",
    "                    RETURN articles.title, articles.id, articles.type' % (ArticleId)\n",
    "graph.run(commandToRun).to_data_frame()"
   ]
  },
  {
   "cell_type": "code",
   "execution_count": null,
   "metadata": {},
   "outputs": [],
   "source": [
    "%%time\n",
    "# Remove property \"type\" from article \"Umeå\" {'isRedirect': False, 'id': 1017521, 'isNew': False, 'title': 'Umeå'}\n",
    "\n",
    "ArticleId = 1017521\n",
    "commandToRun = 'MATCH (articles {id: %s}) \\\n",
    "                    REMOVE articles.type \\\n",
    "                    RETURN articles.title, articles.id, articles.type' % (ArticleId)\n",
    "graph.run(commandToRun).to_data_frame()"
   ]
  },
  {
   "cell_type": "code",
   "execution_count": null,
   "metadata": {},
   "outputs": [],
   "source": [
    "%%time\n",
    "# Add property \"test\" with values \"Test2\" to parent categories of \"Umeå\" {'isRedirect': False, 'id': 1017521, 'isNew': False, 'title': 'Umeå'}\n",
    "wikiID = 1017521\n",
    "commandToRun = 'MATCH (pages:Category:Page) \\\n",
    "                <-[:BELONGS_TO]- \\\n",
    "                (:Page {id: %s}) \\\n",
    "                SET pages.test = \"Test2\"' % (wikiID)\n",
    "\n",
    "graph.run(commandToRun).to_data_frame()"
   ]
  },
  {
   "cell_type": "code",
   "execution_count": null,
   "metadata": {},
   "outputs": [],
   "source": [
    "%%time\n",
    "# Remove property \"test\" from parent categories of \"Umeå\" {'isRedirect': False, 'id': 1017521, 'isNew': False, 'title': 'Umeå'}\n",
    "wikiID = 1017521\n",
    "commandToRun = 'MATCH (pages:Category:Page) \\\n",
    "                <-[:BELONGS_TO]- \\\n",
    "                (:Page {id: %s}) \\\n",
    "                REMOVE pages.test \\\n",
    "                RETURN pages.title, pages.id, pages.test' % (wikiID)\n",
    "\n",
    "graph.run(commandToRun).to_data_frame()"
   ]
  },
  {
   "cell_type": "code",
   "execution_count": null,
   "metadata": {},
   "outputs": [],
   "source": [
    "ArticleToFind = \"Articles_with_hAudio_microformats\"\n",
    "commandToRun = 'MATCH (articles:Page {title: \"%s\"}) \\\n",
    "                    RETURN articles, labels(articles)' % (ArticleToFind)\n",
    "graph.run(commandToRun).to_data_frame()"
   ]
  },
  {
   "cell_type": "markdown",
   "metadata": {},
   "source": [
    "## Step A\n",
    "##### Article - Category relationship strength (TBD)"
   ]
  },
  {
   "cell_type": "markdown",
   "metadata": {},
   "source": [
    "## Step B\n",
    "##### Calculate similarity between two categories (Note: not an article and a category)"
   ]
  },
  {
   "cell_type": "code",
   "execution_count": 60,
   "metadata": {},
   "outputs": [
    {
     "name": "stdout",
     "output_type": "stream",
     "text": [
      "Wall time: 289 ms\n"
     ]
    },
    {
     "data": {
      "text/html": [
       "<div>\n",
       "<style scoped>\n",
       "    .dataframe tbody tr th:only-of-type {\n",
       "        vertical-align: middle;\n",
       "    }\n",
       "\n",
       "    .dataframe tbody tr th {\n",
       "        vertical-align: top;\n",
       "    }\n",
       "\n",
       "    .dataframe thead th {\n",
       "        text-align: right;\n",
       "    }\n",
       "</style>\n",
       "<table border=\"1\" class=\"dataframe\">\n",
       "  <thead>\n",
       "    <tr style=\"text-align: right;\">\n",
       "      <th></th>\n",
       "      <th>pages.title</th>\n",
       "      <th>pages.id</th>\n",
       "      <th>intersection</th>\n",
       "      <th>union</th>\n",
       "      <th>jaccard</th>\n",
       "    </tr>\n",
       "  </thead>\n",
       "  <tbody>\n",
       "    <tr>\n",
       "      <th>0</th>\n",
       "      <td>Past</td>\n",
       "      <td>40822338</td>\n",
       "      <td>1</td>\n",
       "      <td>63</td>\n",
       "      <td>0.015873</td>\n",
       "    </tr>\n",
       "    <tr>\n",
       "      <th>2</th>\n",
       "      <td>Humanities</td>\n",
       "      <td>1004110</td>\n",
       "      <td>2</td>\n",
       "      <td>126</td>\n",
       "      <td>0.015873</td>\n",
       "    </tr>\n",
       "    <tr>\n",
       "      <th>1</th>\n",
       "      <td>Main_topic_classifications</td>\n",
       "      <td>7345184</td>\n",
       "      <td>1</td>\n",
       "      <td>66</td>\n",
       "      <td>0.015152</td>\n",
       "    </tr>\n",
       "    <tr>\n",
       "      <th>3</th>\n",
       "      <td>Change</td>\n",
       "      <td>51137756</td>\n",
       "      <td>0</td>\n",
       "      <td>74</td>\n",
       "      <td>0.000000</td>\n",
       "    </tr>\n",
       "    <tr>\n",
       "      <th>4</th>\n",
       "      <td>Social_sciences</td>\n",
       "      <td>695042</td>\n",
       "      <td>0</td>\n",
       "      <td>121</td>\n",
       "      <td>0.000000</td>\n",
       "    </tr>\n",
       "  </tbody>\n",
       "</table>\n",
       "</div>"
      ],
      "text/plain": [
       "                  pages.title  pages.id  intersection  union   jaccard\n",
       "0                        Past  40822338             1     63  0.015873\n",
       "2                  Humanities   1004110             2    126  0.015873\n",
       "1  Main_topic_classifications   7345184             1     66  0.015152\n",
       "3                      Change  51137756             0     74  0.000000\n",
       "4             Social_sciences    695042             0    121  0.000000"
      ]
     },
     "execution_count": 60,
     "metadata": {},
     "output_type": "execute_result"
    }
   ],
   "source": [
    "%%time\n",
    "# function to calculate similarity between Category and all parent categories\n",
    "# Run-time for Category \"Finland\" on first run = 2.51 s\n",
    "chosenCategory = \"History\"\n",
    "\n",
    "chosenCatID = categoryByTitle(chosenCategory).iloc[0,1]\n",
    "parentSimilarities(chosenCatID)"
   ]
  },
  {
   "cell_type": "code",
   "execution_count": null,
   "metadata": {},
   "outputs": [],
   "source": [
    "# Next: write iteration bottom-up\n",
    "# Write breadth first traversal top-down"
   ]
  },
  {
   "cell_type": "code",
   "execution_count": 68,
   "metadata": {},
   "outputs": [
    {
     "name": "stdout",
     "output_type": "stream",
     "text": [
      "Wall time: 11 ms\n"
     ]
    },
    {
     "data": {
      "text/html": [
       "<div>\n",
       "<style scoped>\n",
       "    .dataframe tbody tr th:only-of-type {\n",
       "        vertical-align: middle;\n",
       "    }\n",
       "\n",
       "    .dataframe tbody tr th {\n",
       "        vertical-align: top;\n",
       "    }\n",
       "\n",
       "    .dataframe thead th {\n",
       "        text-align: right;\n",
       "    }\n",
       "</style>\n",
       "<table border=\"1\" class=\"dataframe\">\n",
       "  <thead>\n",
       "    <tr style=\"text-align: right;\">\n",
       "      <th></th>\n",
       "      <th>pages.title</th>\n",
       "      <th>pages.id</th>\n",
       "      <th>ID(pages)</th>\n",
       "    </tr>\n",
       "  </thead>\n",
       "  <tbody>\n",
       "    <tr>\n",
       "      <th>0</th>\n",
       "      <td>Australia</td>\n",
       "      <td>4689264</td>\n",
       "      <td>1238991</td>\n",
       "    </tr>\n",
       "    <tr>\n",
       "      <th>1</th>\n",
       "      <td>Australia</td>\n",
       "      <td>693538</td>\n",
       "      <td>5215234</td>\n",
       "    </tr>\n",
       "    <tr>\n",
       "      <th>2</th>\n",
       "      <td>Island_countries</td>\n",
       "      <td>7213567</td>\n",
       "      <td>5603775</td>\n",
       "    </tr>\n",
       "    <tr>\n",
       "      <th>3</th>\n",
       "      <td>Countries</td>\n",
       "      <td>691232</td>\n",
       "      <td>5214889</td>\n",
       "    </tr>\n",
       "    <tr>\n",
       "      <th>4</th>\n",
       "      <td>World</td>\n",
       "      <td>3260154</td>\n",
       "      <td>5846218</td>\n",
       "    </tr>\n",
       "    <tr>\n",
       "      <th>5</th>\n",
       "      <td>Main_topic_classifications</td>\n",
       "      <td>7345184</td>\n",
       "      <td>5614592</td>\n",
       "    </tr>\n",
       "  </tbody>\n",
       "</table>\n",
       "</div>"
      ],
      "text/plain": [
       "                  pages.title  pages.id  ID(pages)\n",
       "0                   Australia   4689264    1238991\n",
       "1                   Australia    693538    5215234\n",
       "2            Island_countries   7213567    5603775\n",
       "3                   Countries    691232    5214889\n",
       "4                       World   3260154    5846218\n",
       "5  Main_topic_classifications   7345184    5614592"
      ]
     },
     "execution_count": 68,
     "metadata": {},
     "output_type": "execute_result"
    }
   ],
   "source": [
    "%%time\n",
    "# (:Page {id: 7345184}) is Main_topics_classifications category node\n",
    "\n",
    "inputNode = 4689264\n",
    "\n",
    "commandToRun = 'MATCH path=shortestPath( \\\n",
    "                (:Page {id: %s})-[:BELONGS_TO*0..10]->(:Page {id: 7345184})) \\\n",
    "                UNWIND nodes(path) AS pages \\\n",
    "                RETURN pages.title, pages.id, ID(pages)' % (inputNode)\n",
    "\n",
    "'''cursor = graph.run(commandToRun)\n",
    "while cursor.forward():\n",
    "    print(cursor.current)'''\n",
    "\n",
    "shortestPath = pd.DataFrame(graph.run(commandToRun).data())\n",
    "shortestPath"
   ]
  },
  {
   "cell_type": "code",
   "execution_count": null,
   "metadata": {},
   "outputs": [],
   "source": [
    "%%time\n",
    "shortestPathToMTC(31557)"
   ]
  },
  {
   "cell_type": "code",
   "execution_count": null,
   "metadata": {},
   "outputs": [],
   "source": [
    "# MATCH path=shortestPath((station_44:STATION {id:44})-[*0..10]-(station_46:STATION {id:46}))\n",
    "# RETURN path"
   ]
  },
  {
   "cell_type": "code",
   "execution_count": null,
   "metadata": {},
   "outputs": [],
   "source": [
    "categoryByTitle('Articles')"
   ]
  },
  {
   "cell_type": "code",
   "execution_count": 67,
   "metadata": {},
   "outputs": [
    {
     "data": {
      "text/html": [
       "<div>\n",
       "<style scoped>\n",
       "    .dataframe tbody tr th:only-of-type {\n",
       "        vertical-align: middle;\n",
       "    }\n",
       "\n",
       "    .dataframe tbody tr th {\n",
       "        vertical-align: top;\n",
       "    }\n",
       "\n",
       "    .dataframe thead th {\n",
       "        text-align: right;\n",
       "    }\n",
       "</style>\n",
       "<table border=\"1\" class=\"dataframe\">\n",
       "  <thead>\n",
       "    <tr style=\"text-align: right;\">\n",
       "      <th></th>\n",
       "      <th>articles.title</th>\n",
       "      <th>articles.id</th>\n",
       "      <th>ID(articles)</th>\n",
       "    </tr>\n",
       "  </thead>\n",
       "  <tbody>\n",
       "    <tr>\n",
       "      <th>0</th>\n",
       "      <td>Australia</td>\n",
       "      <td>4689264</td>\n",
       "      <td>1238991</td>\n",
       "    </tr>\n",
       "  </tbody>\n",
       "</table>\n",
       "</div>"
      ],
      "text/plain": [
       "  articles.title  articles.id  ID(articles)\n",
       "0      Australia      4689264       1238991"
      ]
     },
     "execution_count": 67,
     "metadata": {},
     "output_type": "execute_result"
    }
   ],
   "source": [
    "articleByTitle('Australia')"
   ]
  },
  {
   "cell_type": "code",
   "execution_count": null,
   "metadata": {},
   "outputs": [],
   "source": [
    "getWithNeoID(2012406)"
   ]
  },
  {
   "cell_type": "code",
   "execution_count": null,
   "metadata": {},
   "outputs": [],
   "source": [
    "childPages(36)"
   ]
  },
  {
   "cell_type": "code",
   "execution_count": null,
   "metadata": {},
   "outputs": [],
   "source": [
    "%%time\n",
    "parentCategories(36)"
   ]
  },
  {
   "cell_type": "code",
   "execution_count": null,
   "metadata": {},
   "outputs": [],
   "source": [
    "%%time\n",
    "childPages(693995)"
   ]
  },
  {
   "cell_type": "code",
   "execution_count": null,
   "metadata": {},
   "outputs": [],
   "source": [
    "%%time\n",
    "# Return Category with specific title only if is a category\n",
    "\n",
    "CategoryToFind = 'Contents'\n",
    "commandToRun = 'MATCH (categories:Category:Page {title: \"%s\"}) \\\n",
    "                RETURN categories.title, categories.id, ID(categories)' % (CategoryToFind)\n",
    "namedCategory = graph.run(commandToRun).to_data_frame()\n",
    "namedCategory"
   ]
  },
  {
   "cell_type": "code",
   "execution_count": null,
   "metadata": {},
   "outputs": [],
   "source": [
    "set(parentCats[\"pages.id\"])"
   ]
  },
  {
   "cell_type": "code",
   "execution_count": null,
   "metadata": {},
   "outputs": [],
   "source": [
    "# Perform similarity calculation on each parent"
   ]
  },
  {
   "cell_type": "code",
   "execution_count": null,
   "metadata": {},
   "outputs": [],
   "source": [
    "# Select highest similarity"
   ]
  },
  {
   "cell_type": "code",
   "execution_count": null,
   "metadata": {},
   "outputs": [],
   "source": [
    "%%time\n",
    "# Query giving all category pages\n",
    "commandToRun = 'MATCH (pages:Category:Page) \\\n",
    "                RETURN pages.title, pages.id'\n",
    "\n",
    "allCategories = graph.run(commandToRun).to_data_frame()"
   ]
  },
  {
   "cell_type": "code",
   "execution_count": null,
   "metadata": {},
   "outputs": [],
   "source": [
    "%%time\n",
    "# Query giving all article pages\n",
    "commandToRun = 'MATCH (pages:Page) \\\n",
    "                WHERE NONE(art IN [pages] WHERE art:Category) \\\n",
    "                RETURN pages.title, pages.id'\n",
    "\n",
    "allArticles = graph.run(commandToRun).to_data_frame()"
   ]
  },
  {
   "cell_type": "code",
   "execution_count": null,
   "metadata": {},
   "outputs": [],
   "source": [
    "%%time\n",
    "# Query giving all Include pages\n",
    "commandToRun = 'MATCH (pages:Include) \\\n",
    "                RETURN pages.title, pages.id'\n",
    "\n",
    "allInclude = graph.run(commandToRun).to_data_frame()"
   ]
  },
  {
   "cell_type": "code",
   "execution_count": null,
   "metadata": {},
   "outputs": [],
   "source": [
    "allInclude"
   ]
  },
  {
   "cell_type": "markdown",
   "metadata": {},
   "source": [
    "# Test stuff -->"
   ]
  },
  {
   "cell_type": "code",
   "execution_count": null,
   "metadata": {},
   "outputs": [],
   "source": [
    "# Clean unwatnted nodes\n",
    "# Return nodes with title containing unwanted strings\n",
    "# Create graph excluding these"
   ]
  },
  {
   "cell_type": "code",
   "execution_count": null,
   "metadata": {},
   "outputs": [],
   "source": [
    "“by_year”, “of_the_year”, “List_of”, or “_in_”\n",
    "'Wikipedia_'"
   ]
  },
  {
   "cell_type": "code",
   "execution_count": null,
   "metadata": {},
   "outputs": [],
   "source": [
    "MATCH (n:Person)\n",
    "WHERE n.name = 'Peter' XOR (n.age < 30 AND n.name = 'Timothy') OR NOT (n.name = 'Timothy' OR n.name = 'Peter')\n",
    "RETURN n.name, n.age"
   ]
  },
  {
   "cell_type": "code",
   "execution_count": null,
   "metadata": {},
   "outputs": [],
   "source": [
    "%%time\n",
    "#Query returning notWanted category nodes\n",
    "commandToRun = \"MATCH (pages:Category:Page) \\\n",
    "                WHERE \\\n",
    "                pages.title STARTS WITH 'Wikipedia_' \\\n",
    "                OR pages.title STARTS WITH '1' \\\n",
    "                OR pages.title STARTS WITH '2' \\\n",
    "                OR pages.title STARTS WITH '3' \\\n",
    "                OR pages.title STARTS WITH '4' \\\n",
    "                OR pages.title STARTS WITH '5' \\\n",
    "                OR pages.title STARTS WITH '6' \\\n",
    "                OR pages.title STARTS WITH '7' \\\n",
    "                OR pages.title STARTS WITH '8' \\\n",
    "                OR pages.title STARTS WITH '9' \\\n",
    "                OR pages.title STARTS WITH '0' \\\n",
    "                OR pages.title STARTS WITH 'List_of' \\\n",
    "                OR pages.title STARTS WITH 'All_articles' \\\n",
    "                OR pages.title STARTS WITH 'Articles_' \\\n",
    "                OR pages.title CONTAINS 'by_year' \\\n",
    "                OR pages.title CONTAINS 'of_the_year' \\\n",
    "                OR pages.title CONTAINS '_in_' \\\n",
    "                RETURN pages.title, pages.id \\\n",
    "                \"\n",
    "nonWanted = graph.run(commandToRun).to_data_frame()"
   ]
  },
  {
   "cell_type": "code",
   "execution_count": null,
   "metadata": {},
   "outputs": [],
   "source": [
    "#nonWanted.loc[nonWanted[\"pages.title\"] == \"Wikipedia_articles_with_GND_identifiers\", :]\n",
    "nonWanted[100000:100150]"
   ]
  },
  {
   "cell_type": "code",
   "execution_count": null,
   "metadata": {},
   "outputs": [],
   "source": [
    "# len \"STARTS WITH 'Wikipedia_'\" = 28776\n",
    "nonWanted"
   ]
  },
  {
   "cell_type": "code",
   "execution_count": null,
   "metadata": {},
   "outputs": [],
   "source": [
    "%%time\n",
    "booksC = graph.run('MATCH (pages:Category:Page)-[:BELONGS_TO]->(:Page {title: \"Books\"}) RETURN pages.title, pages.id').to_data_frame()"
   ]
  },
  {
   "cell_type": "code",
   "execution_count": null,
   "metadata": {},
   "outputs": [],
   "source": [
    "%%time\n",
    "booksAll = graph.run('MATCH (pages:Page)-[:BELONGS_TO]->(:Page {title: \"Books\"}) RETURN pages.title, pages.id').to_data_frame()"
   ]
  },
  {
   "cell_type": "code",
   "execution_count": null,
   "metadata": {},
   "outputs": [],
   "source": [
    "%%time\n",
    "# Returns articles belonging to category \"Books\"\n",
    "booksArt = graph.run('MATCH (pages:Page)-[:BELONGS_TO]->(:Page {title: \"Books\"}) WHERE NONE(page IN [pages] WHERE page:Category) RETURN pages.title, pages.id').to_data_frame()"
   ]
  },
  {
   "cell_type": "code",
   "execution_count": null,
   "metadata": {},
   "outputs": [],
   "source": [
    "%%time\n",
    "booksAll2 = graph.run('MATCH (pages:Page)<-[:BELONGS_TO]-(:Page {title: \"Jacob_Abbot_Cummings\"}) RETURN pages').to_data_frame()"
   ]
  },
  {
   "cell_type": "code",
   "execution_count": null,
   "metadata": {},
   "outputs": [],
   "source": [
    "print(len(booksC))\n",
    "print(len(booksArt))\n",
    "print(len(booksAll))"
   ]
  },
  {
   "cell_type": "code",
   "execution_count": null,
   "metadata": {},
   "outputs": [],
   "source": [
    "booksAll2"
   ]
  },
  {
   "cell_type": "code",
   "execution_count": null,
   "metadata": {},
   "outputs": [],
   "source": []
  },
  {
   "cell_type": "markdown",
   "metadata": {},
   "source": [
    "## Step 1\n",
    "##### Take article title as input and return dataframe with identifying information"
   ]
  },
  {
   "cell_type": "code",
   "execution_count": null,
   "metadata": {},
   "outputs": [],
   "source": [
    "%%time\n",
    "# Return page with specific title only if is not category\n",
    "# Without WHERE clause, will return both article and category of same name if it exists\n",
    "\n",
    "ArticleToFind = 'Cat'\n",
    "commandToRun = 'MATCH (articles:Page {title: \"%s\"}) \\\n",
    "                WHERE NONE(art IN [articles] WHERE art:Category) \\\n",
    "                RETURN articles.title, articles.id, ID(articles)' % (ArticleToFind)\n",
    "namedArticle = graph.run(commandToRun).to_data_frame()\n",
    "namedArticle"
   ]
  },
  {
   "cell_type": "code",
   "execution_count": null,
   "metadata": {},
   "outputs": [],
   "source": []
  },
  {
   "cell_type": "code",
   "execution_count": null,
   "metadata": {},
   "outputs": [],
   "source": [
    "# Approach 2 - NOT NECESSARY"
   ]
  },
  {
   "cell_type": "code",
   "execution_count": null,
   "metadata": {},
   "outputs": [],
   "source": [
    "matcher = NodeMatcher(graph)"
   ]
  },
  {
   "cell_type": "code",
   "execution_count": null,
   "metadata": {},
   "outputs": [],
   "source": [
    "ArtWikiID = namedArticle[\"ID(articles)\"][0]"
   ]
  },
  {
   "cell_type": "code",
   "execution_count": null,
   "metadata": {},
   "outputs": [],
   "source": [
    "len(graph.match((matcher.get(ArtWikiID), None ), \"BELONGS_TO\"))"
   ]
  },
  {
   "cell_type": "code",
   "execution_count": null,
   "metadata": {},
   "outputs": [],
   "source": [
    "list(graph.match((matcher.get(ArtWikiID), None ), \"BELONGS_TO\"))"
   ]
  },
  {
   "cell_type": "code",
   "execution_count": null,
   "metadata": {},
   "outputs": [],
   "source": [
    "matcher.get(12)"
   ]
  }
 ],
 "metadata": {
  "kernelspec": {
   "display_name": "Python 3",
   "language": "python",
   "name": "python3"
  },
  "language_info": {
   "codemirror_mode": {
    "name": "ipython",
    "version": 3
   },
   "file_extension": ".py",
   "mimetype": "text/x-python",
   "name": "python",
   "nbconvert_exporter": "python",
   "pygments_lexer": "ipython3",
   "version": "3.8.2"
  }
 },
 "nbformat": 4,
 "nbformat_minor": 4
}
