{
 "cells": [
  {
   "cell_type": "code",
   "execution_count": null,
   "metadata": {},
   "outputs": [],
   "source": [
    "import pandas as pd\n",
    "import numpy as np\n",
    "import csv\n",
    "import re\n",
    "from ast import literal_eval\n",
    "import time"
   ]
  },
  {
   "cell_type": "code",
   "execution_count": null,
   "metadata": {},
   "outputs": [],
   "source": [
    "pd.set_option('display.max_rows', 500)\n",
    "pd.set_option('display.max_columns', 500)\n",
    "pd.set_option('display.max_colwidth', 1000)"
   ]
  },
  {
   "cell_type": "markdown",
   "metadata": {},
   "source": [
    "### Import data from csv:s"
   ]
  },
  {
   "cell_type": "code",
   "execution_count": null,
   "metadata": {},
   "outputs": [],
   "source": [
    "FILE_PATH_CAT = 'F:/wikipedia-data/outputs/categories.csv'\n",
    "FILE_PATH_ART = 'F:/wikipedia-data/outputs/articles_without_links.csv'"
   ]
  },
  {
   "cell_type": "code",
   "execution_count": null,
   "metadata": {},
   "outputs": [],
   "source": [
    "%%time\n",
    "cat_origData = pd.read_csv(FILE_PATH_CAT)"
   ]
  },
  {
   "cell_type": "code",
   "execution_count": null,
   "metadata": {},
   "outputs": [],
   "source": [
    "%%time\n",
    "# Make transformations to cat_origData\n",
    "\n",
    "cat_origData['title'] = cat_origData['title'].apply(lambda x: str(x))\n",
    "cat_origData['parentCategories'] = cat_origData['parentCategories'].apply(lambda x: literal_eval(x))"
   ]
  },
  {
   "cell_type": "code",
   "execution_count": null,
   "metadata": {},
   "outputs": [],
   "source": [
    "%%time\n",
    "art_origData = pd.read_csv(FILE_PATH_ART)"
   ]
  },
  {
   "cell_type": "code",
   "execution_count": null,
   "metadata": {},
   "outputs": [],
   "source": [
    "%%time\n",
    "# Make transformations on art_origData\n",
    "\n",
    "art_origData['title'] = art_origData['title'].apply(lambda x: str(x))\n",
    "art_origData['parentCategories'] = art_origData['parentCategories'].apply(lambda x: literal_eval(x))"
   ]
  },
  {
   "cell_type": "markdown",
   "metadata": {},
   "source": [
    "### Create wikiID to title mapping Series"
   ]
  },
  {
   "cell_type": "code",
   "execution_count": null,
   "metadata": {},
   "outputs": [],
   "source": [
    "%%time\n",
    "# set category name to wikipediaID mapping series\n",
    "\n",
    "wikiId_mapping = cat_origData.drop(columns=['parentCategories'])\n",
    "wikiId_mapping = wikiId_mapping.append(art_origData.drop(columns=['parentCategories']))\n",
    "wikiId_mapping[\"title\"] = wikiId_mapping[\"title\"].apply(lambda x: str(x))\n",
    "wikiId_mapping.reset_index(drop = True, inplace = True)\n"
   ]
  },
  {
   "cell_type": "code",
   "execution_count": null,
   "metadata": {},
   "outputs": [],
   "source": [
    "%%time\n",
    "# Drop title = nan (~16 000 rows)\n",
    "\n",
    "toDrop = wikiId_mapping.loc[wikiId_mapping[\"title\"] == \"nan\", :].index\n",
    "wikiId_mapping.drop(toDrop, inplace = True)"
   ]
  },
  {
   "cell_type": "code",
   "execution_count": null,
   "metadata": {},
   "outputs": [],
   "source": [
    "%%time\n",
    "# Dropping duplicate values in title (4 rows droppes, last instance kept)\n",
    "\n",
    "wikiId_mapping.drop_duplicates(subset = \"title\", keep = \"last\", inplace = True)"
   ]
  },
  {
   "cell_type": "code",
   "execution_count": null,
   "metadata": {},
   "outputs": [],
   "source": [
    "wikiId_mapping.set_index(\"title\", inplace = True)\n",
    "wikiId_mapping = wikiId_mapping.squeeze()"
   ]
  },
  {
   "cell_type": "code",
   "execution_count": null,
   "metadata": {},
   "outputs": [],
   "source": [
    "wikiId_mapping"
   ]
  },
  {
   "cell_type": "markdown",
   "metadata": {},
   "source": [
    "### Function definition"
   ]
  },
  {
   "cell_type": "code",
   "execution_count": null,
   "metadata": {},
   "outputs": [],
   "source": [
    "# Define function for mapping wikipediaID\n",
    "\n",
    "def tryIDmap(x):\n",
    "    try:\n",
    "        return wikiId_mapping[x]\n",
    "    except:\n",
    "        return \"NO_WIKIPEDIA_ID\""
   ]
  },
  {
   "cell_type": "markdown",
   "metadata": {},
   "source": [
    "### Category data to vertex dataframe input"
   ]
  },
  {
   "cell_type": "code",
   "execution_count": null,
   "metadata": {},
   "outputs": [],
   "source": [
    "# id = page name\n",
    "# type = Category\n",
    "# depth = null"
   ]
  },
  {
   "cell_type": "code",
   "execution_count": null,
   "metadata": {},
   "outputs": [],
   "source": [
    "%%time\n",
    "# Replace based on transformed data\n",
    "\n",
    "cat_vertex = pd.DataFrame(columns=[\"id\", \"wikipedia-id\", \"type\", \"depth\"])\n",
    "\n",
    "cat_vertex[\"id\"] = cat_origData['title'].apply(lambda x: str(x))\n",
    "cat_vertex[\"wikipedia-id\"] = cat_origData['id'].apply(lambda x: str(x))\n",
    "cat_vertex[\"type\"] = \"Category\""
   ]
  },
  {
   "cell_type": "code",
   "execution_count": null,
   "metadata": {},
   "outputs": [],
   "source": [
    "cat_vertex.to_csv('F:/wikipedia-data/outputs/for-graphframes/cat_vertex.csv', index = False)"
   ]
  },
  {
   "cell_type": "code",
   "execution_count": null,
   "metadata": {},
   "outputs": [],
   "source": [
    "cat_vertex"
   ]
  },
  {
   "cell_type": "markdown",
   "metadata": {},
   "source": [
    "### Article data to vertex dataframe input"
   ]
  },
  {
   "cell_type": "code",
   "execution_count": null,
   "metadata": {},
   "outputs": [],
   "source": [
    "# id = page name\n",
    "# type = Article\n",
    "# depth = null"
   ]
  },
  {
   "cell_type": "code",
   "execution_count": null,
   "metadata": {},
   "outputs": [],
   "source": [
    "%%time\n",
    "# Update based on above\n",
    "\n",
    "art_vertex = pd.DataFrame(columns=[\"id\", \"wikipedia-id\", \"type\", \"depth\"])\n",
    "\n",
    "art_vertex[\"id\"] = art_origData['title'].apply(lambda x: str(x))\n",
    "art_vertex[\"wikipedia-id\"] = art_origData['id'].apply(lambda x: str(x))\n",
    "art_vertex[\"type\"] = \"Article\""
   ]
  },
  {
   "cell_type": "code",
   "execution_count": null,
   "metadata": {},
   "outputs": [],
   "source": [
    "art_vertex.to_csv('F:/wikipedia-data/outputs/for-graphframes/art_vertex.csv', index = False)"
   ]
  },
  {
   "cell_type": "code",
   "execution_count": null,
   "metadata": {},
   "outputs": [],
   "source": [
    "art_vertex"
   ]
  },
  {
   "cell_type": "markdown",
   "metadata": {},
   "source": [
    "### Category data to edge dataframe input"
   ]
  },
  {
   "cell_type": "code",
   "execution_count": null,
   "metadata": {},
   "outputs": [],
   "source": [
    "# src = from partentCategory column\n",
    "# dst = from title columns\n",
    "# intersection = null\n",
    "# union = null\n",
    "# similarity = null"
   ]
  },
  {
   "cell_type": "code",
   "execution_count": null,
   "metadata": {},
   "outputs": [],
   "source": [
    "# Explode dataframe\n",
    "# Make string adjustments\n",
    "# Add wikipedia ids"
   ]
  },
  {
   "cell_type": "code",
   "execution_count": null,
   "metadata": {},
   "outputs": [],
   "source": [
    "%%time\n",
    "# Explode dataframe\n",
    "catcat_edge = cat_origData.explode(\"parentCategories\")"
   ]
  },
  {
   "cell_type": "code",
   "execution_count": null,
   "metadata": {},
   "outputs": [],
   "source": [
    "# rename columns: title -> dst ; parentCategories -> src ; id -> dst-wikipediaID\n",
    "catcat_edge.rename(columns={'title':'dst', 'parentCategories':'src', 'id':'dst-wikipediaID'}, inplace=True)"
   ]
  },
  {
   "cell_type": "code",
   "execution_count": null,
   "metadata": {},
   "outputs": [],
   "source": [
    "%%time\n",
    "# String adjustments\n",
    "\n",
    "catcat_edge['src'] = catcat_edge['src'].apply(lambda x: re.sub(\"(\\|)(.+)\", '', str(x)))\n",
    "catcat_edge['src'] = catcat_edge['src'].apply(lambda x: re.sub(\"(\\|)\", '', str(x)))\n",
    "catcat_edge['src'] = catcat_edge['src'].apply(lambda x: \"Category:\" + str(x))\n"
   ]
  },
  {
   "cell_type": "code",
   "execution_count": null,
   "metadata": {},
   "outputs": [],
   "source": [
    "%%time\n",
    "# Drop rows with 'src' = 'Category:nan' i.e. those that have no parent categories\n",
    "\n",
    "toDrop = catcat_edge.loc[catcat_edge[\"src\"] == \"Category:nan\", :].index\n",
    "catcat_edge.drop(toDrop, inplace = True)"
   ]
  },
  {
   "cell_type": "code",
   "execution_count": null,
   "metadata": {},
   "outputs": [],
   "source": [
    "%%time\n",
    "# add src-wikipediaID\n",
    "\n",
    "catcat_edge[\"src-wikipediaID\"] = catcat_edge[\"src\"].apply(lambda x: tryIDmap(str(x)))"
   ]
  },
  {
   "cell_type": "code",
   "execution_count": null,
   "metadata": {},
   "outputs": [],
   "source": [
    "%%time\n",
    "catcat_edge[\"type\"] = \"cat2cat\"\n",
    "catcat_edge[\"intersection\"] = np.nan\n",
    "catcat_edge[\"union\"] = np.nan\n",
    "catcat_edge[\"similarity\"] = np.nan"
   ]
  },
  {
   "cell_type": "code",
   "execution_count": null,
   "metadata": {},
   "outputs": [],
   "source": [
    "%%time\n",
    "# Rearrange column order\n",
    "\n",
    "catcat_edge = catcat_edge[[\"src\", \"dst\", \"src-wikipediaID\", \"dst-wikipediaID\", \"type\", \"intersection\", \"union\", \"similarity\"]]\n",
    "catcat_edge.reset_index(drop = True, inplace = True)"
   ]
  },
  {
   "cell_type": "code",
   "execution_count": null,
   "metadata": {},
   "outputs": [],
   "source": [
    "catcat_edge"
   ]
  },
  {
   "cell_type": "code",
   "execution_count": null,
   "metadata": {},
   "outputs": [],
   "source": [
    "# wikiId_mapping[\"Category:Main topic classifications\"]"
   ]
  },
  {
   "cell_type": "code",
   "execution_count": null,
   "metadata": {},
   "outputs": [],
   "source": [
    "%%time\n",
    "catcat_edge.to_csv('F:/wikipedia-data/outputs/for-graphframes/catcat_edge.csv', index = False)"
   ]
  },
  {
   "cell_type": "markdown",
   "metadata": {},
   "source": [
    "### Article to category data to edge dataframe input"
   ]
  },
  {
   "cell_type": "code",
   "execution_count": null,
   "metadata": {},
   "outputs": [],
   "source": [
    "# analogous to above\n",
    "\n",
    "# Explode dataframe\n",
    "# Make string adjustments - also #\n",
    "# Add wikipedia ids"
   ]
  },
  {
   "cell_type": "code",
   "execution_count": null,
   "metadata": {},
   "outputs": [],
   "source": [
    "%%time\n",
    "# Explode dataframe\n",
    "catart_edge = art_origData.explode(\"parentCategories\")"
   ]
  },
  {
   "cell_type": "code",
   "execution_count": null,
   "metadata": {},
   "outputs": [],
   "source": [
    "# rename columns: title -> dst ; parentCategories -> src ; id -> dst-wikipediaID\n",
    "catart_edge.rename(columns={'title':'dst', 'parentCategories':'src', 'id':'dst-wikipediaID'}, inplace=True)"
   ]
  },
  {
   "cell_type": "code",
   "execution_count": null,
   "metadata": {},
   "outputs": [],
   "source": [
    "%%time\n",
    "# String adjustments\n",
    "\n",
    "catart_edge['src'] = catart_edge['src'].apply(lambda x: \"Category:\" + str(x))\n",
    "\n",
    "catart_edge['src'] = catart_edge['src'].apply(lambda x: re.sub(\"(\\|)(.+)\", '', str(x)))\n",
    "catart_edge['src'] = catart_edge['src'].apply(lambda x: re.sub(\"(\\|)\", '', str(x)))\n",
    "\n",
    "catart_edge['src'] = catart_edge['src'].apply(lambda x: re.sub(\"(\\#)(.+)\", '', str(x)))\n",
    "catart_edge['src'] = catart_edge['src'].apply(lambda x: re.sub(\"(\\#)\", '', str(x)))"
   ]
  },
  {
   "cell_type": "code",
   "execution_count": null,
   "metadata": {},
   "outputs": [],
   "source": [
    "%%time\n",
    "# Drop rows with 'src' = 'Category:nan' i.e. those that have no parent categories\n",
    "\n",
    "toDrop = catart_edge.loc[catart_edge[\"src\"] == \"Category:nan\", :].index\n",
    "catart_edge.drop(toDrop, inplace = True)"
   ]
  },
  {
   "cell_type": "code",
   "execution_count": null,
   "metadata": {},
   "outputs": [],
   "source": [
    "%%time\n",
    "# add src-wikipediaID\n",
    "\n",
    "catart_edge[\"src-wikipediaID\"] = catart_edge[\"src\"].apply(lambda x: tryIDmap(str(x)))"
   ]
  },
  {
   "cell_type": "code",
   "execution_count": null,
   "metadata": {},
   "outputs": [],
   "source": [
    "%%time\n",
    "catart_edge[\"type\"] = \"cat2art\"\n",
    "catart_edge[\"intersection\"] = np.nan\n",
    "catart_edge[\"union\"] = np.nan\n",
    "catart_edge[\"similarity\"] = np.nan"
   ]
  },
  {
   "cell_type": "code",
   "execution_count": null,
   "metadata": {},
   "outputs": [],
   "source": [
    "%%time\n",
    "# Rearrange column order\n",
    "\n",
    "catart_edge = catart_edge[[\"src\", \"dst\", \"src-wikipediaID\", \"dst-wikipediaID\", \"type\", \"intersection\", \"union\", \"similarity\"]]\n",
    "catart_edge.reset_index(drop = True, inplace = True)"
   ]
  },
  {
   "cell_type": "code",
   "execution_count": null,
   "metadata": {},
   "outputs": [],
   "source": [
    "%%time\n",
    "catart_edge"
   ]
  },
  {
   "cell_type": "code",
   "execution_count": null,
   "metadata": {},
   "outputs": [],
   "source": [
    "%%time\n",
    "catart_edge.to_csv('F:/wikipedia-data/outputs/for-graphframes/catart_edge.csv', index = False)"
   ]
  },
  {
   "cell_type": "markdown",
   "metadata": {},
   "source": [
    "### TBD - Article to article links data to edge dataframe input"
   ]
  },
  {
   "cell_type": "code",
   "execution_count": null,
   "metadata": {},
   "outputs": [],
   "source": [
    "# analogous to above\n",
    "\n",
    "# Necessary string edits\n",
    "## Remove all entries containing :\n",
    "## Some links are to redirects --> need to be connected to article\n",
    "## Remove all after pipe and #\n"
   ]
  },
  {
   "cell_type": "markdown",
   "metadata": {},
   "source": [
    "### Append vertex and edge dataframes to csvs"
   ]
  },
  {
   "cell_type": "code",
   "execution_count": null,
   "metadata": {},
   "outputs": [],
   "source": [
    "%%time\n",
    "all_vertex = cat_vertex.append(art_vertex, ignore_index = True)"
   ]
  },
  {
   "cell_type": "code",
   "execution_count": null,
   "metadata": {},
   "outputs": [],
   "source": [
    "all_vertex"
   ]
  },
  {
   "cell_type": "code",
   "execution_count": null,
   "metadata": {},
   "outputs": [],
   "source": [
    "%%time\n",
    "all_edge = catcat_edge.append(catart_edge, ignore_index = True)"
   ]
  },
  {
   "cell_type": "code",
   "execution_count": null,
   "metadata": {},
   "outputs": [],
   "source": [
    "all_edge"
   ]
  },
  {
   "cell_type": "code",
   "execution_count": null,
   "metadata": {},
   "outputs": [],
   "source": [
    "%%time\n",
    "all_vertex.to_csv('F:/wikipedia-data/outputs/for-graphframes/all_vertex.csv', index = False)\n",
    "all_edge.to_csv('F:/wikipedia-data/outputs/for-graphframes/all_edge.csv', index = False)"
   ]
  }
 ],
 "metadata": {
  "kernelspec": {
   "display_name": "Python 3",
   "language": "python",
   "name": "python3"
  },
  "language_info": {
   "codemirror_mode": {
    "name": "ipython",
    "version": 3
   },
   "file_extension": ".py",
   "mimetype": "text/x-python",
   "name": "python",
   "nbconvert_exporter": "python",
   "pygments_lexer": "ipython3",
   "version": "3.8.2"
  }
 },
 "nbformat": 4,
 "nbformat_minor": 4
}
