{
 "cells": [
  {
   "cell_type": "code",
   "execution_count": 1,
   "metadata": {},
   "outputs": [],
   "source": [
    "# Explode appropriate parts of category data\n",
    "# Implement categorization rules\n",
    "# Test accuracy against existing categorization"
   ]
  },
  {
   "cell_type": "code",
   "execution_count": 2,
   "metadata": {},
   "outputs": [],
   "source": [
    "import pandas as pd\n",
    "import numpy as np\n",
    "import seaborn as sns\n",
    "import time\n",
    "import glob\n",
    "import re"
   ]
  },
  {
   "cell_type": "code",
   "execution_count": 3,
   "metadata": {},
   "outputs": [],
   "source": [
    "pd.set_option('display.max_rows', 500)\n",
    "pd.set_option('display.max_columns', 500)\n",
    "pd.set_option('display.max_colwidth', 1000)"
   ]
  },
  {
   "cell_type": "code",
   "execution_count": 4,
   "metadata": {},
   "outputs": [],
   "source": [
    "Run = \"../workproduct-files/batchRuns/\"\n"
   ]
  },
  {
   "cell_type": "code",
   "execution_count": 5,
   "metadata": {},
   "outputs": [],
   "source": [
    "RunMeta = pd.read_csv(\"../workproduct-files/batchRuns.csv\", delimiter=\";\")\n"
   ]
  },
  {
   "cell_type": "code",
   "execution_count": 6,
   "metadata": {},
   "outputs": [],
   "source": [
    "t_data = pd.read_pickle(\"../workproduct-files/t_dataMaster-keywordsIdentified.pkl\")"
   ]
  },
  {
   "cell_type": "code",
   "execution_count": 7,
   "metadata": {},
   "outputs": [
    {
     "data": {
      "text/html": [
       "<div>\n",
       "<style scoped>\n",
       "    .dataframe tbody tr th:only-of-type {\n",
       "        vertical-align: middle;\n",
       "    }\n",
       "\n",
       "    .dataframe tbody tr th {\n",
       "        vertical-align: top;\n",
       "    }\n",
       "\n",
       "    .dataframe thead th {\n",
       "        text-align: right;\n",
       "    }\n",
       "</style>\n",
       "<table border=\"1\" class=\"dataframe\">\n",
       "  <thead>\n",
       "    <tr style=\"text-align: right;\">\n",
       "      <th></th>\n",
       "      <th>startIndex</th>\n",
       "      <th>stopIndex</th>\n",
       "      <th>startTime</th>\n",
       "      <th>endTime</th>\n",
       "      <th>runTime</th>\n",
       "    </tr>\n",
       "  </thead>\n",
       "  <tbody>\n",
       "    <tr>\n",
       "      <th>0</th>\n",
       "      <td>-1</td>\n",
       "      <td>-1</td>\n",
       "      <td>NaN</td>\n",
       "      <td>NaN</td>\n",
       "      <td>NaN</td>\n",
       "    </tr>\n",
       "    <tr>\n",
       "      <th>1</th>\n",
       "      <td>0</td>\n",
       "      <td>9</td>\n",
       "      <td>2020-10-03 15:57:52</td>\n",
       "      <td>2020-10-03 16:02:54</td>\n",
       "      <td>302.0</td>\n",
       "    </tr>\n",
       "    <tr>\n",
       "      <th>2</th>\n",
       "      <td>10</td>\n",
       "      <td>19</td>\n",
       "      <td>2020-10-03 16:02:54</td>\n",
       "      <td>2020-10-03 16:04:33</td>\n",
       "      <td>99.0</td>\n",
       "    </tr>\n",
       "    <tr>\n",
       "      <th>3</th>\n",
       "      <td>20</td>\n",
       "      <td>29</td>\n",
       "      <td>2020-10-03 16:04:33</td>\n",
       "      <td>2020-10-03 16:10:09</td>\n",
       "      <td>336.0</td>\n",
       "    </tr>\n",
       "    <tr>\n",
       "      <th>4</th>\n",
       "      <td>30</td>\n",
       "      <td>39</td>\n",
       "      <td>2020-10-03 16:10:09</td>\n",
       "      <td>2020-10-03 16:12:35</td>\n",
       "      <td>146.0</td>\n",
       "    </tr>\n",
       "    <tr>\n",
       "      <th>...</th>\n",
       "      <td>...</td>\n",
       "      <td>...</td>\n",
       "      <td>...</td>\n",
       "      <td>...</td>\n",
       "      <td>...</td>\n",
       "    </tr>\n",
       "    <tr>\n",
       "      <th>12770</th>\n",
       "      <td>64515</td>\n",
       "      <td>64519</td>\n",
       "      <td>2020-10-26 00:37:08</td>\n",
       "      <td>2020-10-26 00:38:54</td>\n",
       "      <td>106.0</td>\n",
       "    </tr>\n",
       "    <tr>\n",
       "      <th>12771</th>\n",
       "      <td>64520</td>\n",
       "      <td>64524</td>\n",
       "      <td>2020-10-26 00:38:54</td>\n",
       "      <td>2020-10-26 00:39:06</td>\n",
       "      <td>12.0</td>\n",
       "    </tr>\n",
       "    <tr>\n",
       "      <th>12772</th>\n",
       "      <td>64525</td>\n",
       "      <td>64529</td>\n",
       "      <td>2020-10-26 00:39:06</td>\n",
       "      <td>2020-10-26 00:39:54</td>\n",
       "      <td>48.0</td>\n",
       "    </tr>\n",
       "    <tr>\n",
       "      <th>12773</th>\n",
       "      <td>64530</td>\n",
       "      <td>64534</td>\n",
       "      <td>2020-10-26 00:39:54</td>\n",
       "      <td>2020-10-26 00:42:05</td>\n",
       "      <td>131.0</td>\n",
       "    </tr>\n",
       "    <tr>\n",
       "      <th>12774</th>\n",
       "      <td>64535</td>\n",
       "      <td>64538</td>\n",
       "      <td>2020-10-26 00:42:05</td>\n",
       "      <td>2020-10-26 00:42:32</td>\n",
       "      <td>27.0</td>\n",
       "    </tr>\n",
       "  </tbody>\n",
       "</table>\n",
       "<p>12775 rows × 5 columns</p>\n",
       "</div>"
      ],
      "text/plain": [
       "       startIndex  stopIndex            startTime              endTime  \\\n",
       "0              -1         -1                  NaN                  NaN   \n",
       "1               0          9  2020-10-03 15:57:52  2020-10-03 16:02:54   \n",
       "2              10         19  2020-10-03 16:02:54  2020-10-03 16:04:33   \n",
       "3              20         29  2020-10-03 16:04:33  2020-10-03 16:10:09   \n",
       "4              30         39  2020-10-03 16:10:09  2020-10-03 16:12:35   \n",
       "...           ...        ...                  ...                  ...   \n",
       "12770       64515      64519  2020-10-26 00:37:08  2020-10-26 00:38:54   \n",
       "12771       64520      64524  2020-10-26 00:38:54  2020-10-26 00:39:06   \n",
       "12772       64525      64529  2020-10-26 00:39:06  2020-10-26 00:39:54   \n",
       "12773       64530      64534  2020-10-26 00:39:54  2020-10-26 00:42:05   \n",
       "12774       64535      64538  2020-10-26 00:42:05  2020-10-26 00:42:32   \n",
       "\n",
       "       runTime  \n",
       "0          NaN  \n",
       "1        302.0  \n",
       "2         99.0  \n",
       "3        336.0  \n",
       "4        146.0  \n",
       "...        ...  \n",
       "12770    106.0  \n",
       "12771     12.0  \n",
       "12772     48.0  \n",
       "12773    131.0  \n",
       "12774     27.0  \n",
       "\n",
       "[12775 rows x 5 columns]"
      ]
     },
     "execution_count": 7,
     "metadata": {},
     "output_type": "execute_result"
    }
   ],
   "source": [
    "RunMeta"
   ]
  },
  {
   "cell_type": "code",
   "execution_count": 8,
   "metadata": {},
   "outputs": [],
   "source": [
    "Run_time = RunMeta.iloc[:,-1].sum(skipna = True)"
   ]
  },
  {
   "cell_type": "code",
   "execution_count": 9,
   "metadata": {},
   "outputs": [
    {
     "data": {
      "text/plain": [
       "16.51244212962963"
      ]
     },
     "execution_count": 9,
     "metadata": {},
     "output_type": "execute_result"
    }
   ],
   "source": [
    "#Total run time in days\n",
    "Run_time/3600/24"
   ]
  },
  {
   "cell_type": "code",
   "execution_count": 10,
   "metadata": {},
   "outputs": [
    {
     "data": {
      "text/plain": [
       "16.630647656046452"
      ]
     },
     "execution_count": 10,
     "metadata": {},
     "output_type": "execute_result"
    }
   ],
   "source": [
    "#Days at average speed per row\n",
    "Run_time/RunMeta.iloc[-1,1]*65000/3600/24"
   ]
  },
  {
   "cell_type": "code",
   "execution_count": 11,
   "metadata": {},
   "outputs": [],
   "source": [
    "Run_files = glob.glob(Run + \"*.pkl\")\n"
   ]
  },
  {
   "cell_type": "code",
   "execution_count": null,
   "metadata": {},
   "outputs": [],
   "source": [
    "%%time\n",
    "RunDF = pd.DataFrame()\n",
    "for filename in Run_files:\n",
    "    RunDF = RunDF.append(pd.read_pickle(filename))\n",
    "RunDF = RunDF.sort_index()"
   ]
  },
  {
   "cell_type": "code",
   "execution_count": null,
   "metadata": {},
   "outputs": [],
   "source": [
    "Run_wikisearchFailed = len(RunDF[RunDF.wikipediaSearchSuccessful == False])\n",
    "Run_wikisearchFailed"
   ]
  },
  {
   "cell_type": "code",
   "execution_count": null,
   "metadata": {},
   "outputs": [],
   "source": [
    "def successIndex(a):\n",
    "    try:\n",
    "        result = a.index(\"SUCCESS\")\n",
    "    except ValueError:\n",
    "        result = -1\n",
    "    \n",
    "    return result"
   ]
  },
  {
   "cell_type": "code",
   "execution_count": null,
   "metadata": {},
   "outputs": [],
   "source": [
    "RunDF[\"searchTermUsed_idx\"] = RunDF[\"findQuestionCategories_meta\"].apply(lambda x: successIndex(x))"
   ]
  },
  {
   "cell_type": "code",
   "execution_count": null,
   "metadata": {},
   "outputs": [],
   "source": [
    "%%time\n",
    "for row in RunDF.index:\n",
    "    if RunDF.loc[row, \"searchTermUsed_idx\"] != -1:\n",
    "        RunDF.loc[row, \"searchTermUsed\"] = RunDF.loc[row, \"searchTerms\"][RunDF.loc[row, \"searchTermUsed_idx\"]]\n",
    "    else:\n",
    "        RunDF.loc[row, \"searchTermUsed\"] = None\n",
    "    "
   ]
  },
  {
   "cell_type": "code",
   "execution_count": null,
   "metadata": {},
   "outputs": [],
   "source": [
    "RunDF"
   ]
  },
  {
   "cell_type": "code",
   "execution_count": null,
   "metadata": {},
   "outputs": [],
   "source": [
    "#Combine dataframes leaving out searchTerms from RunDF (duplicate in result)\n",
    "t_dataRun = pd.concat([t_data, RunDF.iloc[:,1:]], axis = 1, join = \"inner\")"
   ]
  },
  {
   "cell_type": "code",
   "execution_count": null,
   "metadata": {},
   "outputs": [],
   "source": [
    "# Suboptimal solution, only for preanalyses. If excludes iloc operation on rows with value None\n",
    "t_dataRun[\"WikipediaHighestCat\"] = t_dataRun[\"categoryPath\"].apply(lambda x: x.iloc[-2, 0] if (type(x) is not type(None)) else None)"
   ]
  },
  {
   "cell_type": "code",
   "execution_count": null,
   "metadata": {},
   "outputs": [],
   "source": [
    "t_dataRun[\"categoryPathList\"] = t_dataRun[\"categoryPath\"].apply(lambda x: list(reversed(x.iloc[:,0])) if (type(x) is not type(None)) else [])"
   ]
  },
  {
   "cell_type": "code",
   "execution_count": null,
   "metadata": {},
   "outputs": [],
   "source": [
    "t_dataRun[\"categoryPathList\"]"
   ]
  },
  {
   "cell_type": "code",
   "execution_count": null,
   "metadata": {},
   "outputs": [],
   "source": [
    "# For each category level in max level count\n",
    "# Add column with level data\n",
    "for lvl in range(max(t_dataRun[\"categoryPathList\"].apply(lambda x: len(x)))):\n",
    "    t_dataRun[\"WikiCat_\" + str(lvl)] = t_dataRun[\"categoryPathList\"].apply(lambda x: x[lvl] if len(x) > lvl else None)"
   ]
  },
  {
   "cell_type": "code",
   "execution_count": null,
   "metadata": {},
   "outputs": [],
   "source": [
    "t_dataRun.columns"
   ]
  },
  {
   "cell_type": "markdown",
   "metadata": {},
   "source": [
    "# CATEGORIZATION RULES"
   ]
  },
  {
   "cell_type": "markdown",
   "metadata": {},
   "source": [
    "## Wikipedia path final category"
   ]
  },
  {
   "cell_type": "code",
   "execution_count": null,
   "metadata": {},
   "outputs": [],
   "source": [
    "# Wikipedia category level 1 mapping\n",
    "# See spreadsheet https://docs.google.com/spreadsheets/d/1c4g4MujTgaqTn5wG5I-ARY06g7rlnHst0whojsFbps8/edit?usp=sharing\n",
    "MAPPING_wiki_to_trivia = {'History':'History and society' ,'Reference':'None' ,'Law':'History and society' ,'Religion':'History and society' ,'Education':'History and society' ,'Philosophy':'Science and nature' ,'Politics':'History and society' ,'Science_and_technology':'Science and nature' ,'Sports':'Sports and hobbies' ,'Language':'Art and literature' ,'Nature':'Science and nature' ,'Geography':'Geography and places' ,'Arts':'Art and literature' ,'Society':'History and society' ,'Culture':'History and society' ,'Health':'Science and nature' ,'Mathematics':'Science and nature' ,'Universe':'Science and nature' ,'Events':'History and society' ,'Humanities':'Art and literature' ,'Life':'Science and nature' ,'Entertainment':'Entertainment and games' }\n"
   ]
  },
  {
   "cell_type": "code",
   "execution_count": null,
   "metadata": {},
   "outputs": [],
   "source": [
    "t_dataRun[\"WikiPath_Category\"] = t_dataRun[\"WikiCat_1\"].replace(MAPPING_wiki_to_trivia)"
   ]
  },
  {
   "cell_type": "markdown",
   "metadata": {},
   "source": [
    "## Wikipedia path exceptions"
   ]
  },
  {
   "cell_type": "code",
   "execution_count": null,
   "metadata": {},
   "outputs": [],
   "source": [
    "# https://docs.google.com/spreadsheets/d/1c4g4MujTgaqTn5wG5I-ARY06g7rlnHst0whojsFbps8/edit#gid=2055637170\n",
    "# Mapping list\n",
    "exceptionCategories = [('3', 'Literature', 'Art and literature'),('2', 'Food_and_drink', 'Sports and hobbies'),('5', 'Plants', 'Science and nature'),('3', 'Ethnobiology', 'Science and nature'),('2', 'Artificial_objects', 'Science and nature'),('4', 'Diseases_and_disorders', 'Science and nature'),('2', 'Performing_arts', 'Art and literature'),('2', 'Gaming', 'Entertainment and games'),('4', 'Anthropology_of_religion', 'History and society'),('3', 'Leisure', 'Sports and hobbies'),('4', 'Physical_geography', 'Geography and places')]"
   ]
  },
  {
   "cell_type": "code",
   "execution_count": null,
   "metadata": {},
   "outputs": [],
   "source": [
    "# Take dataframe row as input\n",
    "# If several exceptions apply, algorithm returns the one listed last in exceptionCategories\n",
    "def findExceptionWikiCatRows(a):\n",
    "    \n",
    "    result = \"\"\n",
    "    \n",
    "    for exep in exceptionCategories:\n",
    "        if a[\"WikiCat_\" + str(exep[0])] == exep[1]:\n",
    "            result = exep[2]\n",
    "    \n",
    "    return result\n",
    "    "
   ]
  },
  {
   "cell_type": "code",
   "execution_count": null,
   "metadata": {},
   "outputs": [],
   "source": [
    "row = t_dataRun.iloc[4277]\n",
    "findExceptionWikiCatRows(row)"
   ]
  },
  {
   "cell_type": "code",
   "execution_count": null,
   "metadata": {},
   "outputs": [],
   "source": [
    "%%time\n",
    "t_dataRun[\"WikiPath_Exceptions\"] = t_dataRun.apply(lambda x: findExceptionWikiCatRows(x), axis = 1)"
   ]
  },
  {
   "cell_type": "code",
   "execution_count": null,
   "metadata": {},
   "outputs": [],
   "source": [
    "%%time\n",
    "# If exception exists, use that, else use WikiPath_Category\n",
    "t_dataRun[\"WikiPath_withExceptions\"] = t_dataRun.apply(lambda x: x[\"WikiPath_Exceptions\"] if x[\"WikiPath_Exceptions\"] != \"\" else x[\"WikiPath_Category\"], axis = 1)"
   ]
  },
  {
   "cell_type": "code",
   "execution_count": null,
   "metadata": {},
   "outputs": [],
   "source": [
    "# t_dataRun.drop(\"WikiPath_Exceptions\", axis = 1, inplace = True)"
   ]
  },
  {
   "cell_type": "code",
   "execution_count": null,
   "metadata": {},
   "outputs": [],
   "source": [
    "#crosstab_percentCols = pd.crosstab(t_dataRun.WikiPath_Category, t_dataRun.WikiPath_withExceptions, margins=True, normalize = \"columns\").round(3)*100\n",
    "crosstab_percentCols = pd.crosstab(t_dataRun.WikiPath_Category, t_dataRun.WikiPath_withExceptions)\n",
    "crosstab_percentCols.style.background_gradient(cmap='Blues', axis = 0)"
   ]
  },
  {
   "cell_type": "code",
   "execution_count": null,
   "metadata": {},
   "outputs": [],
   "source": [
    "t_dataRun[\"WikiPath_Exceptions\"].groupby(t_dataRun[\"WikiPath_Exceptions\"]).count()"
   ]
  },
  {
   "cell_type": "markdown",
   "metadata": {},
   "source": [
    "## Key word exceptions"
   ]
  },
  {
   "cell_type": "code",
   "execution_count": null,
   "metadata": {},
   "outputs": [],
   "source": [
    "# Except specific search term / key word\n"
   ]
  },
  {
   "cell_type": "markdown",
   "metadata": {},
   "source": [
    "### Category is History if Q / A contains number within range"
   ]
  },
  {
   "cell_type": "code",
   "execution_count": null,
   "metadata": {},
   "outputs": [],
   "source": [
    "# 1970 as upper bound seems better. Many questions regarding 1970's are better categorized elsewhere.\n",
    "historyLowerBound = 1000\n",
    "historyUpperBound = 1970"
   ]
  },
  {
   "cell_type": "code",
   "execution_count": null,
   "metadata": {},
   "outputs": [],
   "source": [
    "# Takes list of numbers as input\n",
    "def withinHistoryRange(a):\n",
    "    for x in a:\n",
    "        try:\n",
    "            if int(x) > historyLowerBound and int(x) < historyUpperBound:\n",
    "                return True\n",
    "        except:\n",
    "            return \"ERROR - Input was probably not a number.\"\n",
    "    return False"
   ]
  },
  {
   "cell_type": "code",
   "execution_count": null,
   "metadata": {},
   "outputs": [],
   "source": [
    "%%time\n",
    "t_dataRun[\"hasHistoryNumber\"] = (t_dataRun[\"CONS_question\"] + t_dataRun[\"CONS_answer\"]).apply(lambda x: withinHistoryRange(re.findall(r'\\d+', x)))"
   ]
  },
  {
   "cell_type": "code",
   "execution_count": null,
   "metadata": {},
   "outputs": [],
   "source": [
    "# NOTE: Categorization currently not impacted by presence of historical date"
   ]
  },
  {
   "cell_type": "markdown",
   "metadata": {},
   "source": [
    "### Search term exceptions"
   ]
  },
  {
   "cell_type": "code",
   "execution_count": null,
   "metadata": {},
   "outputs": [],
   "source": [
    "# Search term mapping: https://docs.google.com/spreadsheets/d/1c4g4MujTgaqTn5wG5I-ARY06g7rlnHst0whojsFbps8/edit#gid=2055637170"
   ]
  },
  {
   "cell_type": "code",
   "execution_count": null,
   "metadata": {},
   "outputs": [],
   "source": [
    "termMappingList = {'capital':'Geography and places' ,'state':'Geography and places' ,'sport':'Sports and leisure' }"
   ]
  },
  {
   "cell_type": "code",
   "execution_count": null,
   "metadata": {},
   "outputs": [],
   "source": [
    "# Take search term list as input\n",
    "# If several exceptions apply, algorithm returns the one corresponding to search term listed first\n",
    "def findExceptionSearchTerms(a):\n",
    "           \n",
    "    for term in a:\n",
    "        if term in termMappingList:\n",
    "            return (termMappingList[term], term)\n",
    "    \n",
    "    return None\n",
    "    "
   ]
  },
  {
   "cell_type": "code",
   "execution_count": null,
   "metadata": {},
   "outputs": [],
   "source": [
    "%%time\n",
    "t_dataRun[\"searchTermCatExceptions\"] = t_dataRun[\"searchTerms\"].apply(lambda x: findExceptionSearchTerms(x))"
   ]
  },
  {
   "cell_type": "code",
   "execution_count": null,
   "metadata": {},
   "outputs": [],
   "source": [
    "t_dataRun[\"WikiPath_withExceptions\"].unique()"
   ]
  },
  {
   "cell_type": "code",
   "execution_count": null,
   "metadata": {},
   "outputs": [],
   "source": [
    "t_dataRun.columns"
   ]
  },
  {
   "cell_type": "code",
   "execution_count": null,
   "metadata": {},
   "outputs": [],
   "source": []
  },
  {
   "cell_type": "markdown",
   "metadata": {},
   "source": [
    "### Combine original category and wikicategory fields"
   ]
  },
  {
   "cell_type": "code",
   "execution_count": 44,
   "metadata": {},
   "outputs": [
    {
     "data": {
      "text/plain": [
       "array(['Art and literature', 'Entertainment', 'Sports and leisure',\n",
       "       'Geography and places', 'Science and nature',\n",
       "       'History and society', 'Uncategorized'], dtype=object)"
      ]
     },
     "execution_count": 44,
     "metadata": {},
     "output_type": "execute_result"
    }
   ],
   "source": [
    "t_dataRun[\"CONS_category\"].unique()"
   ]
  },
  {
   "cell_type": "code",
   "execution_count": 45,
   "metadata": {},
   "outputs": [],
   "source": [
    "# Change category names to original category data\n",
    "MAPPING_old_cat_to_new = {'Entertainment': 'Entertainment and games', 'Sports and leisure':'Sports and hobbies'}\n",
    "t_dataRun[\"CONS_category\"] = t_dataRun[\"CONS_category\"].replace(MAPPING_old_cat_to_new)"
   ]
  },
  {
   "cell_type": "code",
   "execution_count": 46,
   "metadata": {},
   "outputs": [
    {
     "data": {
      "text/plain": [
       "array(['Art and literature', 'Entertainment and games',\n",
       "       'Sports and hobbies', 'Geography and places', 'Science and nature',\n",
       "       'History and society', 'Uncategorized'], dtype=object)"
      ]
     },
     "execution_count": 46,
     "metadata": {},
     "output_type": "execute_result"
    }
   ],
   "source": [
    "t_dataRun[\"CONS_category\"].unique()"
   ]
  },
  {
   "cell_type": "code",
   "execution_count": null,
   "metadata": {},
   "outputs": [],
   "source": [
    "t_dataRun.groupby('CONS_category').count()"
   ]
  },
  {
   "cell_type": "code",
   "execution_count": 52,
   "metadata": {},
   "outputs": [],
   "source": [
    "# Set Export_category to CONS_category if it has a value, otherwise to WikiPath_withExceptions\n",
    "t_dataRun[\"Export_category\"] = t_dataRun[\"CONS_category\"]"
   ]
  },
  {
   "cell_type": "code",
   "execution_count": 53,
   "metadata": {},
   "outputs": [],
   "source": [
    "t_dataRun.loc[t_dataRun.CONS_category == \"Uncategorized\", \"Export_category\"] = t_dataRun.loc[t_dataRun.CONS_category == \"Uncategorized\", \"WikiPath_withExceptions\"]"
   ]
  },
  {
   "cell_type": "code",
   "execution_count": 54,
   "metadata": {},
   "outputs": [
    {
     "data": {
      "text/plain": [
       "array(['Art and literature', 'Entertainment and games',\n",
       "       'Sports and hobbies', 'Geography and places', 'Science and nature',\n",
       "       'History and society', None, 'None'], dtype=object)"
      ]
     },
     "execution_count": 54,
     "metadata": {},
     "output_type": "execute_result"
    }
   ],
   "source": [
    "t_dataRun[\"Export_category\"].unique()"
   ]
  },
  {
   "cell_type": "code",
   "execution_count": null,
   "metadata": {},
   "outputs": [],
   "source": []
  },
  {
   "cell_type": "code",
   "execution_count": null,
   "metadata": {},
   "outputs": [],
   "source": [
    "\"What was the world's first computer bug in 1946?\""
   ]
  },
  {
   "cell_type": "code",
   "execution_count": 62,
   "metadata": {},
   "outputs": [
    {
     "data": {
      "text/html": [
       "<div>\n",
       "<style scoped>\n",
       "    .dataframe tbody tr th:only-of-type {\n",
       "        vertical-align: middle;\n",
       "    }\n",
       "\n",
       "    .dataframe tbody tr th {\n",
       "        vertical-align: top;\n",
       "    }\n",
       "\n",
       "    .dataframe thead th {\n",
       "        text-align: right;\n",
       "    }\n",
       "</style>\n",
       "<table border=\"1\" class=\"dataframe\">\n",
       "  <thead>\n",
       "    <tr style=\"text-align: right;\">\n",
       "      <th></th>\n",
       "      <th>CONS_id</th>\n",
       "      <th>CONS_question</th>\n",
       "      <th>CONS_answer</th>\n",
       "      <th>CONS_alt answers</th>\n",
       "      <th>CONS_category</th>\n",
       "      <th>CONS_alt categories - NOT USED</th>\n",
       "      <th>CONS_type-formulation</th>\n",
       "      <th>CONS_type-multipleChoice</th>\n",
       "      <th>ORIG_id</th>\n",
       "      <th>ORIG_question</th>\n",
       "      <th>ORIG_answer</th>\n",
       "      <th>ORIG_alt answers</th>\n",
       "      <th>ORIG_category</th>\n",
       "      <th>ORIG_alt categories</th>\n",
       "      <th>ORIG_difficulty</th>\n",
       "      <th>ORIG_type</th>\n",
       "      <th>Source</th>\n",
       "      <th>Duplicate_removed</th>\n",
       "      <th>namedEntities</th>\n",
       "      <th>nouns</th>\n",
       "      <th>objects</th>\n",
       "      <th>subjects</th>\n",
       "      <th>nounsObjectsSubjects</th>\n",
       "      <th>searchTerms</th>\n",
       "      <th>wikipediaSearchSuccessful</th>\n",
       "      <th>findQuestionCategories_meta</th>\n",
       "      <th>wikipediaArticleTitle</th>\n",
       "      <th>wikipediaArticleID</th>\n",
       "      <th>categoryPath</th>\n",
       "      <th>parentCategories</th>\n",
       "      <th>searchTermUsed_idx</th>\n",
       "      <th>searchTermUsed</th>\n",
       "      <th>WikipediaHighestCat</th>\n",
       "      <th>categoryPathList</th>\n",
       "      <th>WikiCat_0</th>\n",
       "      <th>WikiCat_1</th>\n",
       "      <th>WikiCat_2</th>\n",
       "      <th>WikiCat_3</th>\n",
       "      <th>WikiCat_4</th>\n",
       "      <th>WikiCat_5</th>\n",
       "      <th>WikiCat_6</th>\n",
       "      <th>WikiCat_7</th>\n",
       "      <th>WikiCat_8</th>\n",
       "      <th>WikiCat_9</th>\n",
       "      <th>WikiCat_10</th>\n",
       "      <th>WikiCat_11</th>\n",
       "      <th>WikiCat_12</th>\n",
       "      <th>WikiCat_13</th>\n",
       "      <th>WikiCat_14</th>\n",
       "      <th>WikiCat_15</th>\n",
       "      <th>WikiCat_16</th>\n",
       "      <th>WikiPath_Category</th>\n",
       "      <th>WikiPath_Exceptions</th>\n",
       "      <th>WikiPath_withExceptions</th>\n",
       "      <th>hasHistoryNumber</th>\n",
       "      <th>searchTermCatExceptions</th>\n",
       "      <th>Export_category</th>\n",
       "    </tr>\n",
       "  </thead>\n",
       "  <tbody>\n",
       "    <tr>\n",
       "      <th>34999</th>\n",
       "      <td>tdb_0x00925e</td>\n",
       "      <td>What was the world's first computer bug in 1946?</td>\n",
       "      <td>A moth</td>\n",
       "      <td>NaN</td>\n",
       "      <td>Uncategorized</td>\n",
       "      <td>NaN</td>\n",
       "      <td>Question</td>\n",
       "      <td>False</td>\n",
       "      <td>tdb_0x00925e</td>\n",
       "      <td>What was the world's first computer bug in 1946</td>\n",
       "      <td>0</td>\n",
       "      <td>[A moth]</td>\n",
       "      <td>UNCATEGORIZED</td>\n",
       "      <td>NaN</td>\n",
       "      <td>NaN</td>\n",
       "      <td>NaN</td>\n",
       "      <td>tdb</td>\n",
       "      <td>NaN</td>\n",
       "      <td>[(first, ORDINAL), (1946, DATE)]</td>\n",
       "      <td>[world, computer, bug]</td>\n",
       "      <td>[1946]</td>\n",
       "      <td>[bug]</td>\n",
       "      <td>[[world, 431934249], [computer, 224177047], [bug, 39672754], [1946, 0]]</td>\n",
       "      <td>[1946, bug, computer, world]</td>\n",
       "      <td>True</td>\n",
       "      <td>[Database call not successful (error), SUCCESS]</td>\n",
       "      <td>Bug_(Rügen)</td>\n",
       "      <td>35022925</td>\n",
       "      <td>pages.title  pages.id  intersection  union  \\\n",
       "0                   Geography_of_Rügen  34025283           NaN    NaN   \n",
       "1  Geography_of_Mecklenburg-Vorpommern  18098162           1.0   74.0   \n",
       "2        Geography_of_Germany_by_state  23907075           0.0   33.0   \n",
       "3                 Geography_of_Germany   1062681           0.0   42.0   \n",
       "4                 Geography_by_country    700174           0.0  268.0   \n",
       "5                   Geography_by_place   5782300           0.0  261.0   \n",
       "6                            Geography    693800           0.0  113.0   \n",
       "7           Main_topic_classifications   7345184           0.0  118.0   \n",
       "\n",
       "    jaccard  depth  similarityBAC mostSimilar  \\\n",
       "0       NaN      7            NaN         NaN   \n",
       "1  0.013514      6            5.5        True   \n",
       "2  0.000000      5            5.0        True   \n",
       "3  0.000000      4            4.0        True   \n",
       "4  0.000000      3            3.0        True   \n",
       "5  0.000000      2            2.0        Tru...</td>\n",
       "      <td>pages.title  pages.id\n",
       "0                                Wittow  35023142\n",
       "1          Peninsulas_of_the_Baltic_Sea  34208118\n",
       "2  Peninsulas_of_Mecklenburg-Vorpommern  34208069\n",
       "3                       Spits_of_Europe  52608943\n",
       "4               Coordinates_on_Wikidata  41138143\n",
       "5                    Geography_of_Rügen  34025283</td>\n",
       "      <td>1</td>\n",
       "      <td>bug</td>\n",
       "      <td>Geography</td>\n",
       "      <td>[Main_topic_classifications, Geography, Geography_by_place, Geography_by_country, Geography_of_Germany, Geography_of_Germany_by_state, Geography_of_Mecklenburg-Vorpommern, Geography_of_Rügen]</td>\n",
       "      <td>Main_topic_classifications</td>\n",
       "      <td>Geography</td>\n",
       "      <td>Geography_by_place</td>\n",
       "      <td>Geography_by_country</td>\n",
       "      <td>Geography_of_Germany</td>\n",
       "      <td>Geography_of_Germany_by_state</td>\n",
       "      <td>Geography_of_Mecklenburg-Vorpommern</td>\n",
       "      <td>Geography_of_Rügen</td>\n",
       "      <td>None</td>\n",
       "      <td>None</td>\n",
       "      <td>None</td>\n",
       "      <td>None</td>\n",
       "      <td>None</td>\n",
       "      <td>None</td>\n",
       "      <td>None</td>\n",
       "      <td>None</td>\n",
       "      <td>None</td>\n",
       "      <td>Geography and places</td>\n",
       "      <td></td>\n",
       "      <td>Geography and places</td>\n",
       "      <td>True</td>\n",
       "      <td>None</td>\n",
       "      <td>Geography and places</td>\n",
       "    </tr>\n",
       "  </tbody>\n",
       "</table>\n",
       "</div>"
      ],
      "text/plain": [
       "            CONS_id                                     CONS_question  \\\n",
       "34999  tdb_0x00925e  What was the world's first computer bug in 1946?   \n",
       "\n",
       "      CONS_answer CONS_alt answers  CONS_category  \\\n",
       "34999      A moth              NaN  Uncategorized   \n",
       "\n",
       "      CONS_alt categories - NOT USED CONS_type-formulation  \\\n",
       "34999                            NaN              Question   \n",
       "\n",
       "      CONS_type-multipleChoice       ORIG_id  \\\n",
       "34999                    False  tdb_0x00925e   \n",
       "\n",
       "                                         ORIG_question ORIG_answer  \\\n",
       "34999  What was the world's first computer bug in 1946           0   \n",
       "\n",
       "      ORIG_alt answers  ORIG_category ORIG_alt categories ORIG_difficulty  \\\n",
       "34999         [A moth]  UNCATEGORIZED                 NaN             NaN   \n",
       "\n",
       "      ORIG_type Source Duplicate_removed                     namedEntities  \\\n",
       "34999       NaN    tdb               NaN  [(first, ORDINAL), (1946, DATE)]   \n",
       "\n",
       "                        nouns objects subjects  \\\n",
       "34999  [world, computer, bug]  [1946]    [bug]   \n",
       "\n",
       "                                                          nounsObjectsSubjects  \\\n",
       "34999  [[world, 431934249], [computer, 224177047], [bug, 39672754], [1946, 0]]   \n",
       "\n",
       "                        searchTerms  wikipediaSearchSuccessful  \\\n",
       "34999  [1946, bug, computer, world]                       True   \n",
       "\n",
       "                           findQuestionCategories_meta wikipediaArticleTitle  \\\n",
       "34999  [Database call not successful (error), SUCCESS]           Bug_(Rügen)   \n",
       "\n",
       "      wikipediaArticleID  \\\n",
       "34999           35022925   \n",
       "\n",
       "                                                                                                                                                                                                                                                                                                                                                                                                                                                                                                                                                                                                                                                                                                                                                                                                                                                                                                                                                                                                                                  categoryPath  \\\n",
       "34999                             pages.title  pages.id  intersection  union  \\\n",
       "0                   Geography_of_Rügen  34025283           NaN    NaN   \n",
       "1  Geography_of_Mecklenburg-Vorpommern  18098162           1.0   74.0   \n",
       "2        Geography_of_Germany_by_state  23907075           0.0   33.0   \n",
       "3                 Geography_of_Germany   1062681           0.0   42.0   \n",
       "4                 Geography_by_country    700174           0.0  268.0   \n",
       "5                   Geography_by_place   5782300           0.0  261.0   \n",
       "6                            Geography    693800           0.0  113.0   \n",
       "7           Main_topic_classifications   7345184           0.0  118.0   \n",
       "\n",
       "    jaccard  depth  similarityBAC mostSimilar  \\\n",
       "0       NaN      7            NaN         NaN   \n",
       "1  0.013514      6            5.5        True   \n",
       "2  0.000000      5            5.0        True   \n",
       "3  0.000000      4            4.0        True   \n",
       "4  0.000000      3            3.0        True   \n",
       "5  0.000000      2            2.0        Tru...   \n",
       "\n",
       "                                                                                                                                                                                                                                                                                                                                                    parentCategories  \\\n",
       "34999                              pages.title  pages.id\n",
       "0                                Wittow  35023142\n",
       "1          Peninsulas_of_the_Baltic_Sea  34208118\n",
       "2  Peninsulas_of_Mecklenburg-Vorpommern  34208069\n",
       "3                       Spits_of_Europe  52608943\n",
       "4               Coordinates_on_Wikidata  41138143\n",
       "5                    Geography_of_Rügen  34025283   \n",
       "\n",
       "       searchTermUsed_idx searchTermUsed WikipediaHighestCat  \\\n",
       "34999                   1            bug           Geography   \n",
       "\n",
       "                                                                                                                                                                                      categoryPathList  \\\n",
       "34999  [Main_topic_classifications, Geography, Geography_by_place, Geography_by_country, Geography_of_Germany, Geography_of_Germany_by_state, Geography_of_Mecklenburg-Vorpommern, Geography_of_Rügen]   \n",
       "\n",
       "                        WikiCat_0  WikiCat_1           WikiCat_2  \\\n",
       "34999  Main_topic_classifications  Geography  Geography_by_place   \n",
       "\n",
       "                  WikiCat_3             WikiCat_4  \\\n",
       "34999  Geography_by_country  Geography_of_Germany   \n",
       "\n",
       "                           WikiCat_5                            WikiCat_6  \\\n",
       "34999  Geography_of_Germany_by_state  Geography_of_Mecklenburg-Vorpommern   \n",
       "\n",
       "                WikiCat_7 WikiCat_8 WikiCat_9 WikiCat_10 WikiCat_11  \\\n",
       "34999  Geography_of_Rügen      None      None       None       None   \n",
       "\n",
       "      WikiCat_12 WikiCat_13 WikiCat_14 WikiCat_15 WikiCat_16  \\\n",
       "34999       None       None       None       None       None   \n",
       "\n",
       "          WikiPath_Category WikiPath_Exceptions WikiPath_withExceptions  \\\n",
       "34999  Geography and places                        Geography and places   \n",
       "\n",
       "       hasHistoryNumber searchTermCatExceptions       Export_category  \n",
       "34999              True                    None  Geography and places  "
      ]
     },
     "execution_count": 62,
     "metadata": {},
     "output_type": "execute_result"
    }
   ],
   "source": [
    "t_dataRun.loc[t_dataRun.CONS_question == \"What was the world's first computer bug in 1946?\"]"
   ]
  },
  {
   "cell_type": "markdown",
   "metadata": {},
   "source": [
    "### TODO: Correct sentence case changes made in data cleaning phase"
   ]
  },
  {
   "cell_type": "code",
   "execution_count": null,
   "metadata": {},
   "outputs": [],
   "source": [
    "# If question or answer is sentence case and original is not, use original --> Check original implementation to ensure logic"
   ]
  },
  {
   "cell_type": "code",
   "execution_count": null,
   "metadata": {},
   "outputs": [],
   "source": []
  },
  {
   "cell_type": "markdown",
   "metadata": {},
   "source": [
    "### Beta data export"
   ]
  },
  {
   "cell_type": "code",
   "execution_count": 58,
   "metadata": {},
   "outputs": [
    {
     "name": "stdout",
     "output_type": "stream",
     "text": [
      "Wall time: 27.9 ms\n"
     ]
    }
   ],
   "source": [
    "%%time\n",
    "# Select n random rows of each category\n",
    "out = t_dataRun.loc[:,[\"Export_category\", \"CONS_question\", \"CONS_answer\"]]\n",
    "out = out.loc[out[\"Export_category\"] != \"None\"]\n",
    "out = out.loc[out[\"Export_category\"].notnull()] \n",
    "out = out.sample(frac=1).groupby('Export_category').head(400)"
   ]
  },
  {
   "cell_type": "code",
   "execution_count": 59,
   "metadata": {},
   "outputs": [
    {
     "name": "stdout",
     "output_type": "stream",
     "text": [
      "['Science and nature' 'Sports and hobbies' 'Entertainment and games'\n",
      " 'Geography and places' 'History and society' 'Art and literature']\n",
      "2400\n"
     ]
    }
   ],
   "source": [
    "print(out[\"Export_category\"].unique())\n",
    "print(len(out))"
   ]
  },
  {
   "cell_type": "code",
   "execution_count": 60,
   "metadata": {},
   "outputs": [
    {
     "name": "stdout",
     "output_type": "stream",
     "text": [
      "['Science and nature' 'Sports and hobbies' 'Entertainment and games'\n",
      " 'Geography and places' 'History and society' 'Art and literature']\n"
     ]
    }
   ],
   "source": [
    "print(out[\"Export_category\"].unique())"
   ]
  },
  {
   "cell_type": "code",
   "execution_count": 61,
   "metadata": {},
   "outputs": [],
   "source": [
    "out.to_csv (\"../workproduct-files/beta-data-export_v2.csv\", index = False, header=True)"
   ]
  },
  {
   "cell_type": "code",
   "execution_count": null,
   "metadata": {},
   "outputs": [],
   "source": []
  }
 ],
 "metadata": {
  "kernelspec": {
   "display_name": "Python 3",
   "language": "python",
   "name": "python3"
  },
  "language_info": {
   "codemirror_mode": {
    "name": "ipython",
    "version": 3
   },
   "file_extension": ".py",
   "mimetype": "text/x-python",
   "name": "python",
   "nbconvert_exporter": "python",
   "pygments_lexer": "ipython3",
   "version": "3.8.2"
  }
 },
 "nbformat": 4,
 "nbformat_minor": 4
}
