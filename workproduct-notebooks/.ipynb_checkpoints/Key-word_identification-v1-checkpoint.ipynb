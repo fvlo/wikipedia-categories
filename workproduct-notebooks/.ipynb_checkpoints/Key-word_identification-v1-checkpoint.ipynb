{
 "cells": [
  {
   "cell_type": "code",
   "execution_count": 1,
   "metadata": {},
   "outputs": [],
   "source": [
    "import pandas as pd\n",
    "import spacy\n",
    "from spacy import displacy\n",
    "from string import punctuation"
   ]
  },
  {
   "cell_type": "code",
   "execution_count": null,
   "metadata": {},
   "outputs": [],
   "source": [
    "'''\n",
    "flow\n",
    "1) load data and spacy\n",
    "2) run NER\n",
    "3) identify nouns\n",
    "4) order nouns ascdening by frequency\n",
    "5) create list with search terms and preference per row\n",
    "6) load redirects and article mapping\n",
    "7) identify best article\n",
    "8) get category tree\n",
    "'''"
   ]
  },
  {
   "cell_type": "code",
   "execution_count": null,
   "metadata": {},
   "outputs": [],
   "source": []
  },
  {
   "cell_type": "code",
   "execution_count": 2,
   "metadata": {},
   "outputs": [],
   "source": [
    "pd.set_option('display.max_rows', 500)\n",
    "pd.set_option('display.max_columns', 500)\n",
    "pd.set_option('display.max_colwidth', 1000)"
   ]
  },
  {
   "cell_type": "code",
   "execution_count": 3,
   "metadata": {},
   "outputs": [],
   "source": [
    "t_data = pd.read_pickle('C:/Users/Fredi/Kodningsprojekt/data-analysis/workproduct-files/cleaned-dataframes/t_dataMaster-duplicatesRemoved.pkl')\n"
   ]
  },
  {
   "cell_type": "code",
   "execution_count": 4,
   "metadata": {},
   "outputs": [],
   "source": [
    "nlp = spacy.load(\"en_core_web_sm\")"
   ]
  },
  {
   "cell_type": "code",
   "execution_count": 5,
   "metadata": {},
   "outputs": [
    {
     "data": {
      "text/plain": [
       "'object'"
      ]
     },
     "execution_count": 5,
     "metadata": {},
     "output_type": "execute_result"
    }
   ],
   "source": [
    "spacy.explain(\"obj\")"
   ]
  },
  {
   "cell_type": "code",
   "execution_count": 82,
   "metadata": {},
   "outputs": [],
   "source": [
    "text = \"Which Egyptian queen was married to king Akhenaten?\""
   ]
  },
  {
   "cell_type": "code",
   "execution_count": 7,
   "metadata": {},
   "outputs": [
    {
     "name": "stdout",
     "output_type": "stream",
     "text": [
      "Processing process\n",
      "raw raw\n",
      "text text\n",
      "intelligently intelligently\n",
      "is be\n",
      "difficult difficult\n",
      ": :\n",
      "most most\n",
      "words word\n",
      "are be\n",
      "rare rare\n",
      ", ,\n",
      "and and\n",
      "it -PRON-\n",
      "’s ’\n",
      "common common\n",
      "for for\n",
      "words word\n",
      "that that\n",
      "look look\n",
      "completely completely\n",
      "different different\n",
      "to to\n",
      "mean mean\n",
      "almost almost\n",
      "the the\n",
      "same same\n",
      "thing thing\n",
      ". .\n"
     ]
    }
   ],
   "source": [
    "# https://spacy.io/usage/spacy-101\n",
    "nlp = spacy.load(\"en_core_web_sm\")\n",
    "doc = nlp(text)\n",
    "\n",
    "for token in doc:\n",
    "    print(token.text, token.lemma_)"
   ]
  },
  {
   "cell_type": "code",
   "execution_count": 8,
   "metadata": {},
   "outputs": [],
   "source": [
    "#https://spacy.io/api/annotation#pos-tagging"
   ]
  },
  {
   "cell_type": "code",
   "execution_count": 83,
   "metadata": {},
   "outputs": [
    {
     "name": "stdout",
     "output_type": "stream",
     "text": [
      "Which DET det True which\n",
      "Egyptian ADJ amod False egyptian\n",
      "queen NOUN nsubj False queen\n",
      "was AUX ROOT True be\n",
      "married ADJ acomp False married\n",
      "to ADP prep True to\n",
      "king NOUN pobj False king\n",
      "Akhenaten PROPN pobj False Akhenaten\n",
      "? PUNCT punct False ?\n"
     ]
    },
    {
     "data": {
      "text/html": [
       "<span class=\"tex2jax_ignore\"><svg xmlns=\"http://www.w3.org/2000/svg\" xmlns:xlink=\"http://www.w3.org/1999/xlink\" xml:lang=\"en\" id=\"5f934a07e1254b2fb052c0dfa1dc5ff1-0\" class=\"displacy\" width=\"1450\" height=\"312.0\" direction=\"ltr\" style=\"max-width: none; height: 312.0px; color: #000000; background: #ffffff; font-family: Arial; direction: ltr\">\n",
       "<text class=\"displacy-token\" fill=\"currentColor\" text-anchor=\"middle\" y=\"222.0\">\n",
       "    <tspan class=\"displacy-word\" fill=\"currentColor\" x=\"50\">Which</tspan>\n",
       "    <tspan class=\"displacy-tag\" dy=\"2em\" fill=\"currentColor\" x=\"50\">DET</tspan>\n",
       "</text>\n",
       "\n",
       "<text class=\"displacy-token\" fill=\"currentColor\" text-anchor=\"middle\" y=\"222.0\">\n",
       "    <tspan class=\"displacy-word\" fill=\"currentColor\" x=\"225\">Egyptian</tspan>\n",
       "    <tspan class=\"displacy-tag\" dy=\"2em\" fill=\"currentColor\" x=\"225\">ADJ</tspan>\n",
       "</text>\n",
       "\n",
       "<text class=\"displacy-token\" fill=\"currentColor\" text-anchor=\"middle\" y=\"222.0\">\n",
       "    <tspan class=\"displacy-word\" fill=\"currentColor\" x=\"400\">queen</tspan>\n",
       "    <tspan class=\"displacy-tag\" dy=\"2em\" fill=\"currentColor\" x=\"400\">NOUN</tspan>\n",
       "</text>\n",
       "\n",
       "<text class=\"displacy-token\" fill=\"currentColor\" text-anchor=\"middle\" y=\"222.0\">\n",
       "    <tspan class=\"displacy-word\" fill=\"currentColor\" x=\"575\">was</tspan>\n",
       "    <tspan class=\"displacy-tag\" dy=\"2em\" fill=\"currentColor\" x=\"575\">AUX</tspan>\n",
       "</text>\n",
       "\n",
       "<text class=\"displacy-token\" fill=\"currentColor\" text-anchor=\"middle\" y=\"222.0\">\n",
       "    <tspan class=\"displacy-word\" fill=\"currentColor\" x=\"750\">married</tspan>\n",
       "    <tspan class=\"displacy-tag\" dy=\"2em\" fill=\"currentColor\" x=\"750\">ADJ</tspan>\n",
       "</text>\n",
       "\n",
       "<text class=\"displacy-token\" fill=\"currentColor\" text-anchor=\"middle\" y=\"222.0\">\n",
       "    <tspan class=\"displacy-word\" fill=\"currentColor\" x=\"925\">to</tspan>\n",
       "    <tspan class=\"displacy-tag\" dy=\"2em\" fill=\"currentColor\" x=\"925\">ADP</tspan>\n",
       "</text>\n",
       "\n",
       "<text class=\"displacy-token\" fill=\"currentColor\" text-anchor=\"middle\" y=\"222.0\">\n",
       "    <tspan class=\"displacy-word\" fill=\"currentColor\" x=\"1100\">king</tspan>\n",
       "    <tspan class=\"displacy-tag\" dy=\"2em\" fill=\"currentColor\" x=\"1100\">NOUN</tspan>\n",
       "</text>\n",
       "\n",
       "<text class=\"displacy-token\" fill=\"currentColor\" text-anchor=\"middle\" y=\"222.0\">\n",
       "    <tspan class=\"displacy-word\" fill=\"currentColor\" x=\"1275\">Akhenaten?</tspan>\n",
       "    <tspan class=\"displacy-tag\" dy=\"2em\" fill=\"currentColor\" x=\"1275\">PROPN</tspan>\n",
       "</text>\n",
       "\n",
       "<g class=\"displacy-arrow\">\n",
       "    <path class=\"displacy-arc\" id=\"arrow-5f934a07e1254b2fb052c0dfa1dc5ff1-0-0\" stroke-width=\"2px\" d=\"M70,177.0 C70,2.0 400.0,2.0 400.0,177.0\" fill=\"none\" stroke=\"currentColor\"/>\n",
       "    <text dy=\"1.25em\" style=\"font-size: 0.8em; letter-spacing: 1px\">\n",
       "        <textPath xlink:href=\"#arrow-5f934a07e1254b2fb052c0dfa1dc5ff1-0-0\" class=\"displacy-label\" startOffset=\"50%\" side=\"left\" fill=\"currentColor\" text-anchor=\"middle\">det</textPath>\n",
       "    </text>\n",
       "    <path class=\"displacy-arrowhead\" d=\"M70,179.0 L62,167.0 78,167.0\" fill=\"currentColor\"/>\n",
       "</g>\n",
       "\n",
       "<g class=\"displacy-arrow\">\n",
       "    <path class=\"displacy-arc\" id=\"arrow-5f934a07e1254b2fb052c0dfa1dc5ff1-0-1\" stroke-width=\"2px\" d=\"M245,177.0 C245,89.5 395.0,89.5 395.0,177.0\" fill=\"none\" stroke=\"currentColor\"/>\n",
       "    <text dy=\"1.25em\" style=\"font-size: 0.8em; letter-spacing: 1px\">\n",
       "        <textPath xlink:href=\"#arrow-5f934a07e1254b2fb052c0dfa1dc5ff1-0-1\" class=\"displacy-label\" startOffset=\"50%\" side=\"left\" fill=\"currentColor\" text-anchor=\"middle\">amod</textPath>\n",
       "    </text>\n",
       "    <path class=\"displacy-arrowhead\" d=\"M245,179.0 L237,167.0 253,167.0\" fill=\"currentColor\"/>\n",
       "</g>\n",
       "\n",
       "<g class=\"displacy-arrow\">\n",
       "    <path class=\"displacy-arc\" id=\"arrow-5f934a07e1254b2fb052c0dfa1dc5ff1-0-2\" stroke-width=\"2px\" d=\"M420,177.0 C420,89.5 570.0,89.5 570.0,177.0\" fill=\"none\" stroke=\"currentColor\"/>\n",
       "    <text dy=\"1.25em\" style=\"font-size: 0.8em; letter-spacing: 1px\">\n",
       "        <textPath xlink:href=\"#arrow-5f934a07e1254b2fb052c0dfa1dc5ff1-0-2\" class=\"displacy-label\" startOffset=\"50%\" side=\"left\" fill=\"currentColor\" text-anchor=\"middle\">nsubj</textPath>\n",
       "    </text>\n",
       "    <path class=\"displacy-arrowhead\" d=\"M420,179.0 L412,167.0 428,167.0\" fill=\"currentColor\"/>\n",
       "</g>\n",
       "\n",
       "<g class=\"displacy-arrow\">\n",
       "    <path class=\"displacy-arc\" id=\"arrow-5f934a07e1254b2fb052c0dfa1dc5ff1-0-3\" stroke-width=\"2px\" d=\"M595,177.0 C595,89.5 745.0,89.5 745.0,177.0\" fill=\"none\" stroke=\"currentColor\"/>\n",
       "    <text dy=\"1.25em\" style=\"font-size: 0.8em; letter-spacing: 1px\">\n",
       "        <textPath xlink:href=\"#arrow-5f934a07e1254b2fb052c0dfa1dc5ff1-0-3\" class=\"displacy-label\" startOffset=\"50%\" side=\"left\" fill=\"currentColor\" text-anchor=\"middle\">acomp</textPath>\n",
       "    </text>\n",
       "    <path class=\"displacy-arrowhead\" d=\"M745.0,179.0 L753.0,167.0 737.0,167.0\" fill=\"currentColor\"/>\n",
       "</g>\n",
       "\n",
       "<g class=\"displacy-arrow\">\n",
       "    <path class=\"displacy-arc\" id=\"arrow-5f934a07e1254b2fb052c0dfa1dc5ff1-0-4\" stroke-width=\"2px\" d=\"M770,177.0 C770,89.5 920.0,89.5 920.0,177.0\" fill=\"none\" stroke=\"currentColor\"/>\n",
       "    <text dy=\"1.25em\" style=\"font-size: 0.8em; letter-spacing: 1px\">\n",
       "        <textPath xlink:href=\"#arrow-5f934a07e1254b2fb052c0dfa1dc5ff1-0-4\" class=\"displacy-label\" startOffset=\"50%\" side=\"left\" fill=\"currentColor\" text-anchor=\"middle\">prep</textPath>\n",
       "    </text>\n",
       "    <path class=\"displacy-arrowhead\" d=\"M920.0,179.0 L928.0,167.0 912.0,167.0\" fill=\"currentColor\"/>\n",
       "</g>\n",
       "\n",
       "<g class=\"displacy-arrow\">\n",
       "    <path class=\"displacy-arc\" id=\"arrow-5f934a07e1254b2fb052c0dfa1dc5ff1-0-5\" stroke-width=\"2px\" d=\"M945,177.0 C945,89.5 1095.0,89.5 1095.0,177.0\" fill=\"none\" stroke=\"currentColor\"/>\n",
       "    <text dy=\"1.25em\" style=\"font-size: 0.8em; letter-spacing: 1px\">\n",
       "        <textPath xlink:href=\"#arrow-5f934a07e1254b2fb052c0dfa1dc5ff1-0-5\" class=\"displacy-label\" startOffset=\"50%\" side=\"left\" fill=\"currentColor\" text-anchor=\"middle\">pobj</textPath>\n",
       "    </text>\n",
       "    <path class=\"displacy-arrowhead\" d=\"M1095.0,179.0 L1103.0,167.0 1087.0,167.0\" fill=\"currentColor\"/>\n",
       "</g>\n",
       "\n",
       "<g class=\"displacy-arrow\">\n",
       "    <path class=\"displacy-arc\" id=\"arrow-5f934a07e1254b2fb052c0dfa1dc5ff1-0-6\" stroke-width=\"2px\" d=\"M945,177.0 C945,2.0 1275.0,2.0 1275.0,177.0\" fill=\"none\" stroke=\"currentColor\"/>\n",
       "    <text dy=\"1.25em\" style=\"font-size: 0.8em; letter-spacing: 1px\">\n",
       "        <textPath xlink:href=\"#arrow-5f934a07e1254b2fb052c0dfa1dc5ff1-0-6\" class=\"displacy-label\" startOffset=\"50%\" side=\"left\" fill=\"currentColor\" text-anchor=\"middle\">pobj</textPath>\n",
       "    </text>\n",
       "    <path class=\"displacy-arrowhead\" d=\"M1275.0,179.0 L1283.0,167.0 1267.0,167.0\" fill=\"currentColor\"/>\n",
       "</g>\n",
       "</svg></span>"
      ],
      "text/plain": [
       "<IPython.core.display.HTML object>"
      ]
     },
     "metadata": {},
     "output_type": "display_data"
    }
   ],
   "source": [
    "doc = nlp(text)\n",
    "for token in doc:\n",
    "    print(token.text, token.pos_, token.dep_, token.is_stop, token.lemma_)\n",
    "displacy.render(doc, style=\"dep\")"
   ]
  },
  {
   "cell_type": "code",
   "execution_count": 10,
   "metadata": {},
   "outputs": [],
   "source": [
    "def namedEntities(a):\n",
    "    doc = nlp(a)\n",
    "    toReturn = []\n",
    "    for ent in doc.ents:\n",
    "        toReturn.append((ent.text, ent.label_))\n",
    "\n",
    "    return toReturn"
   ]
  },
  {
   "cell_type": "code",
   "execution_count": 11,
   "metadata": {},
   "outputs": [],
   "source": [
    "def getSubjects(a):\n",
    "    doc = nlp(a.lower())\n",
    "    toReturn = []\n",
    "    dep_tag = ['csubj', 'nsubj']\n",
    "    for token in doc:\n",
    "        if(token.text in nlp.Defaults.stop_words or token.text in punctuation):\n",
    "            continue\n",
    "        if(token.dep_ in dep_tag):\n",
    "            toReturn.append(token.lemma_)\n",
    "    \n",
    "    return toReturn"
   ]
  },
  {
   "cell_type": "code",
   "execution_count": 12,
   "metadata": {},
   "outputs": [],
   "source": [
    "def getObjects(a):\n",
    "    doc = nlp(a.lower())\n",
    "    toReturn = []\n",
    "    dep_tag = ['iobj', 'obj', 'dobj', 'pobj']\n",
    "    for token in doc:\n",
    "        if(token.text in nlp.Defaults.stop_words or token.text in punctuation):\n",
    "            continue\n",
    "        if(token.dep_ in dep_tag):\n",
    "            toReturn.append(token.lemma_)\n",
    "    \n",
    "    return toReturn"
   ]
  },
  {
   "cell_type": "code",
   "execution_count": 75,
   "metadata": {},
   "outputs": [],
   "source": [
    "def getNouns(a):\n",
    "    #doc = nlp(a.lower())\n",
    "    doc = nlp(a)\n",
    "    toReturn = []\n",
    "    pos_tag = ['NOUN']\n",
    "    for token in doc:\n",
    "        #toReturn.append([token.lemma_, token.pos_])\n",
    "        if(token.text in nlp.Defaults.stop_words or token.text in punctuation):\n",
    "            continue\n",
    "        if(token.pos_ in pos_tag):\n",
    "            toReturn.append(token.lemma_)\n",
    "    \n",
    "    return toReturn"
   ]
  },
  {
   "cell_type": "code",
   "execution_count": 76,
   "metadata": {},
   "outputs": [
    {
     "data": {
      "text/plain": [
       "['composer', 'piece']"
      ]
     },
     "execution_count": 76,
     "metadata": {},
     "output_type": "execute_result"
    }
   ],
   "source": [
    "getNouns(\"Which composer wrote the classical piece Messiah?\")"
   ]
  },
  {
   "cell_type": "code",
   "execution_count": 14,
   "metadata": {},
   "outputs": [],
   "source": [
    "questions = pd.DataFrame(t_data.loc[2::100, \"CONS_question\"])"
   ]
  },
  {
   "cell_type": "code",
   "execution_count": 15,
   "metadata": {},
   "outputs": [],
   "source": [
    "questions[\"namedEntities\"] = questions[\"CONS_question\"].apply(lambda x: namedEntities(x))"
   ]
  },
  {
   "cell_type": "code",
   "execution_count": 16,
   "metadata": {},
   "outputs": [],
   "source": [
    "questions[\"subjects\"] = questions[\"CONS_question\"].apply(lambda x: getSubjects(x))"
   ]
  },
  {
   "cell_type": "code",
   "execution_count": 17,
   "metadata": {},
   "outputs": [],
   "source": [
    "questions[\"objects\"] = questions[\"CONS_question\"].apply(lambda x: getObjects(x))"
   ]
  },
  {
   "cell_type": "code",
   "execution_count": 77,
   "metadata": {},
   "outputs": [],
   "source": [
    "questions[\"nouns\"] = questions[\"CONS_question\"].apply(lambda x: getNouns(x))"
   ]
  },
  {
   "cell_type": "code",
   "execution_count": 19,
   "metadata": {},
   "outputs": [
    {
     "data": {
      "text/html": [
       "<div>\n",
       "<style scoped>\n",
       "    .dataframe tbody tr th:only-of-type {\n",
       "        vertical-align: middle;\n",
       "    }\n",
       "\n",
       "    .dataframe tbody tr th {\n",
       "        vertical-align: top;\n",
       "    }\n",
       "\n",
       "    .dataframe thead th {\n",
       "        text-align: right;\n",
       "    }\n",
       "</style>\n",
       "<table border=\"1\" class=\"dataframe\">\n",
       "  <thead>\n",
       "    <tr style=\"text-align: right;\">\n",
       "      <th></th>\n",
       "      <th>CONS_question</th>\n",
       "      <th>namedEntities</th>\n",
       "      <th>subjects</th>\n",
       "      <th>objects</th>\n",
       "      <th>nouns</th>\n",
       "    </tr>\n",
       "  </thead>\n",
       "  <tbody>\n",
       "    <tr>\n",
       "      <th>2</th>\n",
       "      <td>\"The Diary of Anne Frank\" was first published in English under what title?</td>\n",
       "      <td>[(The Diary of Anne Frank, WORK_OF_ART), (first, ORDINAL), (English, LANGUAGE)]</td>\n",
       "      <td>[]</td>\n",
       "      <td>[frank, english, title]</td>\n",
       "      <td>[diary, title]</td>\n",
       "    </tr>\n",
       "    <tr>\n",
       "      <th>102</th>\n",
       "      <td>In one of Donald Horne's novels, which was \"the lucky country\"?</td>\n",
       "      <td>[(one, CARDINAL), (Donald Horne's, PERSON)]</td>\n",
       "      <td>[]</td>\n",
       "      <td>[novel]</td>\n",
       "      <td>[novel, country]</td>\n",
       "    </tr>\n",
       "    <tr>\n",
       "      <th>202</th>\n",
       "      <td>What Dr Seuss character steals Christmas?</td>\n",
       "      <td>[(Seuss, PERSON), (Christmas, DATE)]</td>\n",
       "      <td>[character]</td>\n",
       "      <td>[christmas]</td>\n",
       "      <td>[]</td>\n",
       "    </tr>\n",
       "    <tr>\n",
       "      <th>302</th>\n",
       "      <td>Which famous book begins with the line \"The mole had been working very hard all the morning, spring-cleaning his little home\"?</td>\n",
       "      <td>[(all the morning, TIME)]</td>\n",
       "      <td>[book, mole]</td>\n",
       "      <td>[line]</td>\n",
       "      <td>[book, line, mole, morning, spring, home]</td>\n",
       "    </tr>\n",
       "    <tr>\n",
       "      <th>402</th>\n",
       "      <td>Who was Winnie the Pooh's neighbour?</td>\n",
       "      <td>[(Winnie the Pooh's, PERSON)]</td>\n",
       "      <td>[]</td>\n",
       "      <td>[]</td>\n",
       "      <td>[neighbour]</td>\n",
       "    </tr>\n",
       "    <tr>\n",
       "      <th>502</th>\n",
       "      <td>As who is Terry Bollea known?</td>\n",
       "      <td>[(Terry Bollea, PERSON)]</td>\n",
       "      <td>[]</td>\n",
       "      <td>[]</td>\n",
       "      <td>[]</td>\n",
       "    </tr>\n",
       "    <tr>\n",
       "      <th>602</th>\n",
       "      <td>In the opera 'Don Giovanni', what was Leporello?</td>\n",
       "      <td>[(Don Giovanni', PERSON), (Leporello, PERSON)]</td>\n",
       "      <td>[]</td>\n",
       "      <td>[giovanni]</td>\n",
       "      <td>[leporello]</td>\n",
       "    </tr>\n",
       "    <tr>\n",
       "      <th>702</th>\n",
       "      <td>Secret Identities: Wally West</td>\n",
       "      <td>[]</td>\n",
       "      <td>[]</td>\n",
       "      <td>[]</td>\n",
       "      <td>[identity]</td>\n",
       "    </tr>\n",
       "    <tr>\n",
       "      <th>802</th>\n",
       "      <td>What film featured a cat named Mr. Bigglesworth?</td>\n",
       "      <td>[(Bigglesworth, PERSON)]</td>\n",
       "      <td>[film]</td>\n",
       "      <td>[cat]</td>\n",
       "      <td>[film, cat]</td>\n",
       "    </tr>\n",
       "    <tr>\n",
       "      <th>902</th>\n",
       "      <td>What was Kevin Bacon's first big hit?</td>\n",
       "      <td>[(Kevin Bacon's, PERSON), (first, ORDINAL)]</td>\n",
       "      <td>[]</td>\n",
       "      <td>[]</td>\n",
       "      <td>[hit]</td>\n",
       "    </tr>\n",
       "  </tbody>\n",
       "</table>\n",
       "</div>"
      ],
      "text/plain": [
       "                                                                                                                      CONS_question  \\\n",
       "2                                                        \"The Diary of Anne Frank\" was first published in English under what title?   \n",
       "102                                                                 In one of Donald Horne's novels, which was \"the lucky country\"?   \n",
       "202                                                                                       What Dr Seuss character steals Christmas?   \n",
       "302  Which famous book begins with the line \"The mole had been working very hard all the morning, spring-cleaning his little home\"?   \n",
       "402                                                                                            Who was Winnie the Pooh's neighbour?   \n",
       "502                                                                                                   As who is Terry Bollea known?   \n",
       "602                                                                                In the opera 'Don Giovanni', what was Leporello?   \n",
       "702                                                                                                   Secret Identities: Wally West   \n",
       "802                                                                                What film featured a cat named Mr. Bigglesworth?   \n",
       "902                                                                                           What was Kevin Bacon's first big hit?   \n",
       "\n",
       "                                                                       namedEntities  \\\n",
       "2    [(The Diary of Anne Frank, WORK_OF_ART), (first, ORDINAL), (English, LANGUAGE)]   \n",
       "102                                      [(one, CARDINAL), (Donald Horne's, PERSON)]   \n",
       "202                                             [(Seuss, PERSON), (Christmas, DATE)]   \n",
       "302                                                        [(all the morning, TIME)]   \n",
       "402                                                    [(Winnie the Pooh's, PERSON)]   \n",
       "502                                                         [(Terry Bollea, PERSON)]   \n",
       "602                                   [(Don Giovanni', PERSON), (Leporello, PERSON)]   \n",
       "702                                                                               []   \n",
       "802                                                         [(Bigglesworth, PERSON)]   \n",
       "902                                      [(Kevin Bacon's, PERSON), (first, ORDINAL)]   \n",
       "\n",
       "         subjects                  objects  \\\n",
       "2              []  [frank, english, title]   \n",
       "102            []                  [novel]   \n",
       "202   [character]              [christmas]   \n",
       "302  [book, mole]                   [line]   \n",
       "402            []                       []   \n",
       "502            []                       []   \n",
       "602            []               [giovanni]   \n",
       "702            []                       []   \n",
       "802        [film]                    [cat]   \n",
       "902            []                       []   \n",
       "\n",
       "                                         nouns  \n",
       "2                               [diary, title]  \n",
       "102                           [novel, country]  \n",
       "202                                         []  \n",
       "302  [book, line, mole, morning, spring, home]  \n",
       "402                                [neighbour]  \n",
       "502                                         []  \n",
       "602                                [leporello]  \n",
       "702                                 [identity]  \n",
       "802                                [film, cat]  \n",
       "902                                      [hit]  "
      ]
     },
     "execution_count": 19,
     "metadata": {},
     "output_type": "execute_result"
    }
   ],
   "source": [
    "questions[0:10]"
   ]
  },
  {
   "cell_type": "code",
   "execution_count": 20,
   "metadata": {},
   "outputs": [],
   "source": [
    "word_frequencies = pd.read_csv(\"F:/Word frequencies/unigram_freq.csv\")"
   ]
  },
  {
   "cell_type": "code",
   "execution_count": 21,
   "metadata": {},
   "outputs": [
    {
     "data": {
      "text/plain": [
       "2        [diary, title]\n",
       "102    [novel, country]\n",
       "Name: nouns, dtype: object"
      ]
     },
     "execution_count": 21,
     "metadata": {},
     "output_type": "execute_result"
    }
   ],
   "source": [
    "questions.iloc[0:2,-1]"
   ]
  },
  {
   "cell_type": "code",
   "execution_count": 22,
   "metadata": {},
   "outputs": [
    {
     "data": {
      "text/html": [
       "<div>\n",
       "<style scoped>\n",
       "    .dataframe tbody tr th:only-of-type {\n",
       "        vertical-align: middle;\n",
       "    }\n",
       "\n",
       "    .dataframe tbody tr th {\n",
       "        vertical-align: top;\n",
       "    }\n",
       "\n",
       "    .dataframe thead th {\n",
       "        text-align: right;\n",
       "    }\n",
       "</style>\n",
       "<table border=\"1\" class=\"dataframe\">\n",
       "  <thead>\n",
       "    <tr style=\"text-align: right;\">\n",
       "      <th></th>\n",
       "      <th>word</th>\n",
       "      <th>count</th>\n",
       "    </tr>\n",
       "  </thead>\n",
       "  <tbody>\n",
       "    <tr>\n",
       "      <th>110</th>\n",
       "      <td>state</td>\n",
       "      <td>453104133</td>\n",
       "    </tr>\n",
       "    <tr>\n",
       "      <th>138</th>\n",
       "      <td>city</td>\n",
       "      <td>390564835</td>\n",
       "    </tr>\n",
       "    <tr>\n",
       "      <th>1162</th>\n",
       "      <td>capital</td>\n",
       "      <td>68991999</td>\n",
       "    </tr>\n",
       "    <tr>\n",
       "      <th>16472</th>\n",
       "      <td>cheyenne</td>\n",
       "      <td>2224473</td>\n",
       "    </tr>\n",
       "  </tbody>\n",
       "</table>\n",
       "</div>"
      ],
      "text/plain": [
       "           word      count\n",
       "110       state  453104133\n",
       "138        city  390564835\n",
       "1162    capital   68991999\n",
       "16472  cheyenne    2224473"
      ]
     },
     "execution_count": 22,
     "metadata": {},
     "output_type": "execute_result"
    }
   ],
   "source": [
    "to_find1 = [\"state\", \"cheyenne\", \"capital\", \"city\"]\n",
    "to_find = questions.iloc[1,-1]\n",
    "word_frequencies[word_frequencies[\"word\"].isin(to_find1)]"
   ]
  },
  {
   "cell_type": "code",
   "execution_count": 23,
   "metadata": {},
   "outputs": [
    {
     "data": {
      "text/plain": [
       "2                   word      count\n",
       "377   title  196676017\n",
       "4585  diary   14922472\n",
       "102             word      count\n",
       "395   country  188691168\n",
       "3455    novel   21821189\n",
       "Name: nouns, dtype: object"
      ]
     },
     "execution_count": 23,
     "metadata": {},
     "output_type": "execute_result"
    }
   ],
   "source": [
    "a = questions.iloc[0:2,-1].apply(lambda x: word_frequencies[word_frequencies[\"word\"].isin(x)])\n",
    "a"
   ]
  },
  {
   "cell_type": "code",
   "execution_count": 38,
   "metadata": {},
   "outputs": [],
   "source": [
    "def frequencyCount(a):\n",
    "    result = []\n",
    "    for word in a:\n",
    "        try:\n",
    "            result.append(word_frequencies.loc[word_frequencies[\"word\"] == word, \"count\"].iloc[0])\n",
    "        except IndexError:\n",
    "            result.append(\"noValueFound\")\n",
    "    return result    \n",
    "    "
   ]
  },
  {
   "cell_type": "code",
   "execution_count": 78,
   "metadata": {},
   "outputs": [
    {
     "name": "stdout",
     "output_type": "stream",
     "text": [
      "Wall time: 21 s\n"
     ]
    }
   ],
   "source": [
    "%%time\n",
    "questions[\"nounFrequencies\"] = questions[\"nouns\"].apply(lambda x: frequencyCount(x))"
   ]
  },
  {
   "cell_type": "code",
   "execution_count": 79,
   "metadata": {},
   "outputs": [
    {
     "data": {
      "text/html": [
       "<div>\n",
       "<style scoped>\n",
       "    .dataframe tbody tr th:only-of-type {\n",
       "        vertical-align: middle;\n",
       "    }\n",
       "\n",
       "    .dataframe tbody tr th {\n",
       "        vertical-align: top;\n",
       "    }\n",
       "\n",
       "    .dataframe thead th {\n",
       "        text-align: right;\n",
       "    }\n",
       "</style>\n",
       "<table border=\"1\" class=\"dataframe\">\n",
       "  <thead>\n",
       "    <tr style=\"text-align: right;\">\n",
       "      <th></th>\n",
       "      <th>CONS_question</th>\n",
       "      <th>namedEntities</th>\n",
       "      <th>subjects</th>\n",
       "      <th>objects</th>\n",
       "      <th>nouns</th>\n",
       "      <th>nounFrequencies</th>\n",
       "    </tr>\n",
       "  </thead>\n",
       "  <tbody>\n",
       "    <tr>\n",
       "      <th>47002</th>\n",
       "      <td>When found on a vehicle’s speedometer, what do the letters MPH stand for?</td>\n",
       "      <td>[(MPH, ORG)]</td>\n",
       "      <td>[mph]</td>\n",
       "      <td>[vehicle]</td>\n",
       "      <td>[vehicle, speedometer, letter]</td>\n",
       "      <td>[54079229, 348124, 67339854]</td>\n",
       "    </tr>\n",
       "    <tr>\n",
       "      <th>47102</th>\n",
       "      <td>Which planet in our solar system has an axis that is tilted by 98 degrees?</td>\n",
       "      <td>[(98 degrees, QUANTITY)]</td>\n",
       "      <td>[planet]</td>\n",
       "      <td>[system, axis, degree]</td>\n",
       "      <td>[planet, system, axis, degree]</td>\n",
       "      <td>[26405032, 396975018, 12399723, 67029686]</td>\n",
       "    </tr>\n",
       "    <tr>\n",
       "      <th>47202</th>\n",
       "      <td>“Being and Time” is an ontological treatise written by which German philosopher?</td>\n",
       "      <td>[(Being and Time, WORK_OF_ART), (German, NORP)]</td>\n",
       "      <td>[]</td>\n",
       "      <td>[philosopher]</td>\n",
       "      <td>[time, treatise, philosopher]</td>\n",
       "      <td>[908705570, 987068, 2718992]</td>\n",
       "    </tr>\n",
       "    <tr>\n",
       "      <th>47302</th>\n",
       "      <td>According to Guiness World Records, which author has the most published works?</td>\n",
       "      <td>[(Guiness World Records, ORG)]</td>\n",
       "      <td>[author]</td>\n",
       "      <td>[records, work]</td>\n",
       "      <td>[author, work]</td>\n",
       "      <td>[179813446, 419483948]</td>\n",
       "    </tr>\n",
       "    <tr>\n",
       "      <th>47402</th>\n",
       "      <td>In 2012, who was declared the fastest man alive?</td>\n",
       "      <td>[(2012, DATE)]</td>\n",
       "      <td>[man]</td>\n",
       "      <td>[2012]</td>\n",
       "      <td>[man]</td>\n",
       "      <td>[181445531]</td>\n",
       "    </tr>\n",
       "    <tr>\n",
       "      <th>47502</th>\n",
       "      <td>Crusiverbalism refers to what activity?</td>\n",
       "      <td>[]</td>\n",
       "      <td>[crusiverbalism]</td>\n",
       "      <td>[activity]</td>\n",
       "      <td>[crusiverbalism, activity]</td>\n",
       "      <td>[noValueFound, 79633609]</td>\n",
       "    </tr>\n",
       "    <tr>\n",
       "      <th>47602</th>\n",
       "      <td>Who wrote the novel \"Across the River and into the Trees\"?</td>\n",
       "      <td>[(Across the River, WORK_OF_ART), (Trees, GPE)]</td>\n",
       "      <td>[]</td>\n",
       "      <td>[novel, river, tree]</td>\n",
       "      <td>[novel]</td>\n",
       "      <td>[21821189]</td>\n",
       "    </tr>\n",
       "    <tr>\n",
       "      <th>47702</th>\n",
       "      <td>Which composer wrote the classical piece \"Messiah\"?</td>\n",
       "      <td>[]</td>\n",
       "      <td>[composer]</td>\n",
       "      <td>[piece]</td>\n",
       "      <td>[composer, piece]</td>\n",
       "      <td>[8839743, 44298807]</td>\n",
       "    </tr>\n",
       "    <tr>\n",
       "      <th>47802</th>\n",
       "      <td>\"One Giant Leap\" was the first biography ever written of whom?</td>\n",
       "      <td>[(One, CARDINAL), (first, ORDINAL)]</td>\n",
       "      <td>[leap]</td>\n",
       "      <td>[]</td>\n",
       "      <td>[biography]</td>\n",
       "      <td>[23134870]</td>\n",
       "    </tr>\n",
       "    <tr>\n",
       "      <th>47902</th>\n",
       "      <td>What band released the landmark album \"London Calling\"?</td>\n",
       "      <td>[(London Calling, WORK_OF_ART)]</td>\n",
       "      <td>[band]</td>\n",
       "      <td>[album, call]</td>\n",
       "      <td>[band, landmark, album]</td>\n",
       "      <td>[68569061, 4645821, 77914316]</td>\n",
       "    </tr>\n",
       "    <tr>\n",
       "      <th>48002</th>\n",
       "      <td>Which Egyptian queen was married to pharaoh Akhenaten?</td>\n",
       "      <td>[(Egyptian, NORP), (Akhenaten, PERSON)]</td>\n",
       "      <td>[queen]</td>\n",
       "      <td>[pharaoh]</td>\n",
       "      <td>[queen]</td>\n",
       "      <td>[32366847]</td>\n",
       "    </tr>\n",
       "    <tr>\n",
       "      <th>48102</th>\n",
       "      <td>Which element has the atomic number of 12?</td>\n",
       "      <td>[(12, CARDINAL)]</td>\n",
       "      <td>[element]</td>\n",
       "      <td>[number, 12]</td>\n",
       "      <td>[element, number]</td>\n",
       "      <td>[36306394, 383787805]</td>\n",
       "    </tr>\n",
       "    <tr>\n",
       "      <th>48202</th>\n",
       "      <td>Who played the role of Mayor Randall Winston on the TV show \"Spin City\"?</td>\n",
       "      <td>[(Randall Winston, PERSON)]</td>\n",
       "      <td>[]</td>\n",
       "      <td>[role, winston]</td>\n",
       "      <td>[role, tv]</td>\n",
       "      <td>[73689002, 159603914]</td>\n",
       "    </tr>\n",
       "    <tr>\n",
       "      <th>48302</th>\n",
       "      <td>Which US state is home to the southernmost reaches of the Appalachian Mountains?</td>\n",
       "      <td>[(US, GPE), (the Appalachian Mountains, LOC)]</td>\n",
       "      <td>[state]</td>\n",
       "      <td>[reach, mountain]</td>\n",
       "      <td>[state, home, reach]</td>\n",
       "      <td>[453104133, 1276852170, 35687918]</td>\n",
       "    </tr>\n",
       "    <tr>\n",
       "      <th>48402</th>\n",
       "      <td>What Shakespeare play asks: \"To be or not to be\"?</td>\n",
       "      <td>[(Shakespeare, PERSON)]</td>\n",
       "      <td>[play]</td>\n",
       "      <td>[]</td>\n",
       "      <td>[play]</td>\n",
       "      <td>[150748333]</td>\n",
       "    </tr>\n",
       "    <tr>\n",
       "      <th>48502</th>\n",
       "      <td>What country is home to the Negev Desert?</td>\n",
       "      <td>[(the Negev Desert, LOC)]</td>\n",
       "      <td>[country]</td>\n",
       "      <td>[desert]</td>\n",
       "      <td>[country, home]</td>\n",
       "      <td>[188691168, 1276852170]</td>\n",
       "    </tr>\n",
       "    <tr>\n",
       "      <th>48602</th>\n",
       "      <td>What actress earned an Oscar nomination for her first screen appearance in \"Gaslight\"?</td>\n",
       "      <td>[(Oscar, PERSON), (first, ORDINAL), (Gaslight, WORK_OF_ART)]</td>\n",
       "      <td>[actress]</td>\n",
       "      <td>[nomination, appearance, gaslight]</td>\n",
       "      <td>[actress, nomination, screen, appearance]</td>\n",
       "      <td>[7010056, 5784301, 77183863, 16574606]</td>\n",
       "    </tr>\n",
       "    <tr>\n",
       "      <th>48702</th>\n",
       "      <td>Totoro from the movie \"My Neighbor Totoro\" lives in what kind of tree?</td>\n",
       "      <td>[(My Neighbor Totoro, WORK_OF_ART)]</td>\n",
       "      <td>[totoro, totoro]</td>\n",
       "      <td>[movie, kind, tree]</td>\n",
       "      <td>[movie, kind, tree]</td>\n",
       "      <td>[158421100, 70420316, 59622952]</td>\n",
       "    </tr>\n",
       "    <tr>\n",
       "      <th>48802</th>\n",
       "      <td>Who narrated the 1995 film \"Judge Dredd\"?</td>\n",
       "      <td>[(1995, DATE)]</td>\n",
       "      <td>[]</td>\n",
       "      <td>[dredd]</td>\n",
       "      <td>[film]</td>\n",
       "      <td>[116097842]</td>\n",
       "    </tr>\n",
       "    <tr>\n",
       "      <th>48902</th>\n",
       "      <td>What form of theater was the subject of many of Degas' paintings?</td>\n",
       "      <td>[(Degas, GPE)]</td>\n",
       "      <td>[form]</td>\n",
       "      <td>[theater, painting]</td>\n",
       "      <td>[form, theater, subject, painting]</td>\n",
       "      <td>[201395192, 30446816, 256217838, 21673638]</td>\n",
       "    </tr>\n",
       "    <tr>\n",
       "      <th>49002</th>\n",
       "      <td>How many calories must you burn to lose one pound?</td>\n",
       "      <td>[(one pound, QUANTITY)]</td>\n",
       "      <td>[]</td>\n",
       "      <td>[calorie, pound]</td>\n",
       "      <td>[calorie, pound]</td>\n",
       "      <td>[2667892, 13620117]</td>\n",
       "    </tr>\n",
       "    <tr>\n",
       "      <th>49102</th>\n",
       "      <td>What was the name of the first orbiter of NASA's space shuttle program?</td>\n",
       "      <td>[(first, ORDINAL), (NASA, ORG)]</td>\n",
       "      <td>[]</td>\n",
       "      <td>[orbiter, program]</td>\n",
       "      <td>[orbiter, space, shuttle, program]</td>\n",
       "      <td>[778331, 121505269, 8440760, 306686983]</td>\n",
       "    </tr>\n",
       "    <tr>\n",
       "      <th>49202</th>\n",
       "      <td>Fred Schneider was a member of which famous band?</td>\n",
       "      <td>[(Fred Schneider, PERSON)]</td>\n",
       "      <td>[schneider]</td>\n",
       "      <td>[band]</td>\n",
       "      <td>[member, band]</td>\n",
       "      <td>[283858893, 68569061]</td>\n",
       "    </tr>\n",
       "    <tr>\n",
       "      <th>49302</th>\n",
       "      <td>In which country would you find St. Basil's cathedral?</td>\n",
       "      <td>[(Basil, PERSON)]</td>\n",
       "      <td>[]</td>\n",
       "      <td>[cathedral]</td>\n",
       "      <td>[country, cathedral]</td>\n",
       "      <td>[188691168, 5707027]</td>\n",
       "    </tr>\n",
       "    <tr>\n",
       "      <th>49402</th>\n",
       "      <td>The Shenandoah Valley is located in which eastern US state?</td>\n",
       "      <td>[(The Shenandoah Valley, LOC), (US, GPE)]</td>\n",
       "      <td>[]</td>\n",
       "      <td>[]</td>\n",
       "      <td>[state]</td>\n",
       "      <td>[453104133]</td>\n",
       "    </tr>\n",
       "    <tr>\n",
       "      <th>49502</th>\n",
       "      <td>Which Quebec city does Canada’s capital border?</td>\n",
       "      <td>[(Quebec city, GPE), (Canada, GPE)]</td>\n",
       "      <td>[city]</td>\n",
       "      <td>[canada, border]</td>\n",
       "      <td>[city, capital, border]</td>\n",
       "      <td>[390564835, 68991999, 23234399]</td>\n",
       "    </tr>\n",
       "    <tr>\n",
       "      <th>49602</th>\n",
       "      <td>What element’s chemical symbol is \"Ni\"?</td>\n",
       "      <td>[]</td>\n",
       "      <td>[symbol]</td>\n",
       "      <td>[]</td>\n",
       "      <td>[element, chemical, symbol]</td>\n",
       "      <td>[36306394, 39891285, 23631465]</td>\n",
       "    </tr>\n",
       "    <tr>\n",
       "      <th>49702</th>\n",
       "      <td>What British rock-and-roll legend recorded a 1975 album titled \"Venus and Mars\"?</td>\n",
       "      <td>[(British, NORP), (1975, DATE), (Venus and Mars, WORK_OF_ART)]</td>\n",
       "      <td>[legend]</td>\n",
       "      <td>[album]</td>\n",
       "      <td>[rock, roll, legend, album]</td>\n",
       "      <td>[95488543, 30590349, 17650063, 77914316]</td>\n",
       "    </tr>\n",
       "    <tr>\n",
       "      <th>49802</th>\n",
       "      <td>In which California city does the 1982 film \"Poltergeist\" take place?</td>\n",
       "      <td>[(California, GPE), (1982, DATE), (Poltergeist\" take place?, WORK_OF_ART)]</td>\n",
       "      <td>[city, poltergeist]</td>\n",
       "      <td>[place]</td>\n",
       "      <td>[city, film, place]</td>\n",
       "      <td>[390564835, 116097842, 220970235]</td>\n",
       "    </tr>\n",
       "    <tr>\n",
       "      <th>49902</th>\n",
       "      <td>What classic novel's subtitle is \"A Tale of the Christ\"?</td>\n",
       "      <td>[(A Tale of the Christ, WORK_OF_ART)]</td>\n",
       "      <td>[subtitle]</td>\n",
       "      <td>[christ]</td>\n",
       "      <td>[novel, subtitle]</td>\n",
       "      <td>[21821189, 2951333]</td>\n",
       "    </tr>\n",
       "  </tbody>\n",
       "</table>\n",
       "</div>"
      ],
      "text/plain": [
       "                                                                                CONS_question  \\\n",
       "47002               When found on a vehicle’s speedometer, what do the letters MPH stand for?   \n",
       "47102              Which planet in our solar system has an axis that is tilted by 98 degrees?   \n",
       "47202        “Being and Time” is an ontological treatise written by which German philosopher?   \n",
       "47302          According to Guiness World Records, which author has the most published works?   \n",
       "47402                                        In 2012, who was declared the fastest man alive?   \n",
       "47502                                                 Crusiverbalism refers to what activity?   \n",
       "47602                              Who wrote the novel \"Across the River and into the Trees\"?   \n",
       "47702                                     Which composer wrote the classical piece \"Messiah\"?   \n",
       "47802                          \"One Giant Leap\" was the first biography ever written of whom?   \n",
       "47902                                 What band released the landmark album \"London Calling\"?   \n",
       "48002                                  Which Egyptian queen was married to pharaoh Akhenaten?   \n",
       "48102                                              Which element has the atomic number of 12?   \n",
       "48202                Who played the role of Mayor Randall Winston on the TV show \"Spin City\"?   \n",
       "48302        Which US state is home to the southernmost reaches of the Appalachian Mountains?   \n",
       "48402                                       What Shakespeare play asks: \"To be or not to be\"?   \n",
       "48502                                               What country is home to the Negev Desert?   \n",
       "48602  What actress earned an Oscar nomination for her first screen appearance in \"Gaslight\"?   \n",
       "48702                  Totoro from the movie \"My Neighbor Totoro\" lives in what kind of tree?   \n",
       "48802                                               Who narrated the 1995 film \"Judge Dredd\"?   \n",
       "48902                       What form of theater was the subject of many of Degas' paintings?   \n",
       "49002                                      How many calories must you burn to lose one pound?   \n",
       "49102                 What was the name of the first orbiter of NASA's space shuttle program?   \n",
       "49202                                       Fred Schneider was a member of which famous band?   \n",
       "49302                                  In which country would you find St. Basil's cathedral?   \n",
       "49402                             The Shenandoah Valley is located in which eastern US state?   \n",
       "49502                                         Which Quebec city does Canada’s capital border?   \n",
       "49602                                                 What element’s chemical symbol is \"Ni\"?   \n",
       "49702        What British rock-and-roll legend recorded a 1975 album titled \"Venus and Mars\"?   \n",
       "49802                   In which California city does the 1982 film \"Poltergeist\" take place?   \n",
       "49902                                What classic novel's subtitle is \"A Tale of the Christ\"?   \n",
       "\n",
       "                                                                    namedEntities  \\\n",
       "47002                                                                [(MPH, ORG)]   \n",
       "47102                                                    [(98 degrees, QUANTITY)]   \n",
       "47202                             [(Being and Time, WORK_OF_ART), (German, NORP)]   \n",
       "47302                                              [(Guiness World Records, ORG)]   \n",
       "47402                                                              [(2012, DATE)]   \n",
       "47502                                                                          []   \n",
       "47602                             [(Across the River, WORK_OF_ART), (Trees, GPE)]   \n",
       "47702                                                                          []   \n",
       "47802                                         [(One, CARDINAL), (first, ORDINAL)]   \n",
       "47902                                             [(London Calling, WORK_OF_ART)]   \n",
       "48002                                     [(Egyptian, NORP), (Akhenaten, PERSON)]   \n",
       "48102                                                            [(12, CARDINAL)]   \n",
       "48202                                                 [(Randall Winston, PERSON)]   \n",
       "48302                               [(US, GPE), (the Appalachian Mountains, LOC)]   \n",
       "48402                                                     [(Shakespeare, PERSON)]   \n",
       "48502                                                   [(the Negev Desert, LOC)]   \n",
       "48602                [(Oscar, PERSON), (first, ORDINAL), (Gaslight, WORK_OF_ART)]   \n",
       "48702                                         [(My Neighbor Totoro, WORK_OF_ART)]   \n",
       "48802                                                              [(1995, DATE)]   \n",
       "48902                                                              [(Degas, GPE)]   \n",
       "49002                                                     [(one pound, QUANTITY)]   \n",
       "49102                                             [(first, ORDINAL), (NASA, ORG)]   \n",
       "49202                                                  [(Fred Schneider, PERSON)]   \n",
       "49302                                                           [(Basil, PERSON)]   \n",
       "49402                                   [(The Shenandoah Valley, LOC), (US, GPE)]   \n",
       "49502                                         [(Quebec city, GPE), (Canada, GPE)]   \n",
       "49602                                                                          []   \n",
       "49702              [(British, NORP), (1975, DATE), (Venus and Mars, WORK_OF_ART)]   \n",
       "49802  [(California, GPE), (1982, DATE), (Poltergeist\" take place?, WORK_OF_ART)]   \n",
       "49902                                       [(A Tale of the Christ, WORK_OF_ART)]   \n",
       "\n",
       "                  subjects                             objects  \\\n",
       "47002                [mph]                           [vehicle]   \n",
       "47102             [planet]              [system, axis, degree]   \n",
       "47202                   []                       [philosopher]   \n",
       "47302             [author]                     [records, work]   \n",
       "47402                [man]                              [2012]   \n",
       "47502     [crusiverbalism]                          [activity]   \n",
       "47602                   []                [novel, river, tree]   \n",
       "47702           [composer]                             [piece]   \n",
       "47802               [leap]                                  []   \n",
       "47902               [band]                       [album, call]   \n",
       "48002              [queen]                           [pharaoh]   \n",
       "48102            [element]                        [number, 12]   \n",
       "48202                   []                     [role, winston]   \n",
       "48302              [state]                   [reach, mountain]   \n",
       "48402               [play]                                  []   \n",
       "48502            [country]                            [desert]   \n",
       "48602            [actress]  [nomination, appearance, gaslight]   \n",
       "48702     [totoro, totoro]                 [movie, kind, tree]   \n",
       "48802                   []                             [dredd]   \n",
       "48902               [form]                 [theater, painting]   \n",
       "49002                   []                    [calorie, pound]   \n",
       "49102                   []                  [orbiter, program]   \n",
       "49202          [schneider]                              [band]   \n",
       "49302                   []                         [cathedral]   \n",
       "49402                   []                                  []   \n",
       "49502               [city]                    [canada, border]   \n",
       "49602             [symbol]                                  []   \n",
       "49702             [legend]                             [album]   \n",
       "49802  [city, poltergeist]                             [place]   \n",
       "49902           [subtitle]                            [christ]   \n",
       "\n",
       "                                           nouns  \\\n",
       "47002             [vehicle, speedometer, letter]   \n",
       "47102             [planet, system, axis, degree]   \n",
       "47202              [time, treatise, philosopher]   \n",
       "47302                             [author, work]   \n",
       "47402                                      [man]   \n",
       "47502                 [crusiverbalism, activity]   \n",
       "47602                                    [novel]   \n",
       "47702                          [composer, piece]   \n",
       "47802                                [biography]   \n",
       "47902                    [band, landmark, album]   \n",
       "48002                                    [queen]   \n",
       "48102                          [element, number]   \n",
       "48202                                 [role, tv]   \n",
       "48302                       [state, home, reach]   \n",
       "48402                                     [play]   \n",
       "48502                            [country, home]   \n",
       "48602  [actress, nomination, screen, appearance]   \n",
       "48702                        [movie, kind, tree]   \n",
       "48802                                     [film]   \n",
       "48902         [form, theater, subject, painting]   \n",
       "49002                           [calorie, pound]   \n",
       "49102         [orbiter, space, shuttle, program]   \n",
       "49202                             [member, band]   \n",
       "49302                       [country, cathedral]   \n",
       "49402                                    [state]   \n",
       "49502                    [city, capital, border]   \n",
       "49602                [element, chemical, symbol]   \n",
       "49702                [rock, roll, legend, album]   \n",
       "49802                        [city, film, place]   \n",
       "49902                          [novel, subtitle]   \n",
       "\n",
       "                                  nounFrequencies  \n",
       "47002                [54079229, 348124, 67339854]  \n",
       "47102   [26405032, 396975018, 12399723, 67029686]  \n",
       "47202                [908705570, 987068, 2718992]  \n",
       "47302                      [179813446, 419483948]  \n",
       "47402                                 [181445531]  \n",
       "47502                    [noValueFound, 79633609]  \n",
       "47602                                  [21821189]  \n",
       "47702                         [8839743, 44298807]  \n",
       "47802                                  [23134870]  \n",
       "47902               [68569061, 4645821, 77914316]  \n",
       "48002                                  [32366847]  \n",
       "48102                       [36306394, 383787805]  \n",
       "48202                       [73689002, 159603914]  \n",
       "48302           [453104133, 1276852170, 35687918]  \n",
       "48402                                 [150748333]  \n",
       "48502                     [188691168, 1276852170]  \n",
       "48602      [7010056, 5784301, 77183863, 16574606]  \n",
       "48702             [158421100, 70420316, 59622952]  \n",
       "48802                                 [116097842]  \n",
       "48902  [201395192, 30446816, 256217838, 21673638]  \n",
       "49002                         [2667892, 13620117]  \n",
       "49102     [778331, 121505269, 8440760, 306686983]  \n",
       "49202                       [283858893, 68569061]  \n",
       "49302                        [188691168, 5707027]  \n",
       "49402                                 [453104133]  \n",
       "49502             [390564835, 68991999, 23234399]  \n",
       "49602              [36306394, 39891285, 23631465]  \n",
       "49702    [95488543, 30590349, 17650063, 77914316]  \n",
       "49802           [390564835, 116097842, 220970235]  \n",
       "49902                         [21821189, 2951333]  "
      ]
     },
     "execution_count": 79,
     "metadata": {},
     "output_type": "execute_result"
    }
   ],
   "source": [
    "questions[470:500]"
   ]
  },
  {
   "cell_type": "code",
   "execution_count": 51,
   "metadata": {},
   "outputs": [
    {
     "data": {
      "text/plain": [
       "2"
      ]
     },
     "execution_count": 51,
     "metadata": {},
     "output_type": "execute_result"
    }
   ],
   "source": [
    "values = questions.iloc[3,-1]\n",
    "values.index(min(values))"
   ]
  },
  {
   "cell_type": "code",
   "execution_count": 25,
   "metadata": {},
   "outputs": [],
   "source": [
    "test = frequencyCount(questions.iloc[1,-1])"
   ]
  },
  {
   "cell_type": "code",
   "execution_count": 31,
   "metadata": {},
   "outputs": [
    {
     "data": {
      "text/plain": [
       "['novel', 'country']"
      ]
     },
     "execution_count": 31,
     "metadata": {},
     "output_type": "execute_result"
    }
   ],
   "source": [
    "questions.iloc[1,-1]"
   ]
  },
  {
   "cell_type": "code",
   "execution_count": 26,
   "metadata": {},
   "outputs": [
    {
     "data": {
      "text/plain": [
       "[21821189, 188691168]"
      ]
     },
     "execution_count": 26,
     "metadata": {},
     "output_type": "execute_result"
    }
   ],
   "source": [
    "test"
   ]
  },
  {
   "cell_type": "code",
   "execution_count": 37,
   "metadata": {},
   "outputs": [
    {
     "ename": "IndexError",
     "evalue": "single positional indexer is out-of-bounds",
     "output_type": "error",
     "traceback": [
      "\u001b[1;31m---------------------------------------------------------------------------\u001b[0m",
      "\u001b[1;31mIndexError\u001b[0m                                Traceback (most recent call last)",
      "\u001b[1;32m<ipython-input-37-af604e9206ef>\u001b[0m in \u001b[0;36m<module>\u001b[1;34m\u001b[0m\n\u001b[1;32m----> 1\u001b[1;33m \u001b[0mword_frequencies\u001b[0m\u001b[1;33m.\u001b[0m\u001b[0mloc\u001b[0m\u001b[1;33m[\u001b[0m\u001b[0mword_frequencies\u001b[0m\u001b[1;33m[\u001b[0m\u001b[1;34m\"word\"\u001b[0m\u001b[1;33m]\u001b[0m \u001b[1;33m==\u001b[0m \u001b[1;34m\"alskdugjasökdg\"\u001b[0m\u001b[1;33m,\u001b[0m \u001b[1;34m\"count\"\u001b[0m\u001b[1;33m]\u001b[0m\u001b[1;33m.\u001b[0m\u001b[0miloc\u001b[0m\u001b[1;33m[\u001b[0m\u001b[1;36m0\u001b[0m\u001b[1;33m]\u001b[0m\u001b[1;33m\u001b[0m\u001b[1;33m\u001b[0m\u001b[0m\n\u001b[0m",
      "\u001b[1;32m~\\miniconda3\\envs\\data-analysis\\lib\\site-packages\\pandas\\core\\indexing.py\u001b[0m in \u001b[0;36m__getitem__\u001b[1;34m(self, key)\u001b[0m\n\u001b[0;32m   1766\u001b[0m \u001b[1;33m\u001b[0m\u001b[0m\n\u001b[0;32m   1767\u001b[0m             \u001b[0mmaybe_callable\u001b[0m \u001b[1;33m=\u001b[0m \u001b[0mcom\u001b[0m\u001b[1;33m.\u001b[0m\u001b[0mapply_if_callable\u001b[0m\u001b[1;33m(\u001b[0m\u001b[0mkey\u001b[0m\u001b[1;33m,\u001b[0m \u001b[0mself\u001b[0m\u001b[1;33m.\u001b[0m\u001b[0mobj\u001b[0m\u001b[1;33m)\u001b[0m\u001b[1;33m\u001b[0m\u001b[1;33m\u001b[0m\u001b[0m\n\u001b[1;32m-> 1768\u001b[1;33m             \u001b[1;32mreturn\u001b[0m \u001b[0mself\u001b[0m\u001b[1;33m.\u001b[0m\u001b[0m_getitem_axis\u001b[0m\u001b[1;33m(\u001b[0m\u001b[0mmaybe_callable\u001b[0m\u001b[1;33m,\u001b[0m \u001b[0maxis\u001b[0m\u001b[1;33m=\u001b[0m\u001b[0maxis\u001b[0m\u001b[1;33m)\u001b[0m\u001b[1;33m\u001b[0m\u001b[1;33m\u001b[0m\u001b[0m\n\u001b[0m\u001b[0;32m   1769\u001b[0m \u001b[1;33m\u001b[0m\u001b[0m\n\u001b[0;32m   1770\u001b[0m     \u001b[1;32mdef\u001b[0m \u001b[0m_is_scalar_access\u001b[0m\u001b[1;33m(\u001b[0m\u001b[0mself\u001b[0m\u001b[1;33m,\u001b[0m \u001b[0mkey\u001b[0m\u001b[1;33m:\u001b[0m \u001b[0mTuple\u001b[0m\u001b[1;33m)\u001b[0m\u001b[1;33m:\u001b[0m\u001b[1;33m\u001b[0m\u001b[1;33m\u001b[0m\u001b[0m\n",
      "\u001b[1;32m~\\miniconda3\\envs\\data-analysis\\lib\\site-packages\\pandas\\core\\indexing.py\u001b[0m in \u001b[0;36m_getitem_axis\u001b[1;34m(self, key, axis)\u001b[0m\n\u001b[0;32m   2136\u001b[0m \u001b[1;33m\u001b[0m\u001b[0m\n\u001b[0;32m   2137\u001b[0m             \u001b[1;31m# validate the location\u001b[0m\u001b[1;33m\u001b[0m\u001b[1;33m\u001b[0m\u001b[1;33m\u001b[0m\u001b[0m\n\u001b[1;32m-> 2138\u001b[1;33m             \u001b[0mself\u001b[0m\u001b[1;33m.\u001b[0m\u001b[0m_validate_integer\u001b[0m\u001b[1;33m(\u001b[0m\u001b[0mkey\u001b[0m\u001b[1;33m,\u001b[0m \u001b[0maxis\u001b[0m\u001b[1;33m)\u001b[0m\u001b[1;33m\u001b[0m\u001b[1;33m\u001b[0m\u001b[0m\n\u001b[0m\u001b[0;32m   2139\u001b[0m \u001b[1;33m\u001b[0m\u001b[0m\n\u001b[0;32m   2140\u001b[0m             \u001b[1;32mreturn\u001b[0m \u001b[0mself\u001b[0m\u001b[1;33m.\u001b[0m\u001b[0m_get_loc\u001b[0m\u001b[1;33m(\u001b[0m\u001b[0mkey\u001b[0m\u001b[1;33m,\u001b[0m \u001b[0maxis\u001b[0m\u001b[1;33m=\u001b[0m\u001b[0maxis\u001b[0m\u001b[1;33m)\u001b[0m\u001b[1;33m\u001b[0m\u001b[1;33m\u001b[0m\u001b[0m\n",
      "\u001b[1;32m~\\miniconda3\\envs\\data-analysis\\lib\\site-packages\\pandas\\core\\indexing.py\u001b[0m in \u001b[0;36m_validate_integer\u001b[1;34m(self, key, axis)\u001b[0m\n\u001b[0;32m   2061\u001b[0m         \u001b[0mlen_axis\u001b[0m \u001b[1;33m=\u001b[0m \u001b[0mlen\u001b[0m\u001b[1;33m(\u001b[0m\u001b[0mself\u001b[0m\u001b[1;33m.\u001b[0m\u001b[0mobj\u001b[0m\u001b[1;33m.\u001b[0m\u001b[0m_get_axis\u001b[0m\u001b[1;33m(\u001b[0m\u001b[0maxis\u001b[0m\u001b[1;33m)\u001b[0m\u001b[1;33m)\u001b[0m\u001b[1;33m\u001b[0m\u001b[1;33m\u001b[0m\u001b[0m\n\u001b[0;32m   2062\u001b[0m         \u001b[1;32mif\u001b[0m \u001b[0mkey\u001b[0m \u001b[1;33m>=\u001b[0m \u001b[0mlen_axis\u001b[0m \u001b[1;32mor\u001b[0m \u001b[0mkey\u001b[0m \u001b[1;33m<\u001b[0m \u001b[1;33m-\u001b[0m\u001b[0mlen_axis\u001b[0m\u001b[1;33m:\u001b[0m\u001b[1;33m\u001b[0m\u001b[1;33m\u001b[0m\u001b[0m\n\u001b[1;32m-> 2063\u001b[1;33m             \u001b[1;32mraise\u001b[0m \u001b[0mIndexError\u001b[0m\u001b[1;33m(\u001b[0m\u001b[1;34m\"single positional indexer is out-of-bounds\"\u001b[0m\u001b[1;33m)\u001b[0m\u001b[1;33m\u001b[0m\u001b[1;33m\u001b[0m\u001b[0m\n\u001b[0m\u001b[0;32m   2064\u001b[0m \u001b[1;33m\u001b[0m\u001b[0m\n\u001b[0;32m   2065\u001b[0m     \u001b[1;32mdef\u001b[0m \u001b[0m_getitem_tuple\u001b[0m\u001b[1;33m(\u001b[0m\u001b[0mself\u001b[0m\u001b[1;33m,\u001b[0m \u001b[0mtup\u001b[0m\u001b[1;33m:\u001b[0m \u001b[0mTuple\u001b[0m\u001b[1;33m)\u001b[0m\u001b[1;33m:\u001b[0m\u001b[1;33m\u001b[0m\u001b[1;33m\u001b[0m\u001b[0m\n",
      "\u001b[1;31mIndexError\u001b[0m: single positional indexer is out-of-bounds"
     ]
    }
   ],
   "source": [
    "word_frequencies.loc[word_frequencies[\"word\"] == \"alskdugjasökdg\", \"count\"].iloc[0]"
   ]
  },
  {
   "cell_type": "code",
   "execution_count": 28,
   "metadata": {},
   "outputs": [
    {
     "data": {
      "text/plain": [
       "23135851162"
      ]
     },
     "execution_count": 28,
     "metadata": {},
     "output_type": "execute_result"
    }
   ],
   "source": [
    "word_frequencies.iloc[0,1]"
   ]
  },
  {
   "cell_type": "code",
   "execution_count": 29,
   "metadata": {},
   "outputs": [],
   "source": [
    "#t_data.CONS_category.unique()"
   ]
  },
  {
   "cell_type": "code",
   "execution_count": 30,
   "metadata": {},
   "outputs": [],
   "source": [
    "#t_data.loc[22502]"
   ]
  }
 ],
 "metadata": {
  "kernelspec": {
   "display_name": "Python 3",
   "language": "python",
   "name": "python3"
  },
  "language_info": {
   "codemirror_mode": {
    "name": "ipython",
    "version": 3
   },
   "file_extension": ".py",
   "mimetype": "text/x-python",
   "name": "python",
   "nbconvert_exporter": "python",
   "pygments_lexer": "ipython3",
   "version": "3.8.2"
  }
 },
 "nbformat": 4,
 "nbformat_minor": 4
}
