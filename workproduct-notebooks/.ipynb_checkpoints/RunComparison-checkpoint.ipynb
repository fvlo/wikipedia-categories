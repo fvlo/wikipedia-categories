{
 "cells": [
  {
   "cell_type": "code",
   "execution_count": 1,
   "metadata": {},
   "outputs": [],
   "source": [
    "import pandas as pd\n",
    "import time\n",
    "import glob"
   ]
  },
  {
   "cell_type": "code",
   "execution_count": 2,
   "metadata": {},
   "outputs": [],
   "source": [
    "Run5 = \"../workproduct-files/batchRuns/Run5\"\n",
    "Run6 = \"../workproduct-files/batchRuns/Run6\""
   ]
  },
  {
   "cell_type": "code",
   "execution_count": 3,
   "metadata": {},
   "outputs": [],
   "source": [
    "Run5Meta = pd.read_csv(Run5 + \"/batchRuns.csv\", delimiter=\";\")\n",
    "Run6Meta = pd.read_csv(Run6 + \"/batchRuns.csv\", delimiter=\";\")"
   ]
  },
  {
   "cell_type": "code",
   "execution_count": 4,
   "metadata": {},
   "outputs": [],
   "source": [
    "Run5_time = Run5Meta.iloc[:,-1].sum(skipna = True)"
   ]
  },
  {
   "cell_type": "code",
   "execution_count": 5,
   "metadata": {},
   "outputs": [],
   "source": [
    "Run6_time = Run6Meta.iloc[:,-1].sum(skipna = True)"
   ]
  },
  {
   "cell_type": "code",
   "execution_count": 6,
   "metadata": {},
   "outputs": [],
   "source": [
    "# Run5 and Run6 now comparable.\n",
    "# Run6 still jammed for some reason\n",
    "# --> compare run times (above) and failure counts\n",
    "# Read all pickle files into separate dfs for both runs"
   ]
  },
  {
   "cell_type": "code",
   "execution_count": 7,
   "metadata": {},
   "outputs": [],
   "source": [
    "Run5_files = glob.glob(Run5 + \"/pickles/*.pkl\")\n",
    "Run6_files = glob.glob(Run6 + \"/pickles/*.pkl\")"
   ]
  },
  {
   "cell_type": "code",
   "execution_count": 8,
   "metadata": {},
   "outputs": [],
   "source": [
    "Run5DF = pd.DataFrame()\n",
    "for filename in Run5_files:\n",
    "    Run5DF = Run5DF.append(pd.read_pickle(filename))\n",
    "Run5DF = Run5DF.sort_index()"
   ]
  },
  {
   "cell_type": "code",
   "execution_count": 9,
   "metadata": {},
   "outputs": [],
   "source": [
    "Run6DF = pd.DataFrame()\n",
    "for filename in Run6_files:\n",
    "    Run6DF = Run6DF.append(pd.read_pickle(filename))\n",
    "Run6DF = Run6DF.sort_index()"
   ]
  },
  {
   "cell_type": "code",
   "execution_count": 10,
   "metadata": {},
   "outputs": [],
   "source": [
    "Run5_wikisearchFailed = len(Run5DF[Run5DF.wikipediaSearchSuccessful == False])"
   ]
  },
  {
   "cell_type": "code",
   "execution_count": 11,
   "metadata": {},
   "outputs": [],
   "source": [
    "Run6_wikisearchFailed = len(Run6DF[Run6DF.wikipediaSearchSuccessful == False])"
   ]
  },
  {
   "cell_type": "code",
   "execution_count": 12,
   "metadata": {},
   "outputs": [],
   "source": [
    "def successIndex(a):\n",
    "    try:\n",
    "        result = a.index(\"SUCCESS\")\n",
    "    except ValueError:\n",
    "        result = -1\n",
    "    \n",
    "    return result"
   ]
  },
  {
   "cell_type": "code",
   "execution_count": 13,
   "metadata": {},
   "outputs": [],
   "source": [
    "Run5DF[\"searchTermUsed\"] = Run5DF[\"findQuestionCategories_meta\"].apply(lambda x: successIndex(x))"
   ]
  },
  {
   "cell_type": "code",
   "execution_count": 14,
   "metadata": {},
   "outputs": [],
   "source": [
    "Run6DF[\"searchTermUsed\"] = Run6DF[\"findQuestionCategories_meta\"].apply(lambda x: successIndex(x))"
   ]
  },
  {
   "cell_type": "code",
   "execution_count": 15,
   "metadata": {},
   "outputs": [],
   "source": [
    "termComparison = pd.DataFrame\n",
    "termComparison = pd.concat([Run5DF[\"searchTermUsed\"], Run6DF[\"searchTermUsed\"]], axis=1)\n",
    "termComparison.columns = ['a', 'b']\n",
    "differentTermsCount = len(termComparison.loc[termComparison['a'] != termComparison['b']])"
   ]
  },
  {
   "cell_type": "code",
   "execution_count": 23,
   "metadata": {},
   "outputs": [
    {
     "name": "stdout",
     "output_type": "stream",
     "text": [
      "Run 5:\n",
      "Run time: 1021.0\n",
      "Search failed: 10\n",
      "\n",
      "Run 6:\n",
      "Run time: 1421.0\n",
      "Search failed: 10\n",
      "\n",
      "Run 6 / Run 5\n",
      "Run time: 1.3917727717923605\n",
      "Search failed: 1.0\n",
      "Term changed (abs): 13\n",
      "Term changed (rel): 0.12149532710280374\n"
     ]
    }
   ],
   "source": [
    "print(\"Run 5:\")\n",
    "print(\"Run time: \" + str(Run5_time))\n",
    "print(\"Search failed: \" + str(Run5_wikisearchFailed))\n",
    "print(\"\")\n",
    "print(\"Run 6:\")\n",
    "print(\"Run time: \" + str(Run6_time))\n",
    "print(\"Search failed: \" + str(Run6_wikisearchFailed))\n",
    "print(\"\")\n",
    "print(\"Run 6 / Run 5\")\n",
    "print(\"Run time: \" + str(Run6_time/Run5_time))\n",
    "print(\"Search failed: \" + str(Run6_wikisearchFailed/Run5_wikisearchFailed))\n",
    "print(\"Term changed (abs): \" + str(differentTermsCount))\n",
    "print(\"Term changed (rel): \" + str(differentTermsCount / len(termComparison)))"
   ]
  },
  {
   "cell_type": "code",
   "execution_count": 27,
   "metadata": {},
   "outputs": [
    {
     "data": {
      "text/plain": [
       "9.99102197992385"
      ]
     },
     "execution_count": 27,
     "metadata": {},
     "output_type": "execute_result"
    }
   ],
   "source": [
    "# Estimated runtime in days for full dataset of 65k rows\n",
    "Run6_time/len(termComparison)*65000/3600/24"
   ]
  }
 ],
 "metadata": {
  "kernelspec": {
   "display_name": "Python 3",
   "language": "python",
   "name": "python3"
  },
  "language_info": {
   "codemirror_mode": {
    "name": "ipython",
    "version": 3
   },
   "file_extension": ".py",
   "mimetype": "text/x-python",
   "name": "python",
   "nbconvert_exporter": "python",
   "pygments_lexer": "ipython3",
   "version": "3.8.2"
  }
 },
 "nbformat": 4,
 "nbformat_minor": 4
}
