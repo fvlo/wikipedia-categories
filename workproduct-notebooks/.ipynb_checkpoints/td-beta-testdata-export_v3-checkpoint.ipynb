{
 "cells": [
  {
   "cell_type": "code",
   "execution_count": 1,
   "metadata": {},
   "outputs": [],
   "source": [
    "import pandas as pd"
   ]
  },
  {
   "cell_type": "code",
   "execution_count": 2,
   "metadata": {},
   "outputs": [],
   "source": [
    "pd.set_option('display.max_rows', 500)\n",
    "pd.set_option('display.max_columns', 500)\n",
    "pd.set_option('display.max_colwidth', 1000)"
   ]
  },
  {
   "cell_type": "code",
   "execution_count": 3,
   "metadata": {},
   "outputs": [],
   "source": [
    "t_data = pd.read_pickle(\"../workproduct-files/t_dataMaster-keywordsIdentified.pkl\")\n",
    "master_data = pd.read_pickle(\"../final-files/tdMasterData_2020-12-16.pkl\")"
   ]
  },
  {
   "cell_type": "code",
   "execution_count": 13,
   "metadata": {},
   "outputs": [],
   "source": [
    "rows = t_data.loc[t_data[\"Source\"]==\"rtg\"].index.tolist()"
   ]
  },
  {
   "cell_type": "code",
   "execution_count": 29,
   "metadata": {},
   "outputs": [],
   "source": [
    "out = master_data.iloc[rows]"
   ]
  },
  {
   "cell_type": "code",
   "execution_count": 30,
   "metadata": {},
   "outputs": [],
   "source": [
    "out = out.loc[out[\"primarySet\"] == True]"
   ]
  },
  {
   "cell_type": "code",
   "execution_count": 31,
   "metadata": {},
   "outputs": [],
   "source": [
    "out = out.loc[:, ['CONS_question', 'CONS_answer', 'Master_category']]"
   ]
  },
  {
   "cell_type": "code",
   "execution_count": 38,
   "metadata": {},
   "outputs": [
    {
     "data": {
      "text/html": [
       "<div>\n",
       "<style scoped>\n",
       "    .dataframe tbody tr th:only-of-type {\n",
       "        vertical-align: middle;\n",
       "    }\n",
       "\n",
       "    .dataframe tbody tr th {\n",
       "        vertical-align: top;\n",
       "    }\n",
       "\n",
       "    .dataframe thead th {\n",
       "        text-align: right;\n",
       "    }\n",
       "</style>\n",
       "<table border=\"1\" class=\"dataframe\">\n",
       "  <thead>\n",
       "    <tr style=\"text-align: right;\">\n",
       "      <th></th>\n",
       "      <th>CONS_question</th>\n",
       "      <th>CONS_answer</th>\n",
       "    </tr>\n",
       "    <tr>\n",
       "      <th>Master_category</th>\n",
       "      <th></th>\n",
       "      <th></th>\n",
       "    </tr>\n",
       "  </thead>\n",
       "  <tbody>\n",
       "    <tr>\n",
       "      <th>Art and literature</th>\n",
       "      <td>2812</td>\n",
       "      <td>2812</td>\n",
       "    </tr>\n",
       "    <tr>\n",
       "      <th>Entertainment and games</th>\n",
       "      <td>5328</td>\n",
       "      <td>5328</td>\n",
       "    </tr>\n",
       "    <tr>\n",
       "      <th>Geography and places</th>\n",
       "      <td>2333</td>\n",
       "      <td>2333</td>\n",
       "    </tr>\n",
       "    <tr>\n",
       "      <th>History and society</th>\n",
       "      <td>2918</td>\n",
       "      <td>2918</td>\n",
       "    </tr>\n",
       "    <tr>\n",
       "      <th>Science and nature</th>\n",
       "      <td>2840</td>\n",
       "      <td>2840</td>\n",
       "    </tr>\n",
       "    <tr>\n",
       "      <th>Sports and hobbies</th>\n",
       "      <td>846</td>\n",
       "      <td>846</td>\n",
       "    </tr>\n",
       "  </tbody>\n",
       "</table>\n",
       "</div>"
      ],
      "text/plain": [
       "                         CONS_question  CONS_answer\n",
       "Master_category                                    \n",
       "Art and literature                2812         2812\n",
       "Entertainment and games           5328         5328\n",
       "Geography and places              2333         2333\n",
       "History and society               2918         2918\n",
       "Science and nature                2840         2840\n",
       "Sports and hobbies                 846          846"
      ]
     },
     "execution_count": 38,
     "metadata": {},
     "output_type": "execute_result"
    }
   ],
   "source": [
    "out.groupby('Master_category').count()"
   ]
  },
  {
   "cell_type": "code",
   "execution_count": 39,
   "metadata": {},
   "outputs": [],
   "source": [
    "sample = out.sample(frac=1).groupby('Master_category').head(500)"
   ]
  },
  {
   "cell_type": "code",
   "execution_count": 40,
   "metadata": {},
   "outputs": [
    {
     "data": {
      "text/html": [
       "<div>\n",
       "<style scoped>\n",
       "    .dataframe tbody tr th:only-of-type {\n",
       "        vertical-align: middle;\n",
       "    }\n",
       "\n",
       "    .dataframe tbody tr th {\n",
       "        vertical-align: top;\n",
       "    }\n",
       "\n",
       "    .dataframe thead th {\n",
       "        text-align: right;\n",
       "    }\n",
       "</style>\n",
       "<table border=\"1\" class=\"dataframe\">\n",
       "  <thead>\n",
       "    <tr style=\"text-align: right;\">\n",
       "      <th></th>\n",
       "      <th>CONS_question</th>\n",
       "      <th>CONS_answer</th>\n",
       "      <th>Master_category</th>\n",
       "    </tr>\n",
       "  </thead>\n",
       "  <tbody>\n",
       "    <tr>\n",
       "      <th>59906</th>\n",
       "      <td>Who starred opposite Jack Nicholson in the film \"As Good as It Gets\"?</td>\n",
       "      <td>Helen Hunt</td>\n",
       "      <td>Entertainment and games</td>\n",
       "    </tr>\n",
       "    <tr>\n",
       "      <th>63816</th>\n",
       "      <td>What type of two-sailed vessel is particularly adept at sailing upwind?</td>\n",
       "      <td>Sloop</td>\n",
       "      <td>Entertainment and games</td>\n",
       "    </tr>\n",
       "    <tr>\n",
       "      <th>61954</th>\n",
       "      <td>How many oxygen atoms does a molecule of ozone have?</td>\n",
       "      <td>3</td>\n",
       "      <td>Science and nature</td>\n",
       "    </tr>\n",
       "    <tr>\n",
       "      <th>48760</th>\n",
       "      <td>Who first broke the gender barrier in NASCAR racing in 1949?</td>\n",
       "      <td>Sara Christian</td>\n",
       "      <td>Sports and hobbies</td>\n",
       "    </tr>\n",
       "    <tr>\n",
       "      <th>61175</th>\n",
       "      <td>What eye complaint is blamed for the reddish tone of some of Monet's paintings?</td>\n",
       "      <td>Cataracts</td>\n",
       "      <td>Art and literature</td>\n",
       "    </tr>\n",
       "    <tr>\n",
       "      <th>...</th>\n",
       "      <td>...</td>\n",
       "      <td>...</td>\n",
       "      <td>...</td>\n",
       "    </tr>\n",
       "    <tr>\n",
       "      <th>52098</th>\n",
       "      <td>What is a spinnaker on a boat?</td>\n",
       "      <td>Type of sail</td>\n",
       "      <td>Sports and hobbies</td>\n",
       "    </tr>\n",
       "    <tr>\n",
       "      <th>50401</th>\n",
       "      <td>The alcoholic beverage \"Poteen\" originates from which country?</td>\n",
       "      <td>Ireland</td>\n",
       "      <td>Sports and hobbies</td>\n",
       "    </tr>\n",
       "    <tr>\n",
       "      <th>59671</th>\n",
       "      <td>At which university was the beverage Gatorade developed?</td>\n",
       "      <td>University of Florida</td>\n",
       "      <td>Sports and hobbies</td>\n",
       "    </tr>\n",
       "    <tr>\n",
       "      <th>50283</th>\n",
       "      <td>Which country does paella come from?</td>\n",
       "      <td>Spain</td>\n",
       "      <td>Sports and hobbies</td>\n",
       "    </tr>\n",
       "    <tr>\n",
       "      <th>50933</th>\n",
       "      <td>What makes popping corn pop?</td>\n",
       "      <td>The water stored inside the kernel</td>\n",
       "      <td>Sports and hobbies</td>\n",
       "    </tr>\n",
       "  </tbody>\n",
       "</table>\n",
       "<p>3000 rows × 3 columns</p>\n",
       "</div>"
      ],
      "text/plain": [
       "                                                                         CONS_question  \\\n",
       "59906            Who starred opposite Jack Nicholson in the film \"As Good as It Gets\"?   \n",
       "63816          What type of two-sailed vessel is particularly adept at sailing upwind?   \n",
       "61954                             How many oxygen atoms does a molecule of ozone have?   \n",
       "48760                     Who first broke the gender barrier in NASCAR racing in 1949?   \n",
       "61175  What eye complaint is blamed for the reddish tone of some of Monet's paintings?   \n",
       "...                                                                                ...   \n",
       "52098                                                   What is a spinnaker on a boat?   \n",
       "50401                   The alcoholic beverage \"Poteen\" originates from which country?   \n",
       "59671                         At which university was the beverage Gatorade developed?   \n",
       "50283                                             Which country does paella come from?   \n",
       "50933                                                     What makes popping corn pop?   \n",
       "\n",
       "                              CONS_answer          Master_category  \n",
       "59906                          Helen Hunt  Entertainment and games  \n",
       "63816                               Sloop  Entertainment and games  \n",
       "61954                                   3       Science and nature  \n",
       "48760                      Sara Christian       Sports and hobbies  \n",
       "61175                           Cataracts       Art and literature  \n",
       "...                                   ...                      ...  \n",
       "52098                        Type of sail       Sports and hobbies  \n",
       "50401                             Ireland       Sports and hobbies  \n",
       "59671               University of Florida       Sports and hobbies  \n",
       "50283                               Spain       Sports and hobbies  \n",
       "50933  The water stored inside the kernel       Sports and hobbies  \n",
       "\n",
       "[3000 rows x 3 columns]"
      ]
     },
     "execution_count": 40,
     "metadata": {},
     "output_type": "execute_result"
    }
   ],
   "source": [
    "sample"
   ]
  },
  {
   "cell_type": "code",
   "execution_count": 42,
   "metadata": {},
   "outputs": [],
   "source": [
    "sample.to_csv (\"../workproduct-files/beta-data-export_v3.csv\", index = False, header=True)"
   ]
  }
 ],
 "metadata": {
  "kernelspec": {
   "display_name": "Python 3",
   "language": "python",
   "name": "python3"
  },
  "language_info": {
   "codemirror_mode": {
    "name": "ipython",
    "version": 3
   },
   "file_extension": ".py",
   "mimetype": "text/x-python",
   "name": "python",
   "nbconvert_exporter": "python",
   "pygments_lexer": "ipython3",
   "version": "3.8.2"
  }
 },
 "nbformat": 4,
 "nbformat_minor": 4
}
