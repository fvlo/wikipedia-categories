{
 "cells": [
  {
   "cell_type": "code",
   "execution_count": 1,
   "metadata": {},
   "outputs": [],
   "source": [
    "import pandas as pd\n",
    "import numpy as np\n",
    "import csv\n",
    "import re\n",
    "from ast import literal_eval\n",
    "import time"
   ]
  },
  {
   "cell_type": "code",
   "execution_count": 2,
   "metadata": {},
   "outputs": [],
   "source": [
    "pd.set_option('display.max_rows', 500)\n",
    "pd.set_option('display.max_columns', 500)\n",
    "pd.set_option('display.max_colwidth', 1000)"
   ]
  },
  {
   "cell_type": "code",
   "execution_count": 3,
   "metadata": {},
   "outputs": [],
   "source": [
    "FILE_PATH_CAT = 'F:/wikipedia-data/outputs/categories.csv'\n",
    "FILE_PATH_ART = 'F:/wikipedia-data/outputs/articles_without_links.csv'"
   ]
  },
  {
   "cell_type": "markdown",
   "metadata": {},
   "source": [
    "### Category data to vertex dataframe input"
   ]
  },
  {
   "cell_type": "code",
   "execution_count": 4,
   "metadata": {},
   "outputs": [],
   "source": [
    "# id = page name\n",
    "# type = Category\n",
    "# depth = null"
   ]
  },
  {
   "cell_type": "code",
   "execution_count": 5,
   "metadata": {},
   "outputs": [
    {
     "name": "stdout",
     "output_type": "stream",
     "text": [
      "Wall time: 3.52 s\n"
     ]
    }
   ],
   "source": [
    "%%time\n",
    "cat_origData = pd.read_csv(FILE_PATH_CAT)"
   ]
  },
  {
   "cell_type": "code",
   "execution_count": 6,
   "metadata": {},
   "outputs": [
    {
     "name": "stdout",
     "output_type": "stream",
     "text": [
      "Wall time: 1.63 s\n"
     ]
    }
   ],
   "source": [
    "%%time\n",
    "cat_vertex = pd.DataFrame(columns=[\"id\", \"wikipedia-id\", \"type\", \"depth\"])\n",
    "\n",
    "cat_vertex[\"id\"] = cat_origData['title'].apply(lambda x: str(x)[9:])\n",
    "cat_vertex[\"wikipedia-id\"] = cat_origData['id'].apply(lambda x: str(x))\n",
    "cat_vertex[\"type\"] = \"Category\""
   ]
  },
  {
   "cell_type": "code",
   "execution_count": 7,
   "metadata": {},
   "outputs": [],
   "source": [
    "cat_vertex.to_csv('F:/wikipedia-data/outputs/for-graphframes/cat_vertex.csv', index = False)"
   ]
  },
  {
   "cell_type": "code",
   "execution_count": 8,
   "metadata": {},
   "outputs": [
    {
     "data": {
      "text/html": [
       "<div>\n",
       "<style scoped>\n",
       "    .dataframe tbody tr th:only-of-type {\n",
       "        vertical-align: middle;\n",
       "    }\n",
       "\n",
       "    .dataframe tbody tr th {\n",
       "        vertical-align: top;\n",
       "    }\n",
       "\n",
       "    .dataframe thead th {\n",
       "        text-align: right;\n",
       "    }\n",
       "</style>\n",
       "<table border=\"1\" class=\"dataframe\">\n",
       "  <thead>\n",
       "    <tr style=\"text-align: right;\">\n",
       "      <th></th>\n",
       "      <th>id</th>\n",
       "      <th>wikipedia-id</th>\n",
       "      <th>type</th>\n",
       "      <th>depth</th>\n",
       "    </tr>\n",
       "  </thead>\n",
       "  <tbody>\n",
       "    <tr>\n",
       "      <th>0</th>\n",
       "      <td>Futurama</td>\n",
       "      <td>690070</td>\n",
       "      <td>Category</td>\n",
       "      <td>NaN</td>\n",
       "    </tr>\n",
       "    <tr>\n",
       "      <th>1</th>\n",
       "      <td>World War II</td>\n",
       "      <td>690451</td>\n",
       "      <td>Category</td>\n",
       "      <td>NaN</td>\n",
       "    </tr>\n",
       "    <tr>\n",
       "      <th>2</th>\n",
       "      <td>Programming languages</td>\n",
       "      <td>690571</td>\n",
       "      <td>Category</td>\n",
       "      <td>NaN</td>\n",
       "    </tr>\n",
       "    <tr>\n",
       "      <th>3</th>\n",
       "      <td>Professional wrestling</td>\n",
       "      <td>690578</td>\n",
       "      <td>Category</td>\n",
       "      <td>NaN</td>\n",
       "    </tr>\n",
       "    <tr>\n",
       "      <th>4</th>\n",
       "      <td>Algebra</td>\n",
       "      <td>690637</td>\n",
       "      <td>Category</td>\n",
       "      <td>NaN</td>\n",
       "    </tr>\n",
       "    <tr>\n",
       "      <th>...</th>\n",
       "      <td>...</td>\n",
       "      <td>...</td>\n",
       "      <td>...</td>\n",
       "      <td>...</td>\n",
       "    </tr>\n",
       "    <tr>\n",
       "      <th>1951052</th>\n",
       "      <td>Australian expatriates in Estonia</td>\n",
       "      <td>64148944</td>\n",
       "      <td>Category</td>\n",
       "      <td>NaN</td>\n",
       "    </tr>\n",
       "    <tr>\n",
       "      <th>1951053</th>\n",
       "      <td>Buildings and structures in Bhola District</td>\n",
       "      <td>64148963</td>\n",
       "      <td>Category</td>\n",
       "      <td>NaN</td>\n",
       "    </tr>\n",
       "    <tr>\n",
       "      <th>1951054</th>\n",
       "      <td>Education in Bhola District</td>\n",
       "      <td>64148965</td>\n",
       "      <td>Category</td>\n",
       "      <td>NaN</td>\n",
       "    </tr>\n",
       "    <tr>\n",
       "      <th>1951055</th>\n",
       "      <td>Colleges in the territories of Canada</td>\n",
       "      <td>64149140</td>\n",
       "      <td>Category</td>\n",
       "      <td>NaN</td>\n",
       "    </tr>\n",
       "    <tr>\n",
       "      <th>1951056</th>\n",
       "      <td>Stuff</td>\n",
       "      <td>64149156</td>\n",
       "      <td>Category</td>\n",
       "      <td>NaN</td>\n",
       "    </tr>\n",
       "  </tbody>\n",
       "</table>\n",
       "<p>1951057 rows × 4 columns</p>\n",
       "</div>"
      ],
      "text/plain": [
       "                                                 id wikipedia-id      type  \\\n",
       "0                                          Futurama       690070  Category   \n",
       "1                                      World War II       690451  Category   \n",
       "2                             Programming languages       690571  Category   \n",
       "3                            Professional wrestling       690578  Category   \n",
       "4                                           Algebra       690637  Category   \n",
       "...                                             ...          ...       ...   \n",
       "1951052           Australian expatriates in Estonia     64148944  Category   \n",
       "1951053  Buildings and structures in Bhola District     64148963  Category   \n",
       "1951054                 Education in Bhola District     64148965  Category   \n",
       "1951055       Colleges in the territories of Canada     64149140  Category   \n",
       "1951056                                       Stuff     64149156  Category   \n",
       "\n",
       "        depth  \n",
       "0         NaN  \n",
       "1         NaN  \n",
       "2         NaN  \n",
       "3         NaN  \n",
       "4         NaN  \n",
       "...       ...  \n",
       "1951052   NaN  \n",
       "1951053   NaN  \n",
       "1951054   NaN  \n",
       "1951055   NaN  \n",
       "1951056   NaN  \n",
       "\n",
       "[1951057 rows x 4 columns]"
      ]
     },
     "execution_count": 8,
     "metadata": {},
     "output_type": "execute_result"
    }
   ],
   "source": [
    "cat_vertex"
   ]
  },
  {
   "cell_type": "markdown",
   "metadata": {},
   "source": [
    "### Article data to vertex dataframe input"
   ]
  },
  {
   "cell_type": "code",
   "execution_count": 9,
   "metadata": {},
   "outputs": [],
   "source": [
    "# id = page name\n",
    "# type = Article\n",
    "# depth = null"
   ]
  },
  {
   "cell_type": "code",
   "execution_count": 10,
   "metadata": {},
   "outputs": [
    {
     "name": "stdout",
     "output_type": "stream",
     "text": [
      "Wall time: 13.7 s\n"
     ]
    }
   ],
   "source": [
    "%%time\n",
    "art_origData = pd.read_csv(FILE_PATH_ART)"
   ]
  },
  {
   "cell_type": "code",
   "execution_count": 11,
   "metadata": {},
   "outputs": [
    {
     "name": "stdout",
     "output_type": "stream",
     "text": [
      "Wall time: 4.06 s\n"
     ]
    }
   ],
   "source": [
    "%%time\n",
    "art_vertex = pd.DataFrame(columns=[\"id\", \"wikipedia-id\", \"type\", \"depth\"])\n",
    "\n",
    "art_vertex[\"id\"] = art_origData['title'].apply(lambda x: str(x))\n",
    "art_vertex[\"wikipedia-id\"] = art_origData['id'].apply(lambda x: str(x))\n",
    "art_vertex[\"type\"] = \"Article\""
   ]
  },
  {
   "cell_type": "code",
   "execution_count": 12,
   "metadata": {},
   "outputs": [],
   "source": [
    "art_vertex.to_csv('F:/wikipedia-data/outputs/for-graphframes/art_vertex.csv', index = False)"
   ]
  },
  {
   "cell_type": "code",
   "execution_count": 13,
   "metadata": {},
   "outputs": [
    {
     "data": {
      "text/html": [
       "<div>\n",
       "<style scoped>\n",
       "    .dataframe tbody tr th:only-of-type {\n",
       "        vertical-align: middle;\n",
       "    }\n",
       "\n",
       "    .dataframe tbody tr th {\n",
       "        vertical-align: top;\n",
       "    }\n",
       "\n",
       "    .dataframe thead th {\n",
       "        text-align: right;\n",
       "    }\n",
       "</style>\n",
       "<table border=\"1\" class=\"dataframe\">\n",
       "  <thead>\n",
       "    <tr style=\"text-align: right;\">\n",
       "      <th></th>\n",
       "      <th>id</th>\n",
       "      <th>wikipedia-id</th>\n",
       "      <th>type</th>\n",
       "      <th>depth</th>\n",
       "    </tr>\n",
       "  </thead>\n",
       "  <tbody>\n",
       "    <tr>\n",
       "      <th>0</th>\n",
       "      <td>Anarchism</td>\n",
       "      <td>12</td>\n",
       "      <td>Article</td>\n",
       "      <td>NaN</td>\n",
       "    </tr>\n",
       "    <tr>\n",
       "      <th>1</th>\n",
       "      <td>Autism</td>\n",
       "      <td>25</td>\n",
       "      <td>Article</td>\n",
       "      <td>NaN</td>\n",
       "    </tr>\n",
       "    <tr>\n",
       "      <th>2</th>\n",
       "      <td>Albedo</td>\n",
       "      <td>39</td>\n",
       "      <td>Article</td>\n",
       "      <td>NaN</td>\n",
       "    </tr>\n",
       "    <tr>\n",
       "      <th>3</th>\n",
       "      <td>A</td>\n",
       "      <td>290</td>\n",
       "      <td>Article</td>\n",
       "      <td>NaN</td>\n",
       "    </tr>\n",
       "    <tr>\n",
       "      <th>4</th>\n",
       "      <td>Alabama</td>\n",
       "      <td>303</td>\n",
       "      <td>Article</td>\n",
       "      <td>NaN</td>\n",
       "    </tr>\n",
       "    <tr>\n",
       "      <th>...</th>\n",
       "      <td>...</td>\n",
       "      <td>...</td>\n",
       "      <td>...</td>\n",
       "      <td>...</td>\n",
       "    </tr>\n",
       "    <tr>\n",
       "      <th>6092876</th>\n",
       "      <td>Cardiff Australian Football Club</td>\n",
       "      <td>64149108</td>\n",
       "      <td>Article</td>\n",
       "      <td>NaN</td>\n",
       "    </tr>\n",
       "    <tr>\n",
       "      <th>6092877</th>\n",
       "      <td>Haapsalu-Noarootsi Wetland Complex</td>\n",
       "      <td>64149136</td>\n",
       "      <td>Article</td>\n",
       "      <td>NaN</td>\n",
       "    </tr>\n",
       "    <tr>\n",
       "      <th>6092878</th>\n",
       "      <td>El Caballero Country Club</td>\n",
       "      <td>64149147</td>\n",
       "      <td>Article</td>\n",
       "      <td>NaN</td>\n",
       "    </tr>\n",
       "    <tr>\n",
       "      <th>6092879</th>\n",
       "      <td>Maro Markarian</td>\n",
       "      <td>64149155</td>\n",
       "      <td>Article</td>\n",
       "      <td>NaN</td>\n",
       "    </tr>\n",
       "    <tr>\n",
       "      <th>6092880</th>\n",
       "      <td>Louis Édouard Paul Lieutard</td>\n",
       "      <td>64149158</td>\n",
       "      <td>Article</td>\n",
       "      <td>NaN</td>\n",
       "    </tr>\n",
       "  </tbody>\n",
       "</table>\n",
       "<p>6092881 rows × 4 columns</p>\n",
       "</div>"
      ],
      "text/plain": [
       "                                         id wikipedia-id     type depth\n",
       "0                                 Anarchism           12  Article   NaN\n",
       "1                                    Autism           25  Article   NaN\n",
       "2                                    Albedo           39  Article   NaN\n",
       "3                                         A          290  Article   NaN\n",
       "4                                   Alabama          303  Article   NaN\n",
       "...                                     ...          ...      ...   ...\n",
       "6092876    Cardiff Australian Football Club     64149108  Article   NaN\n",
       "6092877  Haapsalu-Noarootsi Wetland Complex     64149136  Article   NaN\n",
       "6092878           El Caballero Country Club     64149147  Article   NaN\n",
       "6092879                      Maro Markarian     64149155  Article   NaN\n",
       "6092880         Louis Édouard Paul Lieutard     64149158  Article   NaN\n",
       "\n",
       "[6092881 rows x 4 columns]"
      ]
     },
     "execution_count": 13,
     "metadata": {},
     "output_type": "execute_result"
    }
   ],
   "source": [
    "art_vertex"
   ]
  },
  {
   "cell_type": "markdown",
   "metadata": {},
   "source": [
    "### Category data to edge dataframe input"
   ]
  },
  {
   "cell_type": "code",
   "execution_count": 14,
   "metadata": {},
   "outputs": [],
   "source": [
    "# src = from partentCategory column\n",
    "# dst = from title columns\n",
    "# intersection = null\n",
    "# union = null\n",
    "# similarity = null"
   ]
  },
  {
   "cell_type": "code",
   "execution_count": 15,
   "metadata": {},
   "outputs": [
    {
     "data": {
      "text/plain": [
       "'%%time\\n# Approach 1\\n# 10000 rows in 213 seconds --> 4M rows in ~23h\\n\\nstart_time = time.time()\\ncat_edge = pd.DataFrame(columns=[\"src\", \"dst\", \"intersection\", \"union\", \"similarity\"])\\n\\nfor row in cat_origData.index:\\n    if (row % 10000) == 0:\\n        print(str(row) + \" : \" + str(time.time() - start_time))\\n    \\n    dst = str(cat_origData.loc[row, \"title\"])[9:]\\n    \\n    #read parentCategories string as python list, iterate over each item\\n    for item in literal_eval(cat_origData.loc[row, \"parentCategories\"]):\\n        #add new row to cat_edge\\n        newRow = {\"src\": str(item) , \"dst\" : dst}\\n        cat_edge  = cat_edge.append(newRow, ignore_index = True)'"
      ]
     },
     "execution_count": 15,
     "metadata": {},
     "output_type": "execute_result"
    }
   ],
   "source": [
    "'''%%time\n",
    "# Approach 1\n",
    "# 10000 rows in 213 seconds --> 4M rows in ~23h\n",
    "\n",
    "start_time = time.time()\n",
    "cat_edge = pd.DataFrame(columns=[\"src\", \"dst\", \"intersection\", \"union\", \"similarity\"])\n",
    "\n",
    "for row in cat_origData.index:\n",
    "    if (row % 10000) == 0:\n",
    "        print(str(row) + \" : \" + str(time.time() - start_time))\n",
    "    \n",
    "    dst = str(cat_origData.loc[row, \"title\"])[9:]\n",
    "    \n",
    "    #read parentCategories string as python list, iterate over each item\n",
    "    for item in literal_eval(cat_origData.loc[row, \"parentCategories\"]):\n",
    "        #add new row to cat_edge\n",
    "        newRow = {\"src\": str(item) , \"dst\" : dst}\n",
    "        cat_edge  = cat_edge.append(newRow, ignore_index = True)'''"
   ]
  },
  {
   "cell_type": "code",
   "execution_count": null,
   "metadata": {},
   "outputs": [
    {
     "name": "stdout",
     "output_type": "stream",
     "text": [
      "0 : 0.00797724723815918\n",
      "100000 : 715.0738883018494\n",
      "200000 : 2312.3534705638885\n",
      "300000 : 4725.00062084198\n",
      "400000 : 7987.58896780014\n",
      "500000 : 12013.982226371765\n",
      "600000 : 16909.419238328934\n",
      "700000 : 22604.602380037308\n",
      "800000 : 28960.55455994606\n"
     ]
    }
   ],
   "source": [
    "'''%%time\n",
    "# Approach 2\n",
    "# 800 000 rows in ~8 hours...\n",
    "\n",
    "start_time = time.time()\n",
    "cat_edge = pd.DataFrame(columns=[\"src\", \"dst\"])\n",
    "\n",
    "for row in cat_origData.index:\n",
    "    if (row % 100000) == 0:\n",
    "        print(str(row) + \" : \" + str(time.time() - start_time))\n",
    "    \n",
    "    toAdd = pd.DataFrame(columns=[\"src\", \"dst\"])\n",
    "    toAdd[\"src\"] = literal_eval(cat_origData.loc[row, \"parentCategories\"])\n",
    "    toAdd[\"dst\"] = str(cat_origData.loc[row, \"title\"])[9:]\n",
    "    \n",
    "    cat_edge  = cat_edge.append(toAdd, ignore_index = True)\n",
    "    '''"
   ]
  },
  {
   "cell_type": "code",
   "execution_count": null,
   "metadata": {},
   "outputs": [],
   "source": [
    "%%time\n",
    "# Approach 3\n"
   ]
  },
  {
   "cell_type": "code",
   "execution_count": null,
   "metadata": {},
   "outputs": [],
   "source": [
    "'''%%time\n",
    "# Approach 3\n",
    "# 10000 rows in 50 seconds\n",
    "\n",
    "start_time = time.time()\n",
    "cat_edge = pd.DataFrame(columns=[\"src\", \"dst\"])\n",
    "\n",
    "for row in cat_origData.index:\n",
    "    if (row % 10000) == 0:\n",
    "        print(str(row) + \" : \" + str(time.time() - start_time))\n",
    "    \n",
    "    toAdd = pd.DataFrame(columns=[\"src\"])\n",
    "    toAdd[\"src\"] = literal_eval(cat_origData.loc[row, \"parentCategories\"])\n",
    "    # toAdd[\"dst\"] = str(cat_origData.loc[row, \"title\"])[9:]\n",
    "    \n",
    "    cat_edge  = cat_edge.append(toAdd, ignore_index = True)\n",
    "    '''"
   ]
  },
  {
   "cell_type": "code",
   "execution_count": null,
   "metadata": {},
   "outputs": [],
   "source": [
    "%%time\n",
    "cat_edge[\"intersection\"] = np.nan\n",
    "cat_edge[\"union\"] = np.nan\n",
    "cat_edge[\"similarity\"] = np.nan"
   ]
  },
  {
   "cell_type": "code",
   "execution_count": null,
   "metadata": {},
   "outputs": [],
   "source": [
    "%%time\n",
    "cat_edge.to_csv('F:/wikipedia-data/outputs/for-graphframes/cat_edge.csv', index = False)"
   ]
  },
  {
   "cell_type": "code",
   "execution_count": null,
   "metadata": {},
   "outputs": [],
   "source": [
    "cat_edge"
   ]
  }
 ],
 "metadata": {
  "kernelspec": {
   "display_name": "Python 3",
   "language": "python",
   "name": "python3"
  },
  "language_info": {
   "codemirror_mode": {
    "name": "ipython",
    "version": 3
   },
   "file_extension": ".py",
   "mimetype": "text/x-python",
   "name": "python",
   "nbconvert_exporter": "python",
   "pygments_lexer": "ipython3",
   "version": "3.8.2"
  }
 },
 "nbformat": 4,
 "nbformat_minor": 4
}
