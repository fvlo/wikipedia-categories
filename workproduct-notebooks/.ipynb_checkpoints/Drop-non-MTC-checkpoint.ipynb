{
 "cells": [
  {
   "cell_type": "code",
   "execution_count": null,
   "metadata": {},
   "outputs": [],
   "source": [
    "import pandas as pd\n",
    "import numpy as np\n",
    "import networkx as nx\n",
    "import csv\n",
    "import re"
   ]
  },
  {
   "cell_type": "code",
   "execution_count": null,
   "metadata": {},
   "outputs": [],
   "source": [
    "'''\n",
    "G = nx.Graph()\n",
    "G.add_node(1, label='one')\n",
    "G.add_node(2, label='fish')\n",
    "G.add_node(3, label='two')\n",
    "G.add_node(4, label='fish')\n",
    "\n",
    "# method 1\n",
    "fish = (n for n in G if G.nodes[n]['label']=='fish')\n",
    "# method 2\n",
    "fish2 = (n for n,d in G.nodes(data=True) if d['label']=='fish')\n",
    "\n",
    "print(list(fish))\n",
    "print(list(fish2))\n",
    "\n",
    "G.add_edge(1,2,color='red')\n",
    "G.add_edge(2,3,color='blue')\n",
    "\n",
    "red = ((u,v) for u,v,d in G.edges(data=True) if d['color']=='red')\n",
    "\n",
    "print(list(red))'''"
   ]
  },
  {
   "cell_type": "code",
   "execution_count": null,
   "metadata": {},
   "outputs": [],
   "source": [
    "%%time\n",
    "G = nx.read_gpickle(\"F:/wikipedia-data/outputs/category-graph.gpickle\")"
   ]
  },
  {
   "cell_type": "code",
   "execution_count": null,
   "metadata": {},
   "outputs": [],
   "source": [
    "G.number_of_nodes()"
   ]
  },
  {
   "cell_type": "code",
   "execution_count": null,
   "metadata": {},
   "outputs": [],
   "source": [
    "%%time\n",
    "print(len(list(nx.descendants(G, 'Main topic classifications'))))\n",
    "print(len(list(nx.ancestors(G, 'Main topic classifications'))))"
   ]
  },
  {
   "cell_type": "code",
   "execution_count": null,
   "metadata": {},
   "outputs": [],
   "source": [
    "%%time\n",
    "nodes = nx.descendants(G, 'Main topic classifications')"
   ]
  },
  {
   "cell_type": "code",
   "execution_count": null,
   "metadata": {},
   "outputs": [],
   "source": [
    "%%time\n",
    "# For an inplace reduction of a graph to a subgraph you can remove nodes: \n",
    "# G.remove_nodes_from([n for n in G if n not in set(nodes)])\n",
    "\n",
    "G.remove_nodes_from([n for n in G if n not in set(nodes)])"
   ]
  },
  {
   "cell_type": "code",
   "execution_count": null,
   "metadata": {},
   "outputs": [],
   "source": [
    "nx.write_gpickle(G,\"F:/wikipedia-data/outputs/category-graph-onlyMTC.gpickle\")"
   ]
  }
 ],
 "metadata": {
  "kernelspec": {
   "display_name": "Python 3",
   "language": "python",
   "name": "python3"
  },
  "language_info": {
   "codemirror_mode": {
    "name": "ipython",
    "version": 3
   },
   "file_extension": ".py",
   "mimetype": "text/x-python",
   "name": "python",
   "nbconvert_exporter": "python",
   "pygments_lexer": "ipython3",
   "version": "3.8.2"
  }
 },
 "nbformat": 4,
 "nbformat_minor": 4
}
