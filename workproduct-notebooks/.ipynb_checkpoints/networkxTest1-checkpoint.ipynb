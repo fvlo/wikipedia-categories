{
 "cells": [
  {
   "cell_type": "code",
   "execution_count": 1,
   "metadata": {},
   "outputs": [],
   "source": [
    "import pandas as pd\n",
    "import numpy as np\n",
    "import networkx as nx\n",
    "import csv\n",
    "import re\n",
    "# import json\n",
    "# import matplotlib.pyplot as plt"
   ]
  },
  {
   "cell_type": "code",
   "execution_count": 2,
   "metadata": {},
   "outputs": [],
   "source": [
    "pd.set_option('display.max_rows', 500)\n",
    "pd.set_option('display.max_columns', 500)\n",
    "pd.set_option('display.max_colwidth', 1000)"
   ]
  },
  {
   "cell_type": "code",
   "execution_count": 3,
   "metadata": {},
   "outputs": [],
   "source": [
    "FILE_PATH = 'F:/wikipedia-data/categories.csv'"
   ]
  },
  {
   "cell_type": "code",
   "execution_count": 4,
   "metadata": {},
   "outputs": [
    {
     "name": "stdout",
     "output_type": "stream",
     "text": [
      "Wall time: 3.37 s\n"
     ]
    }
   ],
   "source": [
    "%%time\n",
    "# data = pd.read_csv(FILE_PATH, nrows = 100)\n",
    "data = pd.read_csv(FILE_PATH)"
   ]
  },
  {
   "cell_type": "code",
   "execution_count": 5,
   "metadata": {},
   "outputs": [
    {
     "data": {
      "text/html": [
       "<div>\n",
       "<style scoped>\n",
       "    .dataframe tbody tr th:only-of-type {\n",
       "        vertical-align: middle;\n",
       "    }\n",
       "\n",
       "    .dataframe tbody tr th {\n",
       "        vertical-align: top;\n",
       "    }\n",
       "\n",
       "    .dataframe thead th {\n",
       "        text-align: right;\n",
       "    }\n",
       "</style>\n",
       "<table border=\"1\" class=\"dataframe\">\n",
       "  <thead>\n",
       "    <tr style=\"text-align: right;\">\n",
       "      <th></th>\n",
       "      <th>id</th>\n",
       "      <th>title</th>\n",
       "      <th>parentCategories</th>\n",
       "    </tr>\n",
       "  </thead>\n",
       "  <tbody>\n",
       "    <tr>\n",
       "      <th>0</th>\n",
       "      <td>690070</td>\n",
       "      <td>Category:Futurama</td>\n",
       "      <td>['Television series by 20th Century Fox Television', 'Television series created by Matt Groening', 'Wikipedia categories named after American animated television series', 'Wikipedia categories named after mass media franchises', '20th Century Fox Television franchises', 'Transhumanism in television series', 'Animated television series about extraterrestrial life', 'Animated television series about robots', 'Comedy franchises', 'Science fiction franchises', 'Television series by Fox Television Animation', 'Fox Broadcasting Company original programming', 'Comedy Central original programming', 'American adult animated drama television series', 'American adult animated comic science fiction television series', 'Television shows set in New York City', '1990s American adult animated television series', '2000s American adult animated television series', '2010s American adult animated television series', '1990s American comic science fiction television series', '2000s American comic scienc...</td>\n",
       "    </tr>\n",
       "    <tr>\n",
       "      <th>1</th>\n",
       "      <td>690451</td>\n",
       "      <td>Category:World War II</td>\n",
       "      <td>['Wikipedia categories named after wars', '20th-century conflicts', '1930s conflicts', '1940s conflicts', 'Conflicts in 1939', 'Conflicts in 1940', 'Conflicts in 1941', 'Conflicts in 1942', 'Conflicts in 1943', 'Conflicts in 1944', 'Conflicts in 1945', 'Global conflicts', 'World Wars| ']</td>\n",
       "    </tr>\n",
       "    <tr>\n",
       "      <th>2</th>\n",
       "      <td>690571</td>\n",
       "      <td>Category:Programming languages</td>\n",
       "      <td>['Computer languages', 'Computer programming', 'Programming language topics', 'Programming language theory']</td>\n",
       "    </tr>\n",
       "    <tr>\n",
       "      <th>3</th>\n",
       "      <td>690578</td>\n",
       "      <td>Category:Professional wrestling</td>\n",
       "      <td>['Mock combat', 'Sports entertainment', 'Theatrical combat']</td>\n",
       "    </tr>\n",
       "    <tr>\n",
       "      <th>4</th>\n",
       "      <td>690637</td>\n",
       "      <td>Category:Algebra</td>\n",
       "      <td>['Fields of mathematics']</td>\n",
       "    </tr>\n",
       "  </tbody>\n",
       "</table>\n",
       "</div>"
      ],
      "text/plain": [
       "       id                            title  \\\n",
       "0  690070                Category:Futurama   \n",
       "1  690451            Category:World War II   \n",
       "2  690571   Category:Programming languages   \n",
       "3  690578  Category:Professional wrestling   \n",
       "4  690637                 Category:Algebra   \n",
       "\n",
       "                                                                                                                                                                                                                                                                                                                                                                                                                                                                                                                                                                                                                                                                                                                                                                                                                                                                                                                                                                                                                          parentCategories  \n",
       "0  ['Television series by 20th Century Fox Television', 'Television series created by Matt Groening', 'Wikipedia categories named after American animated television series', 'Wikipedia categories named after mass media franchises', '20th Century Fox Television franchises', 'Transhumanism in television series', 'Animated television series about extraterrestrial life', 'Animated television series about robots', 'Comedy franchises', 'Science fiction franchises', 'Television series by Fox Television Animation', 'Fox Broadcasting Company original programming', 'Comedy Central original programming', 'American adult animated drama television series', 'American adult animated comic science fiction television series', 'Television shows set in New York City', '1990s American adult animated television series', '2000s American adult animated television series', '2010s American adult animated television series', '1990s American comic science fiction television series', '2000s American comic scienc...  \n",
       "1                                                                                                                                                                                                                                                                                                                                                                                                                                                                                                                                                                                                                                                                                                                                         ['Wikipedia categories named after wars', '20th-century conflicts', '1930s conflicts', '1940s conflicts', 'Conflicts in 1939', 'Conflicts in 1940', 'Conflicts in 1941', 'Conflicts in 1942', 'Conflicts in 1943', 'Conflicts in 1944', 'Conflicts in 1945', 'Global conflicts', 'World Wars| ']  \n",
       "2                                                                                                                                                                                                                                                                                                                                                                                                                                                                                                                                                                                                                                                                                                                                                                                                                                                                                                                             ['Computer languages', 'Computer programming', 'Programming language topics', 'Programming language theory']  \n",
       "3                                                                                                                                                                                                                                                                                                                                                                                                                                                                                                                                                                                                                                                                                                                                                                                                                                                                                                                                                                             ['Mock combat', 'Sports entertainment', 'Theatrical combat']  \n",
       "4                                                                                                                                                                                                                                                                                                                                                                                                                                                                                                                                                                                                                                                                                                                                                                                                                                                                                                                                                                                                                ['Fields of mathematics']  "
      ]
     },
     "execution_count": 5,
     "metadata": {},
     "output_type": "execute_result"
    }
   ],
   "source": [
    "data.head(5)"
   ]
  },
  {
   "cell_type": "code",
   "execution_count": 38,
   "metadata": {},
   "outputs": [
    {
     "data": {
      "text/plain": [
       "1951057"
      ]
     },
     "execution_count": 38,
     "metadata": {},
     "output_type": "execute_result"
    }
   ],
   "source": [
    "len(data)"
   ]
  },
  {
   "cell_type": "code",
   "execution_count": 6,
   "metadata": {},
   "outputs": [],
   "source": [
    "new = pd.Series"
   ]
  },
  {
   "cell_type": "code",
   "execution_count": 7,
   "metadata": {},
   "outputs": [
    {
     "name": "stdout",
     "output_type": "stream",
     "text": [
      "Wall time: 4.66 s\n"
     ]
    }
   ],
   "source": [
    "%%time\n",
    "new = data['title'].apply(lambda x: str(x)[9:] + \",\") + data['parentCategories'].apply(lambda x: str(x)[1:-1].replace(\" '\", \"\").replace(\"'\", \"\"))\n",
    "new = new.apply(lambda x: x.replace(' \"', \"\").replace('\"', \"\") )\n",
    "new = new.apply(lambda x: x.replace(\",\", \"%¤%\"))"
   ]
  },
  {
   "cell_type": "code",
   "execution_count": 8,
   "metadata": {},
   "outputs": [
    {
     "name": "stdout",
     "output_type": "stream",
     "text": [
      "Wall time: 7.16 s\n"
     ]
    }
   ],
   "source": [
    "%%time\n",
    "new = new.apply(lambda x: re.sub(\"(\\|)(.+)(?=\\%¤%)\", '', x))\n",
    "new = new.apply(lambda x: re.sub(\"(\\|)(.+)\", '', x))\n",
    "new = new.apply(lambda x: re.sub(\"(\\|)\", '', x))\n"
   ]
  },
  {
   "cell_type": "code",
   "execution_count": 9,
   "metadata": {},
   "outputs": [
    {
     "data": {
      "text/plain": [
       "0    Futurama%¤%Television series by 20th Century Fox Television%¤%Television series created by Matt Groening%¤%Wikipedia categories named after American animated television series%¤%Wikipedia categories named after mass media franchises%¤%20th Century Fox Television franchises%¤%Transhumanism in television series%¤%Animated television series about extraterrestrial life%¤%Animated television series about robots%¤%Comedy franchises%¤%Science fiction franchises%¤%Television series by Fox Television Animation%¤%Fox Broadcasting Company original programming%¤%Comedy Central original programming%¤%American adult animated drama television series%¤%American adult animated comic science fiction television series%¤%Television shows set in New York City%¤%1990s American adult animated television series%¤%2000s American adult animated television series%¤%2010s American adult animated television series%¤%1990s American comic science fiction television series%¤%2000s American comic science fiction t...\n",
       "1                                                                                                                                                                                                                                                                                                                                                                                                                                                                                                                                                                                                                                                                                                                                              World War II%¤%Wikipedia categories named after wars%¤%20th-century conflicts%¤%1930s conflicts%¤%1940s conflicts%¤%Conflicts in 1939%¤%Conflicts in 1940%¤%Conflicts in 1941%¤%Conflicts in 1942%¤%Conflicts in 1943%¤%Conflicts in 1944%¤%Conflicts in 1945%¤%Global conflicts%¤%World Wars\n",
       "2                                                                                                                                                                                                                                                                                                                                                                                                                                                                                                                                                                                                                                                                                                                                                                                                                                                                                                              Programming languages%¤%Computer languages%¤%Computer programming%¤%Programming language topics%¤%Programming language theory\n",
       "3                                                                                                                                                                                                                                                                                                                                                                                                                                                                                                                                                                                                                                                                                                                                                                                                                                                                                                                                                            Professional wrestling%¤%Mock combat%¤%Sports entertainment%¤%Theatrical combat\n",
       "4                                                                                                                                                                                                                                                                                                                                                                                                                                                                                                                                                                                                                                                                                                                                                                                                                                                                                                                                                                                                            Algebra%¤%Fields of mathematics\n",
       "dtype: object"
      ]
     },
     "execution_count": 9,
     "metadata": {},
     "output_type": "execute_result"
    }
   ],
   "source": [
    "new.head(5)"
   ]
  },
  {
   "cell_type": "code",
   "execution_count": 10,
   "metadata": {},
   "outputs": [
    {
     "data": {
      "text/plain": [
       "str"
      ]
     },
     "execution_count": 10,
     "metadata": {},
     "output_type": "execute_result"
    }
   ],
   "source": [
    "type(new[0])"
   ]
  },
  {
   "cell_type": "code",
   "execution_count": 11,
   "metadata": {},
   "outputs": [],
   "source": [
    "new.head(1000).to_csv('../workproduct-files/firstRows2.csv', index = False, header = False, quoting=csv.QUOTE_NONE)"
   ]
  },
  {
   "cell_type": "code",
   "execution_count": 12,
   "metadata": {},
   "outputs": [
    {
     "name": "stdout",
     "output_type": "stream",
     "text": [
      "Wall time: 4.51 s\n"
     ]
    }
   ],
   "source": [
    "%%time\n",
    "new.to_csv('../workproduct-files/allRows.csv', index = False, header = False, quoting=csv.QUOTE_NONE)"
   ]
  },
  {
   "cell_type": "code",
   "execution_count": 13,
   "metadata": {},
   "outputs": [],
   "source": [
    "newS = pd.read_csv('../workproduct-files/firstRows2.csv', header = None)"
   ]
  },
  {
   "cell_type": "code",
   "execution_count": 14,
   "metadata": {},
   "outputs": [
    {
     "data": {
      "text/html": [
       "<div>\n",
       "<style scoped>\n",
       "    .dataframe tbody tr th:only-of-type {\n",
       "        vertical-align: middle;\n",
       "    }\n",
       "\n",
       "    .dataframe tbody tr th {\n",
       "        vertical-align: top;\n",
       "    }\n",
       "\n",
       "    .dataframe thead th {\n",
       "        text-align: right;\n",
       "    }\n",
       "</style>\n",
       "<table border=\"1\" class=\"dataframe\">\n",
       "  <thead>\n",
       "    <tr style=\"text-align: right;\">\n",
       "      <th></th>\n",
       "      <th>0</th>\n",
       "    </tr>\n",
       "  </thead>\n",
       "  <tbody>\n",
       "    <tr>\n",
       "      <th>0</th>\n",
       "      <td>Futurama%¤%Television series by 20th Century Fox Television%¤%Television series created by Matt Groening%¤%Wikipedia categories named after American animated television series%¤%Wikipedia categories named after mass media franchises%¤%20th Century Fox Television franchises%¤%Transhumanism in television series%¤%Animated television series about extraterrestrial life%¤%Animated television series about robots%¤%Comedy franchises%¤%Science fiction franchises%¤%Television series by Fox Television Animation%¤%Fox Broadcasting Company original programming%¤%Comedy Central original programming%¤%American adult animated drama television series%¤%American adult animated comic science fiction television series%¤%Television shows set in New York City%¤%1990s American adult animated television series%¤%2000s American adult animated television series%¤%2010s American adult animated television series%¤%1990s American comic science fiction television series%¤%2000s American comic science fiction t...</td>\n",
       "    </tr>\n",
       "    <tr>\n",
       "      <th>1</th>\n",
       "      <td>World War II%¤%Wikipedia categories named after wars%¤%20th-century conflicts%¤%1930s conflicts%¤%1940s conflicts%¤%Conflicts in 1939%¤%Conflicts in 1940%¤%Conflicts in 1941%¤%Conflicts in 1942%¤%Conflicts in 1943%¤%Conflicts in 1944%¤%Conflicts in 1945%¤%Global conflicts%¤%World Wars</td>\n",
       "    </tr>\n",
       "    <tr>\n",
       "      <th>2</th>\n",
       "      <td>Programming languages%¤%Computer languages%¤%Computer programming%¤%Programming language topics%¤%Programming language theory</td>\n",
       "    </tr>\n",
       "    <tr>\n",
       "      <th>3</th>\n",
       "      <td>Professional wrestling%¤%Mock combat%¤%Sports entertainment%¤%Theatrical combat</td>\n",
       "    </tr>\n",
       "    <tr>\n",
       "      <th>4</th>\n",
       "      <td>Algebra%¤%Fields of mathematics</td>\n",
       "    </tr>\n",
       "    <tr>\n",
       "      <th>...</th>\n",
       "      <td>...</td>\n",
       "    </tr>\n",
       "    <tr>\n",
       "      <th>995</th>\n",
       "      <td>Ice hockey%¤%Hockey%¤%Team sports%¤%Winter sports%¤%Variations of hockey%¤%Athletic sports%¤%Ice sports%¤%Ice skating</td>\n",
       "    </tr>\n",
       "    <tr>\n",
       "      <th>996</th>\n",
       "      <td>Sociology%¤%Behavioural sciences</td>\n",
       "    </tr>\n",
       "    <tr>\n",
       "      <th>997</th>\n",
       "      <td>Defunct ice hockey teams%¤%Defunct sports teams%¤%Ice hockey teams</td>\n",
       "    </tr>\n",
       "    <tr>\n",
       "      <th>998</th>\n",
       "      <td>Ice hockey teams%¤%Ice hockey%¤%Sports teams by sport</td>\n",
       "    </tr>\n",
       "    <tr>\n",
       "      <th>999</th>\n",
       "      <td>Skyscrapers%¤%Buildings and structures%¤%Towers</td>\n",
       "    </tr>\n",
       "  </tbody>\n",
       "</table>\n",
       "<p>1000 rows × 1 columns</p>\n",
       "</div>"
      ],
      "text/plain": [
       "                                                                                                                                                                                                                                                                                                                                                                                                                                                                                                                                                                                                                                                                                                                                                                                                                                                                                                                                                                                                                                           0\n",
       "0    Futurama%¤%Television series by 20th Century Fox Television%¤%Television series created by Matt Groening%¤%Wikipedia categories named after American animated television series%¤%Wikipedia categories named after mass media franchises%¤%20th Century Fox Television franchises%¤%Transhumanism in television series%¤%Animated television series about extraterrestrial life%¤%Animated television series about robots%¤%Comedy franchises%¤%Science fiction franchises%¤%Television series by Fox Television Animation%¤%Fox Broadcasting Company original programming%¤%Comedy Central original programming%¤%American adult animated drama television series%¤%American adult animated comic science fiction television series%¤%Television shows set in New York City%¤%1990s American adult animated television series%¤%2000s American adult animated television series%¤%2010s American adult animated television series%¤%1990s American comic science fiction television series%¤%2000s American comic science fiction t...\n",
       "1                                                                                                                                                                                                                                                                                                                                                                                                                                                                                                                                                                                                                                                                                                                                              World War II%¤%Wikipedia categories named after wars%¤%20th-century conflicts%¤%1930s conflicts%¤%1940s conflicts%¤%Conflicts in 1939%¤%Conflicts in 1940%¤%Conflicts in 1941%¤%Conflicts in 1942%¤%Conflicts in 1943%¤%Conflicts in 1944%¤%Conflicts in 1945%¤%Global conflicts%¤%World Wars\n",
       "2                                                                                                                                                                                                                                                                                                                                                                                                                                                                                                                                                                                                                                                                                                                                                                                                                                                                                                              Programming languages%¤%Computer languages%¤%Computer programming%¤%Programming language topics%¤%Programming language theory\n",
       "3                                                                                                                                                                                                                                                                                                                                                                                                                                                                                                                                                                                                                                                                                                                                                                                                                                                                                                                                                            Professional wrestling%¤%Mock combat%¤%Sports entertainment%¤%Theatrical combat\n",
       "4                                                                                                                                                                                                                                                                                                                                                                                                                                                                                                                                                                                                                                                                                                                                                                                                                                                                                                                                                                                                            Algebra%¤%Fields of mathematics\n",
       "..                                                                                                                                                                                                                                                                                                                                                                                                                                                                                                                                                                                                                                                                                                                                                                                                                                                                                                                                                                                                                                       ...\n",
       "995                                                                                                                                                                                                                                                                                                                                                                                                                                                                                                                                                                                                                                                                                                                                                                                                                                                                                                                    Ice hockey%¤%Hockey%¤%Team sports%¤%Winter sports%¤%Variations of hockey%¤%Athletic sports%¤%Ice sports%¤%Ice skating\n",
       "996                                                                                                                                                                                                                                                                                                                                                                                                                                                                                                                                                                                                                                                                                                                                                                                                                                                                                                                                                                                                         Sociology%¤%Behavioural sciences\n",
       "997                                                                                                                                                                                                                                                                                                                                                                                                                                                                                                                                                                                                                                                                                                                                                                                                                                                                                                                                                                       Defunct ice hockey teams%¤%Defunct sports teams%¤%Ice hockey teams\n",
       "998                                                                                                                                                                                                                                                                                                                                                                                                                                                                                                                                                                                                                                                                                                                                                                                                                                                                                                                                                                                    Ice hockey teams%¤%Ice hockey%¤%Sports teams by sport\n",
       "999                                                                                                                                                                                                                                                                                                                                                                                                                                                                                                                                                                                                                                                                                                                                                                                                                                                                                                                                                                                          Skyscrapers%¤%Buildings and structures%¤%Towers\n",
       "\n",
       "[1000 rows x 1 columns]"
      ]
     },
     "execution_count": 14,
     "metadata": {},
     "output_type": "execute_result"
    }
   ],
   "source": [
    "newS"
   ]
  },
  {
   "cell_type": "code",
   "execution_count": 15,
   "metadata": {},
   "outputs": [
    {
     "data": {
      "text/plain": [
       "'%%time\\nnewS[0] = newS[0].apply(lambda x: re.sub(\"(\\\\|)(.+)(?=\\\\%¤%)\", \\'\\', x))\\nnewS[0] = newS[0].apply(lambda x: re.sub(\"(\\\\|)(.+)\", \\'\\', x))\\nnewS[0] = newS[0].apply(lambda x: re.sub(\"(\\\\|)\", \\'\\', x))\\n'"
      ]
     },
     "execution_count": 15,
     "metadata": {},
     "output_type": "execute_result"
    }
   ],
   "source": [
    "'''%%time\n",
    "newS[0] = newS[0].apply(lambda x: re.sub(\"(\\|)(.+)(?=\\%¤%)\", '', x))\n",
    "newS[0] = newS[0].apply(lambda x: re.sub(\"(\\|)(.+)\", '', x))\n",
    "newS[0] = newS[0].apply(lambda x: re.sub(\"(\\|)\", '', x))\n",
    "'''"
   ]
  },
  {
   "cell_type": "code",
   "execution_count": 16,
   "metadata": {},
   "outputs": [
    {
     "data": {
      "text/html": [
       "<div>\n",
       "<style scoped>\n",
       "    .dataframe tbody tr th:only-of-type {\n",
       "        vertical-align: middle;\n",
       "    }\n",
       "\n",
       "    .dataframe tbody tr th {\n",
       "        vertical-align: top;\n",
       "    }\n",
       "\n",
       "    .dataframe thead th {\n",
       "        text-align: right;\n",
       "    }\n",
       "</style>\n",
       "<table border=\"1\" class=\"dataframe\">\n",
       "  <thead>\n",
       "    <tr style=\"text-align: right;\">\n",
       "      <th></th>\n",
       "      <th>0</th>\n",
       "    </tr>\n",
       "  </thead>\n",
       "  <tbody>\n",
       "    <tr>\n",
       "      <th>0</th>\n",
       "      <td>Futurama%¤%Television series by 20th Century Fox Television%¤%Television series created by Matt Groening%¤%Wikipedia categories named after American animated television series%¤%Wikipedia categories named after mass media franchises%¤%20th Century Fox Television franchises%¤%Transhumanism in television series%¤%Animated television series about extraterrestrial life%¤%Animated television series about robots%¤%Comedy franchises%¤%Science fiction franchises%¤%Television series by Fox Television Animation%¤%Fox Broadcasting Company original programming%¤%Comedy Central original programming%¤%American adult animated drama television series%¤%American adult animated comic science fiction television series%¤%Television shows set in New York City%¤%1990s American adult animated television series%¤%2000s American adult animated television series%¤%2010s American adult animated television series%¤%1990s American comic science fiction television series%¤%2000s American comic science fiction t...</td>\n",
       "    </tr>\n",
       "    <tr>\n",
       "      <th>1</th>\n",
       "      <td>World War II%¤%Wikipedia categories named after wars%¤%20th-century conflicts%¤%1930s conflicts%¤%1940s conflicts%¤%Conflicts in 1939%¤%Conflicts in 1940%¤%Conflicts in 1941%¤%Conflicts in 1942%¤%Conflicts in 1943%¤%Conflicts in 1944%¤%Conflicts in 1945%¤%Global conflicts%¤%World Wars</td>\n",
       "    </tr>\n",
       "    <tr>\n",
       "      <th>2</th>\n",
       "      <td>Programming languages%¤%Computer languages%¤%Computer programming%¤%Programming language topics%¤%Programming language theory</td>\n",
       "    </tr>\n",
       "    <tr>\n",
       "      <th>3</th>\n",
       "      <td>Professional wrestling%¤%Mock combat%¤%Sports entertainment%¤%Theatrical combat</td>\n",
       "    </tr>\n",
       "    <tr>\n",
       "      <th>4</th>\n",
       "      <td>Algebra%¤%Fields of mathematics</td>\n",
       "    </tr>\n",
       "    <tr>\n",
       "      <th>...</th>\n",
       "      <td>...</td>\n",
       "    </tr>\n",
       "    <tr>\n",
       "      <th>995</th>\n",
       "      <td>Ice hockey%¤%Hockey%¤%Team sports%¤%Winter sports%¤%Variations of hockey%¤%Athletic sports%¤%Ice sports%¤%Ice skating</td>\n",
       "    </tr>\n",
       "    <tr>\n",
       "      <th>996</th>\n",
       "      <td>Sociology%¤%Behavioural sciences</td>\n",
       "    </tr>\n",
       "    <tr>\n",
       "      <th>997</th>\n",
       "      <td>Defunct ice hockey teams%¤%Defunct sports teams%¤%Ice hockey teams</td>\n",
       "    </tr>\n",
       "    <tr>\n",
       "      <th>998</th>\n",
       "      <td>Ice hockey teams%¤%Ice hockey%¤%Sports teams by sport</td>\n",
       "    </tr>\n",
       "    <tr>\n",
       "      <th>999</th>\n",
       "      <td>Skyscrapers%¤%Buildings and structures%¤%Towers</td>\n",
       "    </tr>\n",
       "  </tbody>\n",
       "</table>\n",
       "<p>1000 rows × 1 columns</p>\n",
       "</div>"
      ],
      "text/plain": [
       "                                                                                                                                                                                                                                                                                                                                                                                                                                                                                                                                                                                                                                                                                                                                                                                                                                                                                                                                                                                                                                           0\n",
       "0    Futurama%¤%Television series by 20th Century Fox Television%¤%Television series created by Matt Groening%¤%Wikipedia categories named after American animated television series%¤%Wikipedia categories named after mass media franchises%¤%20th Century Fox Television franchises%¤%Transhumanism in television series%¤%Animated television series about extraterrestrial life%¤%Animated television series about robots%¤%Comedy franchises%¤%Science fiction franchises%¤%Television series by Fox Television Animation%¤%Fox Broadcasting Company original programming%¤%Comedy Central original programming%¤%American adult animated drama television series%¤%American adult animated comic science fiction television series%¤%Television shows set in New York City%¤%1990s American adult animated television series%¤%2000s American adult animated television series%¤%2010s American adult animated television series%¤%1990s American comic science fiction television series%¤%2000s American comic science fiction t...\n",
       "1                                                                                                                                                                                                                                                                                                                                                                                                                                                                                                                                                                                                                                                                                                                                              World War II%¤%Wikipedia categories named after wars%¤%20th-century conflicts%¤%1930s conflicts%¤%1940s conflicts%¤%Conflicts in 1939%¤%Conflicts in 1940%¤%Conflicts in 1941%¤%Conflicts in 1942%¤%Conflicts in 1943%¤%Conflicts in 1944%¤%Conflicts in 1945%¤%Global conflicts%¤%World Wars\n",
       "2                                                                                                                                                                                                                                                                                                                                                                                                                                                                                                                                                                                                                                                                                                                                                                                                                                                                                                              Programming languages%¤%Computer languages%¤%Computer programming%¤%Programming language topics%¤%Programming language theory\n",
       "3                                                                                                                                                                                                                                                                                                                                                                                                                                                                                                                                                                                                                                                                                                                                                                                                                                                                                                                                                            Professional wrestling%¤%Mock combat%¤%Sports entertainment%¤%Theatrical combat\n",
       "4                                                                                                                                                                                                                                                                                                                                                                                                                                                                                                                                                                                                                                                                                                                                                                                                                                                                                                                                                                                                            Algebra%¤%Fields of mathematics\n",
       "..                                                                                                                                                                                                                                                                                                                                                                                                                                                                                                                                                                                                                                                                                                                                                                                                                                                                                                                                                                                                                                       ...\n",
       "995                                                                                                                                                                                                                                                                                                                                                                                                                                                                                                                                                                                                                                                                                                                                                                                                                                                                                                                    Ice hockey%¤%Hockey%¤%Team sports%¤%Winter sports%¤%Variations of hockey%¤%Athletic sports%¤%Ice sports%¤%Ice skating\n",
       "996                                                                                                                                                                                                                                                                                                                                                                                                                                                                                                                                                                                                                                                                                                                                                                                                                                                                                                                                                                                                         Sociology%¤%Behavioural sciences\n",
       "997                                                                                                                                                                                                                                                                                                                                                                                                                                                                                                                                                                                                                                                                                                                                                                                                                                                                                                                                                                       Defunct ice hockey teams%¤%Defunct sports teams%¤%Ice hockey teams\n",
       "998                                                                                                                                                                                                                                                                                                                                                                                                                                                                                                                                                                                                                                                                                                                                                                                                                                                                                                                                                                                    Ice hockey teams%¤%Ice hockey%¤%Sports teams by sport\n",
       "999                                                                                                                                                                                                                                                                                                                                                                                                                                                                                                                                                                                                                                                                                                                                                                                                                                                                                                                                                                                          Skyscrapers%¤%Buildings and structures%¤%Towers\n",
       "\n",
       "[1000 rows x 1 columns]"
      ]
     },
     "execution_count": 16,
     "metadata": {},
     "output_type": "execute_result"
    }
   ],
   "source": [
    "newS"
   ]
  },
  {
   "cell_type": "code",
   "execution_count": 17,
   "metadata": {},
   "outputs": [
    {
     "name": "stdout",
     "output_type": "stream",
     "text": [
      "Wall time: 49 s\n"
     ]
    }
   ],
   "source": [
    "%%time\n",
    "G = nx.read_adjlist('../workproduct-files/allRows.csv', delimiter = '%¤%', create_using=nx.DiGraph())\n",
    "G = G.reverse()"
   ]
  },
  {
   "cell_type": "code",
   "execution_count": 18,
   "metadata": {},
   "outputs": [
    {
     "data": {
      "text/plain": [
       "1940806"
      ]
     },
     "execution_count": 18,
     "metadata": {},
     "output_type": "execute_result"
    }
   ],
   "source": [
    "G.number_of_nodes()\n",
    "#list(G.nodes)\n",
    "#G.clear()\n",
    "\n",
    "# Old count: 3 907 633"
   ]
  },
  {
   "cell_type": "code",
   "execution_count": 19,
   "metadata": {},
   "outputs": [],
   "source": [
    "#nx.draw(G, with_labels = False)"
   ]
  },
  {
   "cell_type": "code",
   "execution_count": 20,
   "metadata": {},
   "outputs": [
    {
     "ename": "KeyError",
     "evalue": "'Australian expatriate sportspeople in New Zealand|Basketball'",
     "output_type": "error",
     "traceback": [
      "\u001b[1;31m---------------------------------------------------------------------------\u001b[0m",
      "\u001b[1;31mKeyError\u001b[0m                                  Traceback (most recent call last)",
      "\u001b[1;32m<ipython-input-20-0675579549e5>\u001b[0m in \u001b[0;36m<module>\u001b[1;34m\u001b[0m\n\u001b[1;32m----> 1\u001b[1;33m \u001b[0mG\u001b[0m\u001b[1;33m[\u001b[0m\u001b[1;34m'Australian expatriate sportspeople in New Zealand|Basketball'\u001b[0m\u001b[1;33m]\u001b[0m\u001b[1;33m\u001b[0m\u001b[1;33m\u001b[0m\u001b[0m\n\u001b[0m",
      "\u001b[1;32m~\\miniconda3\\envs\\data-analysis\\lib\\site-packages\\networkx\\classes\\graph.py\u001b[0m in \u001b[0;36m__getitem__\u001b[1;34m(self, n)\u001b[0m\n\u001b[0;32m    473\u001b[0m         \u001b[0mAtlasView\u001b[0m\u001b[1;33m(\u001b[0m\u001b[1;33m{\u001b[0m\u001b[1;36m1\u001b[0m\u001b[1;33m:\u001b[0m \u001b[1;33m{\u001b[0m\u001b[1;33m}\u001b[0m\u001b[1;33m}\u001b[0m\u001b[1;33m)\u001b[0m\u001b[1;33m\u001b[0m\u001b[1;33m\u001b[0m\u001b[0m\n\u001b[0;32m    474\u001b[0m         \"\"\"\n\u001b[1;32m--> 475\u001b[1;33m         \u001b[1;32mreturn\u001b[0m \u001b[0mself\u001b[0m\u001b[1;33m.\u001b[0m\u001b[0madj\u001b[0m\u001b[1;33m[\u001b[0m\u001b[0mn\u001b[0m\u001b[1;33m]\u001b[0m\u001b[1;33m\u001b[0m\u001b[1;33m\u001b[0m\u001b[0m\n\u001b[0m\u001b[0;32m    476\u001b[0m \u001b[1;33m\u001b[0m\u001b[0m\n\u001b[0;32m    477\u001b[0m     \u001b[1;32mdef\u001b[0m \u001b[0madd_node\u001b[0m\u001b[1;33m(\u001b[0m\u001b[0mself\u001b[0m\u001b[1;33m,\u001b[0m \u001b[0mnode_for_adding\u001b[0m\u001b[1;33m,\u001b[0m \u001b[1;33m**\u001b[0m\u001b[0mattr\u001b[0m\u001b[1;33m)\u001b[0m\u001b[1;33m:\u001b[0m\u001b[1;33m\u001b[0m\u001b[1;33m\u001b[0m\u001b[0m\n",
      "\u001b[1;32m~\\miniconda3\\envs\\data-analysis\\lib\\site-packages\\networkx\\classes\\coreviews.py\u001b[0m in \u001b[0;36m__getitem__\u001b[1;34m(self, name)\u001b[0m\n\u001b[0;32m     79\u001b[0m \u001b[1;33m\u001b[0m\u001b[0m\n\u001b[0;32m     80\u001b[0m     \u001b[1;32mdef\u001b[0m \u001b[0m__getitem__\u001b[0m\u001b[1;33m(\u001b[0m\u001b[0mself\u001b[0m\u001b[1;33m,\u001b[0m \u001b[0mname\u001b[0m\u001b[1;33m)\u001b[0m\u001b[1;33m:\u001b[0m\u001b[1;33m\u001b[0m\u001b[1;33m\u001b[0m\u001b[0m\n\u001b[1;32m---> 81\u001b[1;33m         \u001b[1;32mreturn\u001b[0m \u001b[0mAtlasView\u001b[0m\u001b[1;33m(\u001b[0m\u001b[0mself\u001b[0m\u001b[1;33m.\u001b[0m\u001b[0m_atlas\u001b[0m\u001b[1;33m[\u001b[0m\u001b[0mname\u001b[0m\u001b[1;33m]\u001b[0m\u001b[1;33m)\u001b[0m\u001b[1;33m\u001b[0m\u001b[1;33m\u001b[0m\u001b[0m\n\u001b[0m\u001b[0;32m     82\u001b[0m \u001b[1;33m\u001b[0m\u001b[0m\n\u001b[0;32m     83\u001b[0m     \u001b[1;32mdef\u001b[0m \u001b[0mcopy\u001b[0m\u001b[1;33m(\u001b[0m\u001b[0mself\u001b[0m\u001b[1;33m)\u001b[0m\u001b[1;33m:\u001b[0m\u001b[1;33m\u001b[0m\u001b[1;33m\u001b[0m\u001b[0m\n",
      "\u001b[1;31mKeyError\u001b[0m: 'Australian expatriate sportspeople in New Zealand|Basketball'"
     ]
    }
   ],
   "source": [
    "G['Australian expatriate sportspeople in New Zealand|Basketball']"
   ]
  },
  {
   "cell_type": "code",
   "execution_count": 21,
   "metadata": {},
   "outputs": [
    {
     "name": "stdout",
     "output_type": "stream",
     "text": [
      "Countries\n",
      "Administrative territorial entities by continent\n"
     ]
    }
   ],
   "source": [
    "for x in G.predecessors('Countries by continent'):\n",
    "    print(x)"
   ]
  },
  {
   "cell_type": "code",
   "execution_count": 22,
   "metadata": {},
   "outputs": [
    {
     "name": "stdout",
     "output_type": "stream",
     "text": [
      "Russian society\n",
      "Politics of Russia\n",
      "Russian culture\n",
      "Economy of Russia\n",
      "Geography of Russia\n",
      "History of Russia\n",
      "Russia-related lists\n",
      "Buildings and structures in Russia\n",
      "Images of Russia\n",
      "Organizations based in Russia\n",
      "Fugitives wanted by Russia\n"
     ]
    }
   ],
   "source": [
    "for x in G.neighbors('Russia'):\n",
    "    print(x)"
   ]
  },
  {
   "cell_type": "code",
   "execution_count": 23,
   "metadata": {},
   "outputs": [],
   "source": [
    "G.remove_node('')"
   ]
  },
  {
   "cell_type": "code",
   "execution_count": 36,
   "metadata": {},
   "outputs": [],
   "source": [
    "# G.shortest_path('Main topic classifications', 'Education')\n",
    "path = nx.shortest_path(G, source = 'Main topic classifications', target = '2000s fantasy action films')"
   ]
  },
  {
   "cell_type": "code",
   "execution_count": 37,
   "metadata": {},
   "outputs": [
    {
     "data": {
      "text/plain": [
       "['Main topic classifications',\n",
       " 'Entertainment',\n",
       " 'Action (genre)',\n",
       " 'Action films',\n",
       " 'Action films by decade',\n",
       " '2000s action films',\n",
       " '2000s fantasy action films']"
      ]
     },
     "execution_count": 37,
     "metadata": {},
     "output_type": "execute_result"
    }
   ],
   "source": [
    "path"
   ]
  },
  {
   "cell_type": "code",
   "execution_count": 26,
   "metadata": {},
   "outputs": [
    {
     "data": {
      "text/plain": [
       "['Caerellii',\n",
       " 'Antigua and Barbuda expatriate sportspeople in France',\n",
       " 'Antigua and Barbuda expatriates in France',\n",
       " 'Antigua and Barbuda expatriate sportspeople in Germany',\n",
       " 'Antigua and Barbuda expatriate sportspeople in Greece',\n",
       " 'Antigua and Barbuda expatriate sportspeople in Poland',\n",
       " 'Antigua and Barbuda expatriates in Poland',\n",
       " 'Antigua and Barbuda–Poland relations',\n",
       " 'Antigua and Barbuda expatriate basketball people',\n",
       " 'Antigua and Barbuda expatriate sportspeople in Puerto Rico',\n",
       " 'Antigua and Barbuda expatriates in Puerto Rico',\n",
       " 'Antigua and Barbuda expatriate sportspeople in insular areas of the United States',\n",
       " 'Antigua and Barbuda expatriates in insular areas of the United States',\n",
       " 'Antigua and Barbuda expatriate basketball people in France',\n",
       " 'Antigua and Barbuda expatriate basketball people in Germany',\n",
       " 'Antigua and Barbuda expatriate basketball people in Greece',\n",
       " 'Theatres in Białystok',\n",
       " 'Culture in Białystok',\n",
       " 'Antigua and Barbuda expatriate basketball people in Poland',\n",
       " 'Antigua and Barbuda expatriate basketball people in Puerto Rico',\n",
       " 'Argentine expatriate basketball people in Austria',\n",
       " 'KK BASK coaches',\n",
       " 'Lithuanian expatriate basketball people in Austria',\n",
       " 'Argentine expatriate basketball people in Bulgaria',\n",
       " 'Esther & Abi Ofarim songs',\n",
       " 'Australian expatriate basketball people in Argentina',\n",
       " 'Australian expatriate sportspeople in Argentina',\n",
       " 'Australian expatriates in Argentina',\n",
       " 'Australian expatriate basketball people in Japan',\n",
       " 'Australian expatriate basketball people in Iran',\n",
       " 'Australian expatriate basketball people in Puerto Rico',\n",
       " 'Australian expatriate sportspeople in Puerto Rico',\n",
       " 'Australian expatriates in Puerto Rico',\n",
       " 'Australian expatriate sportspeople in insular areas of the United States',\n",
       " 'Australian expatriates in insular areas of the United States',\n",
       " 'Australian expatriate basketball people in New Zealand',\n",
       " 'Australian expatriate basketball people in Romania',\n",
       " 'Australian expatriate basketball people in Uruguay',\n",
       " 'Australian expatriate sportspeople in Uruguay',\n",
       " '2000s fantasy action films',\n",
       " 'Australian expatriates in Uruguay',\n",
       " 'Australian expatriate basketball people in Belgium',\n",
       " 'Australian expatriate basketball people in Croatia',\n",
       " 'Universities and colleges in Bhola District',\n",
       " 'Buildings and structures in Bhola District',\n",
       " 'Education in Bhola District',\n",
       " 'Australian expatriate basketball people in Estonia',\n",
       " 'Australian expatriate sportspeople in Estonia',\n",
       " 'Australian expatriates in Estonia',\n",
       " 'Stuff']"
      ]
     },
     "execution_count": 26,
     "metadata": {},
     "output_type": "execute_result"
    }
   ],
   "source": [
    "list(G.nodes)[-50:]"
   ]
  },
  {
   "cell_type": "code",
   "execution_count": null,
   "metadata": {},
   "outputs": [],
   "source": []
  }
 ],
 "metadata": {
  "kernelspec": {
   "display_name": "Python 3",
   "language": "python",
   "name": "python3"
  },
  "language_info": {
   "codemirror_mode": {
    "name": "ipython",
    "version": 3
   },
   "file_extension": ".py",
   "mimetype": "text/x-python",
   "name": "python",
   "nbconvert_exporter": "python",
   "pygments_lexer": "ipython3",
   "version": "3.8.2"
  }
 },
 "nbformat": 4,
 "nbformat_minor": 4
}
