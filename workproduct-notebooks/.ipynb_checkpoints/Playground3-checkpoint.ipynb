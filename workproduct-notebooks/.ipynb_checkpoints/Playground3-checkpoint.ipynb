{
 "cells": [
  {
   "cell_type": "code",
   "execution_count": 1,
   "metadata": {},
   "outputs": [],
   "source": [
    "import pandas as pd\n",
    "import numpy as np\n",
    "import csv\n",
    "import re\n",
    "from ast import literal_eval\n",
    "import time"
   ]
  },
  {
   "cell_type": "code",
   "execution_count": 2,
   "metadata": {},
   "outputs": [],
   "source": [
    "pd.set_option('display.max_rows', 500)\n",
    "pd.set_option('display.max_columns', 500)\n",
    "pd.set_option('display.max_colwidth', 1000)"
   ]
  },
  {
   "cell_type": "code",
   "execution_count": 3,
   "metadata": {},
   "outputs": [],
   "source": [
    "FILE_PATH_CAT = 'F:/wikipedia-data/outputs/categories.csv'\n",
    "FILE_PATH_ART = 'F:/wikipedia-data/outputs/articles_without_links.csv'"
   ]
  },
  {
   "cell_type": "code",
   "execution_count": 4,
   "metadata": {},
   "outputs": [],
   "source": [
    "# id = page name\n",
    "# type = Category\n",
    "# depth = null"
   ]
  },
  {
   "cell_type": "code",
   "execution_count": 5,
   "metadata": {},
   "outputs": [
    {
     "name": "stdout",
     "output_type": "stream",
     "text": [
      "Wall time: 3.48 s\n"
     ]
    }
   ],
   "source": [
    "%%time\n",
    "cat_origData = pd.read_csv(FILE_PATH_CAT)"
   ]
  },
  {
   "cell_type": "markdown",
   "metadata": {},
   "source": [
    "### Category data to edge dataframe input"
   ]
  },
  {
   "cell_type": "code",
   "execution_count": 6,
   "metadata": {},
   "outputs": [],
   "source": [
    "# src = from partentCategory column\n",
    "# dst = from title columns\n",
    "# intersection = null\n",
    "# union = null\n",
    "# similarity = null"
   ]
  },
  {
   "cell_type": "code",
   "execution_count": 7,
   "metadata": {},
   "outputs": [
    {
     "data": {
      "text/plain": [
       "'%%time\\n# Approach 1\\n# 10000 rows in 213 seconds --> 4M rows in ~23h\\n\\nstart_time = time.time()\\ncat_edge = pd.DataFrame(columns=[\"src\", \"dst\", \"intersection\", \"union\", \"similarity\"])\\n\\nfor row in cat_origData.index:\\n    if (row % 10000) == 0:\\n        print(str(row) + \" : \" + str(time.time() - start_time))\\n    \\n    dst = str(cat_origData.loc[row, \"title\"])[9:]\\n    \\n    #read parentCategories string as python list, iterate over each item\\n    for item in literal_eval(cat_origData.loc[row, \"parentCategories\"]):\\n        #add new row to cat_edge\\n        newRow = {\"src\": str(item) , \"dst\" : dst}\\n        cat_edge  = cat_edge.append(newRow, ignore_index = True)'"
      ]
     },
     "execution_count": 7,
     "metadata": {},
     "output_type": "execute_result"
    }
   ],
   "source": [
    "'''%%time\n",
    "# Approach 1\n",
    "# 10000 rows in 213 seconds --> 4M rows in ~23h\n",
    "\n",
    "start_time = time.time()\n",
    "cat_edge = pd.DataFrame(columns=[\"src\", \"dst\", \"intersection\", \"union\", \"similarity\"])\n",
    "\n",
    "for row in cat_origData.index:\n",
    "    if (row % 10000) == 0:\n",
    "        print(str(row) + \" : \" + str(time.time() - start_time))\n",
    "    \n",
    "    dst = str(cat_origData.loc[row, \"title\"])[9:]\n",
    "    \n",
    "    #read parentCategories string as python list, iterate over each item\n",
    "    for item in literal_eval(cat_origData.loc[row, \"parentCategories\"]):\n",
    "        #add new row to cat_edge\n",
    "        newRow = {\"src\": str(item) , \"dst\" : dst}\n",
    "        cat_edge  = cat_edge.append(newRow, ignore_index = True)'''"
   ]
  },
  {
   "cell_type": "code",
   "execution_count": 8,
   "metadata": {},
   "outputs": [
    {
     "data": {
      "text/plain": [
       "'%%time\\n# Approach 2\\n# 800 000 rows in ~8 hours...\\n\\nstart_time = time.time()\\ncat_edge = pd.DataFrame(columns=[\"src\", \"dst\"])\\n\\nfor row in cat_origData.index:\\n    if (row % 100000) == 0:\\n        print(str(row) + \" : \" + str(time.time() - start_time))\\n    \\n    toAdd = pd.DataFrame(columns=[\"src\", \"dst\"])\\n    toAdd[\"src\"] = literal_eval(cat_origData.loc[row, \"parentCategories\"])\\n    toAdd[\"dst\"] = str(cat_origData.loc[row, \"title\"])[9:]\\n    \\n    cat_edge  = cat_edge.append(toAdd, ignore_index = True)\\n    '"
      ]
     },
     "execution_count": 8,
     "metadata": {},
     "output_type": "execute_result"
    }
   ],
   "source": [
    "'''%%time\n",
    "# Approach 2\n",
    "# 800 000 rows in ~8 hours...\n",
    "\n",
    "start_time = time.time()\n",
    "cat_edge = pd.DataFrame(columns=[\"src\", \"dst\"])\n",
    "\n",
    "for row in cat_origData.index:\n",
    "    if (row % 100000) == 0:\n",
    "        print(str(row) + \" : \" + str(time.time() - start_time))\n",
    "    \n",
    "    toAdd = pd.DataFrame(columns=[\"src\", \"dst\"])\n",
    "    toAdd[\"src\"] = literal_eval(cat_origData.loc[row, \"parentCategories\"])\n",
    "    toAdd[\"dst\"] = str(cat_origData.loc[row, \"title\"])[9:]\n",
    "    \n",
    "    cat_edge  = cat_edge.append(toAdd, ignore_index = True)\n",
    "    '''"
   ]
  },
  {
   "cell_type": "code",
   "execution_count": 9,
   "metadata": {},
   "outputs": [
    {
     "name": "stdout",
     "output_type": "stream",
     "text": [
      "Wall time: 0 ns\n"
     ]
    }
   ],
   "source": [
    "%%time\n",
    "# Approach 3\n"
   ]
  },
  {
   "cell_type": "code",
   "execution_count": 10,
   "metadata": {},
   "outputs": [
    {
     "data": {
      "text/plain": [
       "'%%time\\n# Approach 3\\n# 10000 rows in 50 seconds\\n\\nstart_time = time.time()\\ncat_edge = pd.DataFrame(columns=[\"src\", \"dst\"])\\n\\nfor row in cat_origData.index:\\n    if (row % 10000) == 0:\\n        print(str(row) + \" : \" + str(time.time() - start_time))\\n    \\n    toAdd = pd.DataFrame(columns=[\"src\"])\\n    toAdd[\"src\"] = literal_eval(cat_origData.loc[row, \"parentCategories\"])\\n    # toAdd[\"dst\"] = str(cat_origData.loc[row, \"title\"])[9:]\\n    \\n    cat_edge  = cat_edge.append(toAdd, ignore_index = True)\\n    '"
      ]
     },
     "execution_count": 10,
     "metadata": {},
     "output_type": "execute_result"
    }
   ],
   "source": [
    "'''%%time\n",
    "# Approach 3\n",
    "# 10000 rows in 50 seconds\n",
    "\n",
    "start_time = time.time()\n",
    "cat_edge = pd.DataFrame(columns=[\"src\", \"dst\"])\n",
    "\n",
    "for row in cat_origData.index:\n",
    "    if (row % 10000) == 0:\n",
    "        print(str(row) + \" : \" + str(time.time() - start_time))\n",
    "    \n",
    "    toAdd = pd.DataFrame(columns=[\"src\"])\n",
    "    toAdd[\"src\"] = literal_eval(cat_origData.loc[row, \"parentCategories\"])\n",
    "    # toAdd[\"dst\"] = str(cat_origData.loc[row, \"title\"])[9:]\n",
    "    \n",
    "    cat_edge  = cat_edge.append(toAdd, ignore_index = True)\n",
    "    '''"
   ]
  },
  {
   "cell_type": "code",
   "execution_count": 11,
   "metadata": {},
   "outputs": [
    {
     "data": {
      "text/html": [
       "<div>\n",
       "<style scoped>\n",
       "    .dataframe tbody tr th:only-of-type {\n",
       "        vertical-align: middle;\n",
       "    }\n",
       "\n",
       "    .dataframe tbody tr th {\n",
       "        vertical-align: top;\n",
       "    }\n",
       "\n",
       "    .dataframe thead th {\n",
       "        text-align: right;\n",
       "    }\n",
       "</style>\n",
       "<table border=\"1\" class=\"dataframe\">\n",
       "  <thead>\n",
       "    <tr style=\"text-align: right;\">\n",
       "      <th></th>\n",
       "      <th>id</th>\n",
       "      <th>title</th>\n",
       "      <th>parentCategories</th>\n",
       "    </tr>\n",
       "  </thead>\n",
       "  <tbody>\n",
       "    <tr>\n",
       "      <th>0</th>\n",
       "      <td>690070</td>\n",
       "      <td>Category:Futurama</td>\n",
       "      <td>['Television series by 20th Century Fox Television', 'Television series created by Matt Groening', 'Wikipedia categories named after American animated television series', 'Wikipedia categories named after mass media franchises', '20th Century Fox Television franchises', 'Transhumanism in television series', 'Animated television series about extraterrestrial life', 'Animated television series about robots', 'Comedy franchises', 'Science fiction franchises', 'Television series by Fox Television Animation', 'Fox Broadcasting Company original programming', 'Comedy Central original programming', 'American adult animated drama television series', 'American adult animated comic science fiction television series', 'Television shows set in New York City', '1990s American adult animated television series', '2000s American adult animated television series', '2010s American adult animated television series', '1990s American comic science fiction television series', '2000s American comic scienc...</td>\n",
       "    </tr>\n",
       "    <tr>\n",
       "      <th>1</th>\n",
       "      <td>690451</td>\n",
       "      <td>Category:World War II</td>\n",
       "      <td>['Wikipedia categories named after wars', '20th-century conflicts', '1930s conflicts', '1940s conflicts', 'Conflicts in 1939', 'Conflicts in 1940', 'Conflicts in 1941', 'Conflicts in 1942', 'Conflicts in 1943', 'Conflicts in 1944', 'Conflicts in 1945', 'Global conflicts', 'World Wars| ']</td>\n",
       "    </tr>\n",
       "    <tr>\n",
       "      <th>2</th>\n",
       "      <td>690571</td>\n",
       "      <td>Category:Programming languages</td>\n",
       "      <td>['Computer languages', 'Computer programming', 'Programming language topics', 'Programming language theory']</td>\n",
       "    </tr>\n",
       "    <tr>\n",
       "      <th>3</th>\n",
       "      <td>690578</td>\n",
       "      <td>Category:Professional wrestling</td>\n",
       "      <td>['Mock combat', 'Sports entertainment', 'Theatrical combat']</td>\n",
       "    </tr>\n",
       "    <tr>\n",
       "      <th>4</th>\n",
       "      <td>690637</td>\n",
       "      <td>Category:Algebra</td>\n",
       "      <td>['Fields of mathematics']</td>\n",
       "    </tr>\n",
       "    <tr>\n",
       "      <th>...</th>\n",
       "      <td>...</td>\n",
       "      <td>...</td>\n",
       "      <td>...</td>\n",
       "    </tr>\n",
       "    <tr>\n",
       "      <th>1951052</th>\n",
       "      <td>64148944</td>\n",
       "      <td>Category:Australian expatriates in Estonia</td>\n",
       "      <td>['Australian expatriates|Estonia', 'Expatriates in Estonia', 'Australia–Estonia relations|-']</td>\n",
       "    </tr>\n",
       "    <tr>\n",
       "      <th>1951053</th>\n",
       "      <td>64148963</td>\n",
       "      <td>Category:Buildings and structures in Bhola District</td>\n",
       "      <td>['Bhola District', 'Buildings and structures in Barisal Division']</td>\n",
       "    </tr>\n",
       "    <tr>\n",
       "      <th>1951054</th>\n",
       "      <td>64148965</td>\n",
       "      <td>Category:Education in Bhola District</td>\n",
       "      <td>['Bhola District', 'Education in Bangladesh by district']</td>\n",
       "    </tr>\n",
       "    <tr>\n",
       "      <th>1951055</th>\n",
       "      <td>64149140</td>\n",
       "      <td>Category:Colleges in the territories of Canada</td>\n",
       "      <td>[]</td>\n",
       "    </tr>\n",
       "    <tr>\n",
       "      <th>1951056</th>\n",
       "      <td>64149156</td>\n",
       "      <td>Category:Stuff</td>\n",
       "      <td>['Mass media in Wellington', 'New Zealand news websites', 'Real estate in New Zealand', 'Companies based in Wellington', 'Newspaper companies of New Zealand', 'Nine Entertainment Co.']</td>\n",
       "    </tr>\n",
       "  </tbody>\n",
       "</table>\n",
       "<p>1951057 rows × 3 columns</p>\n",
       "</div>"
      ],
      "text/plain": [
       "               id                                                title  \\\n",
       "0          690070                                    Category:Futurama   \n",
       "1          690451                                Category:World War II   \n",
       "2          690571                       Category:Programming languages   \n",
       "3          690578                      Category:Professional wrestling   \n",
       "4          690637                                     Category:Algebra   \n",
       "...           ...                                                  ...   \n",
       "1951052  64148944           Category:Australian expatriates in Estonia   \n",
       "1951053  64148963  Category:Buildings and structures in Bhola District   \n",
       "1951054  64148965                 Category:Education in Bhola District   \n",
       "1951055  64149140       Category:Colleges in the territories of Canada   \n",
       "1951056  64149156                                       Category:Stuff   \n",
       "\n",
       "                                                                                                                                                                                                                                                                                                                                                                                                                                                                                                                                                                                                                                                                                                                                                                                                                                                                                                                                                                                                                                parentCategories  \n",
       "0        ['Television series by 20th Century Fox Television', 'Television series created by Matt Groening', 'Wikipedia categories named after American animated television series', 'Wikipedia categories named after mass media franchises', '20th Century Fox Television franchises', 'Transhumanism in television series', 'Animated television series about extraterrestrial life', 'Animated television series about robots', 'Comedy franchises', 'Science fiction franchises', 'Television series by Fox Television Animation', 'Fox Broadcasting Company original programming', 'Comedy Central original programming', 'American adult animated drama television series', 'American adult animated comic science fiction television series', 'Television shows set in New York City', '1990s American adult animated television series', '2000s American adult animated television series', '2010s American adult animated television series', '1990s American comic science fiction television series', '2000s American comic scienc...  \n",
       "1                                                                                                                                                                                                                                                                                                                                                                                                                                                                                                                                                                                                                                                                                                                                               ['Wikipedia categories named after wars', '20th-century conflicts', '1930s conflicts', '1940s conflicts', 'Conflicts in 1939', 'Conflicts in 1940', 'Conflicts in 1941', 'Conflicts in 1942', 'Conflicts in 1943', 'Conflicts in 1944', 'Conflicts in 1945', 'Global conflicts', 'World Wars| ']  \n",
       "2                                                                                                                                                                                                                                                                                                                                                                                                                                                                                                                                                                                                                                                                                                                                                                                                                                                                                                                                   ['Computer languages', 'Computer programming', 'Programming language topics', 'Programming language theory']  \n",
       "3                                                                                                                                                                                                                                                                                                                                                                                                                                                                                                                                                                                                                                                                                                                                                                                                                                                                                                                                                                                   ['Mock combat', 'Sports entertainment', 'Theatrical combat']  \n",
       "4                                                                                                                                                                                                                                                                                                                                                                                                                                                                                                                                                                                                                                                                                                                                                                                                                                                                                                                                                                                                                      ['Fields of mathematics']  \n",
       "...                                                                                                                                                                                                                                                                                                                                                                                                                                                                                                                                                                                                                                                                                                                                                                                                                                                                                                                                                                                                                                          ...  \n",
       "1951052                                                                                                                                                                                                                                                                                                                                                                                                                                                                                                                                                                                                                                                                                                                                                                                                                                                                                                                                            ['Australian expatriates|Estonia', 'Expatriates in Estonia', 'Australia–Estonia relations|-']  \n",
       "1951053                                                                                                                                                                                                                                                                                                                                                                                                                                                                                                                                                                                                                                                                                                                                                                                                                                                                                                                                                                       ['Bhola District', 'Buildings and structures in Barisal Division']  \n",
       "1951054                                                                                                                                                                                                                                                                                                                                                                                                                                                                                                                                                                                                                                                                                                                                                                                                                                                                                                                                                                                ['Bhola District', 'Education in Bangladesh by district']  \n",
       "1951055                                                                                                                                                                                                                                                                                                                                                                                                                                                                                                                                                                                                                                                                                                                                                                                                                                                                                                                                                                                                                                       []  \n",
       "1951056                                                                                                                                                                                                                                                                                                                                                                                                                                                                                                                                                                                                                                                                                                                                                                                                                                                 ['Mass media in Wellington', 'New Zealand news websites', 'Real estate in New Zealand', 'Companies based in Wellington', 'Newspaper companies of New Zealand', 'Nine Entertainment Co.']  \n",
       "\n",
       "[1951057 rows x 3 columns]"
      ]
     },
     "execution_count": 11,
     "metadata": {},
     "output_type": "execute_result"
    }
   ],
   "source": [
    "cat_origData"
   ]
  },
  {
   "cell_type": "code",
   "execution_count": 12,
   "metadata": {},
   "outputs": [
    {
     "name": "stdout",
     "output_type": "stream",
     "text": [
      "Wall time: 730 ms\n"
     ]
    }
   ],
   "source": [
    "%%time\n",
    "cat_origData['title'] = cat_origData['title'].apply(lambda x: str(x)[9:])"
   ]
  },
  {
   "cell_type": "code",
   "execution_count": 13,
   "metadata": {},
   "outputs": [
    {
     "name": "stdout",
     "output_type": "stream",
     "text": [
      "Wall time: 19.7 s\n"
     ]
    }
   ],
   "source": [
    "%%time\n",
    "cat_origData['parentCategories'] = cat_origData['parentCategories'].apply(lambda x: literal_eval(x))"
   ]
  },
  {
   "cell_type": "code",
   "execution_count": 14,
   "metadata": {},
   "outputs": [
    {
     "data": {
      "text/html": [
       "<div>\n",
       "<style scoped>\n",
       "    .dataframe tbody tr th:only-of-type {\n",
       "        vertical-align: middle;\n",
       "    }\n",
       "\n",
       "    .dataframe tbody tr th {\n",
       "        vertical-align: top;\n",
       "    }\n",
       "\n",
       "    .dataframe thead th {\n",
       "        text-align: right;\n",
       "    }\n",
       "</style>\n",
       "<table border=\"1\" class=\"dataframe\">\n",
       "  <thead>\n",
       "    <tr style=\"text-align: right;\">\n",
       "      <th></th>\n",
       "      <th>id</th>\n",
       "      <th>title</th>\n",
       "      <th>parentCategories</th>\n",
       "    </tr>\n",
       "  </thead>\n",
       "  <tbody>\n",
       "    <tr>\n",
       "      <th>0</th>\n",
       "      <td>690070</td>\n",
       "      <td>Futurama</td>\n",
       "      <td>[Television series by 20th Century Fox Television, Television series created by Matt Groening, Wikipedia categories named after American animated television series, Wikipedia categories named after mass media franchises, 20th Century Fox Television franchises, Transhumanism in television series, Animated television series about extraterrestrial life, Animated television series about robots, Comedy franchises, Science fiction franchises, Television series by Fox Television Animation, Fox Broadcasting Company original programming, Comedy Central original programming, American adult animated drama television series, American adult animated comic science fiction television series, Television shows set in New York City, 1990s American adult animated television series, 2000s American adult animated television series, 2010s American adult animated television series, 1990s American comic science fiction television series, 2000s American comic science fiction television series, 2010s Americ...</td>\n",
       "    </tr>\n",
       "    <tr>\n",
       "      <th>1</th>\n",
       "      <td>690451</td>\n",
       "      <td>World War II</td>\n",
       "      <td>[Wikipedia categories named after wars, 20th-century conflicts, 1930s conflicts, 1940s conflicts, Conflicts in 1939, Conflicts in 1940, Conflicts in 1941, Conflicts in 1942, Conflicts in 1943, Conflicts in 1944, Conflicts in 1945, Global conflicts, World Wars| ]</td>\n",
       "    </tr>\n",
       "    <tr>\n",
       "      <th>2</th>\n",
       "      <td>690571</td>\n",
       "      <td>Programming languages</td>\n",
       "      <td>[Computer languages, Computer programming, Programming language topics, Programming language theory]</td>\n",
       "    </tr>\n",
       "    <tr>\n",
       "      <th>3</th>\n",
       "      <td>690578</td>\n",
       "      <td>Professional wrestling</td>\n",
       "      <td>[Mock combat, Sports entertainment, Theatrical combat]</td>\n",
       "    </tr>\n",
       "    <tr>\n",
       "      <th>4</th>\n",
       "      <td>690637</td>\n",
       "      <td>Algebra</td>\n",
       "      <td>[Fields of mathematics]</td>\n",
       "    </tr>\n",
       "    <tr>\n",
       "      <th>...</th>\n",
       "      <td>...</td>\n",
       "      <td>...</td>\n",
       "      <td>...</td>\n",
       "    </tr>\n",
       "    <tr>\n",
       "      <th>1951052</th>\n",
       "      <td>64148944</td>\n",
       "      <td>Australian expatriates in Estonia</td>\n",
       "      <td>[Australian expatriates|Estonia, Expatriates in Estonia, Australia–Estonia relations|-]</td>\n",
       "    </tr>\n",
       "    <tr>\n",
       "      <th>1951053</th>\n",
       "      <td>64148963</td>\n",
       "      <td>Buildings and structures in Bhola District</td>\n",
       "      <td>[Bhola District, Buildings and structures in Barisal Division]</td>\n",
       "    </tr>\n",
       "    <tr>\n",
       "      <th>1951054</th>\n",
       "      <td>64148965</td>\n",
       "      <td>Education in Bhola District</td>\n",
       "      <td>[Bhola District, Education in Bangladesh by district]</td>\n",
       "    </tr>\n",
       "    <tr>\n",
       "      <th>1951055</th>\n",
       "      <td>64149140</td>\n",
       "      <td>Colleges in the territories of Canada</td>\n",
       "      <td>[]</td>\n",
       "    </tr>\n",
       "    <tr>\n",
       "      <th>1951056</th>\n",
       "      <td>64149156</td>\n",
       "      <td>Stuff</td>\n",
       "      <td>[Mass media in Wellington, New Zealand news websites, Real estate in New Zealand, Companies based in Wellington, Newspaper companies of New Zealand, Nine Entertainment Co.]</td>\n",
       "    </tr>\n",
       "  </tbody>\n",
       "</table>\n",
       "<p>1951057 rows × 3 columns</p>\n",
       "</div>"
      ],
      "text/plain": [
       "               id                                       title  \\\n",
       "0          690070                                    Futurama   \n",
       "1          690451                                World War II   \n",
       "2          690571                       Programming languages   \n",
       "3          690578                      Professional wrestling   \n",
       "4          690637                                     Algebra   \n",
       "...           ...                                         ...   \n",
       "1951052  64148944           Australian expatriates in Estonia   \n",
       "1951053  64148963  Buildings and structures in Bhola District   \n",
       "1951054  64148965                 Education in Bhola District   \n",
       "1951055  64149140       Colleges in the territories of Canada   \n",
       "1951056  64149156                                       Stuff   \n",
       "\n",
       "                                                                                                                                                                                                                                                                                                                                                                                                                                                                                                                                                                                                                                                                                                                                                                                                                                                                                                                                                                                                                                parentCategories  \n",
       "0        [Television series by 20th Century Fox Television, Television series created by Matt Groening, Wikipedia categories named after American animated television series, Wikipedia categories named after mass media franchises, 20th Century Fox Television franchises, Transhumanism in television series, Animated television series about extraterrestrial life, Animated television series about robots, Comedy franchises, Science fiction franchises, Television series by Fox Television Animation, Fox Broadcasting Company original programming, Comedy Central original programming, American adult animated drama television series, American adult animated comic science fiction television series, Television shows set in New York City, 1990s American adult animated television series, 2000s American adult animated television series, 2010s American adult animated television series, 1990s American comic science fiction television series, 2000s American comic science fiction television series, 2010s Americ...  \n",
       "1                                                                                                                                                                                                                                                                                                                                                                                                                                                                                                                                                                                                                                                                                                                                                                         [Wikipedia categories named after wars, 20th-century conflicts, 1930s conflicts, 1940s conflicts, Conflicts in 1939, Conflicts in 1940, Conflicts in 1941, Conflicts in 1942, Conflicts in 1943, Conflicts in 1944, Conflicts in 1945, Global conflicts, World Wars| ]  \n",
       "2                                                                                                                                                                                                                                                                                                                                                                                                                                                                                                                                                                                                                                                                                                                                                                                                                                                                                                                                           [Computer languages, Computer programming, Programming language topics, Programming language theory]  \n",
       "3                                                                                                                                                                                                                                                                                                                                                                                                                                                                                                                                                                                                                                                                                                                                                                                                                                                                                                                                                                                         [Mock combat, Sports entertainment, Theatrical combat]  \n",
       "4                                                                                                                                                                                                                                                                                                                                                                                                                                                                                                                                                                                                                                                                                                                                                                                                                                                                                                                                                                                                                        [Fields of mathematics]  \n",
       "...                                                                                                                                                                                                                                                                                                                                                                                                                                                                                                                                                                                                                                                                                                                                                                                                                                                                                                                                                                                                                                          ...  \n",
       "1951052                                                                                                                                                                                                                                                                                                                                                                                                                                                                                                                                                                                                                                                                                                                                                                                                                                                                                                                                                  [Australian expatriates|Estonia, Expatriates in Estonia, Australia–Estonia relations|-]  \n",
       "1951053                                                                                                                                                                                                                                                                                                                                                                                                                                                                                                                                                                                                                                                                                                                                                                                                                                                                                                                                                                           [Bhola District, Buildings and structures in Barisal Division]  \n",
       "1951054                                                                                                                                                                                                                                                                                                                                                                                                                                                                                                                                                                                                                                                                                                                                                                                                                                                                                                                                                                                    [Bhola District, Education in Bangladesh by district]  \n",
       "1951055                                                                                                                                                                                                                                                                                                                                                                                                                                                                                                                                                                                                                                                                                                                                                                                                                                                                                                                                                                                                                                       []  \n",
       "1951056                                                                                                                                                                                                                                                                                                                                                                                                                                                                                                                                                                                                                                                                                                                                                                                                                                                             [Mass media in Wellington, New Zealand news websites, Real estate in New Zealand, Companies based in Wellington, Newspaper companies of New Zealand, Nine Entertainment Co.]  \n",
       "\n",
       "[1951057 rows x 3 columns]"
      ]
     },
     "execution_count": 14,
     "metadata": {},
     "output_type": "execute_result"
    }
   ],
   "source": [
    "cat_origData"
   ]
  },
  {
   "cell_type": "code",
   "execution_count": 15,
   "metadata": {},
   "outputs": [
    {
     "data": {
      "text/plain": [
       "list"
      ]
     },
     "execution_count": 15,
     "metadata": {},
     "output_type": "execute_result"
    }
   ],
   "source": [
    "type(cat_origData.iloc[0, -1])"
   ]
  },
  {
   "cell_type": "code",
   "execution_count": 16,
   "metadata": {},
   "outputs": [],
   "source": [
    "#cat_origData.drop(columns=['id'], inplace = True)"
   ]
  },
  {
   "cell_type": "code",
   "execution_count": 17,
   "metadata": {},
   "outputs": [
    {
     "data": {
      "text/html": [
       "<div>\n",
       "<style scoped>\n",
       "    .dataframe tbody tr th:only-of-type {\n",
       "        vertical-align: middle;\n",
       "    }\n",
       "\n",
       "    .dataframe tbody tr th {\n",
       "        vertical-align: top;\n",
       "    }\n",
       "\n",
       "    .dataframe thead th {\n",
       "        text-align: right;\n",
       "    }\n",
       "</style>\n",
       "<table border=\"1\" class=\"dataframe\">\n",
       "  <thead>\n",
       "    <tr style=\"text-align: right;\">\n",
       "      <th></th>\n",
       "      <th>id</th>\n",
       "      <th>title</th>\n",
       "      <th>parentCategories</th>\n",
       "    </tr>\n",
       "  </thead>\n",
       "  <tbody>\n",
       "    <tr>\n",
       "      <th>0</th>\n",
       "      <td>690070</td>\n",
       "      <td>Futurama</td>\n",
       "      <td>[Television series by 20th Century Fox Television, Television series created by Matt Groening, Wikipedia categories named after American animated television series, Wikipedia categories named after mass media franchises, 20th Century Fox Television franchises, Transhumanism in television series, Animated television series about extraterrestrial life, Animated television series about robots, Comedy franchises, Science fiction franchises, Television series by Fox Television Animation, Fox Broadcasting Company original programming, Comedy Central original programming, American adult animated drama television series, American adult animated comic science fiction television series, Television shows set in New York City, 1990s American adult animated television series, 2000s American adult animated television series, 2010s American adult animated television series, 1990s American comic science fiction television series, 2000s American comic science fiction television series, 2010s Americ...</td>\n",
       "    </tr>\n",
       "    <tr>\n",
       "      <th>1</th>\n",
       "      <td>690451</td>\n",
       "      <td>World War II</td>\n",
       "      <td>[Wikipedia categories named after wars, 20th-century conflicts, 1930s conflicts, 1940s conflicts, Conflicts in 1939, Conflicts in 1940, Conflicts in 1941, Conflicts in 1942, Conflicts in 1943, Conflicts in 1944, Conflicts in 1945, Global conflicts, World Wars| ]</td>\n",
       "    </tr>\n",
       "    <tr>\n",
       "      <th>2</th>\n",
       "      <td>690571</td>\n",
       "      <td>Programming languages</td>\n",
       "      <td>[Computer languages, Computer programming, Programming language topics, Programming language theory]</td>\n",
       "    </tr>\n",
       "    <tr>\n",
       "      <th>3</th>\n",
       "      <td>690578</td>\n",
       "      <td>Professional wrestling</td>\n",
       "      <td>[Mock combat, Sports entertainment, Theatrical combat]</td>\n",
       "    </tr>\n",
       "    <tr>\n",
       "      <th>4</th>\n",
       "      <td>690637</td>\n",
       "      <td>Algebra</td>\n",
       "      <td>[Fields of mathematics]</td>\n",
       "    </tr>\n",
       "    <tr>\n",
       "      <th>...</th>\n",
       "      <td>...</td>\n",
       "      <td>...</td>\n",
       "      <td>...</td>\n",
       "    </tr>\n",
       "    <tr>\n",
       "      <th>1951052</th>\n",
       "      <td>64148944</td>\n",
       "      <td>Australian expatriates in Estonia</td>\n",
       "      <td>[Australian expatriates|Estonia, Expatriates in Estonia, Australia–Estonia relations|-]</td>\n",
       "    </tr>\n",
       "    <tr>\n",
       "      <th>1951053</th>\n",
       "      <td>64148963</td>\n",
       "      <td>Buildings and structures in Bhola District</td>\n",
       "      <td>[Bhola District, Buildings and structures in Barisal Division]</td>\n",
       "    </tr>\n",
       "    <tr>\n",
       "      <th>1951054</th>\n",
       "      <td>64148965</td>\n",
       "      <td>Education in Bhola District</td>\n",
       "      <td>[Bhola District, Education in Bangladesh by district]</td>\n",
       "    </tr>\n",
       "    <tr>\n",
       "      <th>1951055</th>\n",
       "      <td>64149140</td>\n",
       "      <td>Colleges in the territories of Canada</td>\n",
       "      <td>[]</td>\n",
       "    </tr>\n",
       "    <tr>\n",
       "      <th>1951056</th>\n",
       "      <td>64149156</td>\n",
       "      <td>Stuff</td>\n",
       "      <td>[Mass media in Wellington, New Zealand news websites, Real estate in New Zealand, Companies based in Wellington, Newspaper companies of New Zealand, Nine Entertainment Co.]</td>\n",
       "    </tr>\n",
       "  </tbody>\n",
       "</table>\n",
       "<p>1951057 rows × 3 columns</p>\n",
       "</div>"
      ],
      "text/plain": [
       "               id                                       title  \\\n",
       "0          690070                                    Futurama   \n",
       "1          690451                                World War II   \n",
       "2          690571                       Programming languages   \n",
       "3          690578                      Professional wrestling   \n",
       "4          690637                                     Algebra   \n",
       "...           ...                                         ...   \n",
       "1951052  64148944           Australian expatriates in Estonia   \n",
       "1951053  64148963  Buildings and structures in Bhola District   \n",
       "1951054  64148965                 Education in Bhola District   \n",
       "1951055  64149140       Colleges in the territories of Canada   \n",
       "1951056  64149156                                       Stuff   \n",
       "\n",
       "                                                                                                                                                                                                                                                                                                                                                                                                                                                                                                                                                                                                                                                                                                                                                                                                                                                                                                                                                                                                                                parentCategories  \n",
       "0        [Television series by 20th Century Fox Television, Television series created by Matt Groening, Wikipedia categories named after American animated television series, Wikipedia categories named after mass media franchises, 20th Century Fox Television franchises, Transhumanism in television series, Animated television series about extraterrestrial life, Animated television series about robots, Comedy franchises, Science fiction franchises, Television series by Fox Television Animation, Fox Broadcasting Company original programming, Comedy Central original programming, American adult animated drama television series, American adult animated comic science fiction television series, Television shows set in New York City, 1990s American adult animated television series, 2000s American adult animated television series, 2010s American adult animated television series, 1990s American comic science fiction television series, 2000s American comic science fiction television series, 2010s Americ...  \n",
       "1                                                                                                                                                                                                                                                                                                                                                                                                                                                                                                                                                                                                                                                                                                                                                                         [Wikipedia categories named after wars, 20th-century conflicts, 1930s conflicts, 1940s conflicts, Conflicts in 1939, Conflicts in 1940, Conflicts in 1941, Conflicts in 1942, Conflicts in 1943, Conflicts in 1944, Conflicts in 1945, Global conflicts, World Wars| ]  \n",
       "2                                                                                                                                                                                                                                                                                                                                                                                                                                                                                                                                                                                                                                                                                                                                                                                                                                                                                                                                           [Computer languages, Computer programming, Programming language topics, Programming language theory]  \n",
       "3                                                                                                                                                                                                                                                                                                                                                                                                                                                                                                                                                                                                                                                                                                                                                                                                                                                                                                                                                                                         [Mock combat, Sports entertainment, Theatrical combat]  \n",
       "4                                                                                                                                                                                                                                                                                                                                                                                                                                                                                                                                                                                                                                                                                                                                                                                                                                                                                                                                                                                                                        [Fields of mathematics]  \n",
       "...                                                                                                                                                                                                                                                                                                                                                                                                                                                                                                                                                                                                                                                                                                                                                                                                                                                                                                                                                                                                                                          ...  \n",
       "1951052                                                                                                                                                                                                                                                                                                                                                                                                                                                                                                                                                                                                                                                                                                                                                                                                                                                                                                                                                  [Australian expatriates|Estonia, Expatriates in Estonia, Australia–Estonia relations|-]  \n",
       "1951053                                                                                                                                                                                                                                                                                                                                                                                                                                                                                                                                                                                                                                                                                                                                                                                                                                                                                                                                                                           [Bhola District, Buildings and structures in Barisal Division]  \n",
       "1951054                                                                                                                                                                                                                                                                                                                                                                                                                                                                                                                                                                                                                                                                                                                                                                                                                                                                                                                                                                                    [Bhola District, Education in Bangladesh by district]  \n",
       "1951055                                                                                                                                                                                                                                                                                                                                                                                                                                                                                                                                                                                                                                                                                                                                                                                                                                                                                                                                                                                                                                       []  \n",
       "1951056                                                                                                                                                                                                                                                                                                                                                                                                                                                                                                                                                                                                                                                                                                                                                                                                                                                             [Mass media in Wellington, New Zealand news websites, Real estate in New Zealand, Companies based in Wellington, Newspaper companies of New Zealand, Nine Entertainment Co.]  \n",
       "\n",
       "[1951057 rows x 3 columns]"
      ]
     },
     "execution_count": 17,
     "metadata": {},
     "output_type": "execute_result"
    }
   ],
   "source": [
    "cat_origData"
   ]
  },
  {
   "cell_type": "code",
   "execution_count": 18,
   "metadata": {},
   "outputs": [
    {
     "name": "stdout",
     "output_type": "stream",
     "text": [
      "Wall time: 3 s\n"
     ]
    }
   ],
   "source": [
    "%%time\n",
    "exploded = cat_origData.explode(\"parentCategories\")"
   ]
  },
  {
   "cell_type": "code",
   "execution_count": 19,
   "metadata": {},
   "outputs": [
    {
     "data": {
      "text/html": [
       "<div>\n",
       "<style scoped>\n",
       "    .dataframe tbody tr th:only-of-type {\n",
       "        vertical-align: middle;\n",
       "    }\n",
       "\n",
       "    .dataframe tbody tr th {\n",
       "        vertical-align: top;\n",
       "    }\n",
       "\n",
       "    .dataframe thead th {\n",
       "        text-align: right;\n",
       "    }\n",
       "</style>\n",
       "<table border=\"1\" class=\"dataframe\">\n",
       "  <thead>\n",
       "    <tr style=\"text-align: right;\">\n",
       "      <th></th>\n",
       "      <th>id</th>\n",
       "      <th>title</th>\n",
       "      <th>parentCategories</th>\n",
       "    </tr>\n",
       "  </thead>\n",
       "  <tbody>\n",
       "    <tr>\n",
       "      <th>0</th>\n",
       "      <td>690070</td>\n",
       "      <td>Futurama</td>\n",
       "      <td>Television series by 20th Century Fox Television</td>\n",
       "    </tr>\n",
       "    <tr>\n",
       "      <th>0</th>\n",
       "      <td>690070</td>\n",
       "      <td>Futurama</td>\n",
       "      <td>Television series created by Matt Groening</td>\n",
       "    </tr>\n",
       "    <tr>\n",
       "      <th>0</th>\n",
       "      <td>690070</td>\n",
       "      <td>Futurama</td>\n",
       "      <td>Wikipedia categories named after American animated television series</td>\n",
       "    </tr>\n",
       "    <tr>\n",
       "      <th>0</th>\n",
       "      <td>690070</td>\n",
       "      <td>Futurama</td>\n",
       "      <td>Wikipedia categories named after mass media franchises</td>\n",
       "    </tr>\n",
       "    <tr>\n",
       "      <th>0</th>\n",
       "      <td>690070</td>\n",
       "      <td>Futurama</td>\n",
       "      <td>20th Century Fox Television franchises</td>\n",
       "    </tr>\n",
       "    <tr>\n",
       "      <th>...</th>\n",
       "      <td>...</td>\n",
       "      <td>...</td>\n",
       "      <td>...</td>\n",
       "    </tr>\n",
       "    <tr>\n",
       "      <th>1951056</th>\n",
       "      <td>64149156</td>\n",
       "      <td>Stuff</td>\n",
       "      <td>New Zealand news websites</td>\n",
       "    </tr>\n",
       "    <tr>\n",
       "      <th>1951056</th>\n",
       "      <td>64149156</td>\n",
       "      <td>Stuff</td>\n",
       "      <td>Real estate in New Zealand</td>\n",
       "    </tr>\n",
       "    <tr>\n",
       "      <th>1951056</th>\n",
       "      <td>64149156</td>\n",
       "      <td>Stuff</td>\n",
       "      <td>Companies based in Wellington</td>\n",
       "    </tr>\n",
       "    <tr>\n",
       "      <th>1951056</th>\n",
       "      <td>64149156</td>\n",
       "      <td>Stuff</td>\n",
       "      <td>Newspaper companies of New Zealand</td>\n",
       "    </tr>\n",
       "    <tr>\n",
       "      <th>1951056</th>\n",
       "      <td>64149156</td>\n",
       "      <td>Stuff</td>\n",
       "      <td>Nine Entertainment Co.</td>\n",
       "    </tr>\n",
       "  </tbody>\n",
       "</table>\n",
       "<p>4380350 rows × 3 columns</p>\n",
       "</div>"
      ],
      "text/plain": [
       "               id     title  \\\n",
       "0          690070  Futurama   \n",
       "0          690070  Futurama   \n",
       "0          690070  Futurama   \n",
       "0          690070  Futurama   \n",
       "0          690070  Futurama   \n",
       "...           ...       ...   \n",
       "1951056  64149156     Stuff   \n",
       "1951056  64149156     Stuff   \n",
       "1951056  64149156     Stuff   \n",
       "1951056  64149156     Stuff   \n",
       "1951056  64149156     Stuff   \n",
       "\n",
       "                                                             parentCategories  \n",
       "0                            Television series by 20th Century Fox Television  \n",
       "0                                  Television series created by Matt Groening  \n",
       "0        Wikipedia categories named after American animated television series  \n",
       "0                      Wikipedia categories named after mass media franchises  \n",
       "0                                      20th Century Fox Television franchises  \n",
       "...                                                                       ...  \n",
       "1951056                                             New Zealand news websites  \n",
       "1951056                                            Real estate in New Zealand  \n",
       "1951056                                         Companies based in Wellington  \n",
       "1951056                                    Newspaper companies of New Zealand  \n",
       "1951056                                                Nine Entertainment Co.  \n",
       "\n",
       "[4380350 rows x 3 columns]"
      ]
     },
     "execution_count": 19,
     "metadata": {},
     "output_type": "execute_result"
    }
   ],
   "source": [
    "exploded"
   ]
  },
  {
   "cell_type": "code",
   "execution_count": null,
   "metadata": {},
   "outputs": [],
   "source": [
    "%%time\n",
    "exploded['parentCategories'] = exploded['parentCategories'].apply(lambda x: str(x))"
   ]
  },
  {
   "cell_type": "code",
   "execution_count": null,
   "metadata": {},
   "outputs": [],
   "source": [
    "%%time\n",
    "# Remove category specification used in wikipedia child categories (pipe char and following text)\n",
    "exploded['parentCategories'] = exploded['parentCategories'].apply(lambda x: re.sub(\"(\\|)(.+)\", '', x))\n",
    "exploded['parentCategories'] = exploded['parentCategories'].apply(lambda x: re.sub(\"(\\|)\", '', x))"
   ]
  },
  {
   "cell_type": "code",
   "execution_count": null,
   "metadata": {},
   "outputs": [],
   "source": []
  },
  {
   "cell_type": "code",
   "execution_count": null,
   "metadata": {},
   "outputs": [],
   "source": []
  },
  {
   "cell_type": "code",
   "execution_count": null,
   "metadata": {},
   "outputs": [],
   "source": []
  },
  {
   "cell_type": "code",
   "execution_count": null,
   "metadata": {},
   "outputs": [],
   "source": [
    "art_origData = pd.read_csv(FILE_PATH_ART)"
   ]
  },
  {
   "cell_type": "code",
   "execution_count": null,
   "metadata": {},
   "outputs": [],
   "source": [
    "art_origData.drop(columns=['id'], inplace = True)"
   ]
  },
  {
   "cell_type": "code",
   "execution_count": null,
   "metadata": {},
   "outputs": [],
   "source": [
    "%%time\n",
    "art_origData['parentCategories'] = art_origData['parentCategories'].apply(lambda x: literal_eval(x))"
   ]
  },
  {
   "cell_type": "code",
   "execution_count": null,
   "metadata": {},
   "outputs": [],
   "source": [
    "%%time\n",
    "art_origData['title'] = art_origData['title'].apply(lambda x: str(x))"
   ]
  },
  {
   "cell_type": "code",
   "execution_count": null,
   "metadata": {},
   "outputs": [],
   "source": [
    "art_origData"
   ]
  },
  {
   "cell_type": "code",
   "execution_count": null,
   "metadata": {},
   "outputs": [],
   "source": [
    "%%time\n",
    "exploded_art = art_origData.explode(\"parentCategories\")"
   ]
  },
  {
   "cell_type": "code",
   "execution_count": null,
   "metadata": {},
   "outputs": [],
   "source": [
    "%%time\n",
    "exploded_art['parentCategories'] = exploded_art['parentCategories'].apply(lambda x: str(x))"
   ]
  },
  {
   "cell_type": "code",
   "execution_count": null,
   "metadata": {},
   "outputs": [],
   "source": [
    "%%time\n",
    "# Remove category specification used in wikipedia child categories (pipe char and following text)\n",
    "exploded_art['parentCategories'] = exploded_art['parentCategories'].apply(lambda x: re.sub(\"(\\|)(.+)\", '', x))\n",
    "exploded_art['parentCategories'] = exploded_art['parentCategories'].apply(lambda x: re.sub(\"(\\|)\", '', x))"
   ]
  },
  {
   "cell_type": "code",
   "execution_count": null,
   "metadata": {},
   "outputs": [],
   "source": [
    "exploded_art.head(500)"
   ]
  }
 ],
 "metadata": {
  "kernelspec": {
   "display_name": "Python 3",
   "language": "python",
   "name": "python3"
  },
  "language_info": {
   "codemirror_mode": {
    "name": "ipython",
    "version": 3
   },
   "file_extension": ".py",
   "mimetype": "text/x-python",
   "name": "python",
   "nbconvert_exporter": "python",
   "pygments_lexer": "ipython3",
   "version": "3.8.2"
  }
 },
 "nbformat": 4,
 "nbformat_minor": 4
}
