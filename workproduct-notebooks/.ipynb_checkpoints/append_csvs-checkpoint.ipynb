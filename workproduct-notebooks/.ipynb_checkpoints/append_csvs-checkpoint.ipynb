{
 "cells": [
  {
   "cell_type": "code",
   "execution_count": null,
   "metadata": {},
   "outputs": [],
   "source": [
    "import csv"
   ]
  },
  {
   "cell_type": "code",
   "execution_count": null,
   "metadata": {},
   "outputs": [],
   "source": [
    "%%time\n",
    "with open('../workproduct-files/art_adjList.csv', 'r', encoding=\"utf8\") as f1:\n",
    "    original = f1.read()\n",
    "\n",
    "with open('../workproduct-files/combined_adjList.csv', 'a', encoding=\"utf8\") as f2:\n",
    "    f2.write('\\n')\n",
    "    f2.write(original)"
   ]
  }
 ],
 "metadata": {
  "kernelspec": {
   "display_name": "Python 3",
   "language": "python",
   "name": "python3"
  },
  "language_info": {
   "codemirror_mode": {
    "name": "ipython",
    "version": 3
   },
   "file_extension": ".py",
   "mimetype": "text/x-python",
   "name": "python",
   "nbconvert_exporter": "python",
   "pygments_lexer": "ipython3",
   "version": "3.8.2"
  }
 },
 "nbformat": 4,
 "nbformat_minor": 4
}
