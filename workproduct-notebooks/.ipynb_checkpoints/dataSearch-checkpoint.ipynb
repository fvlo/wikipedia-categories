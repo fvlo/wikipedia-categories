{
 "cells": [
  {
   "cell_type": "code",
   "execution_count": null,
   "metadata": {},
   "outputs": [],
   "source": [
    "# http://annamarbut.blogspot.com/2018/08/whoosh-pandas-and-redshift-implementing.html"
   ]
  },
  {
   "cell_type": "code",
   "execution_count": 1,
   "metadata": {},
   "outputs": [],
   "source": [
    "import pandas as pd\n",
    "import glob\n",
    "import os, os.path\n",
    "\n",
    "from whoosh.fields import Schema, TEXT\n",
    "from whoosh import index\n",
    "from whoosh import index\n",
    "from whoosh import qparser"
   ]
  },
  {
   "cell_type": "code",
   "execution_count": 2,
   "metadata": {},
   "outputs": [],
   "source": [
    "pd.set_option('display.max_rows', 500)\n",
    "pd.set_option('display.max_columns', 500)\n",
    "pd.set_option('display.max_colwidth', 1000)"
   ]
  },
  {
   "cell_type": "markdown",
   "metadata": {},
   "source": [
    "### Data import"
   ]
  },
  {
   "cell_type": "code",
   "execution_count": 3,
   "metadata": {},
   "outputs": [
    {
     "name": "stdout",
     "output_type": "stream",
     "text": [
      "Wall time: 2min 41s\n"
     ]
    }
   ],
   "source": [
    "%%time\n",
    "Run = \"../workproduct-files/batchRuns/\"\n",
    "Run_files = glob.glob(Run + \"*.pkl\")\n",
    "RunDF = pd.DataFrame()\n",
    "for filename in Run_files:\n",
    "    RunDF = RunDF.append(pd.read_pickle(filename))\n",
    "RunDF = RunDF.sort_index()"
   ]
  },
  {
   "cell_type": "code",
   "execution_count": 4,
   "metadata": {},
   "outputs": [
    {
     "name": "stdout",
     "output_type": "stream",
     "text": [
      "Wall time: 716 ms\n"
     ]
    }
   ],
   "source": [
    "%%time\n",
    "t_data = pd.read_pickle(\"../workproduct-files/t_dataMaster-keywordsIdentified.pkl\")"
   ]
  },
  {
   "cell_type": "code",
   "execution_count": 5,
   "metadata": {},
   "outputs": [],
   "source": [
    "#Combine dataframes leaving out searchTerms from RunDF (duplicate in result)\n",
    "t_dataRun = pd.concat([t_data, RunDF.iloc[:,1:]], axis = 1, join = \"inner\")"
   ]
  },
  {
   "cell_type": "code",
   "execution_count": 84,
   "metadata": {},
   "outputs": [],
   "source": [
    "DF_for_index = t_dataRun"
   ]
  },
  {
   "cell_type": "code",
   "execution_count": 85,
   "metadata": {},
   "outputs": [
    {
     "name": "stdout",
     "output_type": "stream",
     "text": [
      "Wall time: 7.28 s\n"
     ]
    }
   ],
   "source": [
    "%%time\n",
    "DF_for_index[\"wikiMetaPath_str\"] = DF_for_index[\"categoryPath\"].apply(lambda x: str(list(x.iloc[:,0])) if type(x) != type(None) else \"\")\n",
    "DF_for_index[\"wikiMetaParents_str\"] = DF_for_index[\"parentCategories\"].apply(lambda x: str(list(x.iloc[:,0])) if type(x) != type(None) else \"\")"
   ]
  },
  {
   "cell_type": "markdown",
   "metadata": {},
   "source": [
    "### Creating search index"
   ]
  },
  {
   "cell_type": "code",
   "execution_count": 86,
   "metadata": {},
   "outputs": [],
   "source": [
    "schema = Schema(question = TEXT (stored = True,  field_boost = 2.0), wikiMetaPath = TEXT, wikiMetaParents = TEXT)"
   ]
  },
  {
   "cell_type": "code",
   "execution_count": 87,
   "metadata": {},
   "outputs": [],
   "source": [
    "# create and populate index\n",
    "def populate_index(dirname, dataframe, schema):\n",
    "    \n",
    "    # Checks for existing index path and creates one if not present\n",
    "    if not os.path.exists(dirname):\n",
    "        os.mkdir(dirname)\n",
    "    print(\"Creating the Index\")\n",
    "    ix = index.create_in(dirname, schema)\n",
    "    \n",
    "    # Imports data from pandas df\n",
    "    with ix.writer() as writer:\n",
    "        print(\"Populating the Index\")\n",
    "        for i in dataframe.index:\n",
    "            add_data(i, dataframe, writer)"
   ]
  },
  {
   "cell_type": "code",
   "execution_count": 88,
   "metadata": {},
   "outputs": [],
   "source": [
    "def add_data(i, dataframe, writer):\n",
    "    \n",
    "    # writer.update_document(question = str(dataframe.loc[i, \"CONS_question\"]), wikiMetaPath = str(list(t_dataRun.loc[i, \"categoryPath\"].iloc[:,0])), wikiMetaParents = str(list(t_dataRun.loc[i, \"parentCategories\"].iloc[:,0])))\n",
    "    writer.update_document(question = str(dataframe.loc[i, \"CONS_question\"]), wikiMetaPath = str(dataframe.loc[i, \"wikiMetaPath_str\"]), wikiMetaParents = str(dataframe.loc[i, \"wikiMetaParents_str\"]))"
   ]
  },
  {
   "cell_type": "code",
   "execution_count": 89,
   "metadata": {},
   "outputs": [
    {
     "name": "stdout",
     "output_type": "stream",
     "text": [
      "Creating the Index\n",
      "Populating the Index\n",
      "Wall time: 44.2 s\n"
     ]
    }
   ],
   "source": [
    "%%time\n",
    "# Create the index\n",
    "populate_index(\"tData_Index1\", DF_for_index, schema)"
   ]
  },
  {
   "cell_type": "markdown",
   "metadata": {},
   "source": [
    "### Creating index searcher"
   ]
  },
  {
   "cell_type": "code",
   "execution_count": 121,
   "metadata": {},
   "outputs": [],
   "source": [
    "def index_search(dirname, search_fields, search_query):\n",
    "    ix = index.open_dir(dirname)\n",
    "    schema = ix.schema\n",
    "    out = []\n",
    "    \n",
    "    # Create query parser that looks through designated fields in index\n",
    "    og = qparser.OrGroup.factory(0.9)\n",
    "    mp = qparser.MultifieldParser(search_fields, schema, group = og)\n",
    "    \n",
    "    # This is the user query\n",
    "    q = mp.parse(search_query)\n",
    "    \n",
    "    # Actual searcher, prints top 10 hits\n",
    "    with ix.searcher() as s:\n",
    "        results = s.search(q, limit = 100)\n",
    "        #print(\"Search Results: \")\n",
    "        for row in results:\n",
    "            #print(row)\n",
    "            out.append(row[\"question\"])\n",
    "    return out"
   ]
  },
  {
   "cell_type": "markdown",
   "metadata": {},
   "source": [
    "### Index search"
   ]
  },
  {
   "cell_type": "code",
   "execution_count": 130,
   "metadata": {},
   "outputs": [
    {
     "name": "stdout",
     "output_type": "stream",
     "text": [
      "Wall time: 45.9 ms\n"
     ]
    }
   ],
   "source": [
    "%%time\n",
    "a = index_search(\"tData_Index1\", ['question', 'wikiMetaPath', 'wikiMetaParents'], \"key*\")"
   ]
  },
  {
   "cell_type": "code",
   "execution_count": 131,
   "metadata": {},
   "outputs": [
    {
     "name": "stdout",
     "output_type": "stream",
     "text": [
      "74\n",
      "How many keys are on a standard concert piano?\n",
      "How many keys are there on a grand piano?\n",
      "What key is to the right of T on a keyboard?\n",
      "On a standard keyboard which is the largest key?\n",
      "The longest key on your keyboard is the _____ bar\n",
      "On A Standard Computer Keyboard Which Key Is The Largest?\n",
      "What is the largest key on a standard computer keyboard?\n",
      "What is the reason behind the layout of the Qwerty keyboard?\n",
      "What would you do with a celesta?\n",
      "Which organist who died in 1985 was traditionaly associated with Blackpool Tower?\n",
      "In Whose Band Is Madonna Wayne Gacy The Keyboardist?\n",
      "What nationality is the keyboards wizard Vangelis?\n",
      "What Is The Name Given To A Piano That Plays Mechanically?\n",
      "This instrument has black and white keys?\n",
      "Who was the 'keymaster' in Ghostbusters?'?\n",
      "Ancel Keys developed which US soldiers item?\n",
      "Which of the Beatles group played piano on Don't Pass Me By?\n",
      "In Which Keyboard Instrument Are The Strings Plucked Not Struck?\n",
      "In what key is the dialtone of a telephone?\n",
      "In whose band is Madonna Wayne Gacy the keyboard player?\n",
      "The key of A major has ___ sharps.\n",
      "Give Me Love Was The Plea From Which \"Rock Band\"?\n",
      "The symbol on the 'pound' key (#) is called a(n) _________'\n",
      "With Which Mod Revival Band Did The Style Councils Mick Talbot Play Keyboards?\n",
      "How many flats are in the key of B flat major?\n",
      "Where Does Key Lime Pie Come From?\n",
      "Who was Bette Midlers piano player before going solo?\n",
      "What shape is the head of an Allen key?\n",
      "Often Found On A Computer Keyboard What Symbol Is Known As 'The Octothorpe''?\n",
      "Daniel Keys wrote which 1959 Hugo award winning SF novel?\n",
      "Ballad Of Bonnie & Clyde\" Was A No.1 For Which Keyboard Playing Singer\"?\n",
      "Which Keyboard Player Had An \"Arkestra\" & Claimed To Have Come From Another Planet?\n",
      "In music if F major is the key what is the relative minor?\n",
      "The dial tone of a normal telephone is in what key?\n",
      "What key do most toilets flush in?\n",
      "What makes a noise middle octave key of F?\n",
      "In what key do american car horns beep?\n",
      "What egyptian object is also known as \"The Key to the Nile\"?\n",
      "What key is music written in if it has five flats?\n",
      "In Key West Florida what are barred from racing in city limits?\n",
      "In the film Jumping Jack Flash what is Jack's code key?\n",
      "Which rock group of the eighties gave away a silver keychain at every concert, which was supposed to bring good luck to whoever caught it?\n",
      "The marimba is a African form of what musical instrument?\n",
      "The marimba is a deeper toned form of which instrument?\n",
      "Which musical instrument was invented by Henry Schluter?\n",
      "Music: This Vienese piano manufacturer includes 3 extra bass keys. It is the favorite piano of such performers as Tori Amos.\n",
      "Which key word was removed from the Olympic charter in 1971?\n",
      "Who was the male lead in 'Key Largo''?\n",
      "Francis Scott Key Born On August 1st 1779 Is Credited With Writing Which Song?\n",
      "The Queen of Spades and Jack of Diamonds combine to form the key combination in which card game?\n",
      "What drink did Paul Daniels and Debbie McGee advertise singing off-key around a piano?\n",
      "What's a new yorker trying to bribe a way into when offering 'key money''?\n",
      "What is the bass Xylophone called?\n",
      "A spinet is a variation of which instrument?\n",
      "He Was Born Robert Walden Cassotto & Suffered From A Week Heart All His Life And Died Aged 37 Who Was He?\n",
      "Which Album Was Dedicated To The Late Ian Stewart, The Pianist Who Played On So Many Stones Dates?\n",
      "Which Pianist Had Hit Albums In The 1980's With Records Like \"The Music Of Love\", \"The Classic Touch\", & \"The Love Songs Of Andrew Lloyd Webber\"?\n",
      "Which Pianist Joined The Chicago Symphony Orchestra When He Was Just Nine Years Old?\n",
      "Which pianist/composer/conductor was born in Berlin in 1929, took American citizenship in 1943 and became a well-known face on British TV in the 70's?\n",
      "Name the Australian film about the pianist Halstadt\n",
      "Philippe Pages is the real name of what pianist?\n",
      "Piano Man' was which man's first successful album in 1974?\n",
      "The Spinet is another name for what old musical instrument?\n",
      "What do bullet proof vests, fire escapes, windshield wipers & laser printers all have in common?\n",
      "What does an accordion have that a concertina doesn't?\n",
      "Which instrument developed from African and Latin-American origins features in a modern orchestra as a bass xylophone?\n",
      "She Blinded Thomas Dolby Wioth What?\n",
      "What common phrase originated when 'bedsprings' were ropes woven through wooden bed frames and needed to be kept from sagging by using a key to stretch them?\n",
      "Which 9-fingered pop pianist starred in the film its all happening?\n",
      "Which composer and pianist became Prime Minister of Poland in 1919?\n",
      "What is the real name of Thomas Dolby?\n",
      "Which world-famous concert pianist became President of Poland in 1940?\n",
      "Where would you find vox humana and vox angelica together?\n",
      "Who Sang Here Comes The Night Featuring Van Morrison In 1965?\n"
     ]
    }
   ],
   "source": [
    "print(len(a))\n",
    "for row in a:\n",
    "    print(row)"
   ]
  },
  {
   "cell_type": "code",
   "execution_count": 220,
   "metadata": {},
   "outputs": [
    {
     "name": "stdout",
     "output_type": "stream",
     "text": [
      "Wall time: 712 ms\n"
     ]
    }
   ],
   "source": [
    "%%time\n",
    "b = index_search(\"tData_Index1\", ['wikiMetaPath', 'wikiMetaParents'], \"*architecture*\")"
   ]
  },
  {
   "cell_type": "code",
   "execution_count": 221,
   "metadata": {},
   "outputs": [
    {
     "name": "stdout",
     "output_type": "stream",
     "text": [
      "100\n",
      "Which Famous London Landmark Was Designed by Sir Norman Foster?\n",
      "In a church, the area where the transept and the nave intersect, usually emphasized by a dome or a tower.\n",
      "Where is the Taj Mahal?\n",
      "Who built the Taj Mahal?\n",
      "What in muslim countries is a' taj?\n",
      "Which Lyricist Worked With Richard Rogers On Such Songs As Blue Moon , Where Or When, & My Funny Valentine?\n",
      "What is the Taj Majal made of?\n",
      "Who Released The 70's Album Entitled My Aim is True?\n",
      "Where would you find a parlour, scriptorium, dorter and cellarium?\n",
      "Where would you find a bema narthex and apse?\n",
      "Jorn Utzon of Denmark designed what landmark?\n",
      "Which Famous Building Was Designed By Jorn Utzon?\n",
      "Which religion's holiest shrine is the Golden Temple at Amritsar?\n",
      "In nautical terms, what name is given to the upper edge of a ship's side?\n",
      "What does a mosque's mihrab indicate the direction to?\n",
      "Which Famous Venetian Merchant Travelled To China And Worked For Kublai Khan?\n",
      "Taidje Khan became famous under which name?\n",
      "Which American Architect/Engineer Invented Geodesic Dome Construction?\n",
      "A curved triangle at the corners of a square or polygonal room, used at the opening of a dome.\n",
      "Where would you find a Mihrab?\n",
      "A small structure on top of a dome, tower or roof often open to admit light below.\n",
      "What does VAX stand for?\n",
      "The planner of the city of __________________ was French architect Pierre L'Enfant. In 1791, it was known as Federal City.\n",
      "The Vitra Design Museum in Weil am Rhein, Germany, was the first major work of which architect?\n",
      "Which architect designed the Guggenheim Museum in New York?\n",
      "Which architect was responsible for many of Barcelona's famous buildings?\n",
      "Who first appeared in the Star Trek episode Space Seed?\n",
      "Frank Lloyd Wright son John invented these after watching workers move timber.\n",
      "Name the evil slave owner and villain in Harriet Becher Stowe's novel 'Uncle Tom's Cabin'.\n",
      "In Which Musical Was There A Dance Routine Set At A Barn Raising?\n",
      "In which city is the Alhambra Palace?\n",
      "A tall, tapering, pointed roof on a tower, as in the top of a steeple.\n",
      "Which European capital City is nicknamed (the city of a hundred spires) and has tourist attractions including St Vitus Cathedral and Charles Bridge?\n",
      "In which city is the highest steeple?\n",
      "What is a cathedra?\n",
      "Who described TV as 'Chewing gum for the masses''?\n",
      "Which cathedral city, sixty miles from Paris, has two spires?\n",
      "Palas is the correct name for what playing card?\n",
      "What is a 'palas'?\n",
      "A continuous aisle in a building, especially around the apse in a church.\n",
      "A square of rectangular area in a church between the apse and the crossing.\n",
      "In a church who would use the chancel?\n",
      "In ancient Roman architecture, a large oblong building, generally with double columns and a semicircular apse at one end. In Christian architecture, a church with a nave, apse, and aisles.\n",
      "Where is a nave, apse, atrium and narthex?\n",
      "Where would you find a nave, apse, atrium and narthex?\n",
      "In West Virginia Nicholas County its illegal to do what in pulpit?\n",
      "On The 19 th November 1994, Paul Merlon Became The First Person Ever To Do What?\n",
      "In German Romanesque, a monumental entrance to a church consisting of towers, with a chapel above.\n",
      "What keeps growing until you are 35 then starts to shrink?\n",
      "What nationality was the architect Le Corbusier?\n",
      "A stupa is a shrine to the memory of whom?\n",
      "The three buildings of the Acropolis are the Propylaea, the Erectheum, and the _________.\n",
      "What hill lies to the north-west of the Acropolis in Athens?\n",
      "A series of arches supported by columns or piers, or a passageway formed by these arches.\n",
      "What is a hypocaust?\n",
      "What is an igloo built out of?\n",
      "In what field of study are 'flying buttresses'?\n",
      "The temple at Ephesus was sacred to who?\n",
      "Which Punjabi city is famous for its Golden Temple?\n",
      "In which city is the colliseum located?\n",
      "Corinthian Ionic and what are the orders of Greek architecture?\n",
      "European architecture and music,ornate and extravagant\n",
      "Epidermal cells, palisade cells, and veins are parts of a(n) ________.\n",
      "Of what are epidermal cells, palisade cells and veins a part?\n",
      "The Monument in the City Of London is a monument to which event?\n",
      "Enterprise Alabama they erected a monument to which insect?\n",
      "How many feet tall is London's monument to the Great Fire known simply as 'The Monument'?\n",
      "Tomblike monument to persons whose remains are elsewhere?\n",
      "What does 'The Monument' in London commemorate?\n",
      "What French actors catch phrase Come with me to the Casbah?\n",
      "Which new-wave band rocked the Casbah?\n",
      "Which man has the most monuments erected in his honour?\n",
      "In what field of study would you find \"flying buttresses\"?\n",
      "The ledge between a parapet & a moat is a(n)..\n",
      "What Was Designed In The 1930's By The Englsi Architect 'Giles Gilbert Scott' And Dubbed The K6'?\n",
      "When did Brazil move its capital from Rio de Janeiro to Brasilia?\n",
      "Which country invented Venetian Blinds?\n",
      "What is a Caryatid?\n",
      "When Aretha Franklin Got Married In 1978, Which Stevie Wonder Song Did The 4 Tops Sing As She Walked Down The Aisle?\n",
      "According to popular belief brides walk to the what in the church? (not the aisle)?\n",
      "Where is the biggest mosque in the world?\n",
      "Famous book divided into three parts Mosques Caves Temples\n",
      "In which city would you find The Blue Mosque?\n",
      "The gigantic Badshashi mosque is in which city in Pakistan?\n",
      "What lollies are well known for rolling down the aisles at the movies?\n",
      "When does a Bride walk up the Aisle?\n",
      "What religion has mosques as its places of worship?\n",
      "Which European city has a cathedral located inside an old mosque?\n",
      "Which Brothers Represented England In The 1995 Rugby Union World Cup And Also Appeared With Their Mother In An Advert For Pizza Hut, All We Need Is Their Surname?\n",
      "Which brothers built a home-made supercomputer to calculate the digits of Pi?\n",
      "Where would you be most likely to see a 'gazebo'?\n",
      "French farmers get help from this barnyard animal to dig out truffles.\n",
      "The word bungalow comes from which language?\n",
      "What Event Took Place On 'Gown Avenue' In London On The 26th April 1999'?\n",
      "What industry is symbolized by the term 'madison avenue''?\n",
      "Who started a giant fast food chain in 1928 in a hut near Bradford, Yorkshire?\n",
      "What is located at 350 fifth avenue in New York City?\n",
      "What New York City avenue divides the east side from the west side?\n",
      "Which country first used the fountain pen?\n",
      "Russian country cottage\n"
     ]
    }
   ],
   "source": [
    "print(len(b))\n",
    "for row in b:\n",
    "    print(row)"
   ]
  },
  {
   "cell_type": "code",
   "execution_count": null,
   "metadata": {},
   "outputs": [],
   "source": []
  },
  {
   "cell_type": "code",
   "execution_count": null,
   "metadata": {},
   "outputs": [],
   "source": []
  },
  {
   "cell_type": "code",
   "execution_count": null,
   "metadata": {},
   "outputs": [],
   "source": []
  },
  {
   "cell_type": "markdown",
   "metadata": {},
   "source": [
    "### Testing"
   ]
  },
  {
   "cell_type": "code",
   "execution_count": null,
   "metadata": {},
   "outputs": [],
   "source": []
  },
  {
   "cell_type": "code",
   "execution_count": 53,
   "metadata": {},
   "outputs": [
    {
     "data": {
      "text/plain": [
       "NoneType"
      ]
     },
     "execution_count": 53,
     "metadata": {},
     "output_type": "execute_result"
    }
   ],
   "source": [
    "type(None)"
   ]
  },
  {
   "cell_type": "code",
   "execution_count": null,
   "metadata": {},
   "outputs": [],
   "source": []
  },
  {
   "cell_type": "code",
   "execution_count": 75,
   "metadata": {},
   "outputs": [
    {
     "data": {
      "text/plain": [
       "(3000, 32)"
      ]
     },
     "execution_count": 75,
     "metadata": {},
     "output_type": "execute_result"
    }
   ],
   "source": [
    "DF_for_index.shape"
   ]
  },
  {
   "cell_type": "code",
   "execution_count": 6,
   "metadata": {},
   "outputs": [
    {
     "data": {
      "text/plain": [
       "Index(['CONS_id', 'CONS_question', 'CONS_answer', 'CONS_alt answers',\n",
       "       'CONS_category', 'CONS_alt categories - NOT USED',\n",
       "       'CONS_type-formulation', 'CONS_type-multipleChoice', 'ORIG_id',\n",
       "       'ORIG_question', 'ORIG_answer', 'ORIG_alt answers', 'ORIG_category',\n",
       "       'ORIG_alt categories', 'ORIG_difficulty', 'ORIG_type', 'Source',\n",
       "       'Duplicate_removed', 'namedEntities', 'nouns', 'objects', 'subjects',\n",
       "       'nounsObjectsSubjects', 'searchTerms', 'wikipediaSearchSuccessful',\n",
       "       'findQuestionCategories_meta', 'wikipediaArticleTitle',\n",
       "       'wikipediaArticleID', 'categoryPath', 'parentCategories'],\n",
       "      dtype='object')"
      ]
     },
     "execution_count": 6,
     "metadata": {},
     "output_type": "execute_result"
    }
   ],
   "source": [
    "t_dataRun.columns"
   ]
  },
  {
   "cell_type": "code",
   "execution_count": 14,
   "metadata": {},
   "outputs": [
    {
     "data": {
      "text/plain": [
       "0                   Dutch-language_books\n",
       "1     Personal_accounts_of_the_Holocaust\n",
       "2        CS1_Dutch-language_sources_(nl)\n",
       "3                  Forgery_controversies\n",
       "4     CS1_Japanese-language_sources_(ja)\n",
       "5                   World_War_II_memoirs\n",
       "6                    Public_domain_books\n",
       "7           Memory_of_the_World_Register\n",
       "8           Books_published_posthumously\n",
       "9                             Anne_Frank\n",
       "10                     Jewish_literature\n",
       "11          Books_relating_to_Anne_Frank\n",
       "12                      Dutch_literature\n",
       "13              Books_adapted_into_films\n",
       "14                               Diaries\n",
       "15           Doubleday_(publisher)_books\n",
       "Name: pages.title, dtype: object"
      ]
     },
     "execution_count": 14,
     "metadata": {},
     "output_type": "execute_result"
    }
   ],
   "source": [
    "t_dataRun.loc[2, \"parentCategories\"].iloc[:,0]"
   ]
  },
  {
   "cell_type": "code",
   "execution_count": 48,
   "metadata": {},
   "outputs": [
    {
     "data": {
      "text/plain": [
       "\"['Peace', 'Nonviolence', 'Violence', 'Society', 'Main_topic_classifications']\""
      ]
     },
     "execution_count": 48,
     "metadata": {},
     "output_type": "execute_result"
    }
   ],
   "source": [
    "str(list(t_dataRun.loc[4, \"categoryPath\"].iloc[:,0]))"
   ]
  }
 ],
 "metadata": {
  "kernelspec": {
   "display_name": "Python 3",
   "language": "python",
   "name": "python3"
  },
  "language_info": {
   "codemirror_mode": {
    "name": "ipython",
    "version": 3
   },
   "file_extension": ".py",
   "mimetype": "text/x-python",
   "name": "python",
   "nbconvert_exporter": "python",
   "pygments_lexer": "ipython3",
   "version": "3.8.2"
  }
 },
 "nbformat": 4,
 "nbformat_minor": 4
}
