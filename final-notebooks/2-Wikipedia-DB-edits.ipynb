{
 "cells": [
  {
   "attachments": {},
   "cell_type": "markdown",
   "metadata": {},
   "source": [
    "# Neo4j database setup"
   ]
  },
  {
   "attachments": {},
   "cell_type": "markdown",
   "metadata": {},
   "source": [
    "The wikipedia metadata previously extracted to the categories csv-file is added to a neo4j graph database. The graph that has 8 million nodes and 30 million edges is too large to analyze in RAM. \n",
    "\n",
    "In this file the graph database is cleaned for analyses."
   ]
  },
  {
   "cell_type": "code",
   "execution_count": null,
   "metadata": {},
   "outputs": [],
   "source": [
    "# NOTE\n",
    "# cypher.forbid_exhaustive_shortestpath=true set in neo4j conf file\n",
    "# https://neo4j.com/docs/operations-manual/current/configuration/neo4j-conf/"
   ]
  },
  {
   "cell_type": "code",
   "execution_count": null,
   "metadata": {},
   "outputs": [],
   "source": [
    "from py2neo import *"
   ]
  },
  {
   "cell_type": "code",
   "execution_count": null,
   "metadata": {},
   "outputs": [],
   "source": [
    "graph = Graph()"
   ]
  },
  {
   "cell_type": "markdown",
   "metadata": {},
   "source": [
    "#### Database edits (run commands commented out to prevent accidental runs)"
   ]
  },
  {
   "cell_type": "markdown",
   "metadata": {},
   "source": [
    "##### Marking categories to drop with label \":Exclude\""
   ]
  },
  {
   "cell_type": "code",
   "execution_count": null,
   "metadata": {},
   "outputs": [],
   "source": [
    "%%time\n",
    "# Add label \"Exclude\" to all pages to exclude (Wall time: 1min 31s)\n",
    "\n",
    "commandToRun = \"MATCH (pages:Category:Page) \\\n",
    "                WHERE \\\n",
    "                pages.title STARTS WITH 'Wikipedia_' \\\n",
    "                OR pages.title STARTS WITH '1' \\\n",
    "                OR pages.title STARTS WITH '2' \\\n",
    "                OR pages.title STARTS WITH '3' \\\n",
    "                OR pages.title STARTS WITH '4' \\\n",
    "                OR pages.title STARTS WITH '5' \\\n",
    "                OR pages.title STARTS WITH '6' \\\n",
    "                OR pages.title STARTS WITH '7' \\\n",
    "                OR pages.title STARTS WITH '8' \\\n",
    "                OR pages.title STARTS WITH '9' \\\n",
    "                OR pages.title STARTS WITH '0' \\\n",
    "                OR pages.title STARTS WITH 'List_of' \\\n",
    "                OR pages.title STARTS WITH 'All_articles' \\\n",
    "                OR pages.title STARTS WITH 'Articles_' \\\n",
    "                OR pages.title CONTAINS 'by_year' \\\n",
    "                OR pages.title CONTAINS 'of_the_year' \\\n",
    "                OR pages.title CONTAINS '_in_' \\\n",
    "                SET pages:Exclude\"\n",
    "\n",
    "#graph.run(commandToRun)"
   ]
  },
  {
   "cell_type": "code",
   "execution_count": null,
   "metadata": {},
   "outputs": [],
   "source": [
    "%%time\n",
    "# Add label \"Exclude\" to all pages to exclude (Wall time: 6.69 s)\n",
    "\n",
    "commandToRun = \"MATCH (pages:Category:Page) \\\n",
    "                WHERE \\\n",
    "                pages.title CONTAINS '_categories' \\\n",
    "                OR pages.title = 'Webarchive_template_wayback_links' \\\n",
    "                SET pages:Exclude\"\n",
    "\n",
    "#graph.run(commandToRun)"
   ]
  },
  {
   "cell_type": "code",
   "execution_count": null,
   "metadata": {},
   "outputs": [],
   "source": [
    "%%time\n",
    "# Add label \"Exclude\" to all pages to exclude (Wall time: 6.69 s)\n",
    "\n",
    "commandToRun = \"MATCH (pages:Category:Page) \\\n",
    "                WHERE \\\n",
    "                pages.title = 'People_by_status' \\\n",
    "                SET pages:Exclude\"\n",
    "\n",
    "#graph.run(commandToRun)"
   ]
  },
  {
   "cell_type": "code",
   "execution_count": null,
   "metadata": {},
   "outputs": [],
   "source": [
    "%%time\n",
    "# Add label \"Exclude\" to all pages to exclude (Wall time:  s)\n",
    "\n",
    "commandToRun = \"MATCH (pages:Category:Page) \\\n",
    "                WHERE \\\n",
    "                pages.title = 'Categories_by_language' \\\n",
    "                SET pages:Exclude\"\n",
    "\n",
    "#graph.run(commandToRun)"
   ]
  },
  {
   "cell_type": "code",
   "execution_count": null,
   "metadata": {},
   "outputs": [],
   "source": [
    "%%time\n",
    "# Add label \"Exclude\" to all pages to exclude (Wall time: 6.69 s)\n",
    "\n",
    "commandToRun = \"MATCH (pages:Category:Page) \\\n",
    "                WHERE \\\n",
    "                pages.title = 'Sources' \\\n",
    "                SET pages:Exclude\"\n",
    "\n",
    "#graph.run(commandToRun)"
   ]
  },
  {
   "cell_type": "markdown",
   "metadata": {},
   "source": [
    "##### Dropping categories with label \":Exclude\""
   ]
  },
  {
   "cell_type": "code",
   "execution_count": null,
   "metadata": {},
   "outputs": [],
   "source": [
    "%%time\n",
    "# DETACH and DELETE all nodes with label Exclude, iterate using APOC (Wall time: 39min 21s)\n",
    "# https://neo4j.com/developer/kb/large-delete-transaction-best-practices-in-neo4j/\n",
    "\n",
    "commandToRun = \"CALL apoc.periodic.iterate('MATCH (pages:Exclude) \\\n",
    "                RETURN pages', \\\n",
    "                'DETACH DELETE pages', \\\n",
    "                {batchSize:1000}) \\\n",
    "                YIELD batches, total \\\n",
    "                RETURN batches, total\"\n",
    "\n",
    "#graph.run(commandToRun)"
   ]
  },
  {
   "cell_type": "markdown",
   "metadata": {},
   "source": [
    "##### Changing relations to optimize category tree"
   ]
  },
  {
   "cell_type": "code",
   "execution_count": null,
   "metadata": {},
   "outputs": [],
   "source": [
    "%%time\n",
    "# Add [BELONGS_TO_CUT] relationship between MTC and People\n",
    "# MTC wikipedia-id: 7345184, People wikipedia-id: 691008\n",
    "commandToRun = 'MATCH (MTC:Page {id: 7345184}), (People:Page {id: 691008}) \\\n",
    "                CREATE (MTC) <-[:BELONGS_TO_CUT]- (People)'\n",
    "# graph.run(commandToRun).data()"
   ]
  },
  {
   "cell_type": "code",
   "execution_count": null,
   "metadata": {},
   "outputs": [],
   "source": [
    "%%time\n",
    "# Remove [BELONGS_TO] relationship between MTC and People\n",
    "# MTC wikipedia-id: 7345184, People wikipedia-id: 691008\n",
    "commandToRun = 'MATCH (MTC:Page {id: 7345184}) <-[r:BELONGS_TO]- (People:Page {id: 691008}) \\\n",
    "                DELETE r'\n",
    "# graph.run(commandToRun).data()"
   ]
  },
  {
   "cell_type": "code",
   "execution_count": null,
   "metadata": {},
   "outputs": [],
   "source": [
    "%%time\n",
    "# Add [BELONGS_TO_CUT] relationship between MTC and World\n",
    "# MTC wikipedia-id: 7345184, World wikipedia-id: 3260154\n",
    "commandToRun = 'MATCH (MTC:Page {id: 7345184}), (World:Page {id: 3260154}) \\\n",
    "                CREATE (MTC) <-[:BELONGS_TO_CUT]- (World)'\n",
    "#graph.run(commandToRun).data()"
   ]
  },
  {
   "cell_type": "code",
   "execution_count": null,
   "metadata": {},
   "outputs": [],
   "source": [
    "%%time\n",
    "# Remove [BELONGS_TO] relationship between MTC and World\n",
    "# MTC wikipedia-id: 7345184, World wikipedia-id: 3260154\n",
    "commandToRun = 'MATCH (MTC:Page {id: 7345184}) <-[r:BELONGS_TO]- (World:Page {id: 3260154}) \\\n",
    "                DELETE r'\n",
    "#graph.run(commandToRun).data()"
   ]
  },
  {
   "cell_type": "code",
   "execution_count": null,
   "metadata": {},
   "outputs": [],
   "source": [
    "%%time\n",
    "# Add [BELONGS_TO] relationship between MTC and Entertainment\n",
    "# MTC wikipedia-id: 7345184, Entertainment wikipedia-id: 693016\n",
    "commandToRun = 'MATCH (MTC:Page {id: 7345184}), (Entertainment:Page {id: 693016}) \\\n",
    "                CREATE (MTC) <-[:BELONGS_TO]- (Entertainment)'\n",
    "#graph.run(commandToRun).data()"
   ]
  },
  {
   "cell_type": "code",
   "execution_count": null,
   "metadata": {},
   "outputs": [],
   "source": [
    "%%time\n",
    "# Add [BELONGS_TO_ADDED] relationship between MTC and Entertainment\n",
    "# MTC wikipedia-id: 7345184, Entertainment wikipedia-id: 693016\n",
    "commandToRun = 'MATCH (MTC:Page {id: 7345184}), (Entertainment:Page {id: 693016}) \\\n",
    "                CREATE (MTC) <-[:BELONGS_TO_ADDED]- (Entertainment)'\n",
    "#graph.run(commandToRun).data()"
   ]
  }
 ],
 "metadata": {
  "kernelspec": {
   "display_name": "Python 3",
   "language": "python",
   "name": "python3"
  },
  "language_info": {
   "codemirror_mode": {
    "name": "ipython",
    "version": 3
   },
   "file_extension": ".py",
   "mimetype": "text/x-python",
   "name": "python",
   "nbconvert_exporter": "python",
   "pygments_lexer": "ipython3",
   "version": "3.8.2"
  }
 },
 "nbformat": 4,
 "nbformat_minor": 4
}
