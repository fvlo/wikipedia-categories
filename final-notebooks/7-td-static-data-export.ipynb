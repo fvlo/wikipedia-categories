{
 "cells": [
  {
   "cell_type": "code",
   "execution_count": 1,
   "metadata": {},
   "outputs": [],
   "source": [
    "import pandas as pd\n",
    "import time"
   ]
  },
  {
   "cell_type": "code",
   "execution_count": 2,
   "metadata": {},
   "outputs": [],
   "source": [
    "pd.set_option('display.max_rows', 500)\n",
    "pd.set_option('display.max_columns', 500)\n",
    "pd.set_option('display.max_colwidth', 1000)"
   ]
  },
  {
   "cell_type": "code",
   "execution_count": 3,
   "metadata": {},
   "outputs": [
    {
     "name": "stdout",
     "output_type": "stream",
     "text": [
      "Wall time: 1min 3s\n"
     ]
    }
   ],
   "source": [
    "%%time\n",
    "t_data = pd.read_pickle(\"../workproduct-files/t_dataMaster-keywordsIdentified.pkl\")\n",
    "master_data = pd.read_pickle(\"../final-files/tdMasterData_2020-12-16.pkl\")"
   ]
  },
  {
   "cell_type": "code",
   "execution_count": 4,
   "metadata": {},
   "outputs": [],
   "source": [
    "rows = t_data.loc[t_data[\"Source\"]==\"rtg\"].index.tolist()"
   ]
  },
  {
   "cell_type": "code",
   "execution_count": 5,
   "metadata": {},
   "outputs": [],
   "source": [
    "out = master_data.iloc[rows]"
   ]
  },
  {
   "cell_type": "code",
   "execution_count": 6,
   "metadata": {},
   "outputs": [],
   "source": [
    "out = out.loc[out[\"primarySet\"] == True]"
   ]
  },
  {
   "cell_type": "code",
   "execution_count": 7,
   "metadata": {},
   "outputs": [],
   "source": [
    "out = out.loc[:, ['CONS_question', 'CONS_answer', 'Master_category']]"
   ]
  },
  {
   "cell_type": "code",
   "execution_count": 8,
   "metadata": {},
   "outputs": [
    {
     "data": {
      "text/html": [
       "<div>\n",
       "<style scoped>\n",
       "    .dataframe tbody tr th:only-of-type {\n",
       "        vertical-align: middle;\n",
       "    }\n",
       "\n",
       "    .dataframe tbody tr th {\n",
       "        vertical-align: top;\n",
       "    }\n",
       "\n",
       "    .dataframe thead th {\n",
       "        text-align: right;\n",
       "    }\n",
       "</style>\n",
       "<table border=\"1\" class=\"dataframe\">\n",
       "  <thead>\n",
       "    <tr style=\"text-align: right;\">\n",
       "      <th></th>\n",
       "      <th>CONS_question</th>\n",
       "      <th>CONS_answer</th>\n",
       "    </tr>\n",
       "    <tr>\n",
       "      <th>Master_category</th>\n",
       "      <th></th>\n",
       "      <th></th>\n",
       "    </tr>\n",
       "  </thead>\n",
       "  <tbody>\n",
       "    <tr>\n",
       "      <th>Art and literature</th>\n",
       "      <td>2812</td>\n",
       "      <td>2812</td>\n",
       "    </tr>\n",
       "    <tr>\n",
       "      <th>Entertainment and games</th>\n",
       "      <td>5328</td>\n",
       "      <td>5328</td>\n",
       "    </tr>\n",
       "    <tr>\n",
       "      <th>Geography and places</th>\n",
       "      <td>2333</td>\n",
       "      <td>2333</td>\n",
       "    </tr>\n",
       "    <tr>\n",
       "      <th>History and society</th>\n",
       "      <td>2918</td>\n",
       "      <td>2918</td>\n",
       "    </tr>\n",
       "    <tr>\n",
       "      <th>Science and nature</th>\n",
       "      <td>2840</td>\n",
       "      <td>2840</td>\n",
       "    </tr>\n",
       "    <tr>\n",
       "      <th>Sports and hobbies</th>\n",
       "      <td>846</td>\n",
       "      <td>846</td>\n",
       "    </tr>\n",
       "  </tbody>\n",
       "</table>\n",
       "</div>"
      ],
      "text/plain": [
       "                         CONS_question  CONS_answer\n",
       "Master_category                                    \n",
       "Art and literature                2812         2812\n",
       "Entertainment and games           5328         5328\n",
       "Geography and places              2333         2333\n",
       "History and society               2918         2918\n",
       "Science and nature                2840         2840\n",
       "Sports and hobbies                 846          846"
      ]
     },
     "execution_count": 8,
     "metadata": {},
     "output_type": "execute_result"
    }
   ],
   "source": [
    "out.groupby('Master_category').count()"
   ]
  },
  {
   "cell_type": "code",
   "execution_count": 9,
   "metadata": {},
   "outputs": [],
   "source": [
    "sample = out.sample(frac=1).groupby('Master_category').head(150)"
   ]
  },
  {
   "cell_type": "code",
   "execution_count": 10,
   "metadata": {},
   "outputs": [
    {
     "data": {
      "text/html": [
       "<div>\n",
       "<style scoped>\n",
       "    .dataframe tbody tr th:only-of-type {\n",
       "        vertical-align: middle;\n",
       "    }\n",
       "\n",
       "    .dataframe tbody tr th {\n",
       "        vertical-align: top;\n",
       "    }\n",
       "\n",
       "    .dataframe thead th {\n",
       "        text-align: right;\n",
       "    }\n",
       "</style>\n",
       "<table border=\"1\" class=\"dataframe\">\n",
       "  <thead>\n",
       "    <tr style=\"text-align: right;\">\n",
       "      <th></th>\n",
       "      <th>CONS_question</th>\n",
       "      <th>CONS_answer</th>\n",
       "      <th>Master_category</th>\n",
       "    </tr>\n",
       "  </thead>\n",
       "  <tbody>\n",
       "    <tr>\n",
       "      <th>56228</th>\n",
       "      <td>Who sang the 1995 song \"Boom Boom Boom\"?</td>\n",
       "      <td>The Outhere Brothers</td>\n",
       "      <td>Entertainment and games</td>\n",
       "    </tr>\n",
       "    <tr>\n",
       "      <th>62103</th>\n",
       "      <td>What is February's birthstone?</td>\n",
       "      <td>Amethyst</td>\n",
       "      <td>Science and nature</td>\n",
       "    </tr>\n",
       "    <tr>\n",
       "      <th>47603</th>\n",
       "      <td>Who plays the role of Sarah Jordan in the 2005 movie \"The Island\"?</td>\n",
       "      <td>Scarlett Johansson</td>\n",
       "      <td>Entertainment and games</td>\n",
       "    </tr>\n",
       "    <tr>\n",
       "      <th>53227</th>\n",
       "      <td>What royal subject married Timothy Laurence?</td>\n",
       "      <td>Princess Anne</td>\n",
       "      <td>History and society</td>\n",
       "    </tr>\n",
       "    <tr>\n",
       "      <th>50608</th>\n",
       "      <td>What river is the setting for the novel \"The Adventures of Huckleberry Finn\"?</td>\n",
       "      <td>Mississippi River</td>\n",
       "      <td>Art and literature</td>\n",
       "    </tr>\n",
       "    <tr>\n",
       "      <th>...</th>\n",
       "      <td>...</td>\n",
       "      <td>...</td>\n",
       "      <td>...</td>\n",
       "    </tr>\n",
       "    <tr>\n",
       "      <th>58900</th>\n",
       "      <td>What dialect term describes rough cider made from unselected apples?</td>\n",
       "      <td>Scrumpy</td>\n",
       "      <td>Sports and hobbies</td>\n",
       "    </tr>\n",
       "    <tr>\n",
       "      <th>58978</th>\n",
       "      <td>In what year did Babe Ruth reach 500 career home runs?</td>\n",
       "      <td>1929</td>\n",
       "      <td>Sports and hobbies</td>\n",
       "    </tr>\n",
       "    <tr>\n",
       "      <th>47748</th>\n",
       "      <td>What kind of animal is Chuck E. Cheese?</td>\n",
       "      <td>A mouse</td>\n",
       "      <td>Sports and hobbies</td>\n",
       "    </tr>\n",
       "    <tr>\n",
       "      <th>51855</th>\n",
       "      <td>Whose 502-foot Fenway Park homer is marked by a single red seat in the right field bleachers?</td>\n",
       "      <td>Ted Williams'</td>\n",
       "      <td>Sports and hobbies</td>\n",
       "    </tr>\n",
       "    <tr>\n",
       "      <th>59044</th>\n",
       "      <td>What are the two fruit juices in a cosmopolitan?</td>\n",
       "      <td>Cranberry and lime</td>\n",
       "      <td>Sports and hobbies</td>\n",
       "    </tr>\n",
       "  </tbody>\n",
       "</table>\n",
       "<p>900 rows × 3 columns</p>\n",
       "</div>"
      ],
      "text/plain": [
       "                                                                                       CONS_question  \\\n",
       "56228                                                       Who sang the 1995 song \"Boom Boom Boom\"?   \n",
       "62103                                                                 What is February's birthstone?   \n",
       "47603                             Who plays the role of Sarah Jordan in the 2005 movie \"The Island\"?   \n",
       "53227                                                   What royal subject married Timothy Laurence?   \n",
       "50608                  What river is the setting for the novel \"The Adventures of Huckleberry Finn\"?   \n",
       "...                                                                                              ...   \n",
       "58900                           What dialect term describes rough cider made from unselected apples?   \n",
       "58978                                         In what year did Babe Ruth reach 500 career home runs?   \n",
       "47748                                                        What kind of animal is Chuck E. Cheese?   \n",
       "51855  Whose 502-foot Fenway Park homer is marked by a single red seat in the right field bleachers?   \n",
       "59044                                               What are the two fruit juices in a cosmopolitan?   \n",
       "\n",
       "                CONS_answer          Master_category  \n",
       "56228  The Outhere Brothers  Entertainment and games  \n",
       "62103              Amethyst       Science and nature  \n",
       "47603    Scarlett Johansson  Entertainment and games  \n",
       "53227         Princess Anne      History and society  \n",
       "50608     Mississippi River       Art and literature  \n",
       "...                     ...                      ...  \n",
       "58900               Scrumpy       Sports and hobbies  \n",
       "58978                  1929       Sports and hobbies  \n",
       "47748               A mouse       Sports and hobbies  \n",
       "51855         Ted Williams'       Sports and hobbies  \n",
       "59044    Cranberry and lime       Sports and hobbies  \n",
       "\n",
       "[900 rows x 3 columns]"
      ]
     },
     "execution_count": 10,
     "metadata": {},
     "output_type": "execute_result"
    }
   ],
   "source": [
    "sample"
   ]
  },
  {
   "cell_type": "code",
   "execution_count": 11,
   "metadata": {},
   "outputs": [],
   "source": [
    "# Change column names\n",
    "sample.rename(columns={'CONS_question': 'question', 'CONS_answer': 'answer', 'Master_category': 'category'}, inplace=True)"
   ]
  },
  {
   "cell_type": "code",
   "execution_count": 13,
   "metadata": {},
   "outputs": [],
   "source": [
    "# Remove potential formatting errors\n",
    "sample[\"question\"] = sample[\"question\"].apply(lambda x: x.replace(\"â€™\", \"'\"))"
   ]
  },
  {
   "cell_type": "code",
   "execution_count": 14,
   "metadata": {},
   "outputs": [],
   "source": [
    "# Save as JSON\n",
    "sample.to_json(\"../workproduct-files/td-static-data-export_v1.json\", orient=\"records\")"
   ]
  }
 ],
 "metadata": {
  "kernelspec": {
   "display_name": "Python 3",
   "language": "python",
   "name": "python3"
  },
  "language_info": {
   "codemirror_mode": {
    "name": "ipython",
    "version": 3
   },
   "file_extension": ".py",
   "mimetype": "text/x-python",
   "name": "python",
   "nbconvert_exporter": "python",
   "pygments_lexer": "ipython3",
   "version": "3.8.2"
  }
 },
 "nbformat": 4,
 "nbformat_minor": 4
}
