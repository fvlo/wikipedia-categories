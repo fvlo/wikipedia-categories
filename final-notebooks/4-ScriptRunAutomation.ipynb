{
 "cells": [
  {
   "attachments": {},
   "cell_type": "markdown",
   "metadata": {},
   "source": [
    "# Categorization run script"
   ]
  },
  {
   "attachments": {},
   "cell_type": "markdown",
   "metadata": {},
   "source": [
    "Script to loop through the categorization algorithm for all Wikipedia article and redirect titles. This takes >20h to run. Script is restarted if one run of the algorithm takes >1000 seconds."
   ]
  },
  {
   "cell_type": "code",
   "execution_count": 1,
   "metadata": {},
   "outputs": [],
   "source": [
    "# Run Question-to-WikipediaCategory-linking.py\n",
    "# Infinite loop (or at least until last index is reached)\n",
    "# Check if result has been updated during x second timelimit\n",
    "    # If yes, wait and check again after x seconds\n",
    "    # If no, kill script and start it again"
   ]
  },
  {
   "cell_type": "code",
   "execution_count": 2,
   "metadata": {},
   "outputs": [],
   "source": [
    "import subprocess\n",
    "import pandas as pd\n",
    "import time"
   ]
  },
  {
   "cell_type": "code",
   "execution_count": 3,
   "metadata": {},
   "outputs": [],
   "source": [
    "sleepTime = 1000\n",
    "batchRuns = pd.read_csv(\"../workproduct-files/batchRuns.csv\", delimiter=\";\")\n",
    "automationRuns = pd.read_csv(\"C:/Users/Fredi/Google Drive/Diverse/Programmering/CatRunAutomation/automationRuns.csv\", delimiter=\";\")"
   ]
  },
  {
   "cell_type": "code",
   "execution_count": 4,
   "metadata": {},
   "outputs": [],
   "source": [
    "startingPoint = len(batchRuns)"
   ]
  },
  {
   "cell_type": "code",
   "execution_count": 5,
   "metadata": {},
   "outputs": [],
   "source": [
    "# First run (assumes neo4j database is started)\n",
    "subprocess.Popen(['powershell.exe', 'conda activate data-analysis ; cd C:/Users/Fredi/kodningsprojekt/wikipedia-categories/workproduct-notebooks ; python Question-to-WikipediaCategory-linking.py'])\n",
    "\n",
    "newRow = [batchRuns.iloc[-1, 1], \"Manual\", time.strftime(\"%Y-%m-%d %H:%M:%S\", time.gmtime())]\n",
    "automationRuns = automationRuns.append(pd.Series(newRow, index = automationRuns.columns), ignore_index = True)\n",
    "automationRuns.to_csv(\"C:/Users/Fredi/Google Drive/Diverse/Programmering/CatRunAutomation/automationRuns.csv\", sep=\";\", index = False)"
   ]
  },
  {
   "cell_type": "code",
   "execution_count": null,
   "metadata": {},
   "outputs": [
    {
     "name": "stdout",
     "output_type": "stream",
     "text": [
      "restart at 2020-10-19 08:38:21 and index 44189\n"
     ]
    }
   ],
   "source": [
    "#This can be improved to check if Question-to-WikipediaCategory-linking is finnished\n",
    "while True:\n",
    "    time.sleep(sleepTime)\n",
    "    batchRuns = pd.read_csv(\"../workproduct-files/batchRuns.csv\", delimiter=\";\")\n",
    "    currentPoint = len(batchRuns)\n",
    "    if currentPoint == startingPoint:\n",
    "        # Terminate wikipedia-categorization script. (Looks for python.exe using >1GB memory)\n",
    "        subprocess.Popen(['powershell.exe', 'taskkill /f /fi \"IMAGENAME eq python.exe\" /fi \"MEMUSAGE gt 1000000\"'])\n",
    "        \n",
    "        time.sleep(10)\n",
    "        \n",
    "        # Restart script after waiting 10 seconds\n",
    "        subprocess.Popen(['powershell.exe', 'conda activate data-analysis ; cd C:/Users/Fredi/kodningsprojekt/wikipedia-categories/workproduct-notebooks ; python Question-to-WikipediaCategory-linking.py'])\n",
    "        \n",
    "        newRow = [batchRuns.iloc[-1, 1], \"Auto\", time.strftime(\"%Y-%m-%d %H:%M:%S\", time.gmtime())]\n",
    "        automationRuns = automationRuns.append(pd.Series(newRow, index = automationRuns.columns), ignore_index = True)\n",
    "        automationRuns.to_csv(\"C:/Users/Fredi/Google Drive/Diverse/Programmering/CatRunAutomation/automationRuns.csv\", sep=\";\", index = False)\n",
    "        \n",
    "        print(\"restart at \" + str(time.strftime(\"%Y-%m-%d %H:%M:%S\", time.gmtime())) + \" and index \" + str(batchRuns.iloc[-1, 1]) )\n",
    "    else:\n",
    "        startingPoint = currentPoint"
   ]
  },
  {
   "cell_type": "code",
   "execution_count": null,
   "metadata": {},
   "outputs": [],
   "source": []
  },
  {
   "cell_type": "code",
   "execution_count": null,
   "metadata": {},
   "outputs": [],
   "source": []
  },
  {
   "cell_type": "code",
   "execution_count": null,
   "metadata": {},
   "outputs": [],
   "source": []
  }
 ],
 "metadata": {
  "kernelspec": {
   "display_name": "Python 3",
   "language": "python",
   "name": "python3"
  },
  "language_info": {
   "codemirror_mode": {
    "name": "ipython",
    "version": 3
   },
   "file_extension": ".py",
   "mimetype": "text/x-python",
   "name": "python",
   "nbconvert_exporter": "python",
   "pygments_lexer": "ipython3",
   "version": "3.8.2"
  }
 },
 "nbformat": 4,
 "nbformat_minor": 4
}
